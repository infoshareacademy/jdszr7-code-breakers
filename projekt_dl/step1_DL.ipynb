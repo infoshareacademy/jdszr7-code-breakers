{
 "cells": [
  {
   "cell_type": "code",
   "execution_count": 1,
   "id": "a2a1b52a",
   "metadata": {},
   "outputs": [],
   "source": [
    "import pandas as pd\n",
    "import tensorflow as tf\n",
    "import numpy as np\n",
    "import matplotlib.pyplot as plt\n",
    "from sklearn.metrics import classification_report\n",
    "import cv2\n",
    "from sklearn.preprocessing import OneHotEncoder\n",
    "from tensorflow.keras import layers\n",
    "import datetime\n",
    "from sklearn.svm import SVC\n",
    "from sklearn.metrics import confusion_matrix\n",
    "import pandas as pd\n",
    "#import tensorflow_datasets as tfds"
   ]
  },
  {
   "cell_type": "code",
   "execution_count": 2,
   "id": "aec38052",
   "metadata": {},
   "outputs": [
    {
     "name": "stdout",
     "output_type": "stream",
     "text": [
      "Requirement already satisfied: opencv-python==4.6.0.66 in c:\\users\\tk\\anaconda3\\envs\\my_env\\lib\\site-packages (4.6.0.66)\n",
      "Requirement already satisfied: numpy>=1.17.3 in c:\\users\\tk\\anaconda3\\envs\\my_env\\lib\\site-packages (from opencv-python==4.6.0.66) (1.22.3)\n"
     ]
    }
   ],
   "source": [
    "! pip install opencv-python==4.6.0.66"
   ]
  },
  {
   "cell_type": "code",
   "execution_count": 2,
   "id": "aa190c2c",
   "metadata": {},
   "outputs": [
    {
     "name": "stdout",
     "output_type": "stream",
     "text": [
      "d:\\DL gesty\n"
     ]
    },
    {
     "data": {
      "text/html": [
       "<div>\n",
       "<style scoped>\n",
       "    .dataframe tbody tr th:only-of-type {\n",
       "        vertical-align: middle;\n",
       "    }\n",
       "\n",
       "    .dataframe tbody tr th {\n",
       "        vertical-align: top;\n",
       "    }\n",
       "\n",
       "    .dataframe thead th {\n",
       "        text-align: right;\n",
       "    }\n",
       "</style>\n",
       "<table border=\"1\" class=\"dataframe\">\n",
       "  <thead>\n",
       "    <tr style=\"text-align: right;\">\n",
       "      <th></th>\n",
       "      <th>label</th>\n",
       "      <th>pixel1</th>\n",
       "      <th>pixel2</th>\n",
       "      <th>pixel3</th>\n",
       "      <th>pixel4</th>\n",
       "      <th>pixel5</th>\n",
       "      <th>pixel6</th>\n",
       "      <th>pixel7</th>\n",
       "      <th>pixel8</th>\n",
       "      <th>pixel9</th>\n",
       "      <th>...</th>\n",
       "      <th>pixel775</th>\n",
       "      <th>pixel776</th>\n",
       "      <th>pixel777</th>\n",
       "      <th>pixel778</th>\n",
       "      <th>pixel779</th>\n",
       "      <th>pixel780</th>\n",
       "      <th>pixel781</th>\n",
       "      <th>pixel782</th>\n",
       "      <th>pixel783</th>\n",
       "      <th>pixel784</th>\n",
       "    </tr>\n",
       "  </thead>\n",
       "  <tbody>\n",
       "    <tr>\n",
       "      <th>0</th>\n",
       "      <td>3</td>\n",
       "      <td>107</td>\n",
       "      <td>118</td>\n",
       "      <td>127</td>\n",
       "      <td>134</td>\n",
       "      <td>139</td>\n",
       "      <td>143</td>\n",
       "      <td>146</td>\n",
       "      <td>150</td>\n",
       "      <td>153</td>\n",
       "      <td>...</td>\n",
       "      <td>207</td>\n",
       "      <td>207</td>\n",
       "      <td>207</td>\n",
       "      <td>207</td>\n",
       "      <td>206</td>\n",
       "      <td>206</td>\n",
       "      <td>206</td>\n",
       "      <td>204</td>\n",
       "      <td>203</td>\n",
       "      <td>202</td>\n",
       "    </tr>\n",
       "    <tr>\n",
       "      <th>1</th>\n",
       "      <td>6</td>\n",
       "      <td>155</td>\n",
       "      <td>157</td>\n",
       "      <td>156</td>\n",
       "      <td>156</td>\n",
       "      <td>156</td>\n",
       "      <td>157</td>\n",
       "      <td>156</td>\n",
       "      <td>158</td>\n",
       "      <td>158</td>\n",
       "      <td>...</td>\n",
       "      <td>69</td>\n",
       "      <td>149</td>\n",
       "      <td>128</td>\n",
       "      <td>87</td>\n",
       "      <td>94</td>\n",
       "      <td>163</td>\n",
       "      <td>175</td>\n",
       "      <td>103</td>\n",
       "      <td>135</td>\n",
       "      <td>149</td>\n",
       "    </tr>\n",
       "    <tr>\n",
       "      <th>2</th>\n",
       "      <td>2</td>\n",
       "      <td>187</td>\n",
       "      <td>188</td>\n",
       "      <td>188</td>\n",
       "      <td>187</td>\n",
       "      <td>187</td>\n",
       "      <td>186</td>\n",
       "      <td>187</td>\n",
       "      <td>188</td>\n",
       "      <td>187</td>\n",
       "      <td>...</td>\n",
       "      <td>202</td>\n",
       "      <td>201</td>\n",
       "      <td>200</td>\n",
       "      <td>199</td>\n",
       "      <td>198</td>\n",
       "      <td>199</td>\n",
       "      <td>198</td>\n",
       "      <td>195</td>\n",
       "      <td>194</td>\n",
       "      <td>195</td>\n",
       "    </tr>\n",
       "    <tr>\n",
       "      <th>3</th>\n",
       "      <td>2</td>\n",
       "      <td>211</td>\n",
       "      <td>211</td>\n",
       "      <td>212</td>\n",
       "      <td>212</td>\n",
       "      <td>211</td>\n",
       "      <td>210</td>\n",
       "      <td>211</td>\n",
       "      <td>210</td>\n",
       "      <td>210</td>\n",
       "      <td>...</td>\n",
       "      <td>235</td>\n",
       "      <td>234</td>\n",
       "      <td>233</td>\n",
       "      <td>231</td>\n",
       "      <td>230</td>\n",
       "      <td>226</td>\n",
       "      <td>225</td>\n",
       "      <td>222</td>\n",
       "      <td>229</td>\n",
       "      <td>163</td>\n",
       "    </tr>\n",
       "    <tr>\n",
       "      <th>4</th>\n",
       "      <td>13</td>\n",
       "      <td>164</td>\n",
       "      <td>167</td>\n",
       "      <td>170</td>\n",
       "      <td>172</td>\n",
       "      <td>176</td>\n",
       "      <td>179</td>\n",
       "      <td>180</td>\n",
       "      <td>184</td>\n",
       "      <td>185</td>\n",
       "      <td>...</td>\n",
       "      <td>92</td>\n",
       "      <td>105</td>\n",
       "      <td>105</td>\n",
       "      <td>108</td>\n",
       "      <td>133</td>\n",
       "      <td>163</td>\n",
       "      <td>157</td>\n",
       "      <td>163</td>\n",
       "      <td>164</td>\n",
       "      <td>179</td>\n",
       "    </tr>\n",
       "  </tbody>\n",
       "</table>\n",
       "<p>5 rows × 785 columns</p>\n",
       "</div>"
      ],
      "text/plain": [
       "   label  pixel1  pixel2  pixel3  pixel4  pixel5  pixel6  pixel7  pixel8  \\\n",
       "0      3     107     118     127     134     139     143     146     150   \n",
       "1      6     155     157     156     156     156     157     156     158   \n",
       "2      2     187     188     188     187     187     186     187     188   \n",
       "3      2     211     211     212     212     211     210     211     210   \n",
       "4     13     164     167     170     172     176     179     180     184   \n",
       "\n",
       "   pixel9  ...  pixel775  pixel776  pixel777  pixel778  pixel779  pixel780  \\\n",
       "0     153  ...       207       207       207       207       206       206   \n",
       "1     158  ...        69       149       128        87        94       163   \n",
       "2     187  ...       202       201       200       199       198       199   \n",
       "3     210  ...       235       234       233       231       230       226   \n",
       "4     185  ...        92       105       105       108       133       163   \n",
       "\n",
       "   pixel781  pixel782  pixel783  pixel784  \n",
       "0       206       204       203       202  \n",
       "1       175       103       135       149  \n",
       "2       198       195       194       195  \n",
       "3       225       222       229       163  \n",
       "4       157       163       164       179  \n",
       "\n",
       "[5 rows x 785 columns]"
      ]
     },
     "execution_count": 2,
     "metadata": {},
     "output_type": "execute_result"
    }
   ],
   "source": [
    "%cd \"D:\\DL gesty\"\n",
    "train = pd.read_csv(\"sign_mnist_train.csv\")\n",
    "train.head()"
   ]
  },
  {
   "cell_type": "code",
   "execution_count": 3,
   "id": "179a0052",
   "metadata": {},
   "outputs": [
    {
     "data": {
      "text/html": [
       "<div>\n",
       "<style scoped>\n",
       "    .dataframe tbody tr th:only-of-type {\n",
       "        vertical-align: middle;\n",
       "    }\n",
       "\n",
       "    .dataframe tbody tr th {\n",
       "        vertical-align: top;\n",
       "    }\n",
       "\n",
       "    .dataframe thead th {\n",
       "        text-align: right;\n",
       "    }\n",
       "</style>\n",
       "<table border=\"1\" class=\"dataframe\">\n",
       "  <thead>\n",
       "    <tr style=\"text-align: right;\">\n",
       "      <th></th>\n",
       "      <th>label</th>\n",
       "      <th>pixel1</th>\n",
       "      <th>pixel2</th>\n",
       "      <th>pixel3</th>\n",
       "      <th>pixel4</th>\n",
       "      <th>pixel5</th>\n",
       "      <th>pixel6</th>\n",
       "      <th>pixel7</th>\n",
       "      <th>pixel8</th>\n",
       "      <th>pixel9</th>\n",
       "      <th>...</th>\n",
       "      <th>pixel775</th>\n",
       "      <th>pixel776</th>\n",
       "      <th>pixel777</th>\n",
       "      <th>pixel778</th>\n",
       "      <th>pixel779</th>\n",
       "      <th>pixel780</th>\n",
       "      <th>pixel781</th>\n",
       "      <th>pixel782</th>\n",
       "      <th>pixel783</th>\n",
       "      <th>pixel784</th>\n",
       "    </tr>\n",
       "  </thead>\n",
       "  <tbody>\n",
       "    <tr>\n",
       "      <th>0</th>\n",
       "      <td>6</td>\n",
       "      <td>149</td>\n",
       "      <td>149</td>\n",
       "      <td>150</td>\n",
       "      <td>150</td>\n",
       "      <td>150</td>\n",
       "      <td>151</td>\n",
       "      <td>151</td>\n",
       "      <td>150</td>\n",
       "      <td>151</td>\n",
       "      <td>...</td>\n",
       "      <td>138</td>\n",
       "      <td>148</td>\n",
       "      <td>127</td>\n",
       "      <td>89</td>\n",
       "      <td>82</td>\n",
       "      <td>96</td>\n",
       "      <td>106</td>\n",
       "      <td>112</td>\n",
       "      <td>120</td>\n",
       "      <td>107</td>\n",
       "    </tr>\n",
       "    <tr>\n",
       "      <th>1</th>\n",
       "      <td>5</td>\n",
       "      <td>126</td>\n",
       "      <td>128</td>\n",
       "      <td>131</td>\n",
       "      <td>132</td>\n",
       "      <td>133</td>\n",
       "      <td>134</td>\n",
       "      <td>135</td>\n",
       "      <td>135</td>\n",
       "      <td>136</td>\n",
       "      <td>...</td>\n",
       "      <td>47</td>\n",
       "      <td>104</td>\n",
       "      <td>194</td>\n",
       "      <td>183</td>\n",
       "      <td>186</td>\n",
       "      <td>184</td>\n",
       "      <td>184</td>\n",
       "      <td>184</td>\n",
       "      <td>182</td>\n",
       "      <td>180</td>\n",
       "    </tr>\n",
       "    <tr>\n",
       "      <th>2</th>\n",
       "      <td>10</td>\n",
       "      <td>85</td>\n",
       "      <td>88</td>\n",
       "      <td>92</td>\n",
       "      <td>96</td>\n",
       "      <td>105</td>\n",
       "      <td>123</td>\n",
       "      <td>135</td>\n",
       "      <td>143</td>\n",
       "      <td>147</td>\n",
       "      <td>...</td>\n",
       "      <td>68</td>\n",
       "      <td>166</td>\n",
       "      <td>242</td>\n",
       "      <td>227</td>\n",
       "      <td>230</td>\n",
       "      <td>227</td>\n",
       "      <td>226</td>\n",
       "      <td>225</td>\n",
       "      <td>224</td>\n",
       "      <td>222</td>\n",
       "    </tr>\n",
       "    <tr>\n",
       "      <th>3</th>\n",
       "      <td>0</td>\n",
       "      <td>203</td>\n",
       "      <td>205</td>\n",
       "      <td>207</td>\n",
       "      <td>206</td>\n",
       "      <td>207</td>\n",
       "      <td>209</td>\n",
       "      <td>210</td>\n",
       "      <td>209</td>\n",
       "      <td>210</td>\n",
       "      <td>...</td>\n",
       "      <td>154</td>\n",
       "      <td>248</td>\n",
       "      <td>247</td>\n",
       "      <td>248</td>\n",
       "      <td>253</td>\n",
       "      <td>236</td>\n",
       "      <td>230</td>\n",
       "      <td>240</td>\n",
       "      <td>253</td>\n",
       "      <td>255</td>\n",
       "    </tr>\n",
       "    <tr>\n",
       "      <th>4</th>\n",
       "      <td>3</td>\n",
       "      <td>188</td>\n",
       "      <td>191</td>\n",
       "      <td>193</td>\n",
       "      <td>195</td>\n",
       "      <td>199</td>\n",
       "      <td>201</td>\n",
       "      <td>202</td>\n",
       "      <td>203</td>\n",
       "      <td>203</td>\n",
       "      <td>...</td>\n",
       "      <td>26</td>\n",
       "      <td>40</td>\n",
       "      <td>64</td>\n",
       "      <td>48</td>\n",
       "      <td>29</td>\n",
       "      <td>46</td>\n",
       "      <td>49</td>\n",
       "      <td>46</td>\n",
       "      <td>46</td>\n",
       "      <td>53</td>\n",
       "    </tr>\n",
       "  </tbody>\n",
       "</table>\n",
       "<p>5 rows × 785 columns</p>\n",
       "</div>"
      ],
      "text/plain": [
       "   label  pixel1  pixel2  pixel3  pixel4  pixel5  pixel6  pixel7  pixel8  \\\n",
       "0      6     149     149     150     150     150     151     151     150   \n",
       "1      5     126     128     131     132     133     134     135     135   \n",
       "2     10      85      88      92      96     105     123     135     143   \n",
       "3      0     203     205     207     206     207     209     210     209   \n",
       "4      3     188     191     193     195     199     201     202     203   \n",
       "\n",
       "   pixel9  ...  pixel775  pixel776  pixel777  pixel778  pixel779  pixel780  \\\n",
       "0     151  ...       138       148       127        89        82        96   \n",
       "1     136  ...        47       104       194       183       186       184   \n",
       "2     147  ...        68       166       242       227       230       227   \n",
       "3     210  ...       154       248       247       248       253       236   \n",
       "4     203  ...        26        40        64        48        29        46   \n",
       "\n",
       "   pixel781  pixel782  pixel783  pixel784  \n",
       "0       106       112       120       107  \n",
       "1       184       184       182       180  \n",
       "2       226       225       224       222  \n",
       "3       230       240       253       255  \n",
       "4        49        46        46        53  \n",
       "\n",
       "[5 rows x 785 columns]"
      ]
     },
     "execution_count": 3,
     "metadata": {},
     "output_type": "execute_result"
    }
   ],
   "source": [
    "test = pd.read_csv(\"sign_mnist_test.csv\")\n",
    "test.head()"
   ]
  },
  {
   "cell_type": "code",
   "execution_count": 4,
   "id": "1d520937",
   "metadata": {},
   "outputs": [
    {
     "data": {
      "text/plain": [
       "17    1294\n",
       "16    1279\n",
       "11    1241\n",
       "22    1225\n",
       "5     1204\n",
       "18    1199\n",
       "3     1196\n",
       "14    1196\n",
       "19    1186\n",
       "23    1164\n",
       "8     1162\n",
       "20    1161\n",
       "13    1151\n",
       "2     1144\n",
       "0     1126\n",
       "24    1118\n",
       "10    1114\n",
       "6     1090\n",
       "15    1088\n",
       "21    1082\n",
       "12    1055\n",
       "7     1013\n",
       "1     1010\n",
       "4      957\n",
       "Name: label, dtype: int64"
      ]
     },
     "execution_count": 4,
     "metadata": {},
     "output_type": "execute_result"
    }
   ],
   "source": [
    "train['label'].value_counts()"
   ]
  },
  {
   "cell_type": "code",
   "execution_count": 5,
   "id": "135cd000",
   "metadata": {},
   "outputs": [
    {
     "name": "stdout",
     "output_type": "stream",
     "text": [
      "train  0\n",
      "test  0\n"
     ]
    }
   ],
   "source": [
    "#sprawdzmy braki\n",
    "print(\"train \",sum(train.isna().sum()))\n",
    "print(\"test \",sum(test.isna().sum()))"
   ]
  },
  {
   "cell_type": "code",
   "execution_count": 6,
   "id": "c4787671",
   "metadata": {},
   "outputs": [],
   "source": [
    "Y_train = train.iloc[:,0]\n",
    "X_train = train.iloc[:,1:]\n",
    "X_train = X_train.to_numpy()\n",
    "Y_train = Y_train.to_numpy()\n",
    "\n",
    "Y_test = test.iloc[:,0]\n",
    "X_test = test.iloc[:,1:]\n",
    "X_test = X_test.to_numpy()\n",
    "Y_test= Y_test.to_numpy()"
   ]
  },
  {
   "cell_type": "code",
   "execution_count": 7,
   "id": "d9b45ea6",
   "metadata": {},
   "outputs": [
    {
     "data": {
      "text/plain": [
       "(784,)"
      ]
     },
     "execution_count": 7,
     "metadata": {},
     "output_type": "execute_result"
    }
   ],
   "source": [
    "X_train[6,].shape"
   ]
  },
  {
   "cell_type": "code",
   "execution_count": 8,
   "id": "6d84697c",
   "metadata": {},
   "outputs": [],
   "source": [
    "#zmiana kształtu zbioru\n",
    "X_train = X_train.reshape(-1,28,28)\n",
    "X_test = X_test.reshape(-1,28,28)"
   ]
  },
  {
   "cell_type": "code",
   "execution_count": 9,
   "id": "939f8646",
   "metadata": {},
   "outputs": [],
   "source": [
    "#zmiana ksztaltu naszego zbioru Y\n",
    "Y_train = Y_train.reshape(-1,1)\n",
    "Y_train = OneHotEncoder(sparse = False).fit_transform(Y_train)\n",
    "\n",
    "Y_test = Y_test.reshape(-1,1)\n",
    "Y_test = OneHotEncoder(sparse = False).fit_transform(Y_test)"
   ]
  },
  {
   "cell_type": "code",
   "execution_count": 10,
   "id": "7ff21846",
   "metadata": {},
   "outputs": [],
   "source": [
    "from PIL import Image\n",
    "#To see the image\n",
    "img = Image.fromarray(X_train[8, :].reshape(28, 28).astype('uint8'))\n",
    "img.show()"
   ]
  },
  {
   "cell_type": "code",
   "execution_count": 11,
   "id": "a0810785",
   "metadata": {},
   "outputs": [
    {
     "data": {
      "image/png": "[encoded data removed]",
      "text/plain": [
       "<Figure size 432x288 with 1 Axes>"
      ]
     },
     "metadata": {
      "needs_background": "light"
     },
     "output_type": "display_data"
    }
   ],
   "source": [
    "#zobrazujmy sobie obraz\n",
    "plt.imshow(X_train[8,])\n",
    "plt.show()"
   ]
  },
  {
   "cell_type": "code",
   "execution_count": 12,
   "id": "4c32bfb1",
   "metadata": {},
   "outputs": [
    {
     "name": "stdout",
     "output_type": "stream",
     "text": [
      "Klasa  0 1126.0\n",
      "Klasa  1 1010.0\n",
      "Klasa  2 1144.0\n",
      "Klasa  3 1196.0\n",
      "Klasa  4 957.0\n",
      "Klasa  5 1204.0\n",
      "Klasa  6 1090.0\n",
      "Klasa  7 1013.0\n",
      "Klasa  8 1162.0\n",
      "Klasa  9 1114.0\n",
      "Klasa  10 1241.0\n",
      "Klasa  11 1055.0\n",
      "Klasa  12 1151.0\n",
      "Klasa  13 1196.0\n",
      "Klasa  14 1088.0\n",
      "Klasa  15 1279.0\n",
      "Klasa  16 1294.0\n",
      "Klasa  17 1199.0\n",
      "Klasa  18 1186.0\n",
      "Klasa  19 1161.0\n",
      "Klasa  20 1082.0\n",
      "Klasa  21 1225.0\n",
      "Klasa  22 1164.0\n",
      "Klasa  23 1118.0\n"
     ]
    }
   ],
   "source": [
    "#nasze klasy sa zbalansowane\n",
    "for i in range(0, 24):\n",
    "    print(\"Klasa \", i, sum(Y_train[:,i]))"
   ]
  },
  {
   "cell_type": "code",
   "execution_count": 13,
   "id": "a38ea8e3",
   "metadata": {},
   "outputs": [],
   "source": [
    "#normalizacja\n",
    "X_train = X_train/255.0\n",
    "X_test = X_test/255.0"
   ]
  },
  {
   "cell_type": "code",
   "execution_count": 14,
   "id": "f4a99a29",
   "metadata": {},
   "outputs": [
    {
     "data": {
      "text/plain": [
       "(28, 28)"
      ]
     },
     "execution_count": 14,
     "metadata": {},
     "output_type": "execute_result"
    }
   ],
   "source": [
    "X_train[6,].shape"
   ]
  },
  {
   "cell_type": "code",
   "execution_count": 15,
   "id": "26402627",
   "metadata": {},
   "outputs": [],
   "source": [
    "# Architektura z wykorzystaniem modelu sekwencyjnego\n",
    "\n",
    "# from keras.models import Sequential\n",
    "# from keras.layers import Flatten, Dense\n",
    "\n",
    "# model = Sequential([\n",
    "#     Dense (200, activation = 'relu', input_shape=(28, 28, 3)),Flatten(),\n",
    "#     Dense (150, activation = 'relu'), Dense (10, activation = 'softmax')\n",
    "])"
   ]
  },
  {
   "cell_type": "code",
   "execution_count": 24,
   "id": "c4f9482d",
   "metadata": {},
   "outputs": [],
   "source": [
    "# Architektura z wykorzystaniem funkcjonalnego API\n",
    "\n",
    "from keras.layers import Input, Flatten, Dense \n",
    "from keras.models import Model\n",
    "\n",
    "input_layer=Input (shape=(28,28, 3))                        #Warstwa Input jest punktem wejścia do sieci. Informujemy sieć, że oczekiwanym formatem każdego elementu danych jest krotka.\n",
    "\n",
    "x = Flatten() (input_layer)                                 #Za pomocą warstwy Flatten, spłaszczamy wejście do postaci wektora. W rezultacie otrzy mujemy wektor o długości 3072 (= 32x32×3). \n",
    "# x = (input_layer)  \n",
    "x = Dense (units=200, activation = 'relu')(x) \n",
    "x = Dense (units=150, activation = 'relu')(x)\n",
    "\n",
    "output_layer =Dense (units=10, activation = 'softmax')(x)   #Dense zawiera określoną liczbę jednostek, które są gęsto powiązane z warstwą poprzednią. Oznacza to, że każda jednostka w warstwie jest połączona \n",
    "                                                            # z każdą jednostką w warstwie poprzedniej za pośrednictwem pojedynczego połączenia, które przekazuje wagę (może ona być dodatnia bądź ujemna). \n",
    "model1 = Model (input_layer, output_layer)                  # Wyjście z określonej jednostki jest ważoną sumą danych wejściowych otrzymanych przez nią z warstwy poprzedniej."
   ]
  },
  {
   "cell_type": "markdown",
   "id": "bc7976e6",
   "metadata": {},
   "source": [
    "W powyższym przykładzie używamy trzech różnych rodzajów warstw: Input, Flatten i Dense.\n",
    "\n",
    "* Warstwa **Input** jest punktem wejścia do sieci. Informujemy sieć, że oczekiwanym formatem każdego elementu danych jest krotka. \n",
    "* Nie określamy rozmiaru partii. Nie jest to konieczne, ponieważ do warstwy Input możemy jednocześnie przekazać dowolną liczbę obrazów.\n",
    "* Nie musimy jawnie określać rozmiaru paczki w definicji warstwy Input."
   ]
  },
  {
   "cell_type": "markdown",
   "id": "926e7ba8",
   "metadata": {},
   "source": [
    "* Za pomocą warstwy **Flatten, spłaszczamy wejście do postaci wektora**. W rezultacie otrzy mujemy wektor o długości 3072 (= 32x32×3). \n",
    "* Powodem spłaszczania jest wymaganie kolejnej warstwy - Dense - której wejście nie jest wielowymiarową tablicą, lecz jest płaskie. Inne rodzaje warstw wymagają wejścia w postaci wielowymiarowych tablic. \n",
    "* Aby zatem zrozumieć, kiedy jest niezbędne skorzystanie z warstwy typu Flatten, trzeba mieć świadomość wymaganego kształtu danych wejściowych i wyjściowych każdego rodzaju warstwy."
   ]
  },
  {
   "cell_type": "markdown",
   "id": "7744b572",
   "metadata": {},
   "source": [
    "* **Dense** to bodaj najbardziej podstawowy typ warstwy w każdej sieci neuronowej. \n",
    "* Zawiera określoną liczbę jednostek, które są **gęsto powiązane z warstwą poprzednią**. \n",
    "Oznacza to, że każda jednostka w warstwie jest połączona z każdą jednostką w warstwie poprzedniej za pośrednictwem pojedynczego połączenia, które przekazuje wagę \n",
    "(może ona być dodatnia bądź ujemna). \n",
    "* Wyjście z określonej jednostki jest **ważoną sumą danych wejściowych** otrzymanych przez nią z warstwy poprzedniej."
   ]
  },
  {
   "cell_type": "markdown",
   "id": "016c33fa",
   "metadata": {},
   "source": [
    "Biblioteka Keras umożliwia również zdefiniowanie funkcji aktywacji w oddzielnej warstwie:"
   ]
  },
  {
   "cell_type": "code",
   "execution_count": 25,
   "id": "cdd9ae90",
   "metadata": {},
   "outputs": [],
   "source": [
    "x = Dense (units=200, activation = 'relu')(x)"
   ]
  },
  {
   "cell_type": "markdown",
   "id": "4079f0da",
   "metadata": {},
   "source": [
    "W naszym przykładzie przekazujemy dane wejściowe przez **dwie gęste warstwy ukryte** - pierwsza jest złożona z 200 jednostek, a druga składa się ze 150. Obie wykorzystują **funkcje aktywacji ReLU**"
   ]
  },
  {
   "cell_type": "markdown",
   "id": "d1d8e007",
   "metadata": {},
   "source": [
    "Ostatnim krokiem jest zdefiniowanie samego modelu z wykorzystaniem klasy Model. W Keras model jest zdefiniowany przez warstwy wejściowe i wyjściowe. W naszym przypadku mamy jedną warstwę wejściową, którą zdefiniowaliśmy wcześniej, a warstwą wyjściową jest ostatnia warstwa Dense złożona z 10 jednostek. Możliwe jest również zdefiniowanie modeli z wieloma warstwami wejściowymi i wyjściowymi. "
   ]
  },
  {
   "cell_type": "markdown",
   "id": "34fe5525",
   "metadata": {},
   "source": [
    "W naszym przykładzie, zgodnie z wymaganiami, **kształt warstwy Input** odpowiada kształtowi **x_train**, a kształt **warstwy wyjściowej Dense** odpowiada kształtowi **y_train**. Aby to zilustrować, możemy skorzystać z metody:"
   ]
  },
  {
   "cell_type": "code",
   "execution_count": 26,
   "id": "016ac7cd",
   "metadata": {},
   "outputs": [
    {
     "name": "stdout",
     "output_type": "stream",
     "text": [
      "Model: \"model_1\"\n",
      "_________________________________________________________________\n",
      " Layer (type)                Output Shape              Param #   \n",
      "=================================================================\n",
      " input_2 (InputLayer)        [(None, 28, 28, 3)]       0         \n",
      "                                                                 \n",
      " flatten_2 (Flatten)         (None, 2352)              0         \n",
      "                                                                 \n",
      " dense_8 (Dense)             (None, 200)               470600    \n",
      "                                                                 \n",
      " dense_9 (Dense)             (None, 150)               30150     \n",
      "                                                                 \n",
      " dense_10 (Dense)            (None, 10)                1510      \n",
      "                                                                 \n",
      "=================================================================\n",
      "Total params: 502,260\n",
      "Trainable params: 502,260\n",
      "Non-trainable params: 0\n",
      "_________________________________________________________________\n"
     ]
    }
   ],
   "source": [
    "model1.summary ()"
   ]
  },
  {
   "cell_type": "markdown",
   "id": "dddf0174",
   "metadata": {},
   "source": [
    "Za jej pomocą można zobaczyć kształt sieci w każdej warstwie (rysunek powyzej)\n",
    "\n",
    "* biblioteka Keras wykorzystuje w roli znacznika None, aby pokazać, że nie zna jeszcze liczby obserwacji, które będą przekazane do sieci. \n",
    "* W rzeczywistości to nie jest konieczne. Równie łatwo moglibyśmy przekazać przez sieć jedną obserwację, jak i 1 000 naraz. To dlatego, że **operacje tensorowe** są wykonywane dla wszystkich obserwacji **jednocześnie** przy użyciu algebry liniowej tym zajmuje się **backendTensorFlow**. \n",
    "* Jest to również powód, dla którego można uzyskać wzrost wydajności podczas szkolenia głębokich sieci neuronowych na układach **GPU** zamiast **CPU**: układy GPU są zoptymalizowane pod kątem **mnożenia dużych tensorów**, ponieważ tego rodzaju obliczenia są też niezbędne do wykonywania skomplikowanych operacji graficznych.\n",
    "* Metoda summary zwraca również **liczbę parametrów (wag)**, które zostaną przeszkolone w każdej warstwie. Wynik metody summary pokazuje czy są jakieś warstwy, które zawierają olbrzymią liczbę wag. Jeśli tak jest, należy rozważyć zmniejszenie liczby jednostek w warstwie, powinno przyspieszyć szkolenie."
   ]
  },
  {
   "cell_type": "markdown",
   "id": "39e815d3",
   "metadata": {},
   "source": [
    "## Kompilacja modelu\n",
    "W tym kroku skompilujemy model z **optymalizatorem i funkcją strat**:"
   ]
  },
  {
   "cell_type": "code",
   "execution_count": 27,
   "id": "13542020",
   "metadata": {},
   "outputs": [],
   "source": [
    "from keras.optimizers import Adam\n",
    "\n",
    "opt =Adam(learning_rate=0.0005)\n",
    "model1.compile(loss=' categorical_crossentropy', optimizer=opt, metrics=['accuracy'])"
   ]
  },
  {
   "cell_type": "markdown",
   "id": "6b319f23",
   "metadata": {},
   "source": [
    "Funkcja strat jest wykorzystywana przez sieć neuronową do porównywania prognozowanego wy ścia z bazową prawdą. Funkcja zwraca pojedynczą liczbę dla każdej obserwacji. Im większa jest ta liczba, tym gorsza dla tej obserwacji wydajność sieci.\n",
    "\n",
    "Biblioteka Keras dostarcza wielu wbudowanych funkcji strat do wyboru. Można również tworzy własne funkcje strat. Trzy najczęściej stosowane funkcje strat to błąd średniokwadratowy, krzy żowa entropia skategoryzowana i krzyżowa entropia binarna. Jest bardzo ważne, aby zrozumie kiedy należy korzystać z każdej z nich.\n",
    "\n",
    "Jeśli sieć neuronowa jest zaprojektowana w celu rozwiązania problemu regresji (tzn. wyjście jes ciągłe), to możemy użyć jako funkcji strat błędu średniokwadratowego. Jest to średnia z kwadrat różnicy pomiędzy bazową prawdą y; a prognozowaną wartością p; każdej jednostki wyjściowe Średnia jest wyliczana dla wszystkich n jednostek wyjściowych:"
   ]
  },
  {
   "cell_type": "markdown",
   "id": "d31087e5",
   "metadata": {},
   "source": [
    "## Szkolenie modelu\n",
    "Dotychczas nie pokazaliśmy modelowi żadnych danych, lecz jedynie skonfigurowaliśmy architek turę i skompilowaliśmy model z funkcją strat i optymalizatorem.\n",
    "Aby wyszkolić model, wystarczy wywołać metodę fit:"
   ]
  },
  {
   "cell_type": "code",
   "execution_count": 28,
   "id": "fa20e398",
   "metadata": {},
   "outputs": [
    {
     "name": "stdout",
     "output_type": "stream",
     "text": [
      "Epoch 1/10\n",
      "WARNING:tensorflow:Model was constructed with shape (None, 28, 28, 3) for input KerasTensor(type_spec=TensorSpec(shape=(None, 28, 28, 3), dtype=tf.float32, name='input_2'), name='input_2', description=\"created by layer 'input_2'\"), but it was called on an input with incompatible shape (None, 28, 28).\n"
     ]
    },
    {
     "ename": "ValueError",
     "evalue": "in user code:\n\n    File \"c:\\Users\\tk\\anaconda3\\envs\\my_env\\lib\\site-packages\\keras\\engine\\training.py\", line 1051, in train_function  *\n        return step_function(self, iterator)\n    File \"c:\\Users\\tk\\anaconda3\\envs\\my_env\\lib\\site-packages\\keras\\engine\\training.py\", line 1040, in step_function  **\n        outputs = model.distribute_strategy.run(run_step, args=(data,))\n    File \"c:\\Users\\tk\\anaconda3\\envs\\my_env\\lib\\site-packages\\keras\\engine\\training.py\", line 1030, in run_step  **\n        outputs = model.train_step(data)\n    File \"c:\\Users\\tk\\anaconda3\\envs\\my_env\\lib\\site-packages\\keras\\engine\\training.py\", line 889, in train_step\n        y_pred = self(x, training=True)\n    File \"c:\\Users\\tk\\anaconda3\\envs\\my_env\\lib\\site-packages\\keras\\utils\\traceback_utils.py\", line 67, in error_handler\n        raise e.with_traceback(filtered_tb) from None\n    File \"c:\\Users\\tk\\anaconda3\\envs\\my_env\\lib\\site-packages\\keras\\engine\\input_spec.py\", line 248, in assert_input_compatibility\n        raise ValueError(\n\n    ValueError: Exception encountered when calling layer \"model_1\" (type Functional).\n    \n    Input 0 of layer \"dense_8\" is incompatible with the layer: expected axis -1 of input shape to have value 2352, but received input with shape (None, 784)\n    \n    Call arguments received by layer \"model_1\" (type Functional):\n      • inputs=tf.Tensor(shape=(None, 28, 28), dtype=float32)\n      • training=True\n      • mask=None\n",
     "output_type": "error",
     "traceback": [
      "\u001b[1;31m---------------------------------------------------------------------------\u001b[0m",
      "\u001b[1;31mValueError\u001b[0m                                Traceback (most recent call last)",
      "\u001b[1;32md:\\DL gesty\\step1_DL.ipynb Komórka 32\u001b[0m in \u001b[0;36m<cell line: 1>\u001b[1;34m()\u001b[0m\n\u001b[1;32m----> <a href='vscode-notebook-cell:/d%3A/DL%20gesty/step1_DL.ipynb#X43sZmlsZQ%3D%3D?line=0'>1</a>\u001b[0m model1\u001b[39m.\u001b[39;49mfit(X_train ,    \u001b[39m# Surowe dane obrazu.\u001b[39;49;00m\n\u001b[0;32m      <a href='vscode-notebook-cell:/d%3A/DL%20gesty/step1_DL.ipynb#X43sZmlsZQ%3D%3D?line=1'>2</a>\u001b[0m     Y_train ,          \u001b[39m# Etykiety klasy w kodzie 1 z n.\u001b[39;49;00m\n\u001b[0;32m      <a href='vscode-notebook-cell:/d%3A/DL%20gesty/step1_DL.ipynb#X43sZmlsZQ%3D%3D?line=2'>3</a>\u001b[0m     batch_size \u001b[39m=\u001b[39;49m \u001b[39m32\u001b[39;49m,   \u001b[39m# batch_size określa liczbę obserwacji, które zostaną przekazane do sieci na każdym etapie szkolenia\u001b[39;49;00m\n\u001b[0;32m      <a href='vscode-notebook-cell:/d%3A/DL%20gesty/step1_DL.ipynb#X43sZmlsZQ%3D%3D?line=3'>4</a>\u001b[0m     epochs \u001b[39m=\u001b[39;49m \u001b[39m10\u001b[39;49m,       \u001b[39m# epochs określa, ile razy sieci zostaną pokazane pełne dane treningowe.\u001b[39;49;00m\n\u001b[0;32m      <a href='vscode-notebook-cell:/d%3A/DL%20gesty/step1_DL.ipynb#X43sZmlsZQ%3D%3D?line=4'>5</a>\u001b[0m     shuffle\u001b[39m=\u001b[39;49m \u001b[39mTrue\u001b[39;49;00m      \u001b[39m# Jeśli shuffle = True, partie będą pobierane losowo, bez wymiany z danych treningowych na każ dym etapie szkolenia.\u001b[39;49;00m\n\u001b[0;32m      <a href='vscode-notebook-cell:/d%3A/DL%20gesty/step1_DL.ipynb#X43sZmlsZQ%3D%3D?line=5'>6</a>\u001b[0m )\n",
      "File \u001b[1;32mc:\\Users\\tk\\anaconda3\\envs\\my_env\\lib\\site-packages\\keras\\utils\\traceback_utils.py:67\u001b[0m, in \u001b[0;36mfilter_traceback.<locals>.error_handler\u001b[1;34m(*args, **kwargs)\u001b[0m\n\u001b[0;32m     65\u001b[0m \u001b[39mexcept\u001b[39;00m \u001b[39mException\u001b[39;00m \u001b[39mas\u001b[39;00m e:  \u001b[39m# pylint: disable=broad-except\u001b[39;00m\n\u001b[0;32m     66\u001b[0m   filtered_tb \u001b[39m=\u001b[39m _process_traceback_frames(e\u001b[39m.\u001b[39m__traceback__)\n\u001b[1;32m---> 67\u001b[0m   \u001b[39mraise\u001b[39;00m e\u001b[39m.\u001b[39mwith_traceback(filtered_tb) \u001b[39mfrom\u001b[39;00m \u001b[39mNone\u001b[39m\n\u001b[0;32m     68\u001b[0m \u001b[39mfinally\u001b[39;00m:\n\u001b[0;32m     69\u001b[0m   \u001b[39mdel\u001b[39;00m filtered_tb\n",
      "File \u001b[1;32m~\\AppData\\Local\\Temp\\__autograph_generated_filetic4fwqk.py:15\u001b[0m, in \u001b[0;36mouter_factory.<locals>.inner_factory.<locals>.tf__train_function\u001b[1;34m(iterator)\u001b[0m\n\u001b[0;32m     13\u001b[0m \u001b[39mtry\u001b[39;00m:\n\u001b[0;32m     14\u001b[0m     do_return \u001b[39m=\u001b[39m \u001b[39mTrue\u001b[39;00m\n\u001b[1;32m---> 15\u001b[0m     retval_ \u001b[39m=\u001b[39m ag__\u001b[39m.\u001b[39mconverted_call(ag__\u001b[39m.\u001b[39mld(step_function), (ag__\u001b[39m.\u001b[39mld(\u001b[39mself\u001b[39m), ag__\u001b[39m.\u001b[39mld(iterator)), \u001b[39mNone\u001b[39;00m, fscope)\n\u001b[0;32m     16\u001b[0m \u001b[39mexcept\u001b[39;00m:\n\u001b[0;32m     17\u001b[0m     do_return \u001b[39m=\u001b[39m \u001b[39mFalse\u001b[39;00m\n",
      "\u001b[1;31mValueError\u001b[0m: in user code:\n\n    File \"c:\\Users\\tk\\anaconda3\\envs\\my_env\\lib\\site-packages\\keras\\engine\\training.py\", line 1051, in train_function  *\n        return step_function(self, iterator)\n    File \"c:\\Users\\tk\\anaconda3\\envs\\my_env\\lib\\site-packages\\keras\\engine\\training.py\", line 1040, in step_function  **\n        outputs = model.distribute_strategy.run(run_step, args=(data,))\n    File \"c:\\Users\\tk\\anaconda3\\envs\\my_env\\lib\\site-packages\\keras\\engine\\training.py\", line 1030, in run_step  **\n        outputs = model.train_step(data)\n    File \"c:\\Users\\tk\\anaconda3\\envs\\my_env\\lib\\site-packages\\keras\\engine\\training.py\", line 889, in train_step\n        y_pred = self(x, training=True)\n    File \"c:\\Users\\tk\\anaconda3\\envs\\my_env\\lib\\site-packages\\keras\\utils\\traceback_utils.py\", line 67, in error_handler\n        raise e.with_traceback(filtered_tb) from None\n    File \"c:\\Users\\tk\\anaconda3\\envs\\my_env\\lib\\site-packages\\keras\\engine\\input_spec.py\", line 248, in assert_input_compatibility\n        raise ValueError(\n\n    ValueError: Exception encountered when calling layer \"model_1\" (type Functional).\n    \n    Input 0 of layer \"dense_8\" is incompatible with the layer: expected axis -1 of input shape to have value 2352, but received input with shape (None, 784)\n    \n    Call arguments received by layer \"model_1\" (type Functional):\n      • inputs=tf.Tensor(shape=(None, 28, 28), dtype=float32)\n      • training=True\n      • mask=None\n"
     ]
    }
   ],
   "source": [
    "model1.fit(X_train ,    # Surowe dane obrazu.\n",
    "    Y_train ,          # Etykiety klasy w kodzie 1 z n.\n",
    "    batch_size = 32,   # batch_size określa liczbę obserwacji, które zostaną przekazane do sieci na każdym etapie szkolenia\n",
    "    epochs = 10,       # epochs określa, ile razy sieci zostaną pokazane pełne dane treningowe.\n",
    "    shuffle= True      # Jeśli shuffle = True, partie będą pobierane losowo, bez wymiany z danych treningowych na każ dym etapie szkolenia.\n",
    ")"
   ]
  },
  {
   "cell_type": "markdown",
   "id": "4974168a",
   "metadata": {},
   "source": [
    "Wywołanie metody **fit** spowoduje rozpoczęcie szkolenia głębokiej sieci neuronowej do zadania przewidywania kategorii obrazu z zestawu danych.\n",
    "\n",
    "Proces szkolenia działa w następujący sposób: najpierw wagi sieci są inicjalizowane niewielkimi losowymi wartościami, następnie sieć wykonuje szereg etapów szkoleniowych.\n",
    "\n",
    "Na każdym etapie szkolenia przez sieć przekazywana jest jedna partia zdjęć, a błędy są **propagowane wstecz** w celu **aktualizacji wag**. Wartość **batch_size** określa liczbę obrazów w każdej partii etapu szkolenia. Im większa wielkość partii, tym bardziej stabilne obliczenia gradientu, ale wolniej szy przebieg każdego etapu szkolenia. Użycie całego zestawu danych do obliczenia gradientu na każdym etapie szkolenia byłoby zbyt czasochłonne i wymagałoby intensywnych obliczeń, dlatego na ogół stosuje się partie o wielkości od 32 do 256. Obecnie zalecaną praktyką jest również zwiększanie wielkości partii w miarę postępu szkolenia*.\n",
    "\n",
    "Proces szkolenia trwa dopóty, dopóki wszystkie obserwacje w zbiorze nie zostaną zaobserwowane co najmniej raz. Na tym kończy się pierwsza **epoka**. Dane są następnie przekazywane przez sieć partiami ponownie, w ramach drugiej epoki. Proces ten powtarza się, aż zostanie zrealizowana określona liczba epok.\n",
    "\n",
    "Podczas szkolenia Keras wyświetla postęp procedury, co zostało pokazane na rysunku 2.7. Możemy zauważyć, że szkoleniowy zestaw danych składający się z 50 000 obserwacji pokazano sieci 10 razy (to znaczy przeprowadzono 10 epok), z szybkością wynoszącą w przybliżeniu 160 mikrosekund na obserwację. Wartość skategoryzowanej entropii krzyżowej waha się w zakresie od 1842 do 1357, co skutkuje zwiększeniem dokładności z 33,5% po pierwszej epoce do 51,9% po epoce dziesiątej."
   ]
  },
  {
   "cell_type": "markdown",
   "id": "f0cede73",
   "metadata": {},
   "source": [
    "### Ocena modelu"
   ]
  },
  {
   "cell_type": "markdown",
   "id": "6b28c519",
   "metadata": {},
   "source": [
    " model dla zestawu szkoleniowego osiąga dokładność 51,9%. Zobaczmy jednak, jaka jest wydajność modelu w odniesieniu do danych, których nigdy nie widział.\n",
    "\n",
    "Aby odpowiedzieć na to pytanie, możemy użyć dostępnej w bibliotece Keras metody evaluate:"
   ]
  },
  {
   "cell_type": "code",
   "execution_count": 34,
   "id": "9ed209bd",
   "metadata": {},
   "outputs": [
    {
     "ename": "RuntimeError",
     "evalue": "You must compile your model before training/testing. Use `model.compile(optimizer, loss)`.",
     "output_type": "error",
     "traceback": [
      "\u001b[1;31m---------------------------------------------------------------------------\u001b[0m",
      "\u001b[1;31mRuntimeError\u001b[0m                              Traceback (most recent call last)",
      "\u001b[1;32md:\\DL gesty\\task1_DL.ipynb Komórka 36\u001b[0m in \u001b[0;36m<cell line: 1>\u001b[1;34m()\u001b[0m\n\u001b[1;32m----> <a href='vscode-notebook-cell:/d%3A/DL%20gesty/task1_DL.ipynb#X50sZmlsZQ%3D%3D?line=0'>1</a>\u001b[0m model1\u001b[39m.\u001b[39;49mevaluate (X_test, Y_test)\n",
      "File \u001b[1;32mc:\\Users\\tk\\anaconda3\\envs\\my_env\\lib\\site-packages\\keras\\utils\\traceback_utils.py:67\u001b[0m, in \u001b[0;36mfilter_traceback.<locals>.error_handler\u001b[1;34m(*args, **kwargs)\u001b[0m\n\u001b[0;32m     65\u001b[0m \u001b[39mexcept\u001b[39;00m \u001b[39mException\u001b[39;00m \u001b[39mas\u001b[39;00m e:  \u001b[39m# pylint: disable=broad-except\u001b[39;00m\n\u001b[0;32m     66\u001b[0m   filtered_tb \u001b[39m=\u001b[39m _process_traceback_frames(e\u001b[39m.\u001b[39m__traceback__)\n\u001b[1;32m---> 67\u001b[0m   \u001b[39mraise\u001b[39;00m e\u001b[39m.\u001b[39mwith_traceback(filtered_tb) \u001b[39mfrom\u001b[39;00m \u001b[39mNone\u001b[39m\n\u001b[0;32m     68\u001b[0m \u001b[39mfinally\u001b[39;00m:\n\u001b[0;32m     69\u001b[0m   \u001b[39mdel\u001b[39;00m filtered_tb\n",
      "File \u001b[1;32mc:\\Users\\tk\\anaconda3\\envs\\my_env\\lib\\site-packages\\keras\\engine\\training.py:3160\u001b[0m, in \u001b[0;36mModel._assert_compile_was_called\u001b[1;34m(self)\u001b[0m\n\u001b[0;32m   3154\u001b[0m \u001b[39mdef\u001b[39;00m \u001b[39m_assert_compile_was_called\u001b[39m(\u001b[39mself\u001b[39m):\n\u001b[0;32m   3155\u001b[0m   \u001b[39m# Checks whether `compile` has been called. If it has been called,\u001b[39;00m\n\u001b[0;32m   3156\u001b[0m   \u001b[39m# then the optimizer is set. This is different from whether the\u001b[39;00m\n\u001b[0;32m   3157\u001b[0m   \u001b[39m# model is compiled\u001b[39;00m\n\u001b[0;32m   3158\u001b[0m   \u001b[39m# (i.e. whether the model is built and its inputs/outputs are set).\u001b[39;00m\n\u001b[0;32m   3159\u001b[0m   \u001b[39mif\u001b[39;00m \u001b[39mnot\u001b[39;00m \u001b[39mself\u001b[39m\u001b[39m.\u001b[39m_is_compiled:\n\u001b[1;32m-> 3160\u001b[0m     \u001b[39mraise\u001b[39;00m \u001b[39mRuntimeError\u001b[39;00m(\u001b[39m'\u001b[39m\u001b[39mYou must compile your model before \u001b[39m\u001b[39m'\u001b[39m\n\u001b[0;32m   3161\u001b[0m                        \u001b[39m'\u001b[39m\u001b[39mtraining/testing. \u001b[39m\u001b[39m'\u001b[39m\n\u001b[0;32m   3162\u001b[0m                        \u001b[39m'\u001b[39m\u001b[39mUse `model.compile(optimizer, loss)`.\u001b[39m\u001b[39m'\u001b[39m)\n",
      "\u001b[1;31mRuntimeError\u001b[0m: You must compile your model before training/testing. Use `model.compile(optimizer, loss)`."
     ]
    }
   ],
   "source": [
    "model1.evaluate (X_test, Y_test)"
   ]
  },
  {
   "cell_type": "markdown",
   "id": "e09a70a1",
   "metadata": {},
   "source": [
    "Za pomocą poniższego kodu możemy przeglądać niektóre obrazy wraz z ich etykietami i prognozam Zgodnie z oczekiwaniami mniej więcej połowa prognoz jest prawidłowa:"
   ]
  },
  {
   "cell_type": "code",
   "execution_count": null,
   "id": "fc270b4e",
   "metadata": {},
   "outputs": [],
   "source": [
    "import matplotlib.pyplot as plt\n",
    "\n",
    "n_to_show = 10\n",
    "\n",
    "indices = np.random.choice (range(len(X_test)), n_to_show)\n",
    "\n",
    "fig = plt.figure(figsize=(15, 3))\n",
    "\n",
    "fig.subplots_adjust (hspace=0.4, wspace=0.4)\n",
    "\n",
    "for i, idx in enumerate (indices):\n",
    "    img = X_test [idx] \n",
    "    ax = fig.add_subplot(1, n_to_show, i+1)\n",
    "    ax.axis('off')\n",
    "    ax.text (0.5, -0.35, 'progn. + str(preds_single [idx]), fontsize=10 , ha='center', transform-ax.transAxes) \n",
    "    ax.text(0.5, -0.7, 'rzecz.= ' + str(actual_single [idx]), fontsize=10, ha='center', transform=ax. transAxes)\n",
    "\n",
    "ax.imshow(img)"
   ]
  },
  {
   "cell_type": "markdown",
   "id": "3e0080d7",
   "metadata": {},
   "source": [
    "Losowy wybór prognoz modelu wraz z prawidłowymi etykietami zaprezentowano na rysunku\n",
    "* Powstała głęboką sieć neuronową przy użyciu biblioteki Keras i przeprowadzono prognoz dla nowych danych. Wiele głównych koncepcji dotyczących tej sieci (takich jak funkcje strat i funkcje aktywacji czy też kształty warstw) nadal będzie niezwykle ważnych. "
   ]
  }
 ],
 "metadata": {
  "kernelspec": {
   "display_name": "Python 3.10.4 ('my_env')",
   "language": "python",
   "name": "python3"
  },
  "language_info": {
   "codemirror_mode": {
    "name": "ipython",
    "version": 3
   },
   "file_extension": ".py",
   "mimetype": "text/x-python",
   "name": "python",
   "nbconvert_exporter": "python",
   "pygments_lexer": "ipython3",
   "version": "3.10.4"
  },
  "vscode": {
   "interpreter": {
    "hash": "697e03dbff18c2aea5427d36c45620e2702223449f86e35f030338dd12b34fd2"
   }
  }
 },
 "nbformat": 4,
 "nbformat_minor": 5
}
