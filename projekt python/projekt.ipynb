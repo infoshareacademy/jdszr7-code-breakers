{
 "cells": [
  {
   "cell_type": "code",
   "execution_count": 58,
   "id": "edfe4db6",
   "metadata": {},
   "outputs": [],
   "source": [
    "import numpy as np\n",
    "import pandas as pd\n",
    "import matplotlib.pyplot as plt\n",
    "import seaborn as sns"
   ]
  },
  {
   "cell_type": "code",
   "execution_count": 59,
   "id": "be7047b8",
   "metadata": {},
   "outputs": [],
   "source": [
    "uber = pd.read_csv('uber.csv', low_memory=False)\n",
    "pd.set_option('display.float_format', '{:.2f}'.format) # --- > by usunac e+06 itd"
   ]
  },
  {
   "cell_type": "code",
   "execution_count": 60,
   "id": "dc55e1ad",
   "metadata": {},
   "outputs": [
    {
     "data": {
      "text/html": [
       "<div>\n",
       "<style scoped>\n",
       "    .dataframe tbody tr th:only-of-type {\n",
       "        vertical-align: middle;\n",
       "    }\n",
       "\n",
       "    .dataframe tbody tr th {\n",
       "        vertical-align: top;\n",
       "    }\n",
       "\n",
       "    .dataframe thead th {\n",
       "        text-align: right;\n",
       "    }\n",
       "</style>\n",
       "<table border=\"1\" class=\"dataframe\">\n",
       "  <thead>\n",
       "    <tr style=\"text-align: right;\">\n",
       "      <th></th>\n",
       "      <th>Column1</th>\n",
       "      <th>CASEID</th>\n",
       "      <th>DOF1</th>\n",
       "      <th>GAD1</th>\n",
       "      <th>PSU</th>\n",
       "      <th>YEAR</th>\n",
       "      <th>STRATIF</th>\n",
       "      <th>BODYTYPE</th>\n",
       "      <th>DVEST</th>\n",
       "      <th>DVBASIS</th>\n",
       "      <th>...</th>\n",
       "      <th>INJSEV</th>\n",
       "      <th>MANAVAIL</th>\n",
       "      <th>MANFAIL</th>\n",
       "      <th>MANUSE</th>\n",
       "      <th>OCCNO</th>\n",
       "      <th>ROLE</th>\n",
       "      <th>SEATPOS</th>\n",
       "      <th>SEX</th>\n",
       "      <th>TREATMNT</th>\n",
       "      <th>WEIGHT</th>\n",
       "    </tr>\n",
       "  </thead>\n",
       "  <tbody>\n",
       "    <tr>\n",
       "      <th>0</th>\n",
       "      <td>1</td>\n",
       "      <td>1H</td>\n",
       "      <td>NaN</td>\n",
       "      <td>F</td>\n",
       "      <td>2</td>\n",
       "      <td>2004</td>\n",
       "      <td>H</td>\n",
       "      <td>4.00</td>\n",
       "      <td>6.00</td>\n",
       "      <td>11.00</td>\n",
       "      <td>...</td>\n",
       "      <td>0.00</td>\n",
       "      <td>4.00</td>\n",
       "      <td>1.00</td>\n",
       "      <td>4.00</td>\n",
       "      <td>1.00</td>\n",
       "      <td>1.00</td>\n",
       "      <td>11.00</td>\n",
       "      <td>1.00</td>\n",
       "      <td>0.00</td>\n",
       "      <td>73.00</td>\n",
       "    </tr>\n",
       "    <tr>\n",
       "      <th>1</th>\n",
       "      <td>2</td>\n",
       "      <td>1H</td>\n",
       "      <td>NaN</td>\n",
       "      <td>F</td>\n",
       "      <td>2</td>\n",
       "      <td>2004</td>\n",
       "      <td>H</td>\n",
       "      <td>4.00</td>\n",
       "      <td>6.00</td>\n",
       "      <td>11.00</td>\n",
       "      <td>...</td>\n",
       "      <td>0.00</td>\n",
       "      <td>4.00</td>\n",
       "      <td>1.00</td>\n",
       "      <td>4.00</td>\n",
       "      <td>1.00</td>\n",
       "      <td>1.00</td>\n",
       "      <td>11.00</td>\n",
       "      <td>1.00</td>\n",
       "      <td>0.00</td>\n",
       "      <td>73.00</td>\n",
       "    </tr>\n",
       "    <tr>\n",
       "      <th>2</th>\n",
       "      <td>3</td>\n",
       "      <td>1H</td>\n",
       "      <td>NaN</td>\n",
       "      <td>F</td>\n",
       "      <td>2</td>\n",
       "      <td>2004</td>\n",
       "      <td>H</td>\n",
       "      <td>4.00</td>\n",
       "      <td>6.00</td>\n",
       "      <td>11.00</td>\n",
       "      <td>...</td>\n",
       "      <td>0.00</td>\n",
       "      <td>4.00</td>\n",
       "      <td>1.00</td>\n",
       "      <td>4.00</td>\n",
       "      <td>1.00</td>\n",
       "      <td>1.00</td>\n",
       "      <td>11.00</td>\n",
       "      <td>1.00</td>\n",
       "      <td>0.00</td>\n",
       "      <td>73.00</td>\n",
       "    </tr>\n",
       "    <tr>\n",
       "      <th>3</th>\n",
       "      <td>4</td>\n",
       "      <td>1H</td>\n",
       "      <td>NaN</td>\n",
       "      <td>F</td>\n",
       "      <td>2</td>\n",
       "      <td>2004</td>\n",
       "      <td>H</td>\n",
       "      <td>4.00</td>\n",
       "      <td>6.00</td>\n",
       "      <td>11.00</td>\n",
       "      <td>...</td>\n",
       "      <td>0.00</td>\n",
       "      <td>4.00</td>\n",
       "      <td>1.00</td>\n",
       "      <td>4.00</td>\n",
       "      <td>1.00</td>\n",
       "      <td>1.00</td>\n",
       "      <td>11.00</td>\n",
       "      <td>1.00</td>\n",
       "      <td>0.00</td>\n",
       "      <td>73.00</td>\n",
       "    </tr>\n",
       "    <tr>\n",
       "      <th>4</th>\n",
       "      <td>5</td>\n",
       "      <td>1H</td>\n",
       "      <td>NaN</td>\n",
       "      <td>F</td>\n",
       "      <td>2</td>\n",
       "      <td>2004</td>\n",
       "      <td>H</td>\n",
       "      <td>4.00</td>\n",
       "      <td>6.00</td>\n",
       "      <td>11.00</td>\n",
       "      <td>...</td>\n",
       "      <td>0.00</td>\n",
       "      <td>4.00</td>\n",
       "      <td>1.00</td>\n",
       "      <td>4.00</td>\n",
       "      <td>1.00</td>\n",
       "      <td>1.00</td>\n",
       "      <td>11.00</td>\n",
       "      <td>1.00</td>\n",
       "      <td>0.00</td>\n",
       "      <td>73.00</td>\n",
       "    </tr>\n",
       "    <tr>\n",
       "      <th>5</th>\n",
       "      <td>6</td>\n",
       "      <td>1H</td>\n",
       "      <td>NaN</td>\n",
       "      <td>F</td>\n",
       "      <td>2</td>\n",
       "      <td>2004</td>\n",
       "      <td>H</td>\n",
       "      <td>4.00</td>\n",
       "      <td>6.00</td>\n",
       "      <td>11.00</td>\n",
       "      <td>...</td>\n",
       "      <td>0.00</td>\n",
       "      <td>4.00</td>\n",
       "      <td>1.00</td>\n",
       "      <td>4.00</td>\n",
       "      <td>1.00</td>\n",
       "      <td>1.00</td>\n",
       "      <td>11.00</td>\n",
       "      <td>1.00</td>\n",
       "      <td>0.00</td>\n",
       "      <td>73.00</td>\n",
       "    </tr>\n",
       "    <tr>\n",
       "      <th>6</th>\n",
       "      <td>7</td>\n",
       "      <td>1H</td>\n",
       "      <td>NaN</td>\n",
       "      <td>F</td>\n",
       "      <td>2</td>\n",
       "      <td>2004</td>\n",
       "      <td>H</td>\n",
       "      <td>4.00</td>\n",
       "      <td>6.00</td>\n",
       "      <td>11.00</td>\n",
       "      <td>...</td>\n",
       "      <td>0.00</td>\n",
       "      <td>4.00</td>\n",
       "      <td>1.00</td>\n",
       "      <td>4.00</td>\n",
       "      <td>1.00</td>\n",
       "      <td>1.00</td>\n",
       "      <td>11.00</td>\n",
       "      <td>1.00</td>\n",
       "      <td>0.00</td>\n",
       "      <td>73.00</td>\n",
       "    </tr>\n",
       "    <tr>\n",
       "      <th>7</th>\n",
       "      <td>8</td>\n",
       "      <td>1H</td>\n",
       "      <td>NaN</td>\n",
       "      <td>F</td>\n",
       "      <td>2</td>\n",
       "      <td>2004</td>\n",
       "      <td>H</td>\n",
       "      <td>4.00</td>\n",
       "      <td>6.00</td>\n",
       "      <td>11.00</td>\n",
       "      <td>...</td>\n",
       "      <td>0.00</td>\n",
       "      <td>4.00</td>\n",
       "      <td>1.00</td>\n",
       "      <td>4.00</td>\n",
       "      <td>1.00</td>\n",
       "      <td>1.00</td>\n",
       "      <td>11.00</td>\n",
       "      <td>1.00</td>\n",
       "      <td>0.00</td>\n",
       "      <td>73.00</td>\n",
       "    </tr>\n",
       "    <tr>\n",
       "      <th>8</th>\n",
       "      <td>9</td>\n",
       "      <td>2K</td>\n",
       "      <td>11.00</td>\n",
       "      <td>F</td>\n",
       "      <td>2</td>\n",
       "      <td>2004</td>\n",
       "      <td>K</td>\n",
       "      <td>20.00</td>\n",
       "      <td>0.00</td>\n",
       "      <td>1.00</td>\n",
       "      <td>...</td>\n",
       "      <td>1.00</td>\n",
       "      <td>4.00</td>\n",
       "      <td>1.00</td>\n",
       "      <td>4.00</td>\n",
       "      <td>1.00</td>\n",
       "      <td>1.00</td>\n",
       "      <td>11.00</td>\n",
       "      <td>1.00</td>\n",
       "      <td>4.00</td>\n",
       "      <td>86.00</td>\n",
       "    </tr>\n",
       "    <tr>\n",
       "      <th>9</th>\n",
       "      <td>10</td>\n",
       "      <td>2K</td>\n",
       "      <td>11.00</td>\n",
       "      <td>F</td>\n",
       "      <td>2</td>\n",
       "      <td>2004</td>\n",
       "      <td>K</td>\n",
       "      <td>20.00</td>\n",
       "      <td>0.00</td>\n",
       "      <td>1.00</td>\n",
       "      <td>...</td>\n",
       "      <td>1.00</td>\n",
       "      <td>4.00</td>\n",
       "      <td>1.00</td>\n",
       "      <td>4.00</td>\n",
       "      <td>2.00</td>\n",
       "      <td>2.00</td>\n",
       "      <td>13.00</td>\n",
       "      <td>2.00</td>\n",
       "      <td>3.00</td>\n",
       "      <td>68.00</td>\n",
       "    </tr>\n",
       "    <tr>\n",
       "      <th>10</th>\n",
       "      <td>11</td>\n",
       "      <td>2K</td>\n",
       "      <td>11.00</td>\n",
       "      <td>F</td>\n",
       "      <td>2</td>\n",
       "      <td>2004</td>\n",
       "      <td>K</td>\n",
       "      <td>20.00</td>\n",
       "      <td>0.00</td>\n",
       "      <td>1.00</td>\n",
       "      <td>...</td>\n",
       "      <td>3.00</td>\n",
       "      <td>4.00</td>\n",
       "      <td>1.00</td>\n",
       "      <td>4.00</td>\n",
       "      <td>1.00</td>\n",
       "      <td>1.00</td>\n",
       "      <td>11.00</td>\n",
       "      <td>1.00</td>\n",
       "      <td>3.00</td>\n",
       "      <td>NaN</td>\n",
       "    </tr>\n",
       "  </tbody>\n",
       "</table>\n",
       "<p>11 rows × 32 columns</p>\n",
       "</div>"
      ],
      "text/plain": [
       "    Column1 CASEID  DOF1 GAD1  PSU  YEAR STRATIF  BODYTYPE  DVEST  DVBASIS  \\\n",
       "0         1     1H   NaN    F    2  2004       H      4.00   6.00    11.00   \n",
       "1         2     1H   NaN    F    2  2004       H      4.00   6.00    11.00   \n",
       "2         3     1H   NaN    F    2  2004       H      4.00   6.00    11.00   \n",
       "3         4     1H   NaN    F    2  2004       H      4.00   6.00    11.00   \n",
       "4         5     1H   NaN    F    2  2004       H      4.00   6.00    11.00   \n",
       "5         6     1H   NaN    F    2  2004       H      4.00   6.00    11.00   \n",
       "6         7     1H   NaN    F    2  2004       H      4.00   6.00    11.00   \n",
       "7         8     1H   NaN    F    2  2004       H      4.00   6.00    11.00   \n",
       "8         9     2K 11.00    F    2  2004       K     20.00   0.00     1.00   \n",
       "9        10     2K 11.00    F    2  2004       K     20.00   0.00     1.00   \n",
       "10       11     2K 11.00    F    2  2004       K     20.00   0.00     1.00   \n",
       "\n",
       "    ...  INJSEV  MANAVAIL  MANFAIL  MANUSE  OCCNO  ROLE  SEATPOS  SEX  \\\n",
       "0   ...    0.00      4.00     1.00    4.00   1.00  1.00    11.00 1.00   \n",
       "1   ...    0.00      4.00     1.00    4.00   1.00  1.00    11.00 1.00   \n",
       "2   ...    0.00      4.00     1.00    4.00   1.00  1.00    11.00 1.00   \n",
       "3   ...    0.00      4.00     1.00    4.00   1.00  1.00    11.00 1.00   \n",
       "4   ...    0.00      4.00     1.00    4.00   1.00  1.00    11.00 1.00   \n",
       "5   ...    0.00      4.00     1.00    4.00   1.00  1.00    11.00 1.00   \n",
       "6   ...    0.00      4.00     1.00    4.00   1.00  1.00    11.00 1.00   \n",
       "7   ...    0.00      4.00     1.00    4.00   1.00  1.00    11.00 1.00   \n",
       "8   ...    1.00      4.00     1.00    4.00   1.00  1.00    11.00 1.00   \n",
       "9   ...    1.00      4.00     1.00    4.00   2.00  2.00    13.00 2.00   \n",
       "10  ...    3.00      4.00     1.00    4.00   1.00  1.00    11.00 1.00   \n",
       "\n",
       "    TREATMNT  WEIGHT  \n",
       "0       0.00   73.00  \n",
       "1       0.00   73.00  \n",
       "2       0.00   73.00  \n",
       "3       0.00   73.00  \n",
       "4       0.00   73.00  \n",
       "5       0.00   73.00  \n",
       "6       0.00   73.00  \n",
       "7       0.00   73.00  \n",
       "8       4.00   86.00  \n",
       "9       3.00   68.00  \n",
       "10      3.00     NaN  \n",
       "\n",
       "[11 rows x 32 columns]"
      ]
     },
     "execution_count": 60,
     "metadata": {},
     "output_type": "execute_result"
    }
   ],
   "source": [
    "uber.head(11)"
   ]
  },
  {
   "cell_type": "code",
   "execution_count": 61,
   "id": "5626ec00",
   "metadata": {},
   "outputs": [
    {
     "name": "stdout",
     "output_type": "stream",
     "text": [
      "<class 'pandas.core.frame.DataFrame'>\n",
      "RangeIndex: 2716427 entries, 0 to 2716426\n",
      "Data columns (total 32 columns):\n",
      " #   Column    Dtype  \n",
      "---  ------    -----  \n",
      " 0   Column1   int64  \n",
      " 1   CASEID    object \n",
      " 2   DOF1      float64\n",
      " 3   GAD1      object \n",
      " 4   PSU       int64  \n",
      " 5   YEAR      int64  \n",
      " 6   STRATIF   object \n",
      " 7   BODYTYPE  float64\n",
      " 8   DVEST     float64\n",
      " 9   DVBASIS   float64\n",
      " 10  DVTOTAL   float64\n",
      " 11  MAKE      float64\n",
      " 12  MODELYR   float64\n",
      " 13  AGE       float64\n",
      " 14  BAGAVAIL  float64\n",
      " 15  BAGDEPLY  float64\n",
      " 16  BAGFAIL   float64\n",
      " 17  CASENO    float64\n",
      " 18  CHTYPE    float64\n",
      " 19  DEATH     float64\n",
      " 20  HEIGHT    float64\n",
      " 21  HOSPSTAY  float64\n",
      " 22  INJSEV    float64\n",
      " 23  MANAVAIL  float64\n",
      " 24  MANFAIL   float64\n",
      " 25  MANUSE    float64\n",
      " 26  OCCNO     float64\n",
      " 27  ROLE      float64\n",
      " 28  SEATPOS   float64\n",
      " 29  SEX       float64\n",
      " 30  TREATMNT  float64\n",
      " 31  WEIGHT    float64\n",
      "dtypes: float64(26), int64(3), object(3)\n",
      "memory usage: 663.2+ MB\n"
     ]
    }
   ],
   "source": [
    "uber.info()"
   ]
  },
  {
   "cell_type": "code",
   "execution_count": 62,
   "id": "a7786ef8",
   "metadata": {},
   "outputs": [
    {
     "data": {
      "text/html": [
       "<div>\n",
       "<style scoped>\n",
       "    .dataframe tbody tr th:only-of-type {\n",
       "        vertical-align: middle;\n",
       "    }\n",
       "\n",
       "    .dataframe tbody tr th {\n",
       "        vertical-align: top;\n",
       "    }\n",
       "\n",
       "    .dataframe thead th {\n",
       "        text-align: right;\n",
       "    }\n",
       "</style>\n",
       "<table border=\"1\" class=\"dataframe\">\n",
       "  <thead>\n",
       "    <tr style=\"text-align: right;\">\n",
       "      <th></th>\n",
       "      <th>Column1</th>\n",
       "      <th>DOF1</th>\n",
       "      <th>PSU</th>\n",
       "      <th>YEAR</th>\n",
       "      <th>BODYTYPE</th>\n",
       "      <th>DVEST</th>\n",
       "      <th>DVBASIS</th>\n",
       "      <th>DVTOTAL</th>\n",
       "      <th>MAKE</th>\n",
       "      <th>MODELYR</th>\n",
       "      <th>...</th>\n",
       "      <th>INJSEV</th>\n",
       "      <th>MANAVAIL</th>\n",
       "      <th>MANFAIL</th>\n",
       "      <th>MANUSE</th>\n",
       "      <th>OCCNO</th>\n",
       "      <th>ROLE</th>\n",
       "      <th>SEATPOS</th>\n",
       "      <th>SEX</th>\n",
       "      <th>TREATMNT</th>\n",
       "      <th>WEIGHT</th>\n",
       "    </tr>\n",
       "  </thead>\n",
       "  <tbody>\n",
       "    <tr>\n",
       "      <th>count</th>\n",
       "      <td>2716427.00</td>\n",
       "      <td>2417075.00</td>\n",
       "      <td>2716427.00</td>\n",
       "      <td>2716427.00</td>\n",
       "      <td>2713908.00</td>\n",
       "      <td>2222022.00</td>\n",
       "      <td>2626443.00</td>\n",
       "      <td>1625151.00</td>\n",
       "      <td>2705768.00</td>\n",
       "      <td>2703350.00</td>\n",
       "      <td>...</td>\n",
       "      <td>2666603.00</td>\n",
       "      <td>2305406.00</td>\n",
       "      <td>2035758.00</td>\n",
       "      <td>2220682.00</td>\n",
       "      <td>2716262.00</td>\n",
       "      <td>2716227.00</td>\n",
       "      <td>2526365.00</td>\n",
       "      <td>2684392.00</td>\n",
       "      <td>2384477.00</td>\n",
       "      <td>2061517.00</td>\n",
       "    </tr>\n",
       "    <tr>\n",
       "      <th>mean</th>\n",
       "      <td>1358214.00</td>\n",
       "      <td>12.49</td>\n",
       "      <td>46.40</td>\n",
       "      <td>2007.01</td>\n",
       "      <td>12.24</td>\n",
       "      <td>1.65</td>\n",
       "      <td>4.71</td>\n",
       "      <td>24.45</td>\n",
       "      <td>26.86</td>\n",
       "      <td>1999.71</td>\n",
       "      <td>...</td>\n",
       "      <td>1.41</td>\n",
       "      <td>3.87</td>\n",
       "      <td>0.79</td>\n",
       "      <td>3.58</td>\n",
       "      <td>1.59</td>\n",
       "      <td>1.36</td>\n",
       "      <td>13.52</td>\n",
       "      <td>1.49</td>\n",
       "      <td>2.36</td>\n",
       "      <td>72.57</td>\n",
       "    </tr>\n",
       "    <tr>\n",
       "      <th>std</th>\n",
       "      <td>784165.07</td>\n",
       "      <td>17.22</td>\n",
       "      <td>27.33</td>\n",
       "      <td>2.83</td>\n",
       "      <td>12.59</td>\n",
       "      <td>2.95</td>\n",
       "      <td>12.15</td>\n",
       "      <td>13.54</td>\n",
       "      <td>17.53</td>\n",
       "      <td>6.09</td>\n",
       "      <td>...</td>\n",
       "      <td>1.33</td>\n",
       "      <td>0.64</td>\n",
       "      <td>0.43</td>\n",
       "      <td>2.59</td>\n",
       "      <td>1.06</td>\n",
       "      <td>0.48</td>\n",
       "      <td>6.53</td>\n",
       "      <td>0.57</td>\n",
       "      <td>2.09</td>\n",
       "      <td>23.95</td>\n",
       "    </tr>\n",
       "    <tr>\n",
       "      <th>min</th>\n",
       "      <td>1.00</td>\n",
       "      <td>0.00</td>\n",
       "      <td>2.00</td>\n",
       "      <td>2004.00</td>\n",
       "      <td>1.00</td>\n",
       "      <td>0.00</td>\n",
       "      <td>0.00</td>\n",
       "      <td>0.00</td>\n",
       "      <td>1.00</td>\n",
       "      <td>1923.00</td>\n",
       "      <td>...</td>\n",
       "      <td>0.00</td>\n",
       "      <td>0.00</td>\n",
       "      <td>0.00</td>\n",
       "      <td>0.00</td>\n",
       "      <td>1.00</td>\n",
       "      <td>1.00</td>\n",
       "      <td>11.00</td>\n",
       "      <td>1.00</td>\n",
       "      <td>0.00</td>\n",
       "      <td>3.00</td>\n",
       "    </tr>\n",
       "    <tr>\n",
       "      <th>25%</th>\n",
       "      <td>679107.50</td>\n",
       "      <td>6.00</td>\n",
       "      <td>12.00</td>\n",
       "      <td>2005.00</td>\n",
       "      <td>4.00</td>\n",
       "      <td>0.00</td>\n",
       "      <td>1.00</td>\n",
       "      <td>15.00</td>\n",
       "      <td>12.00</td>\n",
       "      <td>1996.00</td>\n",
       "      <td>...</td>\n",
       "      <td>0.00</td>\n",
       "      <td>4.00</td>\n",
       "      <td>1.00</td>\n",
       "      <td>4.00</td>\n",
       "      <td>1.00</td>\n",
       "      <td>1.00</td>\n",
       "      <td>11.00</td>\n",
       "      <td>1.00</td>\n",
       "      <td>0.00</td>\n",
       "      <td>59.00</td>\n",
       "    </tr>\n",
       "    <tr>\n",
       "      <th>50%</th>\n",
       "      <td>1358214.00</td>\n",
       "      <td>11.00</td>\n",
       "      <td>48.00</td>\n",
       "      <td>2006.00</td>\n",
       "      <td>4.00</td>\n",
       "      <td>0.00</td>\n",
       "      <td>1.00</td>\n",
       "      <td>21.00</td>\n",
       "      <td>20.00</td>\n",
       "      <td>2000.00</td>\n",
       "      <td>...</td>\n",
       "      <td>1.00</td>\n",
       "      <td>4.00</td>\n",
       "      <td>1.00</td>\n",
       "      <td>4.00</td>\n",
       "      <td>1.00</td>\n",
       "      <td>1.00</td>\n",
       "      <td>11.00</td>\n",
       "      <td>1.00</td>\n",
       "      <td>3.00</td>\n",
       "      <td>73.00</td>\n",
       "    </tr>\n",
       "    <tr>\n",
       "      <th>75%</th>\n",
       "      <td>2037320.50</td>\n",
       "      <td>12.00</td>\n",
       "      <td>74.00</td>\n",
       "      <td>2009.00</td>\n",
       "      <td>15.00</td>\n",
       "      <td>0.00</td>\n",
       "      <td>4.00</td>\n",
       "      <td>30.00</td>\n",
       "      <td>37.00</td>\n",
       "      <td>2004.00</td>\n",
       "      <td>...</td>\n",
       "      <td>3.00</td>\n",
       "      <td>4.00</td>\n",
       "      <td>1.00</td>\n",
       "      <td>4.00</td>\n",
       "      <td>2.00</td>\n",
       "      <td>2.00</td>\n",
       "      <td>13.00</td>\n",
       "      <td>2.00</td>\n",
       "      <td>4.00</td>\n",
       "      <td>86.00</td>\n",
       "    </tr>\n",
       "    <tr>\n",
       "      <th>max</th>\n",
       "      <td>2716427.00</td>\n",
       "      <td>92.00</td>\n",
       "      <td>82.00</td>\n",
       "      <td>2015.00</td>\n",
       "      <td>97.00</td>\n",
       "      <td>8.00</td>\n",
       "      <td>98.00</td>\n",
       "      <td>166.00</td>\n",
       "      <td>98.00</td>\n",
       "      <td>2016.00</td>\n",
       "      <td>...</td>\n",
       "      <td>6.00</td>\n",
       "      <td>8.00</td>\n",
       "      <td>8.00</td>\n",
       "      <td>18.00</td>\n",
       "      <td>19.00</td>\n",
       "      <td>2.00</td>\n",
       "      <td>98.00</td>\n",
       "      <td>6.00</td>\n",
       "      <td>8.00</td>\n",
       "      <td>150.00</td>\n",
       "    </tr>\n",
       "  </tbody>\n",
       "</table>\n",
       "<p>8 rows × 29 columns</p>\n",
       "</div>"
      ],
      "text/plain": [
       "         Column1       DOF1        PSU       YEAR   BODYTYPE      DVEST  \\\n",
       "count 2716427.00 2417075.00 2716427.00 2716427.00 2713908.00 2222022.00   \n",
       "mean  1358214.00      12.49      46.40    2007.01      12.24       1.65   \n",
       "std    784165.07      17.22      27.33       2.83      12.59       2.95   \n",
       "min         1.00       0.00       2.00    2004.00       1.00       0.00   \n",
       "25%    679107.50       6.00      12.00    2005.00       4.00       0.00   \n",
       "50%   1358214.00      11.00      48.00    2006.00       4.00       0.00   \n",
       "75%   2037320.50      12.00      74.00    2009.00      15.00       0.00   \n",
       "max   2716427.00      92.00      82.00    2015.00      97.00       8.00   \n",
       "\n",
       "         DVBASIS    DVTOTAL       MAKE    MODELYR  ...     INJSEV   MANAVAIL  \\\n",
       "count 2626443.00 1625151.00 2705768.00 2703350.00  ... 2666603.00 2305406.00   \n",
       "mean        4.71      24.45      26.86    1999.71  ...       1.41       3.87   \n",
       "std        12.15      13.54      17.53       6.09  ...       1.33       0.64   \n",
       "min         0.00       0.00       1.00    1923.00  ...       0.00       0.00   \n",
       "25%         1.00      15.00      12.00    1996.00  ...       0.00       4.00   \n",
       "50%         1.00      21.00      20.00    2000.00  ...       1.00       4.00   \n",
       "75%         4.00      30.00      37.00    2004.00  ...       3.00       4.00   \n",
       "max        98.00     166.00      98.00    2016.00  ...       6.00       8.00   \n",
       "\n",
       "         MANFAIL     MANUSE      OCCNO       ROLE    SEATPOS        SEX  \\\n",
       "count 2035758.00 2220682.00 2716262.00 2716227.00 2526365.00 2684392.00   \n",
       "mean        0.79       3.58       1.59       1.36      13.52       1.49   \n",
       "std         0.43       2.59       1.06       0.48       6.53       0.57   \n",
       "min         0.00       0.00       1.00       1.00      11.00       1.00   \n",
       "25%         1.00       4.00       1.00       1.00      11.00       1.00   \n",
       "50%         1.00       4.00       1.00       1.00      11.00       1.00   \n",
       "75%         1.00       4.00       2.00       2.00      13.00       2.00   \n",
       "max         8.00      18.00      19.00       2.00      98.00       6.00   \n",
       "\n",
       "        TREATMNT     WEIGHT  \n",
       "count 2384477.00 2061517.00  \n",
       "mean        2.36      72.57  \n",
       "std         2.09      23.95  \n",
       "min         0.00       3.00  \n",
       "25%         0.00      59.00  \n",
       "50%         3.00      73.00  \n",
       "75%         4.00      86.00  \n",
       "max         8.00     150.00  \n",
       "\n",
       "[8 rows x 29 columns]"
      ]
     },
     "execution_count": 62,
     "metadata": {},
     "output_type": "execute_result"
    }
   ],
   "source": [
    "uber.describe()"
   ]
  },
  {
   "cell_type": "code",
   "execution_count": 63,
   "id": "36cd014b",
   "metadata": {},
   "outputs": [
    {
     "data": {
      "text/html": [
       "<div>\n",
       "<style scoped>\n",
       "    .dataframe tbody tr th:only-of-type {\n",
       "        vertical-align: middle;\n",
       "    }\n",
       "\n",
       "    .dataframe tbody tr th {\n",
       "        vertical-align: top;\n",
       "    }\n",
       "\n",
       "    .dataframe thead th {\n",
       "        text-align: right;\n",
       "    }\n",
       "</style>\n",
       "<table border=\"1\" class=\"dataframe\">\n",
       "  <thead>\n",
       "    <tr style=\"text-align: right;\">\n",
       "      <th></th>\n",
       "      <th>Column1</th>\n",
       "      <th>CASEID</th>\n",
       "      <th>DOF1</th>\n",
       "      <th>GAD1</th>\n",
       "      <th>PSU</th>\n",
       "      <th>YEAR</th>\n",
       "      <th>STRATIF</th>\n",
       "      <th>BODYTYPE</th>\n",
       "      <th>DVEST</th>\n",
       "      <th>DVBASIS</th>\n",
       "      <th>...</th>\n",
       "      <th>INJSEV</th>\n",
       "      <th>MANAVAIL</th>\n",
       "      <th>MANFAIL</th>\n",
       "      <th>MANUSE</th>\n",
       "      <th>OCCNO</th>\n",
       "      <th>ROLE</th>\n",
       "      <th>SEATPOS</th>\n",
       "      <th>SEX</th>\n",
       "      <th>TREATMNT</th>\n",
       "      <th>WEIGHT</th>\n",
       "    </tr>\n",
       "  </thead>\n",
       "  <tbody>\n",
       "    <tr>\n",
       "      <th>1551405</th>\n",
       "      <td>1551406</td>\n",
       "      <td>96F</td>\n",
       "      <td>2.00</td>\n",
       "      <td>F</td>\n",
       "      <td>13</td>\n",
       "      <td>2007</td>\n",
       "      <td>F</td>\n",
       "      <td>4.00</td>\n",
       "      <td>0.00</td>\n",
       "      <td>1.00</td>\n",
       "      <td>...</td>\n",
       "      <td>NaN</td>\n",
       "      <td>4.00</td>\n",
       "      <td>1.00</td>\n",
       "      <td>14.00</td>\n",
       "      <td>2.00</td>\n",
       "      <td>2.00</td>\n",
       "      <td>21.00</td>\n",
       "      <td>1.00</td>\n",
       "      <td>0.00</td>\n",
       "      <td>6.00</td>\n",
       "    </tr>\n",
       "  </tbody>\n",
       "</table>\n",
       "<p>1 rows × 32 columns</p>\n",
       "</div>"
      ],
      "text/plain": [
       "         Column1 CASEID  DOF1 GAD1  PSU  YEAR STRATIF  BODYTYPE  DVEST  \\\n",
       "1551405  1551406    96F  2.00    F   13  2007       F      4.00   0.00   \n",
       "\n",
       "         DVBASIS  ...  INJSEV  MANAVAIL  MANFAIL  MANUSE  OCCNO  ROLE  \\\n",
       "1551405     1.00  ...     NaN      4.00     1.00   14.00   2.00  2.00   \n",
       "\n",
       "         SEATPOS  SEX  TREATMNT  WEIGHT  \n",
       "1551405    21.00 1.00      0.00    6.00  \n",
       "\n",
       "[1 rows x 32 columns]"
      ]
     },
     "execution_count": 63,
     "metadata": {},
     "output_type": "execute_result"
    }
   ],
   "source": [
    "uber.sample()"
   ]
  },
  {
   "cell_type": "code",
   "execution_count": 64,
   "id": "3d4f699b",
   "metadata": {},
   "outputs": [],
   "source": [
    "occupants = uber[[\"CASEID\", 'PSU','YEAR','AGE', 'BAGAVAIL','CHTYPE', 'HEIGHT', 'INJSEV',\n",
    "       'MANUSE', 'OCCNO','ROLE', 'SEATPOS', 'SEX', 'WEIGHT', 'HOSPSTAY','TREATMNT']]"
   ]
  },
  {
   "cell_type": "code",
   "execution_count": 65,
   "id": "d27e5d0a",
   "metadata": {},
   "outputs": [
    {
     "name": "stderr",
     "output_type": "stream",
     "text": [
      "C:\\Users\\ela\\AppData\\Local\\Temp\\ipykernel_5820\\3565460554.py:1: SettingWithCopyWarning: \n",
      "A value is trying to be set on a copy of a slice from a DataFrame\n",
      "\n",
      "See the caveats in the documentation: https://pandas.pydata.org/pandas-docs/stable/user_guide/indexing.html#returning-a-view-versus-a-copy\n",
      "  occupants.drop_duplicates(subset=['CASEID', 'PSU','YEAR','AGE', 'BAGAVAIL','CHTYPE', 'HEIGHT', 'INJSEV',\n"
     ]
    }
   ],
   "source": [
    "occupants.drop_duplicates(subset=['CASEID', 'PSU','YEAR','AGE', 'BAGAVAIL','CHTYPE', 'HEIGHT', 'INJSEV',\n",
    "       'MANUSE', 'OCCNO', 'ROLE', 'SEATPOS', 'SEX', 'WEIGHT','HOSPSTAY','TREATMNT' ],inplace=True, ignore_index=True)"
   ]
  },
  {
   "cell_type": "code",
   "execution_count": 66,
   "id": "b20ee7e5",
   "metadata": {},
   "outputs": [
    {
     "data": {
      "text/html": [
       "<div>\n",
       "<style scoped>\n",
       "    .dataframe tbody tr th:only-of-type {\n",
       "        vertical-align: middle;\n",
       "    }\n",
       "\n",
       "    .dataframe tbody tr th {\n",
       "        vertical-align: top;\n",
       "    }\n",
       "\n",
       "    .dataframe thead th {\n",
       "        text-align: right;\n",
       "    }\n",
       "</style>\n",
       "<table border=\"1\" class=\"dataframe\">\n",
       "  <thead>\n",
       "    <tr style=\"text-align: right;\">\n",
       "      <th></th>\n",
       "      <th>CASEID</th>\n",
       "      <th>PSU</th>\n",
       "      <th>YEAR</th>\n",
       "      <th>AGE</th>\n",
       "      <th>BAGAVAIL</th>\n",
       "      <th>CHTYPE</th>\n",
       "      <th>HEIGHT</th>\n",
       "      <th>INJSEV</th>\n",
       "      <th>MANUSE</th>\n",
       "      <th>OCCNO</th>\n",
       "      <th>ROLE</th>\n",
       "      <th>SEATPOS</th>\n",
       "      <th>SEX</th>\n",
       "      <th>WEIGHT</th>\n",
       "      <th>HOSPSTAY</th>\n",
       "      <th>TREATMNT</th>\n",
       "    </tr>\n",
       "  </thead>\n",
       "  <tbody>\n",
       "    <tr>\n",
       "      <th>0</th>\n",
       "      <td>1H</td>\n",
       "      <td>2</td>\n",
       "      <td>2004</td>\n",
       "      <td>20.00</td>\n",
       "      <td>1.00</td>\n",
       "      <td>0.00</td>\n",
       "      <td>178.00</td>\n",
       "      <td>0.00</td>\n",
       "      <td>4.00</td>\n",
       "      <td>1.00</td>\n",
       "      <td>1.00</td>\n",
       "      <td>11.00</td>\n",
       "      <td>1.00</td>\n",
       "      <td>73.00</td>\n",
       "      <td>0.00</td>\n",
       "      <td>0.00</td>\n",
       "    </tr>\n",
       "    <tr>\n",
       "      <th>1</th>\n",
       "      <td>2K</td>\n",
       "      <td>2</td>\n",
       "      <td>2004</td>\n",
       "      <td>69.00</td>\n",
       "      <td>1.00</td>\n",
       "      <td>0.00</td>\n",
       "      <td>178.00</td>\n",
       "      <td>1.00</td>\n",
       "      <td>4.00</td>\n",
       "      <td>1.00</td>\n",
       "      <td>1.00</td>\n",
       "      <td>11.00</td>\n",
       "      <td>1.00</td>\n",
       "      <td>86.00</td>\n",
       "      <td>0.00</td>\n",
       "      <td>4.00</td>\n",
       "    </tr>\n",
       "    <tr>\n",
       "      <th>2</th>\n",
       "      <td>2K</td>\n",
       "      <td>2</td>\n",
       "      <td>2004</td>\n",
       "      <td>69.00</td>\n",
       "      <td>1.00</td>\n",
       "      <td>0.00</td>\n",
       "      <td>168.00</td>\n",
       "      <td>1.00</td>\n",
       "      <td>4.00</td>\n",
       "      <td>2.00</td>\n",
       "      <td>2.00</td>\n",
       "      <td>13.00</td>\n",
       "      <td>2.00</td>\n",
       "      <td>68.00</td>\n",
       "      <td>7.00</td>\n",
       "      <td>3.00</td>\n",
       "    </tr>\n",
       "    <tr>\n",
       "      <th>3</th>\n",
       "      <td>2K</td>\n",
       "      <td>2</td>\n",
       "      <td>2004</td>\n",
       "      <td>18.00</td>\n",
       "      <td>1.00</td>\n",
       "      <td>0.00</td>\n",
       "      <td>NaN</td>\n",
       "      <td>3.00</td>\n",
       "      <td>4.00</td>\n",
       "      <td>1.00</td>\n",
       "      <td>1.00</td>\n",
       "      <td>11.00</td>\n",
       "      <td>1.00</td>\n",
       "      <td>NaN</td>\n",
       "      <td>2.00</td>\n",
       "      <td>3.00</td>\n",
       "    </tr>\n",
       "    <tr>\n",
       "      <th>4</th>\n",
       "      <td>2K</td>\n",
       "      <td>2</td>\n",
       "      <td>2004</td>\n",
       "      <td>34.00</td>\n",
       "      <td>1.00</td>\n",
       "      <td>0.00</td>\n",
       "      <td>NaN</td>\n",
       "      <td>3.00</td>\n",
       "      <td>4.00</td>\n",
       "      <td>2.00</td>\n",
       "      <td>2.00</td>\n",
       "      <td>13.00</td>\n",
       "      <td>1.00</td>\n",
       "      <td>NaN</td>\n",
       "      <td>2.00</td>\n",
       "      <td>3.00</td>\n",
       "    </tr>\n",
       "  </tbody>\n",
       "</table>\n",
       "</div>"
      ],
      "text/plain": [
       "  CASEID  PSU  YEAR   AGE  BAGAVAIL  CHTYPE  HEIGHT  INJSEV  MANUSE  OCCNO  \\\n",
       "0     1H    2  2004 20.00      1.00    0.00  178.00    0.00    4.00   1.00   \n",
       "1     2K    2  2004 69.00      1.00    0.00  178.00    1.00    4.00   1.00   \n",
       "2     2K    2  2004 69.00      1.00    0.00  168.00    1.00    4.00   2.00   \n",
       "3     2K    2  2004 18.00      1.00    0.00     NaN    3.00    4.00   1.00   \n",
       "4     2K    2  2004 34.00      1.00    0.00     NaN    3.00    4.00   2.00   \n",
       "\n",
       "   ROLE  SEATPOS  SEX  WEIGHT  HOSPSTAY  TREATMNT  \n",
       "0  1.00    11.00 1.00   73.00      0.00      0.00  \n",
       "1  1.00    11.00 1.00   86.00      0.00      4.00  \n",
       "2  2.00    13.00 2.00   68.00      7.00      3.00  \n",
       "3  1.00    11.00 1.00     NaN      2.00      3.00  \n",
       "4  2.00    13.00 1.00     NaN      2.00      3.00  "
      ]
     },
     "execution_count": 66,
     "metadata": {},
     "output_type": "execute_result"
    }
   ],
   "source": [
    "occupants.head()"
   ]
  },
  {
   "cell_type": "code",
   "execution_count": 67,
   "id": "5ec715da",
   "metadata": {},
   "outputs": [
    {
     "data": {
      "text/plain": [
       "0"
      ]
     },
     "execution_count": 67,
     "metadata": {},
     "output_type": "execute_result"
    }
   ],
   "source": [
    "occupants.duplicated().sum()"
   ]
  },
  {
   "cell_type": "code",
   "execution_count": 68,
   "id": "731dbf25",
   "metadata": {},
   "outputs": [
    {
     "data": {
      "text/plain": [
       "(110758, 16)"
      ]
     },
     "execution_count": 68,
     "metadata": {},
     "output_type": "execute_result"
    }
   ],
   "source": [
    "occupants.shape"
   ]
  },
  {
   "cell_type": "code",
   "execution_count": 69,
   "id": "6491d28c",
   "metadata": {},
   "outputs": [],
   "source": [
    "vehicles= uber[['CASEID', 'PSU','YEAR','BODYTYPE', 'MAKE' , 'DVTOTAL','MODELYR']]"
   ]
  },
  {
   "cell_type": "code",
   "execution_count": 70,
   "id": "11619b44",
   "metadata": {},
   "outputs": [
    {
     "data": {
      "text/plain": [
       "(2716427, 7)"
      ]
     },
     "execution_count": 70,
     "metadata": {},
     "output_type": "execute_result"
    }
   ],
   "source": [
    "vehicles.shape"
   ]
  },
  {
   "cell_type": "code",
   "execution_count": 71,
   "id": "973430a0",
   "metadata": {},
   "outputs": [
    {
     "name": "stderr",
     "output_type": "stream",
     "text": [
      "C:\\Users\\ela\\AppData\\Local\\Temp\\ipykernel_5820\\1110924876.py:1: SettingWithCopyWarning: \n",
      "A value is trying to be set on a copy of a slice from a DataFrame\n",
      "\n",
      "See the caveats in the documentation: https://pandas.pydata.org/pandas-docs/stable/user_guide/indexing.html#returning-a-view-versus-a-copy\n",
      "  vehicles.drop_duplicates(subset=['CASEID', 'PSU','YEAR','BODYTYPE', 'MAKE' , 'DVTOTAL','MODELYR'],inplace=True, ignore_index=True)\n"
     ]
    }
   ],
   "source": [
    "vehicles.drop_duplicates(subset=['CASEID', 'PSU','YEAR','BODYTYPE', 'MAKE' , 'DVTOTAL','MODELYR'],inplace=True, ignore_index=True)"
   ]
  },
  {
   "cell_type": "code",
   "execution_count": 72,
   "id": "adb37fa4",
   "metadata": {},
   "outputs": [
    {
     "data": {
      "text/plain": [
       "(94598, 7)"
      ]
     },
     "execution_count": 72,
     "metadata": {},
     "output_type": "execute_result"
    }
   ],
   "source": [
    "vehicles.shape"
   ]
  },
  {
   "cell_type": "code",
   "execution_count": 73,
   "id": "ffe5a63e",
   "metadata": {},
   "outputs": [],
   "source": [
    "accidents = uber[['CASEID', 'PSU','YEAR', 'STRATIF']]"
   ]
  },
  {
   "cell_type": "code",
   "execution_count": 74,
   "id": "0fbae7e9",
   "metadata": {},
   "outputs": [
    {
     "name": "stderr",
     "output_type": "stream",
     "text": [
      "C:\\Users\\ela\\AppData\\Local\\Temp\\ipykernel_5820\\2693818806.py:1: SettingWithCopyWarning: \n",
      "A value is trying to be set on a copy of a slice from a DataFrame\n",
      "\n",
      "See the caveats in the documentation: https://pandas.pydata.org/pandas-docs/stable/user_guide/indexing.html#returning-a-view-versus-a-copy\n",
      "  accidents.drop_duplicates(subset=['CASEID', 'PSU','YEAR', 'STRATIF'], inplace =True, ignore_index=True)\n"
     ]
    }
   ],
   "source": [
    "accidents.drop_duplicates(subset=['CASEID', 'PSU','YEAR', 'STRATIF'], inplace =True, ignore_index=True)"
   ]
  },
  {
   "cell_type": "code",
   "execution_count": 21,
   "id": "d4d7d4ac",
   "metadata": {},
   "outputs": [],
   "source": [
    "#occupants.to_csv(\"./occupants.csv\", index = False)\n",
    "#accidents.to_csv(\"./accidents.csv\", index = False)\n",
    "#vehicles.to_csv(\"./vehicles.csv\", index = False)"
   ]
  },
  {
   "cell_type": "code",
   "execution_count": 75,
   "id": "df6dc4f9",
   "metadata": {},
   "outputs": [
    {
     "data": {
      "text/plain": [
       "True"
      ]
     },
     "execution_count": 75,
     "metadata": {},
     "output_type": "execute_result"
    }
   ],
   "source": [
    "import math\n",
    "x = float('nan')\n",
    "math.isnan(x)"
   ]
  },
  {
   "cell_type": "code",
   "execution_count": 76,
   "id": "12805982",
   "metadata": {},
   "outputs": [],
   "source": [
    "#nowa kolumna kategoria dla manuse: 1 -niezapięte, 2 zapięte\n",
    "MANUSE_new=[]\n",
    "\n",
    "for i in occupants['MANUSE']:\n",
    "    if i>=0 and i<=1:\n",
    "        MANUSE_new.append(1)\n",
    "    elif i>=2 and i<=18:\n",
    "        MANUSE_new.append(2)\n",
    "    elif math.isnan(i):\n",
    "        MANUSE_new.append(None)\n"
   ]
  },
  {
   "cell_type": "code",
   "execution_count": 77,
   "id": "bc26a747",
   "metadata": {},
   "outputs": [
    {
     "name": "stderr",
     "output_type": "stream",
     "text": [
      "C:\\Users\\ela\\AppData\\Local\\Temp\\ipykernel_5820\\3623112559.py:1: SettingWithCopyWarning: \n",
      "A value is trying to be set on a copy of a slice from a DataFrame.\n",
      "Try using .loc[row_indexer,col_indexer] = value instead\n",
      "\n",
      "See the caveats in the documentation: https://pandas.pydata.org/pandas-docs/stable/user_guide/indexing.html#returning-a-view-versus-a-copy\n",
      "  occupants['MANUSE'] = MANUSE_new\n"
     ]
    }
   ],
   "source": [
    "occupants['MANUSE'] = MANUSE_new"
   ]
  },
  {
   "cell_type": "code",
   "execution_count": 78,
   "id": "e04a6652",
   "metadata": {},
   "outputs": [
    {
     "data": {
      "text/plain": [
       "2.00    59837\n",
       "1.00    16332\n",
       "Name: MANUSE, dtype: int64"
      ]
     },
     "execution_count": 78,
     "metadata": {},
     "output_type": "execute_result"
    }
   ],
   "source": [
    "occupants['MANUSE'].value_counts()"
   ]
  },
  {
   "cell_type": "code",
   "execution_count": 79,
   "id": "269e2762",
   "metadata": {},
   "outputs": [
    {
     "data": {
      "text/plain": [
       "0.00    40281\n",
       "3.00    22707\n",
       "1.00    22706\n",
       "2.00    16488\n",
       "4.00     4285\n",
       "5.00     1969\n",
       "6.00        8\n",
       "Name: INJSEV, dtype: int64"
      ]
     },
     "execution_count": 79,
     "metadata": {},
     "output_type": "execute_result"
    }
   ],
   "source": [
    "occupants['INJSEV'].value_counts()"
   ]
  },
  {
   "cell_type": "code",
   "execution_count": 80,
   "id": "ea127cd5",
   "metadata": {},
   "outputs": [],
   "source": [
    "#INJSEV – OK?  Zmienić dla U Severity Unk bo jest 5 , a wszystkie inne liczby rosną wraz ze wzrostem ciężkości obrażeń\n",
    "\n",
    "INJSEV_new=[]\n",
    "\n",
    "for i in occupants['INJSEV']:\n",
    "    if i==0:\n",
    "        INJSEV_new.append(0)\n",
    "    if i==1:\n",
    "        INJSEV_new.append(1)   \n",
    "    if i==2:\n",
    "        INJSEV_new.append(2)\n",
    "    if i==3:\n",
    "        INJSEV_new.append(3)\n",
    "    if i==4:\n",
    "        INJSEV_new.append(4)\n",
    "    if i==5:\n",
    "        INJSEV_new.append(None)\n",
    "    if i==6:\n",
    "        INJSEV_new.append(6)\n",
    "    elif math.isnan(i):\n",
    "        INJSEV_new.append(None)"
   ]
  },
  {
   "cell_type": "code",
   "execution_count": 81,
   "id": "08d4a6aa",
   "metadata": {},
   "outputs": [
    {
     "name": "stderr",
     "output_type": "stream",
     "text": [
      "C:\\Users\\ela\\AppData\\Local\\Temp\\ipykernel_5820\\638915056.py:1: SettingWithCopyWarning: \n",
      "A value is trying to be set on a copy of a slice from a DataFrame.\n",
      "Try using .loc[row_indexer,col_indexer] = value instead\n",
      "\n",
      "See the caveats in the documentation: https://pandas.pydata.org/pandas-docs/stable/user_guide/indexing.html#returning-a-view-versus-a-copy\n",
      "  occupants['INJSEV'] = INJSEV_new\n"
     ]
    }
   ],
   "source": [
    "occupants['INJSEV'] = INJSEV_new"
   ]
  },
  {
   "cell_type": "code",
   "execution_count": 82,
   "id": "1689b120",
   "metadata": {},
   "outputs": [
    {
     "data": {
      "text/plain": [
       "0.00    40281\n",
       "3.00    22707\n",
       "1.00    22706\n",
       "2.00    16488\n",
       "4.00     4285\n",
       "6.00        8\n",
       "Name: INJSEV, dtype: int64"
      ]
     },
     "execution_count": 82,
     "metadata": {},
     "output_type": "execute_result"
    }
   ],
   "source": [
    "occupants['INJSEV'].value_counts()"
   ]
  },
  {
   "cell_type": "code",
   "execution_count": 83,
   "id": "45b24422",
   "metadata": {},
   "outputs": [],
   "source": [
    "AGE_new=[]\n",
    "\n",
    "for i in occupants['AGE']:\n",
    "    if i>=0 and i<=3:\n",
    "        AGE_new.append(1)\n",
    "    elif i>=4 and i<=10:\n",
    "        AGE_new.append(2)\n",
    "    elif i>=11 and i<=20:\n",
    "        AGE_new.append(3)\n",
    "    elif i>=21 and i<=30:\n",
    "        AGE_new.append(4)\n",
    "    elif i>=31 and i<=50:\n",
    "        AGE_new.append(5)\n",
    "    elif i>=51 and i<=70:\n",
    "        AGE_new.append(6)\n",
    "    elif i>=71:\n",
    "        AGE_new.append(7)\n",
    "    elif math.isnan(i):\n",
    "        AGE_new.append(None)"
   ]
  },
  {
   "cell_type": "code",
   "execution_count": 84,
   "id": "21b08fb3",
   "metadata": {},
   "outputs": [
    {
     "name": "stderr",
     "output_type": "stream",
     "text": [
      "C:\\Users\\ela\\AppData\\Local\\Temp\\ipykernel_5820\\1304849800.py:1: SettingWithCopyWarning: \n",
      "A value is trying to be set on a copy of a slice from a DataFrame.\n",
      "Try using .loc[row_indexer,col_indexer] = value instead\n",
      "\n",
      "See the caveats in the documentation: https://pandas.pydata.org/pandas-docs/stable/user_guide/indexing.html#returning-a-view-versus-a-copy\n",
      "  occupants['AGE']=AGE_new\n"
     ]
    }
   ],
   "source": [
    "occupants['AGE']=AGE_new"
   ]
  },
  {
   "cell_type": "code",
   "execution_count": 85,
   "id": "25a3632d",
   "metadata": {},
   "outputs": [
    {
     "data": {
      "text/plain": [
       "5.00    29778\n",
       "4.00    27852\n",
       "3.00    21348\n",
       "6.00    16280\n",
       "7.00     5423\n",
       "2.00     4313\n",
       "1.00     2833\n",
       "Name: AGE, dtype: int64"
      ]
     },
     "execution_count": 85,
     "metadata": {},
     "output_type": "execute_result"
    }
   ],
   "source": [
    "occupants['AGE'].value_counts()"
   ]
  },
  {
   "cell_type": "code",
   "execution_count": 86,
   "id": "88625c4f",
   "metadata": {},
   "outputs": [],
   "source": [
    "#HEIGHT – 0-80 niemowlęta, 81-130, 130- 165, 165-180, 181-199, 200-219, 220\n",
    "\n",
    "HEIGHT_new=[]\n",
    "for i in occupants['HEIGHT']:\n",
    "    if i>=0 and i<=80:\n",
    "        HEIGHT_new.append(1)\n",
    "    elif i>=81 and i<=130:\n",
    "        HEIGHT_new.append(2)\n",
    "    elif i>=131 and i<=165:\n",
    "        HEIGHT_new.append(3)\n",
    "    elif i>=166 and i<=180:\n",
    "        HEIGHT_new.append(4)\n",
    "    elif i>=181 and i<=199:\n",
    "        HEIGHT_new.append(5)\n",
    "    elif i>=200 and i<=219:\n",
    "        HEIGHT_new.append(6)\n",
    "    elif i>=220:\n",
    "        HEIGHT_new.append(7)\n",
    "    elif math.isnan(i):\n",
    "        HEIGHT_new.append(None)"
   ]
  },
  {
   "cell_type": "code",
   "execution_count": 87,
   "id": "a507dc35",
   "metadata": {},
   "outputs": [
    {
     "name": "stderr",
     "output_type": "stream",
     "text": [
      "C:\\Users\\ela\\AppData\\Local\\Temp\\ipykernel_5820\\748303531.py:1: SettingWithCopyWarning: \n",
      "A value is trying to be set on a copy of a slice from a DataFrame.\n",
      "Try using .loc[row_indexer,col_indexer] = value instead\n",
      "\n",
      "See the caveats in the documentation: https://pandas.pydata.org/pandas-docs/stable/user_guide/indexing.html#returning-a-view-versus-a-copy\n",
      "  occupants['HEIGHT'] = HEIGHT_new\n"
     ]
    }
   ],
   "source": [
    "occupants['HEIGHT'] = HEIGHT_new"
   ]
  },
  {
   "cell_type": "code",
   "execution_count": 88,
   "id": "1a2215f7",
   "metadata": {},
   "outputs": [
    {
     "data": {
      "text/plain": [
       "4.00    32356\n",
       "3.00    23739\n",
       "5.00    11062\n",
       "2.00     2577\n",
       "1.00     1104\n",
       "6.00      106\n",
       "Name: HEIGHT, dtype: int64"
      ]
     },
     "execution_count": 88,
     "metadata": {},
     "output_type": "execute_result"
    }
   ],
   "source": [
    "occupants['HEIGHT'].value_counts()"
   ]
  },
  {
   "cell_type": "code",
   "execution_count": 89,
   "id": "4b5c4aa8",
   "metadata": {},
   "outputs": [
    {
     "data": {
      "text/plain": [
       "0.00     69772\n",
       "1.00      3670\n",
       "2.00      1868\n",
       "3.00      1466\n",
       "4.00      1149\n",
       "         ...  \n",
       "46.00        4\n",
       "43.00        3\n",
       "57.00        2\n",
       "53.00        2\n",
       "59.00        2\n",
       "Name: HOSPSTAY, Length: 61, dtype: int64"
      ]
     },
     "execution_count": 89,
     "metadata": {},
     "output_type": "execute_result"
    }
   ],
   "source": [
    "occupants['HOSPSTAY'].value_counts()"
   ]
  },
  {
   "cell_type": "code",
   "execution_count": 90,
   "id": "d6c270d4",
   "metadata": {},
   "outputs": [],
   "source": [
    "#HOPSTAY 0-7, 8-14, 15-28, 29-60, 61\n",
    "\n",
    "HOSPSTAY_new=[]\n",
    "for i in occupants['HOSPSTAY']:\n",
    "    if i>=0 and i<=7:\n",
    "        HOSPSTAY_new.append(1)\n",
    "    elif i>=8 and i<=14:\n",
    "        HOSPSTAY_new.append(2)\n",
    "    elif i>=15 and i<=28:\n",
    "        HOSPSTAY_new.append(3)\n",
    "    elif i>=29 and i<=60:\n",
    "        HOSPSTAY_new.append(4)\n",
    "    elif i>=61:\n",
    "        HOSPSTAY_new.append(5)\n",
    "    elif math.isnan(i):\n",
    "        HOSPSTAY_new.append(None)"
   ]
  },
  {
   "cell_type": "code",
   "execution_count": 91,
   "id": "cf87ed99",
   "metadata": {},
   "outputs": [
    {
     "name": "stderr",
     "output_type": "stream",
     "text": [
      "C:\\Users\\ela\\AppData\\Local\\Temp\\ipykernel_5820\\2366499334.py:1: SettingWithCopyWarning: \n",
      "A value is trying to be set on a copy of a slice from a DataFrame.\n",
      "Try using .loc[row_indexer,col_indexer] = value instead\n",
      "\n",
      "See the caveats in the documentation: https://pandas.pydata.org/pandas-docs/stable/user_guide/indexing.html#returning-a-view-versus-a-copy\n",
      "  occupants['HOSPSTAY'] = HOSPSTAY_new\n"
     ]
    }
   ],
   "source": [
    "occupants['HOSPSTAY'] = HOSPSTAY_new"
   ]
  },
  {
   "cell_type": "code",
   "execution_count": 92,
   "id": "5b3319c0",
   "metadata": {},
   "outputs": [
    {
     "data": {
      "text/plain": [
       "1.00    80022\n",
       "2.00     1785\n",
       "3.00      955\n",
       "4.00      367\n",
       "5.00       43\n",
       "Name: HOSPSTAY, dtype: int64"
      ]
     },
     "execution_count": 92,
     "metadata": {},
     "output_type": "execute_result"
    }
   ],
   "source": [
    "occupants['HOSPSTAY'].value_counts()"
   ]
  },
  {
   "cell_type": "code",
   "execution_count": 93,
   "id": "cab69d43",
   "metadata": {},
   "outputs": [
    {
     "data": {
      "text/plain": [
       "1.00    59509\n",
       "2.00    48754\n",
       "4.00      286\n",
       "5.00      276\n",
       "3.00      213\n",
       "6.00       51\n",
       "Name: SEX, dtype: int64"
      ]
     },
     "execution_count": 93,
     "metadata": {},
     "output_type": "execute_result"
    }
   ],
   "source": [
    "occupants['SEX'].value_counts()"
   ]
  },
  {
   "cell_type": "code",
   "execution_count": 94,
   "id": "745d8af0",
   "metadata": {},
   "outputs": [],
   "source": [
    "#SEX ok, tylko wszystkie ciężarne wrzucić do jednej liczby – potem pokazać jakie miejsca są dla nich najbezpieczniejsze\n",
    "# 0- mężczyźni, 1 - kobiety, 2 - kobiety w ciąży\n",
    "\n",
    "SEX_new=[]\n",
    "\n",
    "for i in occupants['SEX']:\n",
    "    if i==1:\n",
    "        SEX_new.append(0)\n",
    "    elif i==2:\n",
    "        SEX_new.append(1)\n",
    "    elif i==3:\n",
    "        SEX_new.append(2)\n",
    "    elif i==4:\n",
    "        SEX_new.append(2)\n",
    "    elif i==5:\n",
    "        SEX_new.append(2)\n",
    "    elif i==6:\n",
    "        SEX_new.append(2)\n",
    "    elif math.isnan(i):\n",
    "        SEX_new.append(None)"
   ]
  },
  {
   "cell_type": "code",
   "execution_count": 95,
   "id": "a35632ca",
   "metadata": {},
   "outputs": [
    {
     "name": "stderr",
     "output_type": "stream",
     "text": [
      "C:\\Users\\ela\\AppData\\Local\\Temp\\ipykernel_5820\\2239415670.py:1: SettingWithCopyWarning: \n",
      "A value is trying to be set on a copy of a slice from a DataFrame.\n",
      "Try using .loc[row_indexer,col_indexer] = value instead\n",
      "\n",
      "See the caveats in the documentation: https://pandas.pydata.org/pandas-docs/stable/user_guide/indexing.html#returning-a-view-versus-a-copy\n",
      "  occupants['SEX'] = SEX_new\n"
     ]
    }
   ],
   "source": [
    "occupants['SEX'] = SEX_new"
   ]
  },
  {
   "cell_type": "code",
   "execution_count": 96,
   "id": "7f8f8769",
   "metadata": {},
   "outputs": [
    {
     "data": {
      "text/plain": [
       "0.00    59509\n",
       "1.00    48754\n",
       "2.00      826\n",
       "Name: SEX, dtype: int64"
      ]
     },
     "execution_count": 96,
     "metadata": {},
     "output_type": "execute_result"
    }
   ],
   "source": [
    "occupants['SEX'].value_counts()"
   ]
  },
  {
   "cell_type": "code",
   "execution_count": 97,
   "id": "d0891690",
   "metadata": {},
   "outputs": [
    {
     "data": {
      "text/plain": [
       "68.00     4258\n",
       "73.00     4074\n",
       "82.00     3924\n",
       "64.00     3657\n",
       "91.00     3359\n",
       "          ... \n",
       "148.00       8\n",
       "133.00       7\n",
       "144.00       6\n",
       "149.00       5\n",
       "146.00       2\n",
       "Name: WEIGHT, Length: 148, dtype: int64"
      ]
     },
     "execution_count": 97,
     "metadata": {},
     "output_type": "execute_result"
    }
   ],
   "source": [
    "occupants['WEIGHT'].value_counts()"
   ]
  },
  {
   "cell_type": "code",
   "execution_count": 98,
   "id": "cdcf8993",
   "metadata": {},
   "outputs": [],
   "source": [
    "WEIGHT_new=[]\n",
    "\n",
    "for i in occupants['WEIGHT']:\n",
    "    if i>=0 and i<=15:\n",
    "        WEIGHT_new.append(1)\n",
    "    elif i>=16 and i<=45:\n",
    "        WEIGHT_new.append(2)\n",
    "    elif i>=46 and i<=60:\n",
    "        WEIGHT_new.append(3)\n",
    "    elif i>=61 and i<=80:\n",
    "        WEIGHT_new.append(4)\n",
    "    elif i>=81 and i<=100:\n",
    "        WEIGHT_new.append(5)\n",
    "    elif i>=101 and i<=149:\n",
    "        WEIGHT_new.append(6)\n",
    "    elif i>=150:\n",
    "        WEIGHT_new.append(7)\n",
    "    elif math.isnan(i):\n",
    "        WEIGHT_new.append(None)"
   ]
  },
  {
   "cell_type": "code",
   "execution_count": 99,
   "id": "8ec20230",
   "metadata": {},
   "outputs": [
    {
     "name": "stderr",
     "output_type": "stream",
     "text": [
      "C:\\Users\\ela\\AppData\\Local\\Temp\\ipykernel_5820\\707745857.py:1: SettingWithCopyWarning: \n",
      "A value is trying to be set on a copy of a slice from a DataFrame.\n",
      "Try using .loc[row_indexer,col_indexer] = value instead\n",
      "\n",
      "See the caveats in the documentation: https://pandas.pydata.org/pandas-docs/stable/user_guide/indexing.html#returning-a-view-versus-a-copy\n",
      "  occupants['WEIGHT'] = WEIGHT_new\n"
     ]
    }
   ],
   "source": [
    "occupants['WEIGHT'] = WEIGHT_new"
   ]
  },
  {
   "cell_type": "code",
   "execution_count": 100,
   "id": "e04fdc9d",
   "metadata": {},
   "outputs": [
    {
     "data": {
      "text/plain": [
       "4.00    27988\n",
       "5.00    18833\n",
       "3.00    12264\n",
       "6.00     6991\n",
       "2.00     4586\n",
       "1.00     1514\n",
       "7.00      359\n",
       "Name: WEIGHT, dtype: int64"
      ]
     },
     "execution_count": 100,
     "metadata": {},
     "output_type": "execute_result"
    }
   ],
   "source": [
    "occupants['WEIGHT'].value_counts()"
   ]
  },
  {
   "cell_type": "code",
   "execution_count": 101,
   "id": "b7e9bba4",
   "metadata": {},
   "outputs": [
    {
     "data": {
      "text/plain": [
       "1.00    59124\n",
       "0.00    20252\n",
       "3.00      188\n",
       "2.00      142\n",
       "Name: BAGAVAIL, dtype: int64"
      ]
     },
     "execution_count": 101,
     "metadata": {},
     "output_type": "execute_result"
    }
   ],
   "source": [
    "occupants['BAGAVAIL'].value_counts()"
   ]
  },
  {
   "cell_type": "code",
   "execution_count": 102,
   "id": "705cb482",
   "metadata": {},
   "outputs": [],
   "source": [
    "#BAGAVAIL – zmiana na 0 -nie było poduszki, 1- była , reszta do przepisania na 0\n",
    "\n",
    "BAGAVAIL_new=[]\n",
    "for i in occupants['BAGAVAIL']:\n",
    "    if i==0:\n",
    "        BAGAVAIL_new.append(0)\n",
    "    elif i==1:\n",
    "        BAGAVAIL_new.append(1)\n",
    "    elif i>=2 and i<=3:\n",
    "        BAGAVAIL_new.append(0)\n",
    "    elif math.isnan(i):\n",
    "        BAGAVAIL_new.append(None)"
   ]
  },
  {
   "cell_type": "code",
   "execution_count": 103,
   "id": "ababe923",
   "metadata": {},
   "outputs": [
    {
     "name": "stderr",
     "output_type": "stream",
     "text": [
      "C:\\Users\\ela\\AppData\\Local\\Temp\\ipykernel_5820\\2704286954.py:1: SettingWithCopyWarning: \n",
      "A value is trying to be set on a copy of a slice from a DataFrame.\n",
      "Try using .loc[row_indexer,col_indexer] = value instead\n",
      "\n",
      "See the caveats in the documentation: https://pandas.pydata.org/pandas-docs/stable/user_guide/indexing.html#returning-a-view-versus-a-copy\n",
      "  occupants['BAGAVAIL'] = BAGAVAIL_new\n"
     ]
    }
   ],
   "source": [
    "occupants['BAGAVAIL'] = BAGAVAIL_new"
   ]
  },
  {
   "cell_type": "code",
   "execution_count": 104,
   "id": "bc08e100",
   "metadata": {},
   "outputs": [
    {
     "data": {
      "text/plain": [
       "1.00    59124\n",
       "0.00    20582\n",
       "Name: BAGAVAIL, dtype: int64"
      ]
     },
     "execution_count": 104,
     "metadata": {},
     "output_type": "execute_result"
    }
   ],
   "source": [
    "occupants['BAGAVAIL'].value_counts()"
   ]
  },
  {
   "cell_type": "code",
   "execution_count": 105,
   "id": "b465032f",
   "metadata": {},
   "outputs": [],
   "source": [
    "occupants.to_csv(\"./occupants_cat.csv\", index = False)"
   ]
  },
  {
   "cell_type": "code",
   "execution_count": null,
   "id": "0e0afe1d",
   "metadata": {},
   "outputs": [],
   "source": []
  }
 ],
 "metadata": {
  "kernelspec": {
   "display_name": "Python 3 (ipykernel)",
   "language": "python",
   "name": "python3"
  },
  "language_info": {
   "codemirror_mode": {
    "name": "ipython",
    "version": 3
   },
   "file_extension": ".py",
   "mimetype": "text/x-python",
   "name": "python",
   "nbconvert_exporter": "python",
   "pygments_lexer": "ipython3",
   "version": "3.9.12"
  }
 },
 "nbformat": 4,
 "nbformat_minor": 5
}
