{
 "cells": [
  {
   "cell_type": "code",
   "execution_count": 1,
   "id": "edfe4db6",
   "metadata": {},
   "outputs": [],
   "source": [
    "import numpy as np\n",
    "import pandas as pd\n",
    "import matplotlib.pyplot as plt\n",
    "import seaborn as sns"
   ]
  },
  {
   "cell_type": "code",
   "execution_count": 2,
   "id": "be7047b8",
   "metadata": {},
   "outputs": [],
   "source": [
    "uber = pd.read_csv('uber.csv', low_memory=False)\n",
    "pd.set_option('display.float_format', '{:.2f}'.format) # --- > by usunac e+06 itd"
   ]
  },
  {
   "cell_type": "code",
   "execution_count": 3,
   "id": "dc55e1ad",
   "metadata": {
    "collapsed": true
   },
   "outputs": [
    {
     "data": {
      "text/html": [
       "<div>\n",
       "<style scoped>\n",
       "    .dataframe tbody tr th:only-of-type {\n",
       "        vertical-align: middle;\n",
       "    }\n",
       "\n",
       "    .dataframe tbody tr th {\n",
       "        vertical-align: top;\n",
       "    }\n",
       "\n",
       "    .dataframe thead th {\n",
       "        text-align: right;\n",
       "    }\n",
       "</style>\n",
       "<table border=\"1\" class=\"dataframe\">\n",
       "  <thead>\n",
       "    <tr style=\"text-align: right;\">\n",
       "      <th></th>\n",
       "      <th>Column1</th>\n",
       "      <th>CASEID</th>\n",
       "      <th>DOF1</th>\n",
       "      <th>GAD1</th>\n",
       "      <th>PSU</th>\n",
       "      <th>YEAR</th>\n",
       "      <th>STRATIF</th>\n",
       "      <th>BODYTYPE</th>\n",
       "      <th>DVEST</th>\n",
       "      <th>DVBASIS</th>\n",
       "      <th>...</th>\n",
       "      <th>INJSEV</th>\n",
       "      <th>MANAVAIL</th>\n",
       "      <th>MANFAIL</th>\n",
       "      <th>MANUSE</th>\n",
       "      <th>OCCNO</th>\n",
       "      <th>ROLE</th>\n",
       "      <th>SEATPOS</th>\n",
       "      <th>SEX</th>\n",
       "      <th>TREATMNT</th>\n",
       "      <th>WEIGHT</th>\n",
       "    </tr>\n",
       "  </thead>\n",
       "  <tbody>\n",
       "    <tr>\n",
       "      <th>0</th>\n",
       "      <td>1</td>\n",
       "      <td>1H</td>\n",
       "      <td>NaN</td>\n",
       "      <td>F</td>\n",
       "      <td>2</td>\n",
       "      <td>2004</td>\n",
       "      <td>H</td>\n",
       "      <td>4.00</td>\n",
       "      <td>6.00</td>\n",
       "      <td>11.00</td>\n",
       "      <td>...</td>\n",
       "      <td>0.00</td>\n",
       "      <td>4.00</td>\n",
       "      <td>1.00</td>\n",
       "      <td>4.00</td>\n",
       "      <td>1.00</td>\n",
       "      <td>1.00</td>\n",
       "      <td>11.00</td>\n",
       "      <td>1.00</td>\n",
       "      <td>0.00</td>\n",
       "      <td>73.00</td>\n",
       "    </tr>\n",
       "    <tr>\n",
       "      <th>1</th>\n",
       "      <td>2</td>\n",
       "      <td>1H</td>\n",
       "      <td>NaN</td>\n",
       "      <td>F</td>\n",
       "      <td>2</td>\n",
       "      <td>2004</td>\n",
       "      <td>H</td>\n",
       "      <td>4.00</td>\n",
       "      <td>6.00</td>\n",
       "      <td>11.00</td>\n",
       "      <td>...</td>\n",
       "      <td>0.00</td>\n",
       "      <td>4.00</td>\n",
       "      <td>1.00</td>\n",
       "      <td>4.00</td>\n",
       "      <td>1.00</td>\n",
       "      <td>1.00</td>\n",
       "      <td>11.00</td>\n",
       "      <td>1.00</td>\n",
       "      <td>0.00</td>\n",
       "      <td>73.00</td>\n",
       "    </tr>\n",
       "    <tr>\n",
       "      <th>2</th>\n",
       "      <td>3</td>\n",
       "      <td>1H</td>\n",
       "      <td>NaN</td>\n",
       "      <td>F</td>\n",
       "      <td>2</td>\n",
       "      <td>2004</td>\n",
       "      <td>H</td>\n",
       "      <td>4.00</td>\n",
       "      <td>6.00</td>\n",
       "      <td>11.00</td>\n",
       "      <td>...</td>\n",
       "      <td>0.00</td>\n",
       "      <td>4.00</td>\n",
       "      <td>1.00</td>\n",
       "      <td>4.00</td>\n",
       "      <td>1.00</td>\n",
       "      <td>1.00</td>\n",
       "      <td>11.00</td>\n",
       "      <td>1.00</td>\n",
       "      <td>0.00</td>\n",
       "      <td>73.00</td>\n",
       "    </tr>\n",
       "    <tr>\n",
       "      <th>3</th>\n",
       "      <td>4</td>\n",
       "      <td>1H</td>\n",
       "      <td>NaN</td>\n",
       "      <td>F</td>\n",
       "      <td>2</td>\n",
       "      <td>2004</td>\n",
       "      <td>H</td>\n",
       "      <td>4.00</td>\n",
       "      <td>6.00</td>\n",
       "      <td>11.00</td>\n",
       "      <td>...</td>\n",
       "      <td>0.00</td>\n",
       "      <td>4.00</td>\n",
       "      <td>1.00</td>\n",
       "      <td>4.00</td>\n",
       "      <td>1.00</td>\n",
       "      <td>1.00</td>\n",
       "      <td>11.00</td>\n",
       "      <td>1.00</td>\n",
       "      <td>0.00</td>\n",
       "      <td>73.00</td>\n",
       "    </tr>\n",
       "    <tr>\n",
       "      <th>4</th>\n",
       "      <td>5</td>\n",
       "      <td>1H</td>\n",
       "      <td>NaN</td>\n",
       "      <td>F</td>\n",
       "      <td>2</td>\n",
       "      <td>2004</td>\n",
       "      <td>H</td>\n",
       "      <td>4.00</td>\n",
       "      <td>6.00</td>\n",
       "      <td>11.00</td>\n",
       "      <td>...</td>\n",
       "      <td>0.00</td>\n",
       "      <td>4.00</td>\n",
       "      <td>1.00</td>\n",
       "      <td>4.00</td>\n",
       "      <td>1.00</td>\n",
       "      <td>1.00</td>\n",
       "      <td>11.00</td>\n",
       "      <td>1.00</td>\n",
       "      <td>0.00</td>\n",
       "      <td>73.00</td>\n",
       "    </tr>\n",
       "    <tr>\n",
       "      <th>5</th>\n",
       "      <td>6</td>\n",
       "      <td>1H</td>\n",
       "      <td>NaN</td>\n",
       "      <td>F</td>\n",
       "      <td>2</td>\n",
       "      <td>2004</td>\n",
       "      <td>H</td>\n",
       "      <td>4.00</td>\n",
       "      <td>6.00</td>\n",
       "      <td>11.00</td>\n",
       "      <td>...</td>\n",
       "      <td>0.00</td>\n",
       "      <td>4.00</td>\n",
       "      <td>1.00</td>\n",
       "      <td>4.00</td>\n",
       "      <td>1.00</td>\n",
       "      <td>1.00</td>\n",
       "      <td>11.00</td>\n",
       "      <td>1.00</td>\n",
       "      <td>0.00</td>\n",
       "      <td>73.00</td>\n",
       "    </tr>\n",
       "    <tr>\n",
       "      <th>6</th>\n",
       "      <td>7</td>\n",
       "      <td>1H</td>\n",
       "      <td>NaN</td>\n",
       "      <td>F</td>\n",
       "      <td>2</td>\n",
       "      <td>2004</td>\n",
       "      <td>H</td>\n",
       "      <td>4.00</td>\n",
       "      <td>6.00</td>\n",
       "      <td>11.00</td>\n",
       "      <td>...</td>\n",
       "      <td>0.00</td>\n",
       "      <td>4.00</td>\n",
       "      <td>1.00</td>\n",
       "      <td>4.00</td>\n",
       "      <td>1.00</td>\n",
       "      <td>1.00</td>\n",
       "      <td>11.00</td>\n",
       "      <td>1.00</td>\n",
       "      <td>0.00</td>\n",
       "      <td>73.00</td>\n",
       "    </tr>\n",
       "    <tr>\n",
       "      <th>7</th>\n",
       "      <td>8</td>\n",
       "      <td>1H</td>\n",
       "      <td>NaN</td>\n",
       "      <td>F</td>\n",
       "      <td>2</td>\n",
       "      <td>2004</td>\n",
       "      <td>H</td>\n",
       "      <td>4.00</td>\n",
       "      <td>6.00</td>\n",
       "      <td>11.00</td>\n",
       "      <td>...</td>\n",
       "      <td>0.00</td>\n",
       "      <td>4.00</td>\n",
       "      <td>1.00</td>\n",
       "      <td>4.00</td>\n",
       "      <td>1.00</td>\n",
       "      <td>1.00</td>\n",
       "      <td>11.00</td>\n",
       "      <td>1.00</td>\n",
       "      <td>0.00</td>\n",
       "      <td>73.00</td>\n",
       "    </tr>\n",
       "    <tr>\n",
       "      <th>8</th>\n",
       "      <td>9</td>\n",
       "      <td>2K</td>\n",
       "      <td>11.00</td>\n",
       "      <td>F</td>\n",
       "      <td>2</td>\n",
       "      <td>2004</td>\n",
       "      <td>K</td>\n",
       "      <td>20.00</td>\n",
       "      <td>0.00</td>\n",
       "      <td>1.00</td>\n",
       "      <td>...</td>\n",
       "      <td>1.00</td>\n",
       "      <td>4.00</td>\n",
       "      <td>1.00</td>\n",
       "      <td>4.00</td>\n",
       "      <td>1.00</td>\n",
       "      <td>1.00</td>\n",
       "      <td>11.00</td>\n",
       "      <td>1.00</td>\n",
       "      <td>4.00</td>\n",
       "      <td>86.00</td>\n",
       "    </tr>\n",
       "    <tr>\n",
       "      <th>9</th>\n",
       "      <td>10</td>\n",
       "      <td>2K</td>\n",
       "      <td>11.00</td>\n",
       "      <td>F</td>\n",
       "      <td>2</td>\n",
       "      <td>2004</td>\n",
       "      <td>K</td>\n",
       "      <td>20.00</td>\n",
       "      <td>0.00</td>\n",
       "      <td>1.00</td>\n",
       "      <td>...</td>\n",
       "      <td>1.00</td>\n",
       "      <td>4.00</td>\n",
       "      <td>1.00</td>\n",
       "      <td>4.00</td>\n",
       "      <td>2.00</td>\n",
       "      <td>2.00</td>\n",
       "      <td>13.00</td>\n",
       "      <td>2.00</td>\n",
       "      <td>3.00</td>\n",
       "      <td>68.00</td>\n",
       "    </tr>\n",
       "    <tr>\n",
       "      <th>10</th>\n",
       "      <td>11</td>\n",
       "      <td>2K</td>\n",
       "      <td>11.00</td>\n",
       "      <td>F</td>\n",
       "      <td>2</td>\n",
       "      <td>2004</td>\n",
       "      <td>K</td>\n",
       "      <td>20.00</td>\n",
       "      <td>0.00</td>\n",
       "      <td>1.00</td>\n",
       "      <td>...</td>\n",
       "      <td>3.00</td>\n",
       "      <td>4.00</td>\n",
       "      <td>1.00</td>\n",
       "      <td>4.00</td>\n",
       "      <td>1.00</td>\n",
       "      <td>1.00</td>\n",
       "      <td>11.00</td>\n",
       "      <td>1.00</td>\n",
       "      <td>3.00</td>\n",
       "      <td>NaN</td>\n",
       "    </tr>\n",
       "  </tbody>\n",
       "</table>\n",
       "<p>11 rows × 32 columns</p>\n",
       "</div>"
      ],
      "text/plain": [
       "    Column1 CASEID  DOF1 GAD1  PSU  YEAR STRATIF  BODYTYPE  DVEST  DVBASIS  \\\n",
       "0         1     1H   NaN    F    2  2004       H      4.00   6.00    11.00   \n",
       "1         2     1H   NaN    F    2  2004       H      4.00   6.00    11.00   \n",
       "2         3     1H   NaN    F    2  2004       H      4.00   6.00    11.00   \n",
       "3         4     1H   NaN    F    2  2004       H      4.00   6.00    11.00   \n",
       "4         5     1H   NaN    F    2  2004       H      4.00   6.00    11.00   \n",
       "5         6     1H   NaN    F    2  2004       H      4.00   6.00    11.00   \n",
       "6         7     1H   NaN    F    2  2004       H      4.00   6.00    11.00   \n",
       "7         8     1H   NaN    F    2  2004       H      4.00   6.00    11.00   \n",
       "8         9     2K 11.00    F    2  2004       K     20.00   0.00     1.00   \n",
       "9        10     2K 11.00    F    2  2004       K     20.00   0.00     1.00   \n",
       "10       11     2K 11.00    F    2  2004       K     20.00   0.00     1.00   \n",
       "\n",
       "    ...  INJSEV  MANAVAIL  MANFAIL  MANUSE  OCCNO  ROLE  SEATPOS  SEX  \\\n",
       "0   ...    0.00      4.00     1.00    4.00   1.00  1.00    11.00 1.00   \n",
       "1   ...    0.00      4.00     1.00    4.00   1.00  1.00    11.00 1.00   \n",
       "2   ...    0.00      4.00     1.00    4.00   1.00  1.00    11.00 1.00   \n",
       "3   ...    0.00      4.00     1.00    4.00   1.00  1.00    11.00 1.00   \n",
       "4   ...    0.00      4.00     1.00    4.00   1.00  1.00    11.00 1.00   \n",
       "5   ...    0.00      4.00     1.00    4.00   1.00  1.00    11.00 1.00   \n",
       "6   ...    0.00      4.00     1.00    4.00   1.00  1.00    11.00 1.00   \n",
       "7   ...    0.00      4.00     1.00    4.00   1.00  1.00    11.00 1.00   \n",
       "8   ...    1.00      4.00     1.00    4.00   1.00  1.00    11.00 1.00   \n",
       "9   ...    1.00      4.00     1.00    4.00   2.00  2.00    13.00 2.00   \n",
       "10  ...    3.00      4.00     1.00    4.00   1.00  1.00    11.00 1.00   \n",
       "\n",
       "    TREATMNT  WEIGHT  \n",
       "0       0.00   73.00  \n",
       "1       0.00   73.00  \n",
       "2       0.00   73.00  \n",
       "3       0.00   73.00  \n",
       "4       0.00   73.00  \n",
       "5       0.00   73.00  \n",
       "6       0.00   73.00  \n",
       "7       0.00   73.00  \n",
       "8       4.00   86.00  \n",
       "9       3.00   68.00  \n",
       "10      3.00     NaN  \n",
       "\n",
       "[11 rows x 32 columns]"
      ]
     },
     "execution_count": 3,
     "metadata": {},
     "output_type": "execute_result"
    }
   ],
   "source": [
    "uber.head(11)"
   ]
  },
  {
   "cell_type": "code",
   "execution_count": 4,
   "id": "5626ec00",
   "metadata": {
    "collapsed": true
   },
   "outputs": [
    {
     "name": "stdout",
     "output_type": "stream",
     "text": [
      "<class 'pandas.core.frame.DataFrame'>\n",
      "RangeIndex: 2716427 entries, 0 to 2716426\n",
      "Data columns (total 32 columns):\n",
      " #   Column    Dtype  \n",
      "---  ------    -----  \n",
      " 0   Column1   int64  \n",
      " 1   CASEID    object \n",
      " 2   DOF1      float64\n",
      " 3   GAD1      object \n",
      " 4   PSU       int64  \n",
      " 5   YEAR      int64  \n",
      " 6   STRATIF   object \n",
      " 7   BODYTYPE  float64\n",
      " 8   DVEST     float64\n",
      " 9   DVBASIS   float64\n",
      " 10  DVTOTAL   float64\n",
      " 11  MAKE      float64\n",
      " 12  MODELYR   float64\n",
      " 13  AGE       float64\n",
      " 14  BAGAVAIL  float64\n",
      " 15  BAGDEPLY  float64\n",
      " 16  BAGFAIL   float64\n",
      " 17  CASENO    float64\n",
      " 18  CHTYPE    float64\n",
      " 19  DEATH     float64\n",
      " 20  HEIGHT    float64\n",
      " 21  HOSPSTAY  float64\n",
      " 22  INJSEV    float64\n",
      " 23  MANAVAIL  float64\n",
      " 24  MANFAIL   float64\n",
      " 25  MANUSE    float64\n",
      " 26  OCCNO     float64\n",
      " 27  ROLE      float64\n",
      " 28  SEATPOS   float64\n",
      " 29  SEX       float64\n",
      " 30  TREATMNT  float64\n",
      " 31  WEIGHT    float64\n",
      "dtypes: float64(26), int64(3), object(3)\n",
      "memory usage: 663.2+ MB\n"
     ]
    }
   ],
   "source": [
    "uber.info()"
   ]
  },
  {
   "cell_type": "code",
   "execution_count": 5,
   "id": "a7786ef8",
   "metadata": {
    "collapsed": true
   },
   "outputs": [
    {
     "data": {
      "text/html": [
       "<div>\n",
       "<style scoped>\n",
       "    .dataframe tbody tr th:only-of-type {\n",
       "        vertical-align: middle;\n",
       "    }\n",
       "\n",
       "    .dataframe tbody tr th {\n",
       "        vertical-align: top;\n",
       "    }\n",
       "\n",
       "    .dataframe thead th {\n",
       "        text-align: right;\n",
       "    }\n",
       "</style>\n",
       "<table border=\"1\" class=\"dataframe\">\n",
       "  <thead>\n",
       "    <tr style=\"text-align: right;\">\n",
       "      <th></th>\n",
       "      <th>Column1</th>\n",
       "      <th>DOF1</th>\n",
       "      <th>PSU</th>\n",
       "      <th>YEAR</th>\n",
       "      <th>BODYTYPE</th>\n",
       "      <th>DVEST</th>\n",
       "      <th>DVBASIS</th>\n",
       "      <th>DVTOTAL</th>\n",
       "      <th>MAKE</th>\n",
       "      <th>MODELYR</th>\n",
       "      <th>...</th>\n",
       "      <th>INJSEV</th>\n",
       "      <th>MANAVAIL</th>\n",
       "      <th>MANFAIL</th>\n",
       "      <th>MANUSE</th>\n",
       "      <th>OCCNO</th>\n",
       "      <th>ROLE</th>\n",
       "      <th>SEATPOS</th>\n",
       "      <th>SEX</th>\n",
       "      <th>TREATMNT</th>\n",
       "      <th>WEIGHT</th>\n",
       "    </tr>\n",
       "  </thead>\n",
       "  <tbody>\n",
       "    <tr>\n",
       "      <th>count</th>\n",
       "      <td>2716427.00</td>\n",
       "      <td>2417075.00</td>\n",
       "      <td>2716427.00</td>\n",
       "      <td>2716427.00</td>\n",
       "      <td>2713908.00</td>\n",
       "      <td>2222022.00</td>\n",
       "      <td>2626443.00</td>\n",
       "      <td>1625151.00</td>\n",
       "      <td>2705768.00</td>\n",
       "      <td>2703350.00</td>\n",
       "      <td>...</td>\n",
       "      <td>2666603.00</td>\n",
       "      <td>2305406.00</td>\n",
       "      <td>2035758.00</td>\n",
       "      <td>2220682.00</td>\n",
       "      <td>2716262.00</td>\n",
       "      <td>2716227.00</td>\n",
       "      <td>2526365.00</td>\n",
       "      <td>2684392.00</td>\n",
       "      <td>2384477.00</td>\n",
       "      <td>2061517.00</td>\n",
       "    </tr>\n",
       "    <tr>\n",
       "      <th>mean</th>\n",
       "      <td>1358214.00</td>\n",
       "      <td>12.49</td>\n",
       "      <td>46.40</td>\n",
       "      <td>2007.01</td>\n",
       "      <td>12.24</td>\n",
       "      <td>1.65</td>\n",
       "      <td>4.71</td>\n",
       "      <td>24.45</td>\n",
       "      <td>26.86</td>\n",
       "      <td>1999.71</td>\n",
       "      <td>...</td>\n",
       "      <td>1.41</td>\n",
       "      <td>3.87</td>\n",
       "      <td>0.79</td>\n",
       "      <td>3.58</td>\n",
       "      <td>1.59</td>\n",
       "      <td>1.36</td>\n",
       "      <td>13.52</td>\n",
       "      <td>1.49</td>\n",
       "      <td>2.36</td>\n",
       "      <td>72.57</td>\n",
       "    </tr>\n",
       "    <tr>\n",
       "      <th>std</th>\n",
       "      <td>784165.07</td>\n",
       "      <td>17.22</td>\n",
       "      <td>27.33</td>\n",
       "      <td>2.83</td>\n",
       "      <td>12.59</td>\n",
       "      <td>2.95</td>\n",
       "      <td>12.15</td>\n",
       "      <td>13.54</td>\n",
       "      <td>17.53</td>\n",
       "      <td>6.09</td>\n",
       "      <td>...</td>\n",
       "      <td>1.33</td>\n",
       "      <td>0.64</td>\n",
       "      <td>0.43</td>\n",
       "      <td>2.59</td>\n",
       "      <td>1.06</td>\n",
       "      <td>0.48</td>\n",
       "      <td>6.53</td>\n",
       "      <td>0.57</td>\n",
       "      <td>2.09</td>\n",
       "      <td>23.95</td>\n",
       "    </tr>\n",
       "    <tr>\n",
       "      <th>min</th>\n",
       "      <td>1.00</td>\n",
       "      <td>0.00</td>\n",
       "      <td>2.00</td>\n",
       "      <td>2004.00</td>\n",
       "      <td>1.00</td>\n",
       "      <td>0.00</td>\n",
       "      <td>0.00</td>\n",
       "      <td>0.00</td>\n",
       "      <td>1.00</td>\n",
       "      <td>1923.00</td>\n",
       "      <td>...</td>\n",
       "      <td>0.00</td>\n",
       "      <td>0.00</td>\n",
       "      <td>0.00</td>\n",
       "      <td>0.00</td>\n",
       "      <td>1.00</td>\n",
       "      <td>1.00</td>\n",
       "      <td>11.00</td>\n",
       "      <td>1.00</td>\n",
       "      <td>0.00</td>\n",
       "      <td>3.00</td>\n",
       "    </tr>\n",
       "    <tr>\n",
       "      <th>25%</th>\n",
       "      <td>679107.50</td>\n",
       "      <td>6.00</td>\n",
       "      <td>12.00</td>\n",
       "      <td>2005.00</td>\n",
       "      <td>4.00</td>\n",
       "      <td>0.00</td>\n",
       "      <td>1.00</td>\n",
       "      <td>15.00</td>\n",
       "      <td>12.00</td>\n",
       "      <td>1996.00</td>\n",
       "      <td>...</td>\n",
       "      <td>0.00</td>\n",
       "      <td>4.00</td>\n",
       "      <td>1.00</td>\n",
       "      <td>4.00</td>\n",
       "      <td>1.00</td>\n",
       "      <td>1.00</td>\n",
       "      <td>11.00</td>\n",
       "      <td>1.00</td>\n",
       "      <td>0.00</td>\n",
       "      <td>59.00</td>\n",
       "    </tr>\n",
       "    <tr>\n",
       "      <th>50%</th>\n",
       "      <td>1358214.00</td>\n",
       "      <td>11.00</td>\n",
       "      <td>48.00</td>\n",
       "      <td>2006.00</td>\n",
       "      <td>4.00</td>\n",
       "      <td>0.00</td>\n",
       "      <td>1.00</td>\n",
       "      <td>21.00</td>\n",
       "      <td>20.00</td>\n",
       "      <td>2000.00</td>\n",
       "      <td>...</td>\n",
       "      <td>1.00</td>\n",
       "      <td>4.00</td>\n",
       "      <td>1.00</td>\n",
       "      <td>4.00</td>\n",
       "      <td>1.00</td>\n",
       "      <td>1.00</td>\n",
       "      <td>11.00</td>\n",
       "      <td>1.00</td>\n",
       "      <td>3.00</td>\n",
       "      <td>73.00</td>\n",
       "    </tr>\n",
       "    <tr>\n",
       "      <th>75%</th>\n",
       "      <td>2037320.50</td>\n",
       "      <td>12.00</td>\n",
       "      <td>74.00</td>\n",
       "      <td>2009.00</td>\n",
       "      <td>15.00</td>\n",
       "      <td>0.00</td>\n",
       "      <td>4.00</td>\n",
       "      <td>30.00</td>\n",
       "      <td>37.00</td>\n",
       "      <td>2004.00</td>\n",
       "      <td>...</td>\n",
       "      <td>3.00</td>\n",
       "      <td>4.00</td>\n",
       "      <td>1.00</td>\n",
       "      <td>4.00</td>\n",
       "      <td>2.00</td>\n",
       "      <td>2.00</td>\n",
       "      <td>13.00</td>\n",
       "      <td>2.00</td>\n",
       "      <td>4.00</td>\n",
       "      <td>86.00</td>\n",
       "    </tr>\n",
       "    <tr>\n",
       "      <th>max</th>\n",
       "      <td>2716427.00</td>\n",
       "      <td>92.00</td>\n",
       "      <td>82.00</td>\n",
       "      <td>2015.00</td>\n",
       "      <td>97.00</td>\n",
       "      <td>8.00</td>\n",
       "      <td>98.00</td>\n",
       "      <td>166.00</td>\n",
       "      <td>98.00</td>\n",
       "      <td>2016.00</td>\n",
       "      <td>...</td>\n",
       "      <td>6.00</td>\n",
       "      <td>8.00</td>\n",
       "      <td>8.00</td>\n",
       "      <td>18.00</td>\n",
       "      <td>19.00</td>\n",
       "      <td>2.00</td>\n",
       "      <td>98.00</td>\n",
       "      <td>6.00</td>\n",
       "      <td>8.00</td>\n",
       "      <td>150.00</td>\n",
       "    </tr>\n",
       "  </tbody>\n",
       "</table>\n",
       "<p>8 rows × 29 columns</p>\n",
       "</div>"
      ],
      "text/plain": [
       "         Column1       DOF1        PSU       YEAR   BODYTYPE      DVEST  \\\n",
       "count 2716427.00 2417075.00 2716427.00 2716427.00 2713908.00 2222022.00   \n",
       "mean  1358214.00      12.49      46.40    2007.01      12.24       1.65   \n",
       "std    784165.07      17.22      27.33       2.83      12.59       2.95   \n",
       "min         1.00       0.00       2.00    2004.00       1.00       0.00   \n",
       "25%    679107.50       6.00      12.00    2005.00       4.00       0.00   \n",
       "50%   1358214.00      11.00      48.00    2006.00       4.00       0.00   \n",
       "75%   2037320.50      12.00      74.00    2009.00      15.00       0.00   \n",
       "max   2716427.00      92.00      82.00    2015.00      97.00       8.00   \n",
       "\n",
       "         DVBASIS    DVTOTAL       MAKE    MODELYR  ...     INJSEV   MANAVAIL  \\\n",
       "count 2626443.00 1625151.00 2705768.00 2703350.00  ... 2666603.00 2305406.00   \n",
       "mean        4.71      24.45      26.86    1999.71  ...       1.41       3.87   \n",
       "std        12.15      13.54      17.53       6.09  ...       1.33       0.64   \n",
       "min         0.00       0.00       1.00    1923.00  ...       0.00       0.00   \n",
       "25%         1.00      15.00      12.00    1996.00  ...       0.00       4.00   \n",
       "50%         1.00      21.00      20.00    2000.00  ...       1.00       4.00   \n",
       "75%         4.00      30.00      37.00    2004.00  ...       3.00       4.00   \n",
       "max        98.00     166.00      98.00    2016.00  ...       6.00       8.00   \n",
       "\n",
       "         MANFAIL     MANUSE      OCCNO       ROLE    SEATPOS        SEX  \\\n",
       "count 2035758.00 2220682.00 2716262.00 2716227.00 2526365.00 2684392.00   \n",
       "mean        0.79       3.58       1.59       1.36      13.52       1.49   \n",
       "std         0.43       2.59       1.06       0.48       6.53       0.57   \n",
       "min         0.00       0.00       1.00       1.00      11.00       1.00   \n",
       "25%         1.00       4.00       1.00       1.00      11.00       1.00   \n",
       "50%         1.00       4.00       1.00       1.00      11.00       1.00   \n",
       "75%         1.00       4.00       2.00       2.00      13.00       2.00   \n",
       "max         8.00      18.00      19.00       2.00      98.00       6.00   \n",
       "\n",
       "        TREATMNT     WEIGHT  \n",
       "count 2384477.00 2061517.00  \n",
       "mean        2.36      72.57  \n",
       "std         2.09      23.95  \n",
       "min         0.00       3.00  \n",
       "25%         0.00      59.00  \n",
       "50%         3.00      73.00  \n",
       "75%         4.00      86.00  \n",
       "max         8.00     150.00  \n",
       "\n",
       "[8 rows x 29 columns]"
      ]
     },
     "execution_count": 5,
     "metadata": {},
     "output_type": "execute_result"
    }
   ],
   "source": [
    "uber.describe()"
   ]
  },
  {
   "cell_type": "code",
   "execution_count": 6,
   "id": "36cd014b",
   "metadata": {},
   "outputs": [
    {
     "data": {
      "text/html": [
       "<div>\n",
       "<style scoped>\n",
       "    .dataframe tbody tr th:only-of-type {\n",
       "        vertical-align: middle;\n",
       "    }\n",
       "\n",
       "    .dataframe tbody tr th {\n",
       "        vertical-align: top;\n",
       "    }\n",
       "\n",
       "    .dataframe thead th {\n",
       "        text-align: right;\n",
       "    }\n",
       "</style>\n",
       "<table border=\"1\" class=\"dataframe\">\n",
       "  <thead>\n",
       "    <tr style=\"text-align: right;\">\n",
       "      <th></th>\n",
       "      <th>Column1</th>\n",
       "      <th>CASEID</th>\n",
       "      <th>DOF1</th>\n",
       "      <th>GAD1</th>\n",
       "      <th>PSU</th>\n",
       "      <th>YEAR</th>\n",
       "      <th>STRATIF</th>\n",
       "      <th>BODYTYPE</th>\n",
       "      <th>DVEST</th>\n",
       "      <th>DVBASIS</th>\n",
       "      <th>...</th>\n",
       "      <th>INJSEV</th>\n",
       "      <th>MANAVAIL</th>\n",
       "      <th>MANFAIL</th>\n",
       "      <th>MANUSE</th>\n",
       "      <th>OCCNO</th>\n",
       "      <th>ROLE</th>\n",
       "      <th>SEATPOS</th>\n",
       "      <th>SEX</th>\n",
       "      <th>TREATMNT</th>\n",
       "      <th>WEIGHT</th>\n",
       "    </tr>\n",
       "  </thead>\n",
       "  <tbody>\n",
       "    <tr>\n",
       "      <th>982640</th>\n",
       "      <td>982641</td>\n",
       "      <td>47J</td>\n",
       "      <td>1.00</td>\n",
       "      <td>F</td>\n",
       "      <td>81</td>\n",
       "      <td>2005</td>\n",
       "      <td>J</td>\n",
       "      <td>30.00</td>\n",
       "      <td>0.00</td>\n",
       "      <td>1.00</td>\n",
       "      <td>...</td>\n",
       "      <td>3.00</td>\n",
       "      <td>4.00</td>\n",
       "      <td>1.00</td>\n",
       "      <td>4.00</td>\n",
       "      <td>2.00</td>\n",
       "      <td>2.00</td>\n",
       "      <td>13.00</td>\n",
       "      <td>2.00</td>\n",
       "      <td>4.00</td>\n",
       "      <td>NaN</td>\n",
       "    </tr>\n",
       "  </tbody>\n",
       "</table>\n",
       "<p>1 rows × 32 columns</p>\n",
       "</div>"
      ],
      "text/plain": [
       "        Column1 CASEID  DOF1 GAD1  PSU  YEAR STRATIF  BODYTYPE  DVEST  \\\n",
       "982640   982641    47J  1.00    F   81  2005       J     30.00   0.00   \n",
       "\n",
       "        DVBASIS  ...  INJSEV  MANAVAIL  MANFAIL  MANUSE  OCCNO  ROLE  SEATPOS  \\\n",
       "982640     1.00  ...    3.00      4.00     1.00    4.00   2.00  2.00    13.00   \n",
       "\n",
       "        SEX  TREATMNT  WEIGHT  \n",
       "982640 2.00      4.00     NaN  \n",
       "\n",
       "[1 rows x 32 columns]"
      ]
     },
     "execution_count": 6,
     "metadata": {},
     "output_type": "execute_result"
    }
   ],
   "source": [
    "uber.sample()"
   ]
  },
  {
   "cell_type": "code",
   "execution_count": 56,
   "id": "3d4f699b",
   "metadata": {},
   "outputs": [],
   "source": [
    "occupants = uber[[\"CASEID\", 'PSU','YEAR','AGE', 'BAGAVAIL','BAGFAIL','CHTYPE', 'HEIGHT', 'INJSEV',\n",
    "       'MANUSE', 'OCCNO','ROLE', 'SEATPOS', 'SEX', 'WEIGHT', 'HOSPSTAY','TREATMNT','STRATIF']]"
   ]
  },
  {
   "cell_type": "code",
   "execution_count": 57,
   "id": "d27e5d0a",
   "metadata": {
    "collapsed": true
   },
   "outputs": [
    {
     "name": "stderr",
     "output_type": "stream",
     "text": [
      "C:\\Users\\ela\\AppData\\Local\\Temp\\ipykernel_3148\\4021689472.py:1: SettingWithCopyWarning: \n",
      "A value is trying to be set on a copy of a slice from a DataFrame\n",
      "\n",
      "See the caveats in the documentation: https://pandas.pydata.org/pandas-docs/stable/user_guide/indexing.html#returning-a-view-versus-a-copy\n",
      "  occupants.drop_duplicates(subset=['CASEID', 'PSU','YEAR','AGE', 'BAGAVAIL','BAGFAIL','CHTYPE', 'HEIGHT', 'INJSEV',\n"
     ]
    }
   ],
   "source": [
    "occupants.drop_duplicates(subset=['CASEID', 'PSU','YEAR','AGE', 'BAGAVAIL','BAGFAIL','CHTYPE', 'HEIGHT', 'INJSEV',\n",
    "       'MANUSE', 'OCCNO', 'ROLE', 'SEATPOS', 'SEX', 'WEIGHT','HOSPSTAY','TREATMNT','STRATIF' ],inplace=True, ignore_index=True)"
   ]
  },
  {
   "cell_type": "code",
   "execution_count": 58,
   "id": "b20ee7e5",
   "metadata": {},
   "outputs": [
    {
     "data": {
      "text/html": [
       "<div>\n",
       "<style scoped>\n",
       "    .dataframe tbody tr th:only-of-type {\n",
       "        vertical-align: middle;\n",
       "    }\n",
       "\n",
       "    .dataframe tbody tr th {\n",
       "        vertical-align: top;\n",
       "    }\n",
       "\n",
       "    .dataframe thead th {\n",
       "        text-align: right;\n",
       "    }\n",
       "</style>\n",
       "<table border=\"1\" class=\"dataframe\">\n",
       "  <thead>\n",
       "    <tr style=\"text-align: right;\">\n",
       "      <th></th>\n",
       "      <th>CASEID</th>\n",
       "      <th>PSU</th>\n",
       "      <th>YEAR</th>\n",
       "      <th>AGE</th>\n",
       "      <th>BAGAVAIL</th>\n",
       "      <th>BAGFAIL</th>\n",
       "      <th>CHTYPE</th>\n",
       "      <th>HEIGHT</th>\n",
       "      <th>INJSEV</th>\n",
       "      <th>MANUSE</th>\n",
       "      <th>OCCNO</th>\n",
       "      <th>ROLE</th>\n",
       "      <th>SEATPOS</th>\n",
       "      <th>SEX</th>\n",
       "      <th>WEIGHT</th>\n",
       "      <th>HOSPSTAY</th>\n",
       "      <th>TREATMNT</th>\n",
       "      <th>STRATIF</th>\n",
       "    </tr>\n",
       "  </thead>\n",
       "  <tbody>\n",
       "    <tr>\n",
       "      <th>0</th>\n",
       "      <td>1H</td>\n",
       "      <td>2</td>\n",
       "      <td>2004</td>\n",
       "      <td>20.00</td>\n",
       "      <td>1.00</td>\n",
       "      <td>1.00</td>\n",
       "      <td>0.00</td>\n",
       "      <td>178.00</td>\n",
       "      <td>0.00</td>\n",
       "      <td>4.00</td>\n",
       "      <td>1.00</td>\n",
       "      <td>1.00</td>\n",
       "      <td>11.00</td>\n",
       "      <td>1.00</td>\n",
       "      <td>73.00</td>\n",
       "      <td>0.00</td>\n",
       "      <td>0.00</td>\n",
       "      <td>H</td>\n",
       "    </tr>\n",
       "    <tr>\n",
       "      <th>1</th>\n",
       "      <td>2K</td>\n",
       "      <td>2</td>\n",
       "      <td>2004</td>\n",
       "      <td>69.00</td>\n",
       "      <td>1.00</td>\n",
       "      <td>1.00</td>\n",
       "      <td>0.00</td>\n",
       "      <td>178.00</td>\n",
       "      <td>1.00</td>\n",
       "      <td>4.00</td>\n",
       "      <td>1.00</td>\n",
       "      <td>1.00</td>\n",
       "      <td>11.00</td>\n",
       "      <td>1.00</td>\n",
       "      <td>86.00</td>\n",
       "      <td>0.00</td>\n",
       "      <td>4.00</td>\n",
       "      <td>K</td>\n",
       "    </tr>\n",
       "    <tr>\n",
       "      <th>2</th>\n",
       "      <td>2K</td>\n",
       "      <td>2</td>\n",
       "      <td>2004</td>\n",
       "      <td>69.00</td>\n",
       "      <td>1.00</td>\n",
       "      <td>1.00</td>\n",
       "      <td>0.00</td>\n",
       "      <td>168.00</td>\n",
       "      <td>1.00</td>\n",
       "      <td>4.00</td>\n",
       "      <td>2.00</td>\n",
       "      <td>2.00</td>\n",
       "      <td>13.00</td>\n",
       "      <td>2.00</td>\n",
       "      <td>68.00</td>\n",
       "      <td>7.00</td>\n",
       "      <td>3.00</td>\n",
       "      <td>K</td>\n",
       "    </tr>\n",
       "    <tr>\n",
       "      <th>3</th>\n",
       "      <td>2K</td>\n",
       "      <td>2</td>\n",
       "      <td>2004</td>\n",
       "      <td>18.00</td>\n",
       "      <td>1.00</td>\n",
       "      <td>1.00</td>\n",
       "      <td>0.00</td>\n",
       "      <td>NaN</td>\n",
       "      <td>3.00</td>\n",
       "      <td>4.00</td>\n",
       "      <td>1.00</td>\n",
       "      <td>1.00</td>\n",
       "      <td>11.00</td>\n",
       "      <td>1.00</td>\n",
       "      <td>NaN</td>\n",
       "      <td>2.00</td>\n",
       "      <td>3.00</td>\n",
       "      <td>K</td>\n",
       "    </tr>\n",
       "    <tr>\n",
       "      <th>4</th>\n",
       "      <td>2K</td>\n",
       "      <td>2</td>\n",
       "      <td>2004</td>\n",
       "      <td>34.00</td>\n",
       "      <td>1.00</td>\n",
       "      <td>1.00</td>\n",
       "      <td>0.00</td>\n",
       "      <td>NaN</td>\n",
       "      <td>3.00</td>\n",
       "      <td>4.00</td>\n",
       "      <td>2.00</td>\n",
       "      <td>2.00</td>\n",
       "      <td>13.00</td>\n",
       "      <td>1.00</td>\n",
       "      <td>NaN</td>\n",
       "      <td>2.00</td>\n",
       "      <td>3.00</td>\n",
       "      <td>K</td>\n",
       "    </tr>\n",
       "  </tbody>\n",
       "</table>\n",
       "</div>"
      ],
      "text/plain": [
       "  CASEID  PSU  YEAR   AGE  BAGAVAIL  BAGFAIL  CHTYPE  HEIGHT  INJSEV  MANUSE  \\\n",
       "0     1H    2  2004 20.00      1.00     1.00    0.00  178.00    0.00    4.00   \n",
       "1     2K    2  2004 69.00      1.00     1.00    0.00  178.00    1.00    4.00   \n",
       "2     2K    2  2004 69.00      1.00     1.00    0.00  168.00    1.00    4.00   \n",
       "3     2K    2  2004 18.00      1.00     1.00    0.00     NaN    3.00    4.00   \n",
       "4     2K    2  2004 34.00      1.00     1.00    0.00     NaN    3.00    4.00   \n",
       "\n",
       "   OCCNO  ROLE  SEATPOS  SEX  WEIGHT  HOSPSTAY  TREATMNT STRATIF  \n",
       "0   1.00  1.00    11.00 1.00   73.00      0.00      0.00       H  \n",
       "1   1.00  1.00    11.00 1.00   86.00      0.00      4.00       K  \n",
       "2   2.00  2.00    13.00 2.00   68.00      7.00      3.00       K  \n",
       "3   1.00  1.00    11.00 1.00     NaN      2.00      3.00       K  \n",
       "4   2.00  2.00    13.00 1.00     NaN      2.00      3.00       K  "
      ]
     },
     "execution_count": 58,
     "metadata": {},
     "output_type": "execute_result"
    }
   ],
   "source": [
    "occupants.head()"
   ]
  },
  {
   "cell_type": "code",
   "execution_count": 59,
   "id": "5ec715da",
   "metadata": {},
   "outputs": [
    {
     "data": {
      "text/plain": [
       "0"
      ]
     },
     "execution_count": 59,
     "metadata": {},
     "output_type": "execute_result"
    }
   ],
   "source": [
    "occupants.duplicated().sum()"
   ]
  },
  {
   "cell_type": "code",
   "execution_count": 60,
   "id": "731dbf25",
   "metadata": {},
   "outputs": [
    {
     "data": {
      "text/plain": [
       "(110759, 18)"
      ]
     },
     "execution_count": 60,
     "metadata": {},
     "output_type": "execute_result"
    }
   ],
   "source": [
    "occupants.shape"
   ]
  },
  {
   "cell_type": "code",
   "execution_count": 12,
   "id": "357623e5",
   "metadata": {},
   "outputs": [],
   "source": [
    "occupants.to_csv(\"./occupants.csv\", index = False)"
   ]
  },
  {
   "cell_type": "code",
   "execution_count": 12,
   "id": "6491d28c",
   "metadata": {},
   "outputs": [],
   "source": [
    "vehicles= uber[['CASEID', 'PSU','YEAR','BODYTYPE', 'MAKE' , 'DVTOTAL','MODELYR']]"
   ]
  },
  {
   "cell_type": "code",
   "execution_count": 13,
   "id": "11619b44",
   "metadata": {},
   "outputs": [
    {
     "data": {
      "text/plain": [
       "(2716427, 7)"
      ]
     },
     "execution_count": 13,
     "metadata": {},
     "output_type": "execute_result"
    }
   ],
   "source": [
    "vehicles.shape"
   ]
  },
  {
   "cell_type": "code",
   "execution_count": 14,
   "id": "973430a0",
   "metadata": {
    "collapsed": true
   },
   "outputs": [
    {
     "name": "stderr",
     "output_type": "stream",
     "text": [
      "C:\\Users\\ela\\AppData\\Local\\Temp\\ipykernel_3148\\1110924876.py:1: SettingWithCopyWarning: \n",
      "A value is trying to be set on a copy of a slice from a DataFrame\n",
      "\n",
      "See the caveats in the documentation: https://pandas.pydata.org/pandas-docs/stable/user_guide/indexing.html#returning-a-view-versus-a-copy\n",
      "  vehicles.drop_duplicates(subset=['CASEID', 'PSU','YEAR','BODYTYPE', 'MAKE' , 'DVTOTAL','MODELYR'],inplace=True, ignore_index=True)\n"
     ]
    }
   ],
   "source": [
    "vehicles.drop_duplicates(subset=['CASEID', 'PSU','YEAR','BODYTYPE', 'MAKE' , 'DVTOTAL','MODELYR'],inplace=True, ignore_index=True)"
   ]
  },
  {
   "cell_type": "code",
   "execution_count": 15,
   "id": "adb37fa4",
   "metadata": {},
   "outputs": [
    {
     "data": {
      "text/plain": [
       "(94598, 7)"
      ]
     },
     "execution_count": 15,
     "metadata": {},
     "output_type": "execute_result"
    }
   ],
   "source": [
    "vehicles.shape"
   ]
  },
  {
   "cell_type": "code",
   "execution_count": 16,
   "id": "ffe5a63e",
   "metadata": {},
   "outputs": [],
   "source": [
    "accidents = uber[['CASEID', 'PSU','YEAR', 'STRATIF']]"
   ]
  },
  {
   "cell_type": "code",
   "execution_count": 17,
   "id": "0fbae7e9",
   "metadata": {
    "collapsed": true
   },
   "outputs": [
    {
     "name": "stderr",
     "output_type": "stream",
     "text": [
      "C:\\Users\\ela\\AppData\\Local\\Temp\\ipykernel_3148\\2693818806.py:1: SettingWithCopyWarning: \n",
      "A value is trying to be set on a copy of a slice from a DataFrame\n",
      "\n",
      "See the caveats in the documentation: https://pandas.pydata.org/pandas-docs/stable/user_guide/indexing.html#returning-a-view-versus-a-copy\n",
      "  accidents.drop_duplicates(subset=['CASEID', 'PSU','YEAR', 'STRATIF'], inplace =True, ignore_index=True)\n"
     ]
    }
   ],
   "source": [
    "accidents.drop_duplicates(subset=['CASEID', 'PSU','YEAR', 'STRATIF'], inplace =True, ignore_index=True)"
   ]
  },
  {
   "cell_type": "markdown",
   "id": "3a63fe24",
   "metadata": {},
   "source": [
    "### Export plików do csv - bez kategoryzacji"
   ]
  },
  {
   "cell_type": "code",
   "execution_count": 21,
   "id": "d4d7d4ac",
   "metadata": {},
   "outputs": [],
   "source": [
    "occupants.to_csv(\"./occupants.csv\", index = False)\n",
    "accidents.to_csv(\"./accidents.csv\", index = False)\n",
    "vehicles.to_csv(\"./vehicles.csv\", index = False)"
   ]
  },
  {
   "cell_type": "markdown",
   "id": "4f6532d7",
   "metadata": {},
   "source": [
    "### Kategoryzacje"
   ]
  },
  {
   "cell_type": "code",
   "execution_count": 61,
   "id": "df6dc4f9",
   "metadata": {},
   "outputs": [
    {
     "data": {
      "text/plain": [
       "True"
      ]
     },
     "execution_count": 61,
     "metadata": {},
     "output_type": "execute_result"
    }
   ],
   "source": [
    "import math\n",
    "x = float('nan')\n",
    "math.isnan(x)"
   ]
  },
  {
   "cell_type": "markdown",
   "id": "229ca855",
   "metadata": {},
   "source": [
    "#### MANUSE \n",
    "- 1 :  niezapięte (1) , \n",
    "- 2 :  zapięte (2-18) "
   ]
  },
  {
   "cell_type": "code",
   "execution_count": 62,
   "id": "12805982",
   "metadata": {},
   "outputs": [],
   "source": [
    "#nowa kolumna kategoria dla manuse: 1 -niezapięte, 2 zapięte\n",
    "MANUSE_new=[]\n",
    "\n",
    "for i in occupants['MANUSE']:\n",
    "    if i>=0 and i<=1:\n",
    "        MANUSE_new.append(1)\n",
    "    elif i>=2 and i<=18:\n",
    "        MANUSE_new.append(2)\n",
    "    elif math.isnan(i):\n",
    "        MANUSE_new.append(None)\n"
   ]
  },
  {
   "cell_type": "code",
   "execution_count": 63,
   "id": "bc26a747",
   "metadata": {
    "collapsed": true
   },
   "outputs": [
    {
     "name": "stderr",
     "output_type": "stream",
     "text": [
      "C:\\Users\\ela\\AppData\\Local\\Temp\\ipykernel_3148\\3623112559.py:1: SettingWithCopyWarning: \n",
      "A value is trying to be set on a copy of a slice from a DataFrame.\n",
      "Try using .loc[row_indexer,col_indexer] = value instead\n",
      "\n",
      "See the caveats in the documentation: https://pandas.pydata.org/pandas-docs/stable/user_guide/indexing.html#returning-a-view-versus-a-copy\n",
      "  occupants['MANUSE'] = MANUSE_new\n"
     ]
    }
   ],
   "source": [
    "occupants['MANUSE'] = MANUSE_new"
   ]
  },
  {
   "cell_type": "code",
   "execution_count": 64,
   "id": "e04a6652",
   "metadata": {},
   "outputs": [
    {
     "data": {
      "text/plain": [
       "2.00    59838\n",
       "1.00    16332\n",
       "Name: MANUSE, dtype: int64"
      ]
     },
     "execution_count": 64,
     "metadata": {},
     "output_type": "execute_result"
    }
   ],
   "source": [
    "occupants['MANUSE'].value_counts()"
   ]
  },
  {
   "cell_type": "markdown",
   "id": "6254037c",
   "metadata": {},
   "source": [
    "#### INJSEV \n",
    "- 0: brak obrażen\n",
    "- 1: odniesione lekkie obrażenia (1,2)\n",
    "- 2: odniesione poważne obrażenia (3)\n",
    "- 4: śmierć (4,6)"
   ]
  },
  {
   "cell_type": "code",
   "execution_count": 65,
   "id": "269e2762",
   "metadata": {},
   "outputs": [
    {
     "data": {
      "text/plain": [
       "0.00    40282\n",
       "3.00    22707\n",
       "1.00    22706\n",
       "2.00    16488\n",
       "4.00     4285\n",
       "5.00     1969\n",
       "6.00        8\n",
       "Name: INJSEV, dtype: int64"
      ]
     },
     "execution_count": 65,
     "metadata": {},
     "output_type": "execute_result"
    }
   ],
   "source": [
    "occupants['INJSEV'].value_counts()"
   ]
  },
  {
   "cell_type": "code",
   "execution_count": 66,
   "id": "ea127cd5",
   "metadata": {},
   "outputs": [],
   "source": [
    "INJSEV_new=[]\n",
    "for i in occupants['INJSEV']:\n",
    "    if i==0:\n",
    "        INJSEV_new.append(0)\n",
    "    if i==1:\n",
    "        INJSEV_new.append(1)\n",
    "    if i==2:\n",
    "        INJSEV_new.append(1)\n",
    "    if i==3:\n",
    "        INJSEV_new.append(2)\n",
    "    if i==4:\n",
    "        INJSEV_new.append(4)\n",
    "    if i==5:\n",
    "        INJSEV_new.append(None)\n",
    "    if i==6:\n",
    "        INJSEV_new.append(4)\n",
    "    elif math.isnan(i):\n",
    "        INJSEV_new.append(None)\n",
    "# 0: brak obrażen\n",
    "# 1: odniesione lekkie obrażenia (1,2)\n",
    "# 2: odniesione poważne obrażenia (3)\n",
    "# 4: śmierć (4,6)"
   ]
  },
  {
   "cell_type": "code",
   "execution_count": 67,
   "id": "08d4a6aa",
   "metadata": {
    "collapsed": true
   },
   "outputs": [
    {
     "name": "stderr",
     "output_type": "stream",
     "text": [
      "C:\\Users\\ela\\AppData\\Local\\Temp\\ipykernel_3148\\638915056.py:1: SettingWithCopyWarning: \n",
      "A value is trying to be set on a copy of a slice from a DataFrame.\n",
      "Try using .loc[row_indexer,col_indexer] = value instead\n",
      "\n",
      "See the caveats in the documentation: https://pandas.pydata.org/pandas-docs/stable/user_guide/indexing.html#returning-a-view-versus-a-copy\n",
      "  occupants['INJSEV'] = INJSEV_new\n"
     ]
    }
   ],
   "source": [
    "occupants['INJSEV'] = INJSEV_new"
   ]
  },
  {
   "cell_type": "code",
   "execution_count": 68,
   "id": "1689b120",
   "metadata": {},
   "outputs": [
    {
     "data": {
      "text/plain": [
       "0.00    40282\n",
       "1.00    39194\n",
       "2.00    22707\n",
       "4.00     4293\n",
       "Name: INJSEV, dtype: int64"
      ]
     },
     "execution_count": 68,
     "metadata": {},
     "output_type": "execute_result"
    }
   ],
   "source": [
    "occupants['INJSEV'].value_counts()"
   ]
  },
  {
   "cell_type": "markdown",
   "id": "6fa27149",
   "metadata": {},
   "source": [
    "#### SEATPOS \n",
    "- 1 :  1-19  /front\n",
    "- 2 :  21   /second left\n",
    "- 3 :  23   /second right\n",
    "- 4 :  22, 24-29   /second middle\n",
    "- 5 :  31-59 /third\n",
    "- 6 :  97-98   /other"
   ]
  },
  {
   "cell_type": "code",
   "execution_count": 69,
   "id": "912110e5",
   "metadata": {},
   "outputs": [],
   "source": [
    "SEATPOS_new=[]\n",
    "for i in occupants['SEATPOS']:\n",
    "    if i>=1 and i<=19: #front\n",
    "        SEATPOS_new.append(1)\n",
    "    elif i==21:    #second left\n",
    "        SEATPOS_new.append(2)\n",
    "    elif i==22:    \n",
    "        SEATPOS_new.append(4)\n",
    "    elif i==23:     #second right\n",
    "        SEATPOS_new.append(3)\n",
    "    elif i>=24 and i<=29:\n",
    "        SEATPOS_new.append(4)\n",
    "    elif i>=31 and i<=59:\n",
    "        SEATPOS_new.append(5)\n",
    "    elif i>=97 and i<99:\n",
    "        SEATPOS_new.append(6)\n",
    "    elif math.isnan(i):\n",
    "        SEATPOS_new.append(None)"
   ]
  },
  {
   "cell_type": "code",
   "execution_count": 70,
   "id": "025fa855",
   "metadata": {
    "collapsed": true
   },
   "outputs": [
    {
     "name": "stderr",
     "output_type": "stream",
     "text": [
      "C:\\Users\\ela\\AppData\\Local\\Temp\\ipykernel_3148\\2759966521.py:1: SettingWithCopyWarning: \n",
      "A value is trying to be set on a copy of a slice from a DataFrame.\n",
      "Try using .loc[row_indexer,col_indexer] = value instead\n",
      "\n",
      "See the caveats in the documentation: https://pandas.pydata.org/pandas-docs/stable/user_guide/indexing.html#returning-a-view-versus-a-copy\n",
      "  occupants['SEATPOS'] = SEATPOS_new\n"
     ]
    }
   ],
   "source": [
    "occupants['SEATPOS'] = SEATPOS_new"
   ]
  },
  {
   "cell_type": "code",
   "execution_count": 71,
   "id": "6708a4cc",
   "metadata": {},
   "outputs": [
    {
     "data": {
      "text/plain": [
       "1.00    84414\n",
       "3.00     6062\n",
       "2.00     4888\n",
       "4.00     2103\n",
       "5.00      905\n",
       "6.00      240\n",
       "Name: SEATPOS, dtype: int64"
      ]
     },
     "execution_count": 71,
     "metadata": {},
     "output_type": "execute_result"
    }
   ],
   "source": [
    "occupants['SEATPOS'].value_counts()"
   ]
  },
  {
   "cell_type": "markdown",
   "id": "0cd988cf",
   "metadata": {},
   "source": [
    "### STRATIF\n",
    "- 1 - ( A i B) wypadki, w których co najmniej jeden pasażer miał uraz śmiertelny\n",
    "- 2 - (J i K) wypadki, w których co najmniej jeden pasażer miał obrażenia “A” (obrażenia unieruchamiające), przewieziony został do placówki leczniczej i przyjęta na noc do szpitala\n",
    "- 3 - (C i D ) wypadki, w których co najmniej jeden pasażer obrażenia \"A\" (obrażenia unieruchamiające) oraz został przewieziony do placówki leczniczej, bez przyjęcia na noc do szpitala\n",
    "- 4 - (E i F) wypadki, wktórych co najmniej jedna osoba zostałą przewieziona do placówki leczniczej\n",
    "- 5 - (G i H) niewielkie obrażenia"
   ]
  },
  {
   "cell_type": "code",
   "execution_count": 72,
   "id": "265e6300",
   "metadata": {},
   "outputs": [
    {
     "data": {
      "text/plain": [
       "F    22011\n",
       "K    17234\n",
       "H    15495\n",
       "E    14313\n",
       "G    11435\n",
       "D    10107\n",
       "B     7376\n",
       "C     6986\n",
       "J     4237\n",
       "A     1562\n",
       "Name: STRATIF, dtype: int64"
      ]
     },
     "execution_count": 72,
     "metadata": {},
     "output_type": "execute_result"
    }
   ],
   "source": [
    "occupants['STRATIF'].value_counts()"
   ]
  },
  {
   "cell_type": "code",
   "execution_count": 73,
   "id": "4c548bc1",
   "metadata": {},
   "outputs": [],
   "source": [
    "STRATIF_new=[]\n",
    "for i in occupants['STRATIF']:\n",
    "    if i==\"A\" or i==\"B\":\n",
    "        STRATIF_new.append(1)\n",
    "    elif i==\"J\" or i==\"K\":\n",
    "        STRATIF_new.append(2)\n",
    "    elif i==\"C\" or i==\"D\":\n",
    "        STRATIF_new.append(3)\n",
    "    elif i==\"E\" or i==\"F\":\n",
    "        STRATIF_new.append(4)\n",
    "    elif i==\"G\" or i==\"H\":\n",
    "        STRATIF_new.append(5)   \n",
    "    elif math.isnan(i):\n",
    "        STRATIF_new.append(None)"
   ]
  },
  {
   "cell_type": "code",
   "execution_count": 74,
   "id": "0720d153",
   "metadata": {
    "collapsed": true
   },
   "outputs": [
    {
     "name": "stderr",
     "output_type": "stream",
     "text": [
      "C:\\Users\\ela\\AppData\\Local\\Temp\\ipykernel_3148\\3226906458.py:1: SettingWithCopyWarning: \n",
      "A value is trying to be set on a copy of a slice from a DataFrame.\n",
      "Try using .loc[row_indexer,col_indexer] = value instead\n",
      "\n",
      "See the caveats in the documentation: https://pandas.pydata.org/pandas-docs/stable/user_guide/indexing.html#returning-a-view-versus-a-copy\n",
      "  occupants['STRATIF'] = STRATIF_new\n"
     ]
    }
   ],
   "source": [
    "occupants['STRATIF'] = STRATIF_new"
   ]
  },
  {
   "cell_type": "code",
   "execution_count": 75,
   "id": "f4d4df51",
   "metadata": {},
   "outputs": [
    {
     "data": {
      "text/plain": [
       "4.00    36324\n",
       "5.00    26930\n",
       "2.00    21471\n",
       "3.00    17093\n",
       "1.00     8938\n",
       "Name: STRATIF, dtype: int64"
      ]
     },
     "execution_count": 75,
     "metadata": {},
     "output_type": "execute_result"
    }
   ],
   "source": [
    "occupants['STRATIF'].value_counts()"
   ]
  },
  {
   "cell_type": "markdown",
   "id": "593c954c",
   "metadata": {},
   "source": [
    "#### AGE\n",
    "- 1: 1-17\n",
    "- 2: 18-25\n",
    "- 3: 26-30\n",
    "- 4: 31-50\n",
    "- 5: 51-70\n",
    "- 6: >=70    "
   ]
  },
  {
   "cell_type": "code",
   "execution_count": 76,
   "id": "dfdba612",
   "metadata": {},
   "outputs": [],
   "source": [
    "AGE_NEW=[]\n",
    "for i in occupants['AGE']:\n",
    "    if i>=0 and i<=17:\n",
    "        AGE_NEW.append('1')\n",
    "    elif i>=18 and i<=25:\n",
    "        AGE_NEW.append('2')\n",
    "    elif i>=26 and i<=30:\n",
    "        AGE_NEW.append('3')\n",
    "    elif i>=31 and i<=50:\n",
    "        AGE_NEW.append('4')\n",
    "    elif i>=51 and i<=70:\n",
    "        AGE_NEW.append('5')\n",
    "    elif i>=71:\n",
    "        AGE_NEW.append('6')\n",
    "    elif math.isnan(i):\n",
    "        AGE_NEW.append(None)"
   ]
  },
  {
   "cell_type": "code",
   "execution_count": 77,
   "id": "21b08fb3",
   "metadata": {
    "collapsed": true
   },
   "outputs": [
    {
     "name": "stderr",
     "output_type": "stream",
     "text": [
      "C:\\Users\\ela\\AppData\\Local\\Temp\\ipykernel_3148\\2764060329.py:1: SettingWithCopyWarning: \n",
      "A value is trying to be set on a copy of a slice from a DataFrame.\n",
      "Try using .loc[row_indexer,col_indexer] = value instead\n",
      "\n",
      "See the caveats in the documentation: https://pandas.pydata.org/pandas-docs/stable/user_guide/indexing.html#returning-a-view-versus-a-copy\n",
      "  occupants['AGE']=AGE_NEW\n"
     ]
    }
   ],
   "source": [
    "occupants['AGE']=AGE_NEW"
   ]
  },
  {
   "cell_type": "code",
   "execution_count": 78,
   "id": "25a3632d",
   "metadata": {},
   "outputs": [
    {
     "data": {
      "text/plain": [
       "4    29779\n",
       "2    28220\n",
       "1    16691\n",
       "5    16280\n",
       "3    11435\n",
       "6     5423\n",
       "Name: AGE, dtype: int64"
      ]
     },
     "execution_count": 78,
     "metadata": {},
     "output_type": "execute_result"
    }
   ],
   "source": [
    "occupants['AGE'].value_counts()"
   ]
  },
  {
   "cell_type": "markdown",
   "id": "4243ba2d",
   "metadata": {},
   "source": [
    "#### HEIGHT\n",
    "- 1 : 0-80 niemowlęta, \n",
    "- 2 : 81-130, \n",
    "- 3 : 130- 165, \n",
    "- 4 : 165-180, \n",
    "- 5 : 181-199, \n",
    "- 6 : 200-219,\n",
    "- 7 : 220"
   ]
  },
  {
   "cell_type": "code",
   "execution_count": 79,
   "id": "88625c4f",
   "metadata": {},
   "outputs": [],
   "source": [
    "#HEIGHT – \n",
    "\n",
    "HEIGHT_new=[]\n",
    "for i in occupants['HEIGHT']:\n",
    "    if i>=0 and i<=80:\n",
    "        HEIGHT_new.append(1)\n",
    "    elif i>=81 and i<=130:\n",
    "        HEIGHT_new.append(2)\n",
    "    elif i>=131 and i<=165:\n",
    "        HEIGHT_new.append(3)\n",
    "    elif i>=166 and i<=180:\n",
    "        HEIGHT_new.append(4)\n",
    "    elif i>=181 and i<=199:\n",
    "        HEIGHT_new.append(5)\n",
    "    elif i>=200 and i<=219:\n",
    "        HEIGHT_new.append(6)\n",
    "    elif i>=220:\n",
    "        HEIGHT_new.append(7)\n",
    "    elif math.isnan(i):\n",
    "        HEIGHT_new.append(None)"
   ]
  },
  {
   "cell_type": "code",
   "execution_count": 80,
   "id": "a507dc35",
   "metadata": {
    "collapsed": true
   },
   "outputs": [
    {
     "name": "stderr",
     "output_type": "stream",
     "text": [
      "C:\\Users\\ela\\AppData\\Local\\Temp\\ipykernel_3148\\748303531.py:1: SettingWithCopyWarning: \n",
      "A value is trying to be set on a copy of a slice from a DataFrame.\n",
      "Try using .loc[row_indexer,col_indexer] = value instead\n",
      "\n",
      "See the caveats in the documentation: https://pandas.pydata.org/pandas-docs/stable/user_guide/indexing.html#returning-a-view-versus-a-copy\n",
      "  occupants['HEIGHT'] = HEIGHT_new\n"
     ]
    }
   ],
   "source": [
    "occupants['HEIGHT'] = HEIGHT_new"
   ]
  },
  {
   "cell_type": "code",
   "execution_count": 81,
   "id": "1a2215f7",
   "metadata": {},
   "outputs": [
    {
     "data": {
      "text/plain": [
       "4.00    32356\n",
       "3.00    23739\n",
       "5.00    11063\n",
       "2.00     2577\n",
       "1.00     1104\n",
       "6.00      106\n",
       "Name: HEIGHT, dtype: int64"
      ]
     },
     "execution_count": 81,
     "metadata": {},
     "output_type": "execute_result"
    }
   ],
   "source": [
    "occupants['HEIGHT'].value_counts()"
   ]
  },
  {
   "cell_type": "markdown",
   "id": "2072d866",
   "metadata": {},
   "source": [
    "#### HOSPSTAY\n",
    "- 1 : 0-7\n",
    "- 2 : 8-14\n",
    "- 3 : 15-28\n",
    "- 4 : 29-60\n",
    "- 5 : >= 61"
   ]
  },
  {
   "cell_type": "code",
   "execution_count": 82,
   "id": "4b5c4aa8",
   "metadata": {},
   "outputs": [
    {
     "data": {
      "text/plain": [
       "0.00     69773\n",
       "1.00      3670\n",
       "2.00      1868\n",
       "3.00      1466\n",
       "4.00      1149\n",
       "         ...  \n",
       "46.00        4\n",
       "43.00        3\n",
       "57.00        2\n",
       "53.00        2\n",
       "59.00        2\n",
       "Name: HOSPSTAY, Length: 61, dtype: int64"
      ]
     },
     "execution_count": 82,
     "metadata": {},
     "output_type": "execute_result"
    }
   ],
   "source": [
    "occupants['HOSPSTAY'].value_counts()"
   ]
  },
  {
   "cell_type": "code",
   "execution_count": 83,
   "id": "d6c270d4",
   "metadata": {},
   "outputs": [],
   "source": [
    "#HOPSTAY 0-7, 8-14, 15-28, 29-60, 61\n",
    "\n",
    "HOSPSTAY_new=[]\n",
    "for i in occupants['HOSPSTAY']:\n",
    "    if i>=0 and i<=7:\n",
    "        HOSPSTAY_new.append(1)\n",
    "    elif i>=8 and i<=14:\n",
    "        HOSPSTAY_new.append(2)\n",
    "    elif i>=15 and i<=28:\n",
    "        HOSPSTAY_new.append(3)\n",
    "    elif i>=29 and i<=60:\n",
    "        HOSPSTAY_new.append(4)\n",
    "    elif i>=61:\n",
    "        HOSPSTAY_new.append(5)\n",
    "    elif math.isnan(i):\n",
    "        HOSPSTAY_new.append(None)"
   ]
  },
  {
   "cell_type": "code",
   "execution_count": 84,
   "id": "cf87ed99",
   "metadata": {
    "collapsed": true
   },
   "outputs": [
    {
     "name": "stderr",
     "output_type": "stream",
     "text": [
      "C:\\Users\\ela\\AppData\\Local\\Temp\\ipykernel_3148\\2366499334.py:1: SettingWithCopyWarning: \n",
      "A value is trying to be set on a copy of a slice from a DataFrame.\n",
      "Try using .loc[row_indexer,col_indexer] = value instead\n",
      "\n",
      "See the caveats in the documentation: https://pandas.pydata.org/pandas-docs/stable/user_guide/indexing.html#returning-a-view-versus-a-copy\n",
      "  occupants['HOSPSTAY'] = HOSPSTAY_new\n"
     ]
    }
   ],
   "source": [
    "occupants['HOSPSTAY'] = HOSPSTAY_new"
   ]
  },
  {
   "cell_type": "code",
   "execution_count": 85,
   "id": "5b3319c0",
   "metadata": {},
   "outputs": [
    {
     "data": {
      "text/plain": [
       "1.00    80023\n",
       "2.00     1785\n",
       "3.00      955\n",
       "4.00      367\n",
       "5.00       43\n",
       "Name: HOSPSTAY, dtype: int64"
      ]
     },
     "execution_count": 85,
     "metadata": {},
     "output_type": "execute_result"
    }
   ],
   "source": [
    "occupants['HOSPSTAY'].value_counts()"
   ]
  },
  {
   "cell_type": "markdown",
   "id": "d00ebf75",
   "metadata": {},
   "source": [
    "#### SEX \n",
    "- 0 :  (1) MEŻCZYŹNI\n",
    "- 1 :  (2) KOBIETY\n",
    "- 2 : (3,4,5,6) KOBIETY W CIĄŻY    "
   ]
  },
  {
   "cell_type": "code",
   "execution_count": 86,
   "id": "cab69d43",
   "metadata": {},
   "outputs": [
    {
     "data": {
      "text/plain": [
       "1.00    59510\n",
       "2.00    48754\n",
       "4.00      286\n",
       "5.00      276\n",
       "3.00      213\n",
       "6.00       51\n",
       "Name: SEX, dtype: int64"
      ]
     },
     "execution_count": 86,
     "metadata": {},
     "output_type": "execute_result"
    }
   ],
   "source": [
    "occupants['SEX'].value_counts()"
   ]
  },
  {
   "cell_type": "code",
   "execution_count": 87,
   "id": "745d8af0",
   "metadata": {},
   "outputs": [],
   "source": [
    "#SEX ok, tylko wszystkie ciężarne wrzucić do jednej liczby – potem pokazać jakie miejsca są dla nich najbezpieczniejsze\n",
    "# 0- mężczyźni, 1 - kobiety, 2 - kobiety w ciąży\n",
    "\n",
    "SEX_new=[]\n",
    "\n",
    "for i in occupants['SEX']:\n",
    "    if i==1:\n",
    "        SEX_new.append(0)\n",
    "    elif i==2:\n",
    "        SEX_new.append(1)\n",
    "    elif i==3:\n",
    "        SEX_new.append(2)\n",
    "    elif i==4:\n",
    "        SEX_new.append(2)\n",
    "    elif i==5:\n",
    "        SEX_new.append(2)\n",
    "    elif i==6:\n",
    "        SEX_new.append(2)\n",
    "    elif math.isnan(i):\n",
    "        SEX_new.append(None)"
   ]
  },
  {
   "cell_type": "code",
   "execution_count": 88,
   "id": "a35632ca",
   "metadata": {
    "collapsed": true
   },
   "outputs": [
    {
     "name": "stderr",
     "output_type": "stream",
     "text": [
      "C:\\Users\\ela\\AppData\\Local\\Temp\\ipykernel_3148\\2239415670.py:1: SettingWithCopyWarning: \n",
      "A value is trying to be set on a copy of a slice from a DataFrame.\n",
      "Try using .loc[row_indexer,col_indexer] = value instead\n",
      "\n",
      "See the caveats in the documentation: https://pandas.pydata.org/pandas-docs/stable/user_guide/indexing.html#returning-a-view-versus-a-copy\n",
      "  occupants['SEX'] = SEX_new\n"
     ]
    }
   ],
   "source": [
    "occupants['SEX'] = SEX_new"
   ]
  },
  {
   "cell_type": "code",
   "execution_count": 89,
   "id": "7f8f8769",
   "metadata": {},
   "outputs": [
    {
     "data": {
      "text/plain": [
       "0.00    59510\n",
       "1.00    48754\n",
       "2.00      826\n",
       "Name: SEX, dtype: int64"
      ]
     },
     "execution_count": 89,
     "metadata": {},
     "output_type": "execute_result"
    }
   ],
   "source": [
    "occupants['SEX'].value_counts()"
   ]
  },
  {
   "cell_type": "markdown",
   "id": "f8c802e8",
   "metadata": {},
   "source": [
    "#### WEIGHT\n",
    "- 1 : 0-15\n",
    "- 2 : 16-45\n",
    "- 3 : 46-60\n",
    "- 4 : 61-80\n",
    "- 5 : 81-100\n",
    "- 6 : 101-149\n",
    "- 7 : >=150"
   ]
  },
  {
   "cell_type": "code",
   "execution_count": 90,
   "id": "d0891690",
   "metadata": {},
   "outputs": [
    {
     "data": {
      "text/plain": [
       "68.00     4258\n",
       "73.00     4074\n",
       "82.00     3924\n",
       "64.00     3657\n",
       "91.00     3359\n",
       "          ... \n",
       "148.00       8\n",
       "133.00       7\n",
       "144.00       6\n",
       "149.00       5\n",
       "146.00       2\n",
       "Name: WEIGHT, Length: 148, dtype: int64"
      ]
     },
     "execution_count": 90,
     "metadata": {},
     "output_type": "execute_result"
    }
   ],
   "source": [
    "occupants['WEIGHT'].value_counts()"
   ]
  },
  {
   "cell_type": "code",
   "execution_count": 91,
   "id": "cdcf8993",
   "metadata": {},
   "outputs": [],
   "source": [
    "WEIGHT_new=[]\n",
    "\n",
    "for i in occupants['WEIGHT']:\n",
    "    if i>=0 and i<=15:\n",
    "        WEIGHT_new.append(1)\n",
    "    elif i>=16 and i<=45:\n",
    "        WEIGHT_new.append(2)\n",
    "    elif i>=46 and i<=60:\n",
    "        WEIGHT_new.append(3)\n",
    "    elif i>=61 and i<=80:\n",
    "        WEIGHT_new.append(4)\n",
    "    elif i>=81 and i<=100:\n",
    "        WEIGHT_new.append(5)\n",
    "    elif i>=101 and i<=149:\n",
    "        WEIGHT_new.append(6)\n",
    "    elif i>=150:\n",
    "        WEIGHT_new.append(7)\n",
    "    elif math.isnan(i):\n",
    "        WEIGHT_new.append(None)"
   ]
  },
  {
   "cell_type": "code",
   "execution_count": 92,
   "id": "8ec20230",
   "metadata": {
    "collapsed": true
   },
   "outputs": [
    {
     "name": "stderr",
     "output_type": "stream",
     "text": [
      "C:\\Users\\ela\\AppData\\Local\\Temp\\ipykernel_3148\\707745857.py:1: SettingWithCopyWarning: \n",
      "A value is trying to be set on a copy of a slice from a DataFrame.\n",
      "Try using .loc[row_indexer,col_indexer] = value instead\n",
      "\n",
      "See the caveats in the documentation: https://pandas.pydata.org/pandas-docs/stable/user_guide/indexing.html#returning-a-view-versus-a-copy\n",
      "  occupants['WEIGHT'] = WEIGHT_new\n"
     ]
    }
   ],
   "source": [
    "occupants['WEIGHT'] = WEIGHT_new"
   ]
  },
  {
   "cell_type": "code",
   "execution_count": 93,
   "id": "e04fdc9d",
   "metadata": {},
   "outputs": [
    {
     "data": {
      "text/plain": [
       "4.00    27988\n",
       "5.00    18834\n",
       "3.00    12264\n",
       "6.00     6991\n",
       "2.00     4586\n",
       "1.00     1514\n",
       "7.00      359\n",
       "Name: WEIGHT, dtype: int64"
      ]
     },
     "execution_count": 93,
     "metadata": {},
     "output_type": "execute_result"
    }
   ],
   "source": [
    "occupants['WEIGHT'].value_counts()"
   ]
  },
  {
   "cell_type": "markdown",
   "id": "e7f2b58f",
   "metadata": {},
   "source": [
    "#### BAGVAIL\n",
    "- 0 : (0,2,3) NIE BYŁO PODUSZKI\n",
    "- 1 : (1) BYŁA PODUSZKA"
   ]
  },
  {
   "cell_type": "code",
   "execution_count": 94,
   "id": "b7e9bba4",
   "metadata": {},
   "outputs": [
    {
     "data": {
      "text/plain": [
       "1.00    59125\n",
       "0.00    20252\n",
       "3.00      188\n",
       "2.00      142\n",
       "Name: BAGAVAIL, dtype: int64"
      ]
     },
     "execution_count": 94,
     "metadata": {},
     "output_type": "execute_result"
    }
   ],
   "source": [
    "occupants['BAGAVAIL'].value_counts()"
   ]
  },
  {
   "cell_type": "code",
   "execution_count": 95,
   "id": "705cb482",
   "metadata": {},
   "outputs": [],
   "source": [
    "#BAGAVAIL – zmiana na 0 -nie było poduszki, 1- była , reszta do przepisania na 0\n",
    "\n",
    "BAGAVAIL_new=[]\n",
    "for i in occupants['BAGAVAIL']:\n",
    "    if i==0:\n",
    "        BAGAVAIL_new.append(0)\n",
    "    elif i==1:\n",
    "        BAGAVAIL_new.append(1)\n",
    "    elif i>=2 and i<=3:\n",
    "        BAGAVAIL_new.append(0)\n",
    "    elif math.isnan(i):\n",
    "        BAGAVAIL_new.append(None)"
   ]
  },
  {
   "cell_type": "code",
   "execution_count": 96,
   "id": "ababe923",
   "metadata": {
    "collapsed": true
   },
   "outputs": [
    {
     "name": "stderr",
     "output_type": "stream",
     "text": [
      "C:\\Users\\ela\\AppData\\Local\\Temp\\ipykernel_3148\\2704286954.py:1: SettingWithCopyWarning: \n",
      "A value is trying to be set on a copy of a slice from a DataFrame.\n",
      "Try using .loc[row_indexer,col_indexer] = value instead\n",
      "\n",
      "See the caveats in the documentation: https://pandas.pydata.org/pandas-docs/stable/user_guide/indexing.html#returning-a-view-versus-a-copy\n",
      "  occupants['BAGAVAIL'] = BAGAVAIL_new\n"
     ]
    }
   ],
   "source": [
    "occupants['BAGAVAIL'] = BAGAVAIL_new"
   ]
  },
  {
   "cell_type": "code",
   "execution_count": 97,
   "id": "bc08e100",
   "metadata": {},
   "outputs": [
    {
     "data": {
      "text/plain": [
       "1.00    59125\n",
       "0.00    20582\n",
       "Name: BAGAVAIL, dtype: int64"
      ]
     },
     "execution_count": 97,
     "metadata": {},
     "output_type": "execute_result"
    }
   ],
   "source": [
    "occupants['BAGAVAIL'].value_counts()"
   ]
  },
  {
   "cell_type": "markdown",
   "id": "327d12d8",
   "metadata": {},
   "source": [
    "#### Export do pliku csv "
   ]
  },
  {
   "cell_type": "code",
   "execution_count": 98,
   "id": "b465032f",
   "metadata": {},
   "outputs": [],
   "source": [
    "occupants.to_csv(\"./occupants_cat_z_bagfail.csv\", index = False)"
   ]
  },
  {
   "cell_type": "markdown",
   "id": "73acf857",
   "metadata": {},
   "source": [
    "### Accidents"
   ]
  },
  {
   "cell_type": "code",
   "execution_count": 50,
   "id": "89642241",
   "metadata": {},
   "outputs": [
    {
     "data": {
      "text/plain": [
       "(51978, 4)"
      ]
     },
     "execution_count": 50,
     "metadata": {},
     "output_type": "execute_result"
    }
   ],
   "source": [
    "accidents.shape"
   ]
  },
  {
   "cell_type": "code",
   "execution_count": 51,
   "id": "562b5a6c",
   "metadata": {},
   "outputs": [
    {
     "data": {
      "text/plain": [
       "Index(['CASEID', 'PSU', 'YEAR', 'STRATIF'], dtype='object')"
      ]
     },
     "execution_count": 51,
     "metadata": {},
     "output_type": "execute_result"
    }
   ],
   "source": [
    "accidents.columns"
   ]
  },
  {
   "cell_type": "markdown",
   "id": "c6fcbf55",
   "metadata": {},
   "source": [
    "### STRATIF\n",
    "- 1 - ( A i B) wypadki, w których co najmniej jeden pasażer miał uraz śmiertelny\n",
    "- 2 - (J i K) wypadki, w których co najmniej jeden pasażer miał obrażenia “A” (obrażenia unieruchamiające), przewieziony został do placówki leczniczej i przyjęta na noc do szpitala\n",
    "- 3 - (C i D ) wypadki, w których co najmniej jeden pasażer obrażenia \"A\" (obrażenia unieruchamiające) oraz został przewieziony do placówki leczniczej, bez przyjęcia na noc do szpitala\n",
    "- 4 - (E i F) wypadki, wktórych co najmniej jedna osoba zostałą przewieziona do placówki leczniczej\n",
    "- 5 - (G i H) niewielkie obrażenia"
   ]
  },
  {
   "cell_type": "code",
   "execution_count": 52,
   "id": "7efeb0fb",
   "metadata": {},
   "outputs": [
    {
     "data": {
      "text/plain": [
       "F    10079\n",
       "H     9746\n",
       "K     7434\n",
       "G     6161\n",
       "E     6066\n",
       "D     4174\n",
       "B     3156\n",
       "C     2690\n",
       "J     1785\n",
       "A      685\n",
       "Name: STRATIF, dtype: int64"
      ]
     },
     "execution_count": 52,
     "metadata": {},
     "output_type": "execute_result"
    }
   ],
   "source": [
    "accidents['STRATIF'].value_counts()"
   ]
  },
  {
   "cell_type": "code",
   "execution_count": 53,
   "id": "d0617d2b",
   "metadata": {},
   "outputs": [],
   "source": [
    "#stworzenie kategorii dla accidents - stratif\n",
    "#1 - ( A i B) wypadki, w których co najmniej jeden pasażer miał uraz śmiertelny\n",
    "#2 - (J i K) wypadki, w których co najmniej jeden pasażer miał obrażenia “A” (obrażenia unieruchamiające), przewieziony został do placówki leczniczej i przyjęta na noc do szpitala\n",
    "#3 - (C i D ) wypadki, w których co najmniej jeden pasażer obrażenia \"A\" (obrażenia unieruchamiające) oraz został przewieziony do placówki leczniczej, bez przyjęcia na noc do szpitala\n",
    "#4 - (E i F) wypadki, wktórych co najmniej jedna osoba zostałą przewieziona do placówki leczniczej\n",
    "#5 - (G i H) niewielkie obrażenia"
   ]
  },
  {
   "cell_type": "code",
   "execution_count": 54,
   "id": "51136253",
   "metadata": {},
   "outputs": [],
   "source": [
    "STRATIF_new=[]\n",
    "for i in accidents['STRATIF']:\n",
    "    if i==\"A\" or i==\"B\":\n",
    "        STRATIF_new.append(1)\n",
    "    elif i==\"J\" or i==\"K\":\n",
    "        STRATIF_new.append(2)\n",
    "    elif i==\"C\" or i==\"D\":\n",
    "        STRATIF_new.append(3)\n",
    "    elif i==\"E\" or i==\"F\":\n",
    "        STRATIF_new.append(4)\n",
    "    elif i==\"G\" or i==\"H\":\n",
    "        STRATIF_new.append(5)   \n",
    "    elif math.isnan(i):\n",
    "        STRATIF_new.append(None)"
   ]
  },
  {
   "cell_type": "code",
   "execution_count": 55,
   "id": "4168e9a0",
   "metadata": {
    "collapsed": true
   },
   "outputs": [
    {
     "name": "stderr",
     "output_type": "stream",
     "text": [
      "C:\\Users\\ela\\AppData\\Local\\Temp\\ipykernel_4580\\2472670058.py:1: SettingWithCopyWarning: \n",
      "A value is trying to be set on a copy of a slice from a DataFrame.\n",
      "Try using .loc[row_indexer,col_indexer] = value instead\n",
      "\n",
      "See the caveats in the documentation: https://pandas.pydata.org/pandas-docs/stable/user_guide/indexing.html#returning-a-view-versus-a-copy\n",
      "  accidents['STRATIF'] = STRATIF_new\n"
     ]
    }
   ],
   "source": [
    "accidents['STRATIF'] = STRATIF_new"
   ]
  },
  {
   "cell_type": "code",
   "execution_count": 56,
   "id": "e6cd9e4b",
   "metadata": {},
   "outputs": [
    {
     "data": {
      "text/plain": [
       "4.00    16145\n",
       "5.00    15907\n",
       "2.00     9219\n",
       "3.00     6864\n",
       "1.00     3841\n",
       "Name: STRATIF, dtype: int64"
      ]
     },
     "execution_count": 56,
     "metadata": {},
     "output_type": "execute_result"
    }
   ],
   "source": [
    "accidents['STRATIF'].value_counts()"
   ]
  },
  {
   "cell_type": "code",
   "execution_count": 57,
   "id": "0a716bdf",
   "metadata": {},
   "outputs": [
    {
     "data": {
      "text/plain": [
       "(51978, 4)"
      ]
     },
     "execution_count": 57,
     "metadata": {},
     "output_type": "execute_result"
    }
   ],
   "source": [
    "accidents.shape"
   ]
  },
  {
   "cell_type": "code",
   "execution_count": 65,
   "id": "3ea116a4",
   "metadata": {},
   "outputs": [],
   "source": [
    "accidents.to_csv(\"./accidents_cat.csv\", index = False)"
   ]
  },
  {
   "cell_type": "markdown",
   "id": "1f86d2f1",
   "metadata": {},
   "source": [
    "### VEHICLES"
   ]
  },
  {
   "cell_type": "code",
   "execution_count": 18,
   "id": "2639ec0a",
   "metadata": {},
   "outputs": [],
   "source": [
    "v=vehicles['BODYTYPE'].value_counts()"
   ]
  },
  {
   "cell_type": "code",
   "execution_count": 19,
   "id": "d8a05d44",
   "metadata": {
    "collapsed": true
   },
   "outputs": [
    {
     "data": {
      "text/plain": [
       "BODYTYPE\n",
       "1.00      1020\n",
       "2.00      6804\n",
       "3.00      2148\n",
       "4.00     39927\n",
       "5.00      2100\n",
       "6.00      2301\n",
       "7.00         8\n",
       "8.00        30\n",
       "9.00       656\n",
       "10.00       14\n",
       "11.00        4\n",
       "12.00        8\n",
       "14.00    13693\n",
       "15.00     3492\n",
       "16.00      551\n",
       "17.00       41\n",
       "19.00       90\n",
       "20.00     4689\n",
       "21.00     1419\n",
       "22.00       56\n",
       "23.00        7\n",
       "24.00       22\n",
       "25.00       27\n",
       "28.00      102\n",
       "29.00       35\n",
       "30.00     4050\n",
       "31.00     7348\n",
       "32.00        3\n",
       "33.00        7\n",
       "39.00      184\n",
       "40.00      124\n",
       "41.00        2\n",
       "42.00        1\n",
       "45.00        1\n",
       "48.00       16\n",
       "50.00      134\n",
       "58.00      236\n",
       "59.00       36\n",
       "60.00       27\n",
       "61.00      221\n",
       "62.00      136\n",
       "63.00      352\n",
       "64.00      190\n",
       "65.00       18\n",
       "67.00       92\n",
       "68.00     1323\n",
       "69.00       48\n",
       "70.00       34\n",
       "74.00       58\n",
       "78.00      300\n",
       "79.00       27\n",
       "80.00      138\n",
       "81.00        3\n",
       "82.00        1\n",
       "89.00        5\n",
       "90.00        2\n",
       "92.00       19\n",
       "93.00       14\n",
       "97.00       10\n",
       "Name: CASEID, dtype: int64"
      ]
     },
     "execution_count": 19,
     "metadata": {},
     "output_type": "execute_result"
    }
   ],
   "source": [
    "vehicles.groupby('BODYTYPE')['CASEID'].count()"
   ]
  },
  {
   "cell_type": "markdown",
   "id": "9b8f22c4",
   "metadata": {},
   "source": [
    "#### BODYTYPE\n",
    "- 1: osobowe (1-9,17)\n",
    "- 2: większe osobowe (10-16, 19-22, 29-39),\n",
    "- 3: busy ( 23-28, 50,58-60),\n",
    "- 4: dostawcze (40-48),\n",
    "- 5: ciężarówki (61-79),\n",
    "- 6: motory (80-90), \n",
    "- 7: pozostałe (>=91)"
   ]
  },
  {
   "cell_type": "code",
   "execution_count": 20,
   "id": "cde8a5f1",
   "metadata": {},
   "outputs": [],
   "source": [
    "BODYTYPE_new=[]\n",
    "for i in vehicles['BODYTYPE']:\n",
    "    if i>=1 and i<10:\n",
    "        BODYTYPE_new.append(1)\n",
    "    if i==17:\n",
    "        BODYTYPE_new.append(1)\n",
    "    if i>=10 and i<17:\n",
    "        BODYTYPE_new.append(2)\n",
    "    if i>=19 and i<23:\n",
    "        BODYTYPE_new.append(2)\n",
    "    if i>=29 and i<40:\n",
    "        BODYTYPE_new.append(2)\n",
    "    if i>=23 and i<29:\n",
    "        BODYTYPE_new.append(3)\n",
    "    if i==50 :\n",
    "        BODYTYPE_new.append(3)\n",
    "    if i>=58 and i<61:\n",
    "        BODYTYPE_new.append(3)\n",
    "    if i>=40 and i<49:\n",
    "        BODYTYPE_new.append(4)\n",
    "    if i>=61 and i<80:\n",
    "        BODYTYPE_new.append(5)\n",
    "    if i>=80 and i<91:\n",
    "        BODYTYPE_new.append(6)\n",
    "    elif i>=91:\n",
    "        BODYTYPE_new.append(7)\n",
    "    elif math.isnan(i):\n",
    "        BODYTYPE_new.append(None)"
   ]
  },
  {
   "cell_type": "code",
   "execution_count": 21,
   "id": "d3257522",
   "metadata": {
    "collapsed": true
   },
   "outputs": [
    {
     "name": "stderr",
     "output_type": "stream",
     "text": [
      "C:\\Users\\ela\\AppData\\Local\\Temp\\ipykernel_7548\\1469288314.py:1: SettingWithCopyWarning: \n",
      "A value is trying to be set on a copy of a slice from a DataFrame.\n",
      "Try using .loc[row_indexer,col_indexer] = value instead\n",
      "\n",
      "See the caveats in the documentation: https://pandas.pydata.org/pandas-docs/stable/user_guide/indexing.html#returning-a-view-versus-a-copy\n",
      "  vehicles['BODYTYPE'] = BODYTYPE_new\n"
     ]
    }
   ],
   "source": [
    "vehicles['BODYTYPE'] = BODYTYPE_new"
   ]
  },
  {
   "cell_type": "code",
   "execution_count": 22,
   "id": "ff2399c9",
   "metadata": {},
   "outputs": [
    {
     "data": {
      "text/plain": [
       "BODYTYPE\n",
       "1.00    55035\n",
       "2.00    35643\n",
       "3.00      591\n",
       "4.00      144\n",
       "5.00     2799\n",
       "6.00      149\n",
       "7.00       43\n",
       "Name: CASEID, dtype: int64"
      ]
     },
     "execution_count": 22,
     "metadata": {},
     "output_type": "execute_result"
    }
   ],
   "source": [
    "vehicles.groupby('BODYTYPE')['CASEID'].count()"
   ]
  },
  {
   "cell_type": "code",
   "execution_count": 23,
   "id": "cb14d3cf",
   "metadata": {},
   "outputs": [],
   "source": [
    "vehicles.to_csv(\"./vehicles_cat.csv\", index = False)"
   ]
  },
  {
   "cell_type": "code",
   "execution_count": null,
   "id": "636ee78b",
   "metadata": {},
   "outputs": [],
   "source": []
  }
 ],
 "metadata": {
  "kernelspec": {
   "display_name": "Python 3 (ipykernel)",
   "language": "python",
   "name": "python3"
  },
  "language_info": {
   "codemirror_mode": {
    "name": "ipython",
    "version": 3
   },
   "file_extension": ".py",
   "mimetype": "text/x-python",
   "name": "python",
   "nbconvert_exporter": "python",
   "pygments_lexer": "ipython3",
   "version": "3.9.12"
  }
 },
 "nbformat": 4,
 "nbformat_minor": 5
}
