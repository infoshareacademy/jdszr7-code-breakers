{
 "cells": [
  {
   "cell_type": "markdown",
   "id": "8a33793d",
   "metadata": {},
   "source": [
    "# Uber - analiza danych wypadków\n",
    "\n",
    "------------------------------------------------------"
   ]
  },
  {
   "cell_type": "markdown",
   "id": "d5bc2269",
   "metadata": {},
   "source": [
    "Na dane surowe składają się 32 kolumny i 2716227 wierszy. https://www.kaggle.com/datasets/cfurby243/fatalityfacts?select=database.sqlite\n",
    "\n",
    "Celem projektu jest identyfikacja pojazdów, kierowców i miejsc w samochodzie pod kątem najbezpieczniejszych przejazdów. \n",
    "\n",
    "Aby dane były bardziej przejrzyste i by uniknąć duplikatów podzieliliśmy je na trzy tabele połączone kluczami głównymi CASEID i PSU.\n",
    "\n",
    "------------------------------------------------------"
   ]
  },
  {
   "cell_type": "markdown",
   "id": "be6635f9",
   "metadata": {},
   "source": [
    "## 1. Tabela OCCUPANTS"
   ]
  },
  {
   "cell_type": "markdown",
   "id": "e28f79ff",
   "metadata": {},
   "source": [
    "#### Odnosi się do uczestników wypadków"
   ]
  },
  {
   "cell_type": "markdown",
   "id": "39374116",
   "metadata": {},
   "source": [
    "### _14 kolumn_\n",
    "1. CASEID - CASE NUMBER\n",
    "Składa się z oznaczenia numerycznego i literowego.\n",
    "    - Numeryczne - określa numer wypadku w danym regionie (PSU)\n",
    "    - Literowe - odpowiada klasyfikacji obrażeń (STRATIF)\n",
    "2. PSU - PRIMARY SAMPLING UNIT NUMBER\n",
    "   - Numeryczne oznaczenia 24 regionów w USA\n",
    "3. YEAR - YEAR OF ACCIDENT\n",
    "    - rok wypadku (2004-2015)\n",
    "4. AGE - AGE OF OCCUPANT -- Wprowadzamy kategorie wiekowe:\n",
    "    - 0-17 lat --> 1\n",
    "    - 18-25 lat --> 2\n",
    "    - 26-30 lat --> 3\n",
    "    - 31-50 lat --> 4\n",
    "    - 51-70 lat --> 5\n",
    "    - 71 <= lat --> 6\n",
    "    \n",
    "5. BAGAVAIL - AIR BAG SYSTEM AVAILABILITY\n",
    "    - brak poduszki --> 0\n",
    "    - poduszka na wyposażeniu --> 1\n",
    "    \n",
    "6. BAGFAIL - AIR BAG SYSTEM FAILURE\n",
    "    - brak poduszki --> 0\n",
    "    - brak awarii --> 1\n",
    "    - awaria --> 2\n",
    "\n",
    "8. HEIGHT - HEIGHT OF OCCUPANT\n",
    "    - 0-80 cm --> 1\n",
    "    - 81-130 cm --> 2\n",
    "    - 131-165 cm --> 3\n",
    "    - 166-180 cm --> 4\n",
    "    - 181-199 cm --> 5\n",
    "    - 200-219 cm --> 6\n",
    "    - 220-... cm --> 7\n",
    "9. INJSEV - INJURY SEVERITY (POLICE RATING)\n",
    "    - brak obrażen --> 0\n",
    "    - odniesione lekkie obrażenia (1,2) --> 1\n",
    "    - odniesione poważne obrażenia (3) --> 2\n",
    "    - śmierć (4,6) --> 4\n",
    "    \n",
    "10. MANUSE - MANUAL BELT SYSTEM USE\n",
    "    - niezapięte (0, 1) --> 1\n",
    "    - zapięte (2 -18) --> 2\n",
    "\n",
    "11. OCCNO - OCCUPANT NUMBER\n",
    "\n",
    "12. ROLE - OCCUPANT'S ROLE\n",
    "    - kierowca --> 1\n",
    "    - pasażer --> 2\n",
    "13. SEATPOS - OCCUPANT'S SEAT POSITION\n",
    "    - pierwszy rząd --> 1\n",
    "    - pierwszy rząd --> 2\n",
    "    - pierwszy rząd --> 3\n",
    "    - niestandardowe miejsce --> 4\n",
    "14. SEX - OCCUPANT'S SEX\n",
    "    - 0 - mężczyźni, \n",
    "    - 1 - kobiety, \n",
    "    - 2 - kobiety w ciąży\n",
    "15. WEIGHT - OCCUPANT'S WEIGHT\n",
    "    - 0-15 kg --> 1\n",
    "    - 16-45 kg --> 2\n",
    "    - 46-60 kg --> 3\n",
    "    - 61-80 kg --> 4\n",
    "    - 81-100 kg --> 5\n",
    "    - 101-149 kg --> 6\n",
    "    - powyżej 150 kg --> 7\n",
    "\n"
   ]
  },
  {
   "cell_type": "markdown",
   "id": "6cf1f235",
   "metadata": {},
   "source": [
    "----------------------------------"
   ]
  },
  {
   "cell_type": "markdown",
   "id": "c732e55c",
   "metadata": {},
   "source": [
    "## 2. Tabela VEHICLES"
   ]
  },
  {
   "cell_type": "markdown",
   "id": "9516e58e",
   "metadata": {},
   "source": [
    "### _6 kolumn_\n",
    "1. CASEID - CASE NUMBER\n",
    "2. PSU - PRIMARY SAMPLING UNIT NUMBER\n",
    "3. YEAR - YEAR OF ACCIDENT\n",
    "4. BODYTYPE -- Typ pojazdu\n",
    "    - 1 - dla kategorii: 1-9, 17 - samochody osobowe\n",
    "    - 2 - dla kategorii: 10-16, 19-22, 29-39 - większe osobowe\n",
    "    - 3 - dla kategorii: 23-28, 50, 58-60 - busy\n",
    "    - 4 - dla kategorii: 40-48 - dostawcze \n",
    "    - 5 - dla kategorii: 61-79 - ciężarowki \n",
    "    - 6 - dla kategorii: 80-90 - motory\n",
    "    - 7 - dla kategorii: >=91 - pozostale \n",
    "        \n",
    "5. MODELYR\n",
    "    - Rocznik produkcji pojazdu\n",
    "6. AGE_OF_CAR\n",
    "    - wiek auta w chwili wypadku = (YEAR-MODELYR)"
   ]
  },
  {
   "cell_type": "markdown",
   "id": "60ab979b",
   "metadata": {},
   "source": [
    "--------------------------"
   ]
  },
  {
   "cell_type": "markdown",
   "id": "bed7ace5",
   "metadata": {},
   "source": [
    "## 3. Tabela ACCIDENTS"
   ]
  },
  {
   "cell_type": "markdown",
   "id": "a478bdbf",
   "metadata": {},
   "source": [
    "###  _4 kolumny_\n",
    "1. CASEID - CASE NUMBER\n",
    "2. PSU - PRIMARY SAMPLING UNIT NUMBER\n",
    "3. YEAR - YEAR OF ACCIDENT\n",
    "4. STRATIF - CASE STRATUM\n",
    "    - 1 - A, B – smiertelne obrażenia (wypadki, w których co najmniej jeden pasażer miał uraz śmiertelny)\n",
    "    - 2 - J, K – poważne obrażenia – co najmniej jeden pasażer hospitalizowany (min. 1 noc)\n",
    "    - 3 - C, D – poważne obrażenia – nie hospitalizowany, co najmniej jeden pasażer z obrażeniami \"A\"\n",
    "    - 4 - E, F – niewielkie obrażenia, ale przewieziony do szpitala\n",
    "    - 5 - G, H – niewielkie obrażenia\n",
    "    "
   ]
  },
  {
   "cell_type": "code",
   "execution_count": null,
   "id": "0504d0fe",
   "metadata": {},
   "outputs": [],
   "source": []
  }
 ],
 "metadata": {
  "kernelspec": {
   "display_name": "Python 3 (ipykernel)",
   "language": "python",
   "name": "python3"
  },
  "language_info": {
   "codemirror_mode": {
    "name": "ipython",
    "version": 3
   },
   "file_extension": ".py",
   "mimetype": "text/x-python",
   "name": "python",
   "nbconvert_exporter": "python",
   "pygments_lexer": "ipython3",
   "version": "3.9.7"
  }
 },
 "nbformat": 4,
 "nbformat_minor": 5
}
