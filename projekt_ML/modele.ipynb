{
 "cells": [
  {
   "cell_type": "code",
   "execution_count": 1,
   "id": "252d9b4b",
   "metadata": {},
   "outputs": [],
   "source": [
    "import pandas as pd\n",
    "import seaborn as sns\n",
    "import numpy as np\n",
    "import matplotlib.pyplot as plt\n",
    "from sklearn.linear_model import LogisticRegression # estymator klasyfikacji=klasyfikator\n",
    "from sklearn.model_selection import train_test_split # podział na zbiór testowy i treningowy\n",
    "import statsmodels.api as sm\n",
    "from sklearn.metrics import accuracy_score, classification_report, f1_score, precision_score, roc_auc_score,plot_roc_curve\n",
    "from sklearn.preprocessing import StandardScaler, LabelEncoder, MinMaxScaler\n",
    "from sklearn.metrics import confusion_matrix # podsumowanie klasyfikacji\n",
    "from sklearn.decomposition import PCA # analiza głównych składowych - w celu redukcji wymiarowości danych\n",
    "from scipy import signal\n",
    "import scipy\n",
    "from sklearn.model_selection import RandomizedSearchCV, GridSearchCV, cross_val_score\n",
    "from sklearn.tree import DecisionTreeClassifier, DecisionTreeRegressor\n",
    "from sklearn.metrics import classification_report, accuracy_score \n",
    "from sklearn.metrics import precision_score, recall_score\n",
    "from sklearn.ensemble import RandomForestClassifier\n"
   ]
  },
  {
   "cell_type": "code",
   "execution_count": 2,
   "id": "fe589843",
   "metadata": {},
   "outputs": [],
   "source": [
    "df_rm=pd.read_csv(\"df_rm.csv\")"
   ]
  },
  {
   "cell_type": "code",
   "execution_count": 3,
   "id": "5a4e0f66",
   "metadata": {},
   "outputs": [
    {
     "data": {
      "text/html": [
       "<div>\n",
       "<style scoped>\n",
       "    .dataframe tbody tr th:only-of-type {\n",
       "        vertical-align: middle;\n",
       "    }\n",
       "\n",
       "    .dataframe tbody tr th {\n",
       "        vertical-align: top;\n",
       "    }\n",
       "\n",
       "    .dataframe thead th {\n",
       "        text-align: right;\n",
       "    }\n",
       "</style>\n",
       "<table border=\"1\" class=\"dataframe\">\n",
       "  <thead>\n",
       "    <tr style=\"text-align: right;\">\n",
       "      <th></th>\n",
       "      <th>fixed acidity</th>\n",
       "      <th>volatile acidity</th>\n",
       "      <th>citric acid</th>\n",
       "      <th>residual sugar</th>\n",
       "      <th>chlorides</th>\n",
       "      <th>free sulfur dioxide</th>\n",
       "      <th>total sulfur dioxide</th>\n",
       "      <th>density</th>\n",
       "      <th>pH</th>\n",
       "      <th>sulphates</th>\n",
       "      <th>alcohol</th>\n",
       "      <th>quality</th>\n",
       "    </tr>\n",
       "  </thead>\n",
       "  <tbody>\n",
       "    <tr>\n",
       "      <th>0</th>\n",
       "      <td>7.4</td>\n",
       "      <td>0.70</td>\n",
       "      <td>0.00</td>\n",
       "      <td>1.9</td>\n",
       "      <td>0.076</td>\n",
       "      <td>11.0</td>\n",
       "      <td>34.0</td>\n",
       "      <td>0.9978</td>\n",
       "      <td>3.51</td>\n",
       "      <td>0.56</td>\n",
       "      <td>9.4</td>\n",
       "      <td>0</td>\n",
       "    </tr>\n",
       "    <tr>\n",
       "      <th>1</th>\n",
       "      <td>7.8</td>\n",
       "      <td>0.88</td>\n",
       "      <td>0.00</td>\n",
       "      <td>2.6</td>\n",
       "      <td>0.098</td>\n",
       "      <td>25.0</td>\n",
       "      <td>67.0</td>\n",
       "      <td>0.9968</td>\n",
       "      <td>3.20</td>\n",
       "      <td>0.68</td>\n",
       "      <td>9.8</td>\n",
       "      <td>0</td>\n",
       "    </tr>\n",
       "    <tr>\n",
       "      <th>2</th>\n",
       "      <td>7.8</td>\n",
       "      <td>0.76</td>\n",
       "      <td>0.04</td>\n",
       "      <td>2.3</td>\n",
       "      <td>0.092</td>\n",
       "      <td>15.0</td>\n",
       "      <td>54.0</td>\n",
       "      <td>0.9970</td>\n",
       "      <td>3.26</td>\n",
       "      <td>0.65</td>\n",
       "      <td>9.8</td>\n",
       "      <td>0</td>\n",
       "    </tr>\n",
       "    <tr>\n",
       "      <th>3</th>\n",
       "      <td>11.2</td>\n",
       "      <td>0.28</td>\n",
       "      <td>0.56</td>\n",
       "      <td>1.9</td>\n",
       "      <td>0.075</td>\n",
       "      <td>17.0</td>\n",
       "      <td>60.0</td>\n",
       "      <td>0.9980</td>\n",
       "      <td>3.16</td>\n",
       "      <td>0.58</td>\n",
       "      <td>9.8</td>\n",
       "      <td>0</td>\n",
       "    </tr>\n",
       "    <tr>\n",
       "      <th>4</th>\n",
       "      <td>7.4</td>\n",
       "      <td>0.66</td>\n",
       "      <td>0.00</td>\n",
       "      <td>1.8</td>\n",
       "      <td>0.075</td>\n",
       "      <td>13.0</td>\n",
       "      <td>40.0</td>\n",
       "      <td>0.9978</td>\n",
       "      <td>3.51</td>\n",
       "      <td>0.56</td>\n",
       "      <td>9.4</td>\n",
       "      <td>0</td>\n",
       "    </tr>\n",
       "  </tbody>\n",
       "</table>\n",
       "</div>"
      ],
      "text/plain": [
       "   fixed acidity  volatile acidity  citric acid  residual sugar  chlorides  \\\n",
       "0            7.4              0.70         0.00             1.9      0.076   \n",
       "1            7.8              0.88         0.00             2.6      0.098   \n",
       "2            7.8              0.76         0.04             2.3      0.092   \n",
       "3           11.2              0.28         0.56             1.9      0.075   \n",
       "4            7.4              0.66         0.00             1.8      0.075   \n",
       "\n",
       "   free sulfur dioxide  total sulfur dioxide  density    pH  sulphates  \\\n",
       "0                 11.0                  34.0   0.9978  3.51       0.56   \n",
       "1                 25.0                  67.0   0.9968  3.20       0.68   \n",
       "2                 15.0                  54.0   0.9970  3.26       0.65   \n",
       "3                 17.0                  60.0   0.9980  3.16       0.58   \n",
       "4                 13.0                  40.0   0.9978  3.51       0.56   \n",
       "\n",
       "   alcohol  quality  \n",
       "0      9.4        0  \n",
       "1      9.8        0  \n",
       "2      9.8        0  \n",
       "3      9.8        0  \n",
       "4      9.4        0  "
      ]
     },
     "execution_count": 3,
     "metadata": {},
     "output_type": "execute_result"
    }
   ],
   "source": [
    "df_rm.head()"
   ]
  },
  {
   "cell_type": "code",
   "execution_count": 4,
   "id": "eaf74a5e",
   "metadata": {},
   "outputs": [
    {
     "data": {
      "text/plain": [
       "(1232, 12)"
      ]
     },
     "execution_count": 4,
     "metadata": {},
     "output_type": "execute_result"
    }
   ],
   "source": [
    "df_rm.shape"
   ]
  },
  {
   "cell_type": "code",
   "execution_count": 5,
   "id": "c05651bf",
   "metadata": {},
   "outputs": [
    {
     "data": {
      "text/html": [
       "<div>\n",
       "<style scoped>\n",
       "    .dataframe tbody tr th:only-of-type {\n",
       "        vertical-align: middle;\n",
       "    }\n",
       "\n",
       "    .dataframe tbody tr th {\n",
       "        vertical-align: top;\n",
       "    }\n",
       "\n",
       "    .dataframe thead th {\n",
       "        text-align: right;\n",
       "    }\n",
       "</style>\n",
       "<table border=\"1\" class=\"dataframe\">\n",
       "  <thead>\n",
       "    <tr style=\"text-align: right;\">\n",
       "      <th></th>\n",
       "      <th>fixed acidity</th>\n",
       "      <th>volatile acidity</th>\n",
       "      <th>citric acid</th>\n",
       "      <th>residual sugar</th>\n",
       "      <th>chlorides</th>\n",
       "      <th>free sulfur dioxide</th>\n",
       "      <th>total sulfur dioxide</th>\n",
       "      <th>density</th>\n",
       "      <th>pH</th>\n",
       "      <th>sulphates</th>\n",
       "      <th>alcohol</th>\n",
       "      <th>quality</th>\n",
       "    </tr>\n",
       "  </thead>\n",
       "  <tbody>\n",
       "    <tr>\n",
       "      <th>count</th>\n",
       "      <td>1232.000000</td>\n",
       "      <td>1232.000000</td>\n",
       "      <td>1232.000000</td>\n",
       "      <td>1232.000000</td>\n",
       "      <td>1232.000000</td>\n",
       "      <td>1232.000000</td>\n",
       "      <td>1232.000000</td>\n",
       "      <td>1232.000000</td>\n",
       "      <td>1232.000000</td>\n",
       "      <td>1232.000000</td>\n",
       "      <td>1232.000000</td>\n",
       "      <td>1232.000000</td>\n",
       "    </tr>\n",
       "    <tr>\n",
       "      <th>mean</th>\n",
       "      <td>8.303328</td>\n",
       "      <td>0.524144</td>\n",
       "      <td>0.266266</td>\n",
       "      <td>2.376948</td>\n",
       "      <td>0.081702</td>\n",
       "      <td>15.185877</td>\n",
       "      <td>44.353896</td>\n",
       "      <td>0.996673</td>\n",
       "      <td>3.313360</td>\n",
       "      <td>0.642192</td>\n",
       "      <td>10.425785</td>\n",
       "      <td>0.137175</td>\n",
       "    </tr>\n",
       "    <tr>\n",
       "      <th>std</th>\n",
       "      <td>1.649113</td>\n",
       "      <td>0.171969</td>\n",
       "      <td>0.190753</td>\n",
       "      <td>0.823759</td>\n",
       "      <td>0.022433</td>\n",
       "      <td>9.335015</td>\n",
       "      <td>30.051752</td>\n",
       "      <td>0.001714</td>\n",
       "      <td>0.140937</td>\n",
       "      <td>0.129924</td>\n",
       "      <td>1.038477</td>\n",
       "      <td>0.344172</td>\n",
       "    </tr>\n",
       "    <tr>\n",
       "      <th>min</th>\n",
       "      <td>5.000000</td>\n",
       "      <td>0.120000</td>\n",
       "      <td>0.000000</td>\n",
       "      <td>1.200000</td>\n",
       "      <td>0.038000</td>\n",
       "      <td>1.000000</td>\n",
       "      <td>6.000000</td>\n",
       "      <td>0.991500</td>\n",
       "      <td>2.880000</td>\n",
       "      <td>0.330000</td>\n",
       "      <td>8.500000</td>\n",
       "      <td>0.000000</td>\n",
       "    </tr>\n",
       "    <tr>\n",
       "      <th>25%</th>\n",
       "      <td>7.100000</td>\n",
       "      <td>0.390000</td>\n",
       "      <td>0.090000</td>\n",
       "      <td>1.900000</td>\n",
       "      <td>0.070000</td>\n",
       "      <td>7.000000</td>\n",
       "      <td>21.000000</td>\n",
       "      <td>0.995600</td>\n",
       "      <td>3.220000</td>\n",
       "      <td>0.550000</td>\n",
       "      <td>9.500000</td>\n",
       "      <td>0.000000</td>\n",
       "    </tr>\n",
       "    <tr>\n",
       "      <th>50%</th>\n",
       "      <td>7.900000</td>\n",
       "      <td>0.520000</td>\n",
       "      <td>0.250000</td>\n",
       "      <td>2.200000</td>\n",
       "      <td>0.079000</td>\n",
       "      <td>13.000000</td>\n",
       "      <td>37.000000</td>\n",
       "      <td>0.996680</td>\n",
       "      <td>3.310000</td>\n",
       "      <td>0.620000</td>\n",
       "      <td>10.200000</td>\n",
       "      <td>0.000000</td>\n",
       "    </tr>\n",
       "    <tr>\n",
       "      <th>75%</th>\n",
       "      <td>9.200000</td>\n",
       "      <td>0.636250</td>\n",
       "      <td>0.420000</td>\n",
       "      <td>2.600000</td>\n",
       "      <td>0.089000</td>\n",
       "      <td>21.000000</td>\n",
       "      <td>60.000000</td>\n",
       "      <td>0.997800</td>\n",
       "      <td>3.400000</td>\n",
       "      <td>0.710000</td>\n",
       "      <td>11.100000</td>\n",
       "      <td>0.000000</td>\n",
       "    </tr>\n",
       "    <tr>\n",
       "      <th>max</th>\n",
       "      <td>13.500000</td>\n",
       "      <td>1.070000</td>\n",
       "      <td>0.790000</td>\n",
       "      <td>6.550000</td>\n",
       "      <td>0.236000</td>\n",
       "      <td>47.000000</td>\n",
       "      <td>147.000000</td>\n",
       "      <td>1.002200</td>\n",
       "      <td>3.750000</td>\n",
       "      <td>1.170000</td>\n",
       "      <td>13.600000</td>\n",
       "      <td>1.000000</td>\n",
       "    </tr>\n",
       "  </tbody>\n",
       "</table>\n",
       "</div>"
      ],
      "text/plain": [
       "       fixed acidity  volatile acidity  citric acid  residual sugar  \\\n",
       "count    1232.000000       1232.000000  1232.000000     1232.000000   \n",
       "mean        8.303328          0.524144     0.266266        2.376948   \n",
       "std         1.649113          0.171969     0.190753        0.823759   \n",
       "min         5.000000          0.120000     0.000000        1.200000   \n",
       "25%         7.100000          0.390000     0.090000        1.900000   \n",
       "50%         7.900000          0.520000     0.250000        2.200000   \n",
       "75%         9.200000          0.636250     0.420000        2.600000   \n",
       "max        13.500000          1.070000     0.790000        6.550000   \n",
       "\n",
       "         chlorides  free sulfur dioxide  total sulfur dioxide      density  \\\n",
       "count  1232.000000          1232.000000           1232.000000  1232.000000   \n",
       "mean      0.081702            15.185877             44.353896     0.996673   \n",
       "std       0.022433             9.335015             30.051752     0.001714   \n",
       "min       0.038000             1.000000              6.000000     0.991500   \n",
       "25%       0.070000             7.000000             21.000000     0.995600   \n",
       "50%       0.079000            13.000000             37.000000     0.996680   \n",
       "75%       0.089000            21.000000             60.000000     0.997800   \n",
       "max       0.236000            47.000000            147.000000     1.002200   \n",
       "\n",
       "                pH    sulphates      alcohol      quality  \n",
       "count  1232.000000  1232.000000  1232.000000  1232.000000  \n",
       "mean      3.313360     0.642192    10.425785     0.137175  \n",
       "std       0.140937     0.129924     1.038477     0.344172  \n",
       "min       2.880000     0.330000     8.500000     0.000000  \n",
       "25%       3.220000     0.550000     9.500000     0.000000  \n",
       "50%       3.310000     0.620000    10.200000     0.000000  \n",
       "75%       3.400000     0.710000    11.100000     0.000000  \n",
       "max       3.750000     1.170000    13.600000     1.000000  "
      ]
     },
     "execution_count": 5,
     "metadata": {},
     "output_type": "execute_result"
    }
   ],
   "source": [
    "df_rm.describe()"
   ]
  },
  {
   "cell_type": "code",
   "execution_count": 6,
   "id": "5f32577b",
   "metadata": {},
   "outputs": [],
   "source": [
    "X = df_rm.drop(\"quality\", axis=1)\n",
    "y = df_rm[\"quality\"]"
   ]
  },
  {
   "cell_type": "code",
   "execution_count": 7,
   "id": "ff048da9",
   "metadata": {},
   "outputs": [],
   "source": [
    "# Splitting the dataset into the Training set and Test set\n",
    "from sklearn.model_selection import train_test_split\n",
    "X_train, X_test, y_train, y_test = train_test_split(X, y, test_size = 0.2, random_state = 42)"
   ]
  },
  {
   "cell_type": "code",
   "execution_count": 8,
   "id": "0bb6e058",
   "metadata": {},
   "outputs": [
    {
     "name": "stdout",
     "output_type": "stream",
     "text": [
      "Shape of X_train:  (985, 11)\n",
      "Shape of X_test:  (247, 11)\n",
      "Shape of y_train:  (985,)\n",
      "Shape of y_test (247,)\n"
     ]
    }
   ],
   "source": [
    "print(\"Shape of X_train: \",X_train.shape)\n",
    "print(\"Shape of X_test: \", X_test.shape)\n",
    "print(\"Shape of y_train: \",y_train.shape)\n",
    "print(\"Shape of y_test\",y_test.shape)"
   ]
  },
  {
   "cell_type": "markdown",
   "id": "f07c3f68",
   "metadata": {},
   "source": [
    "Feature Scaling"
   ]
  },
  {
   "cell_type": "code",
   "execution_count": 9,
   "id": "29a88d9b",
   "metadata": {},
   "outputs": [],
   "source": [
    "scaler = StandardScaler().fit(X_train)\n",
    "X_train = scaler.transform(X_train)\n",
    "X_test = scaler.transform(X_test)"
   ]
  },
  {
   "cell_type": "markdown",
   "id": "8a99c613",
   "metadata": {},
   "source": [
    "#### Logistic Regression"
   ]
  },
  {
   "cell_type": "code",
   "execution_count": 10,
   "id": "b572c2ca",
   "metadata": {},
   "outputs": [],
   "source": [
    "model=LogisticRegression().fit(X_train,y_train)"
   ]
  },
  {
   "cell_type": "code",
   "execution_count": 11,
   "id": "50cb5db5",
   "metadata": {},
   "outputs": [
    {
     "data": {
      "text/plain": [
       "array([[ 0.48189569, -0.45853787, -0.18694313,  0.26067398, -0.23052756,\n",
       "         0.01023646, -0.4482679 , -0.51982741, -0.13548556,  0.82193096,\n",
       "         0.79602089]])"
      ]
     },
     "execution_count": 11,
     "metadata": {},
     "output_type": "execute_result"
    }
   ],
   "source": [
    "model.coef_"
   ]
  },
  {
   "cell_type": "code",
   "execution_count": 12,
   "id": "da5d87ba",
   "metadata": {},
   "outputs": [
    {
     "data": {
      "text/plain": [
       "array([-2.92122481])"
      ]
     },
     "execution_count": 12,
     "metadata": {},
     "output_type": "execute_result"
    }
   ],
   "source": [
    "model.intercept_"
   ]
  },
  {
   "cell_type": "markdown",
   "id": "4730ffd9",
   "metadata": {},
   "source": [
    "##### Ocena jakości modelu na danych treningowych"
   ]
  },
  {
   "cell_type": "code",
   "execution_count": 13,
   "id": "fe6daef8",
   "metadata": {},
   "outputs": [],
   "source": [
    "pred_train=model.predict(X_train)"
   ]
  },
  {
   "cell_type": "code",
   "execution_count": 14,
   "id": "fa0fc20d",
   "metadata": {},
   "outputs": [],
   "source": [
    "pred_train_proba=model.predict_proba(X_train)[:,1]"
   ]
  },
  {
   "cell_type": "code",
   "execution_count": 15,
   "id": "c073372c",
   "metadata": {},
   "outputs": [
    {
     "data": {
      "text/plain": [
       "0.8903553299492386"
      ]
     },
     "execution_count": 15,
     "metadata": {},
     "output_type": "execute_result"
    }
   ],
   "source": [
    "accuracy_score(y_train,pred_train)"
   ]
  },
  {
   "cell_type": "code",
   "execution_count": 16,
   "id": "ba2912ae",
   "metadata": {},
   "outputs": [
    {
     "data": {
      "text/plain": [
       "0.8897058823529411"
      ]
     },
     "execution_count": 16,
     "metadata": {},
     "output_type": "execute_result"
    }
   ],
   "source": [
    "roc_auc_score(y_train,pred_train_proba)"
   ]
  },
  {
   "cell_type": "code",
   "execution_count": 17,
   "id": "fc4a859f",
   "metadata": {},
   "outputs": [
    {
     "data": {
      "text/plain": [
       "array([[821,  28],\n",
       "       [ 80,  56]], dtype=int64)"
      ]
     },
     "execution_count": 17,
     "metadata": {},
     "output_type": "execute_result"
    }
   ],
   "source": [
    "confusion_matrix(y_train,pred_train)"
   ]
  },
  {
   "cell_type": "code",
   "execution_count": 18,
   "id": "c447843d",
   "metadata": {},
   "outputs": [
    {
     "name": "stderr",
     "output_type": "stream",
     "text": [
      "C:\\Users\\ela\\anaconda3\\lib\\site-packages\\sklearn\\utils\\deprecation.py:87: FutureWarning: Function plot_roc_curve is deprecated; Function :func:`plot_roc_curve` is deprecated in 1.0 and will be removed in 1.2. Use one of the class methods: :meth:`sklearn.metric.RocCurveDisplay.from_predictions` or :meth:`sklearn.metric.RocCurveDisplay.from_estimator`.\n",
      "  warnings.warn(msg, category=FutureWarning)\n"
     ]
    },
    {
     "data": {
      "text/plain": [
       "<sklearn.metrics._plot.roc_curve.RocCurveDisplay at 0x28095ed0190>"
      ]
     },
     "execution_count": 18,
     "metadata": {},
     "output_type": "execute_result"
    },
    {
     "data": {
      "image/png": "[encoded data removed]",
      "text/plain": [
       "<Figure size 432x288 with 1 Axes>"
      ]
     },
     "metadata": {
      "needs_background": "light"
     },
     "output_type": "display_data"
    }
   ],
   "source": [
    "plot_roc_curve(model,X_train,y_train)"
   ]
  },
  {
   "cell_type": "markdown",
   "id": "e3f01e6d",
   "metadata": {},
   "source": [
    "##### Ocena jakości modelu na danych testowych"
   ]
  },
  {
   "cell_type": "code",
   "execution_count": 19,
   "id": "3ebdd1fc",
   "metadata": {},
   "outputs": [
    {
     "data": {
      "text/plain": [
       "array([0, 0, 0, 0, 0, 0, 0, 0, 0, 0, 0, 0, 0, 0, 1, 0, 0, 0, 0, 0, 0, 0,\n",
       "       0, 0, 0, 0, 0, 0, 0, 0, 0, 0, 0, 0, 0, 0, 0, 0, 0, 0, 0, 1, 0, 0,\n",
       "       0, 0, 0, 0, 0, 0, 1, 0, 0, 0, 1, 0, 0, 0, 0, 1, 0, 1, 0, 0, 0, 1,\n",
       "       0, 0, 0, 0, 0, 0, 0, 0, 0, 0, 0, 0, 0, 0, 0, 0, 0, 0, 0, 0, 0, 0,\n",
       "       0, 0, 1, 0, 0, 1, 0, 0, 0, 0, 0, 0, 0, 0, 0, 0, 0, 0, 0, 0, 0, 1,\n",
       "       0, 1, 0, 0, 0, 0, 0, 0, 0, 0, 0, 0, 0, 0, 0, 0, 0, 0, 0, 0, 0, 0,\n",
       "       0, 0, 0, 0, 0, 0, 0, 0, 0, 0, 0, 1, 0, 0, 0, 1, 0, 1, 1, 0, 0, 0,\n",
       "       0, 0, 0, 0, 0, 0, 1, 0, 0, 0, 0, 0, 0, 0, 0, 0, 0, 0, 0, 0, 0, 0,\n",
       "       0, 0, 0, 0, 0, 0, 1, 0, 0, 0, 0, 0, 0, 0, 0, 0, 0, 0, 0, 0, 0, 0,\n",
       "       0, 0, 0, 0, 0, 0, 0, 0, 0, 0, 0, 0, 0, 0, 0, 0, 0, 0, 0, 0, 0, 0,\n",
       "       0, 0, 1, 0, 1, 0, 0, 0, 0, 0, 0, 0, 0, 0, 1, 0, 0, 0, 0, 0, 0, 0,\n",
       "       0, 0, 0, 0, 0], dtype=int64)"
      ]
     },
     "execution_count": 19,
     "metadata": {},
     "output_type": "execute_result"
    }
   ],
   "source": [
    "pred_test=model.predict(X_test)\n",
    "pred_test"
   ]
  },
  {
   "cell_type": "code",
   "execution_count": 20,
   "id": "808a406b",
   "metadata": {},
   "outputs": [
    {
     "data": {
      "text/plain": [
       "array([0.02961376, 0.02191175, 0.00808769, 0.03809788, 0.01340242,\n",
       "       0.17003054, 0.02196186, 0.013009  , 0.03912261, 0.01251476,\n",
       "       0.00492283, 0.06930896, 0.18606432, 0.00484878, 0.61564051,\n",
       "       0.15070776, 0.06048448, 0.32578559, 0.08968505, 0.01590153,\n",
       "       0.00464994, 0.16206161, 0.01613844, 0.23828435, 0.0378497 ,\n",
       "       0.0194947 , 0.19004178, 0.082715  , 0.02784573, 0.01361575,\n",
       "       0.00578037, 0.15897055, 0.00927328, 0.34347832, 0.21722845,\n",
       "       0.00308169, 0.01168207, 0.00155901, 0.35082966, 0.00294653,\n",
       "       0.31466417, 0.6625769 , 0.00449675, 0.40354518, 0.01717298,\n",
       "       0.00935361, 0.01959991, 0.20544136, 0.03668661, 0.00548556,\n",
       "       0.72236561, 0.10378293, 0.07416819, 0.01462889, 0.93755635,\n",
       "       0.03916153, 0.01428853, 0.17544085, 0.24341288, 0.68067628,\n",
       "       0.30441759, 0.82017806, 0.36905537, 0.30356696, 0.21891504,\n",
       "       0.71545266, 0.26293168, 0.09329561, 0.04379202, 0.02484637,\n",
       "       0.01420843, 0.05772025, 0.0104068 , 0.00796601, 0.03884016,\n",
       "       0.08052542, 0.01126113, 0.08166598, 0.05388051, 0.06368816,\n",
       "       0.23928601, 0.01664861, 0.00248142, 0.00539057, 0.01770524,\n",
       "       0.00731531, 0.01908682, 0.0518669 , 0.00491095, 0.03580957,\n",
       "       0.52941204, 0.02376421, 0.09499225, 0.77296373, 0.09324359,\n",
       "       0.01423877, 0.39629824, 0.31959085, 0.05266044, 0.02340155,\n",
       "       0.00408546, 0.02860384, 0.02367441, 0.34704597, 0.02609301,\n",
       "       0.02967258, 0.02985296, 0.00275764, 0.06826711, 0.53236957,\n",
       "       0.0067202 , 0.9206662 , 0.43710748, 0.01218824, 0.0161568 ,\n",
       "       0.16162275, 0.4918977 , 0.00256747, 0.01860279, 0.01063745,\n",
       "       0.1304981 , 0.00517144, 0.00895101, 0.34737887, 0.05121186,\n",
       "       0.0075438 , 0.24673274, 0.14952956, 0.02657602, 0.00492312,\n",
       "       0.03107387, 0.0059156 , 0.00964392, 0.11481433, 0.19409014,\n",
       "       0.00700603, 0.06047814, 0.14447198, 0.02350158, 0.01898708,\n",
       "       0.42086603, 0.28340028, 0.02790852, 0.70193589, 0.08657503,\n",
       "       0.49444639, 0.06446073, 0.57193919, 0.12896345, 0.58010654,\n",
       "       0.78946826, 0.06799685, 0.01706543, 0.22521153, 0.17159498,\n",
       "       0.01191878, 0.03227728, 0.04580359, 0.05068231, 0.00720504,\n",
       "       0.53215921, 0.08742294, 0.04118161, 0.00810498, 0.00704467,\n",
       "       0.06418431, 0.00458291, 0.02260269, 0.48048627, 0.08464309,\n",
       "       0.14810528, 0.00867432, 0.04944108, 0.00523688, 0.02822954,\n",
       "       0.0263694 , 0.00393719, 0.01494675, 0.11163041, 0.41365238,\n",
       "       0.01060416, 0.0083466 , 0.72682028, 0.00282498, 0.0373939 ,\n",
       "       0.10612839, 0.03496407, 0.07494296, 0.3596028 , 0.07793359,\n",
       "       0.00512189, 0.00163158, 0.38086401, 0.00908791, 0.00756969,\n",
       "       0.13012576, 0.01168926, 0.087835  , 0.12234744, 0.00992157,\n",
       "       0.06002234, 0.00504548, 0.07545242, 0.01481062, 0.00207621,\n",
       "       0.02324853, 0.01869274, 0.07435307, 0.03461101, 0.10126215,\n",
       "       0.45151974, 0.00338261, 0.03549849, 0.11807262, 0.39280145,\n",
       "       0.00675902, 0.0177068 , 0.03744659, 0.01065887, 0.01500234,\n",
       "       0.00776035, 0.01627445, 0.63435538, 0.31953957, 0.62047632,\n",
       "       0.01016862, 0.08621446, 0.02109014, 0.0229592 , 0.02130438,\n",
       "       0.03124804, 0.0377732 , 0.01260372, 0.00750867, 0.58093565,\n",
       "       0.19948381, 0.01093303, 0.01359058, 0.01594296, 0.01581159,\n",
       "       0.01547023, 0.20537689, 0.05208986, 0.29405542, 0.06346296,\n",
       "       0.0136566 , 0.1380374 ])"
      ]
     },
     "execution_count": 20,
     "metadata": {},
     "output_type": "execute_result"
    }
   ],
   "source": [
    "pred_test_proba=model.predict_proba(X_test)[:,1]\n",
    "pred_test_proba"
   ]
  },
  {
   "cell_type": "code",
   "execution_count": 21,
   "id": "bb5929d1",
   "metadata": {},
   "outputs": [
    {
     "data": {
      "text/plain": [
       "0.8825910931174089"
      ]
     },
     "execution_count": 21,
     "metadata": {},
     "output_type": "execute_result"
    }
   ],
   "source": [
    "accuracy_score(y_test,pred_test)"
   ]
  },
  {
   "cell_type": "code",
   "execution_count": 22,
   "id": "98107886",
   "metadata": {},
   "outputs": [
    {
     "data": {
      "text/plain": [
       "array([[206,   8],\n",
       "       [ 21,  12]], dtype=int64)"
      ]
     },
     "execution_count": 22,
     "metadata": {},
     "output_type": "execute_result"
    }
   ],
   "source": [
    "confusion_matrix(y_test,pred_test)"
   ]
  },
  {
   "cell_type": "code",
   "execution_count": 23,
   "id": "569b5091",
   "metadata": {},
   "outputs": [
    {
     "data": {
      "text/plain": [
       "0.8991787029170206"
      ]
     },
     "execution_count": 23,
     "metadata": {},
     "output_type": "execute_result"
    }
   ],
   "source": [
    "roc_auc_score(y_test,pred_test_proba)"
   ]
  },
  {
   "cell_type": "code",
   "execution_count": 24,
   "id": "e5080861",
   "metadata": {},
   "outputs": [
    {
     "name": "stderr",
     "output_type": "stream",
     "text": [
      "C:\\Users\\ela\\anaconda3\\lib\\site-packages\\sklearn\\utils\\deprecation.py:87: FutureWarning: Function plot_roc_curve is deprecated; Function :func:`plot_roc_curve` is deprecated in 1.0 and will be removed in 1.2. Use one of the class methods: :meth:`sklearn.metric.RocCurveDisplay.from_predictions` or :meth:`sklearn.metric.RocCurveDisplay.from_estimator`.\n",
      "  warnings.warn(msg, category=FutureWarning)\n"
     ]
    },
    {
     "data": {
      "text/plain": [
       "<sklearn.metrics._plot.roc_curve.RocCurveDisplay at 0x2809778ae20>"
      ]
     },
     "execution_count": 24,
     "metadata": {},
     "output_type": "execute_result"
    },
    {
     "data": {
      "image/png": "[encoded data removed]",
      "text/plain": [
       "<Figure size 432x288 with 1 Axes>"
      ]
     },
     "metadata": {
      "needs_background": "light"
     },
     "output_type": "display_data"
    }
   ],
   "source": [
    "plot_roc_curve(model,X_test,y_test)"
   ]
  },
  {
   "cell_type": "code",
   "execution_count": 25,
   "id": "b9a85720",
   "metadata": {},
   "outputs": [
    {
     "name": "stdout",
     "output_type": "stream",
     "text": [
      "Cross Validation Score :  0.8802308802308803\n"
     ]
    }
   ],
   "source": [
    "# Predicting Cross Validation Score\n",
    "cv=cross_val_score(model, X_train, y_train, cv=10).mean()\n",
    "print(\"Cross Validation Score : \", cv)"
   ]
  },
  {
   "cell_type": "markdown",
   "id": "55457d5a",
   "metadata": {},
   "source": [
    "##### Analiza głównych składowych"
   ]
  },
  {
   "cell_type": "code",
   "execution_count": 26,
   "id": "5fbf6e7f",
   "metadata": {},
   "outputs": [
    {
     "data": {
      "image/png": "[encoded data removed]",
      "text/plain": [
       "<Figure size 720x432 with 1 Axes>"
      ]
     },
     "metadata": {
      "needs_background": "light"
     },
     "output_type": "display_data"
    }
   ],
   "source": [
    "pca = PCA()\n",
    "pca.fit_transform(X_train)\n",
    "plt.figure(figsize=(10,6))\n",
    "plt.plot(np.cumsum(pca.explained_variance_ratio_));"
   ]
  },
  {
   "cell_type": "code",
   "execution_count": 27,
   "id": "9b51533c",
   "metadata": {},
   "outputs": [
    {
     "data": {
      "image/png": "[encoded data removed]",
      "text/plain": [
       "<Figure size 432x288 with 1 Axes>"
      ]
     },
     "metadata": {
      "needs_background": "light"
     },
     "output_type": "display_data"
    }
   ],
   "source": [
    "plt.bar(range(pca.n_components_),pca.explained_variance_ratio_)\n",
    "pass"
   ]
  },
  {
   "cell_type": "code",
   "execution_count": 28,
   "id": "c5a7375b",
   "metadata": {},
   "outputs": [
    {
     "data": {
      "text/plain": [
       "array([0.27871477, 0.18433349, 0.14168818])"
      ]
     },
     "execution_count": 28,
     "metadata": {},
     "output_type": "execute_result"
    }
   ],
   "source": [
    "pca = PCA(n_components=3, svd_solver='full')\n",
    "X_pca_train = pca.fit_transform(X_train)\n",
    "X_pca_test = pca.transform(X_test)\n",
    "pca.explained_variance_ratio_   "
   ]
  },
  {
   "cell_type": "markdown",
   "id": "97efb457",
   "metadata": {},
   "source": [
    "##### Estymacja modelu klasyfikacyjnego na PCA"
   ]
  },
  {
   "cell_type": "code",
   "execution_count": 29,
   "id": "a5928c8e",
   "metadata": {},
   "outputs": [],
   "source": [
    "model_PCA = LogisticRegression().fit(X_pca_train, y_train)"
   ]
  },
  {
   "cell_type": "code",
   "execution_count": 30,
   "id": "8ee7fd53",
   "metadata": {},
   "outputs": [
    {
     "data": {
      "text/plain": [
       "array([[-0.9732011 , -2.67195851,  2.27666102],\n",
       "       [-0.45486742,  1.63377054, -0.97610988],\n",
       "       [-1.43730764, -0.02562158, -1.15714937],\n",
       "       ...,\n",
       "       [-3.10897503,  3.13258106,  2.70954034],\n",
       "       [ 0.34434786,  2.25688224,  0.38781026],\n",
       "       [-2.40699853,  1.76325395, -0.84087729]])"
      ]
     },
     "execution_count": 30,
     "metadata": {},
     "output_type": "execute_result"
    }
   ],
   "source": [
    "X_pca_train"
   ]
  },
  {
   "cell_type": "code",
   "execution_count": 31,
   "id": "b82cb7c3",
   "metadata": {},
   "outputs": [
    {
     "data": {
      "text/plain": [
       "array([[0.31094716, 1.10771412, 0.3835292 ]])"
      ]
     },
     "execution_count": 31,
     "metadata": {},
     "output_type": "execute_result"
    }
   ],
   "source": [
    "model_PCA.coef_"
   ]
  },
  {
   "cell_type": "code",
   "execution_count": 32,
   "id": "63daa115",
   "metadata": {},
   "outputs": [
    {
     "data": {
      "text/plain": [
       "array([-2.75908265])"
      ]
     },
     "execution_count": 32,
     "metadata": {},
     "output_type": "execute_result"
    }
   ],
   "source": [
    "model_PCA.intercept_"
   ]
  },
  {
   "cell_type": "markdown",
   "id": "33e9b0a1",
   "metadata": {},
   "source": [
    "###### Ocena jakości modelu PCA na danych treningowych"
   ]
  },
  {
   "cell_type": "code",
   "execution_count": 33,
   "id": "1bfe55c9",
   "metadata": {},
   "outputs": [],
   "source": [
    "pred_train_PCA=model_PCA.predict(X_pca_train)"
   ]
  },
  {
   "cell_type": "code",
   "execution_count": 34,
   "id": "d47aca7b",
   "metadata": {},
   "outputs": [
    {
     "data": {
      "text/plain": [
       "0.8771573604060914"
      ]
     },
     "execution_count": 34,
     "metadata": {},
     "output_type": "execute_result"
    }
   ],
   "source": [
    "accuracy_score(y_train,pred_train_PCA)"
   ]
  },
  {
   "cell_type": "code",
   "execution_count": 35,
   "id": "b1b6e32d",
   "metadata": {},
   "outputs": [
    {
     "name": "stdout",
     "output_type": "stream",
     "text": [
      "[[820  29]\n",
      " [ 92  44]]\n"
     ]
    }
   ],
   "source": [
    "print(confusion_matrix(y_train,model_PCA.predict(X_pca_train)))"
   ]
  },
  {
   "cell_type": "markdown",
   "id": "c4eab328",
   "metadata": {},
   "source": [
    "###### Ocena jakości modelu PCA na zbiorze testowym"
   ]
  },
  {
   "cell_type": "code",
   "execution_count": 36,
   "id": "b8f4d3b9",
   "metadata": {},
   "outputs": [],
   "source": [
    "pred_test_PCA=model_PCA.predict(X_pca_test)"
   ]
  },
  {
   "cell_type": "code",
   "execution_count": 37,
   "id": "63112afd",
   "metadata": {},
   "outputs": [
    {
     "data": {
      "text/plain": [
       "0.8744939271255061"
      ]
     },
     "execution_count": 37,
     "metadata": {},
     "output_type": "execute_result"
    }
   ],
   "source": [
    "accuracy_score(y_test,pred_test_PCA)"
   ]
  },
  {
   "cell_type": "code",
   "execution_count": 38,
   "id": "41bd5794",
   "metadata": {},
   "outputs": [
    {
     "name": "stdout",
     "output_type": "stream",
     "text": [
      "[[206   8]\n",
      " [ 23  10]]\n"
     ]
    }
   ],
   "source": [
    "y_pred = model_PCA.predict(X_pca_test)\n",
    "print(confusion_matrix(y_test,y_pred))"
   ]
  },
  {
   "cell_type": "code",
   "execution_count": 39,
   "id": "cc77d754",
   "metadata": {},
   "outputs": [
    {
     "name": "stderr",
     "output_type": "stream",
     "text": [
      "C:\\Users\\ela\\anaconda3\\lib\\site-packages\\sklearn\\utils\\deprecation.py:87: FutureWarning: Function plot_roc_curve is deprecated; Function :func:`plot_roc_curve` is deprecated in 1.0 and will be removed in 1.2. Use one of the class methods: :meth:`sklearn.metric.RocCurveDisplay.from_predictions` or :meth:`sklearn.metric.RocCurveDisplay.from_estimator`.\n",
      "  warnings.warn(msg, category=FutureWarning)\n"
     ]
    },
    {
     "data": {
      "image/png": "[encoded data removed]",
      "text/plain": [
       "<Figure size 432x288 with 1 Axes>"
      ]
     },
     "metadata": {
      "needs_background": "light"
     },
     "output_type": "display_data"
    }
   ],
   "source": [
    "plot_roc_curve(model_PCA, X_pca_test, y_test)\n",
    "pass"
   ]
  },
  {
   "cell_type": "markdown",
   "id": "5535f517",
   "metadata": {},
   "source": [
    "### Drzewo decyzyjne"
   ]
  },
  {
   "cell_type": "code",
   "execution_count": 40,
   "id": "e0e1fc19",
   "metadata": {},
   "outputs": [],
   "source": [
    "DT = DecisionTreeClassifier(max_depth = 4, criterion = 'entropy',random_state=0)"
   ]
  },
  {
   "cell_type": "code",
   "execution_count": 41,
   "id": "e1fb5d77",
   "metadata": {},
   "outputs": [
    {
     "data": {
      "text/html": [
       "<style>#sk-container-id-1 {color: black;background-color: white;}#sk-container-id-1 pre{padding: 0;}#sk-container-id-1 div.sk-toggleable {background-color: white;}#sk-container-id-1 label.sk-toggleable__label {cursor: pointer;display: block;width: 100%;margin-bottom: 0;padding: 0.3em;box-sizing: border-box;text-align: center;}#sk-container-id-1 label.sk-toggleable__label-arrow:before {content: \"▸\";float: left;margin-right: 0.25em;color: #696969;}#sk-container-id-1 label.sk-toggleable__label-arrow:hover:before {color: black;}#sk-container-id-1 div.sk-estimator:hover label.sk-toggleable__label-arrow:before {color: black;}#sk-container-id-1 div.sk-toggleable__content {max-height: 0;max-width: 0;overflow: hidden;text-align: left;background-color: #f0f8ff;}#sk-container-id-1 div.sk-toggleable__content pre {margin: 0.2em;color: black;border-radius: 0.25em;background-color: #f0f8ff;}#sk-container-id-1 input.sk-toggleable__control:checked~div.sk-toggleable__content {max-height: 200px;max-width: 100%;overflow: auto;}#sk-container-id-1 input.sk-toggleable__control:checked~label.sk-toggleable__label-arrow:before {content: \"▾\";}#sk-container-id-1 div.sk-estimator input.sk-toggleable__control:checked~label.sk-toggleable__label {background-color: #d4ebff;}#sk-container-id-1 div.sk-label input.sk-toggleable__control:checked~label.sk-toggleable__label {background-color: #d4ebff;}#sk-container-id-1 input.sk-hidden--visually {border: 0;clip: rect(1px 1px 1px 1px);clip: rect(1px, 1px, 1px, 1px);height: 1px;margin: -1px;overflow: hidden;padding: 0;position: absolute;width: 1px;}#sk-container-id-1 div.sk-estimator {font-family: monospace;background-color: #f0f8ff;border: 1px dotted black;border-radius: 0.25em;box-sizing: border-box;margin-bottom: 0.5em;}#sk-container-id-1 div.sk-estimator:hover {background-color: #d4ebff;}#sk-container-id-1 div.sk-parallel-item::after {content: \"\";width: 100%;border-bottom: 1px solid gray;flex-grow: 1;}#sk-container-id-1 div.sk-label:hover label.sk-toggleable__label {background-color: #d4ebff;}#sk-container-id-1 div.sk-serial::before {content: \"\";position: absolute;border-left: 1px solid gray;box-sizing: border-box;top: 0;bottom: 0;left: 50%;z-index: 0;}#sk-container-id-1 div.sk-serial {display: flex;flex-direction: column;align-items: center;background-color: white;padding-right: 0.2em;padding-left: 0.2em;position: relative;}#sk-container-id-1 div.sk-item {position: relative;z-index: 1;}#sk-container-id-1 div.sk-parallel {display: flex;align-items: stretch;justify-content: center;background-color: white;position: relative;}#sk-container-id-1 div.sk-item::before, #sk-container-id-1 div.sk-parallel-item::before {content: \"\";position: absolute;border-left: 1px solid gray;box-sizing: border-box;top: 0;bottom: 0;left: 50%;z-index: -1;}#sk-container-id-1 div.sk-parallel-item {display: flex;flex-direction: column;z-index: 1;position: relative;background-color: white;}#sk-container-id-1 div.sk-parallel-item:first-child::after {align-self: flex-end;width: 50%;}#sk-container-id-1 div.sk-parallel-item:last-child::after {align-self: flex-start;width: 50%;}#sk-container-id-1 div.sk-parallel-item:only-child::after {width: 0;}#sk-container-id-1 div.sk-dashed-wrapped {border: 1px dashed gray;margin: 0 0.4em 0.5em 0.4em;box-sizing: border-box;padding-bottom: 0.4em;background-color: white;}#sk-container-id-1 div.sk-label label {font-family: monospace;font-weight: bold;display: inline-block;line-height: 1.2em;}#sk-container-id-1 div.sk-label-container {text-align: center;}#sk-container-id-1 div.sk-container {/* jupyter's `normalize.less` sets `[hidden] { display: none; }` but bootstrap.min.css set `[hidden] { display: none !important; }` so we also need the `!important` here to be able to override the default hidden behavior on the sphinx rendered scikit-learn.org. See: https://github.com/scikit-learn/scikit-learn/issues/21755 */display: inline-block !important;position: relative;}#sk-container-id-1 div.sk-text-repr-fallback {display: none;}</style><div id=\"sk-container-id-1\" class=\"sk-top-container\"><div class=\"sk-text-repr-fallback\"><pre>DecisionTreeClassifier(criterion=&#x27;entropy&#x27;, max_depth=4, random_state=0)</pre><b>In a Jupyter environment, please rerun this cell to show the HTML representation or trust the notebook. <br />On GitHub, the HTML representation is unable to render, please try loading this page with nbviewer.org.</b></div><div class=\"sk-container\" hidden><div class=\"sk-item\"><div class=\"sk-estimator sk-toggleable\"><input class=\"sk-toggleable__control sk-hidden--visually\" id=\"sk-estimator-id-1\" type=\"checkbox\" checked><label for=\"sk-estimator-id-1\" class=\"sk-toggleable__label sk-toggleable__label-arrow\">DecisionTreeClassifier</label><div class=\"sk-toggleable__content\"><pre>DecisionTreeClassifier(criterion=&#x27;entropy&#x27;, max_depth=4, random_state=0)</pre></div></div></div></div></div>"
      ],
      "text/plain": [
       "DecisionTreeClassifier(criterion='entropy', max_depth=4, random_state=0)"
      ]
     },
     "execution_count": 41,
     "metadata": {},
     "output_type": "execute_result"
    }
   ],
   "source": [
    "DT.fit(X_train, y_train)"
   ]
  },
  {
   "cell_type": "code",
   "execution_count": 42,
   "id": "603df517",
   "metadata": {},
   "outputs": [
    {
     "name": "stdout",
     "output_type": "stream",
     "text": [
      "The accuracy train data is 0.9035532994923858\n"
     ]
    }
   ],
   "source": [
    "#predykcja na danych treningowych\n",
    "DT_pred=DT.predict(X_train)\n",
    "acc_train=accuracy_score(y_train, DT_pred)\n",
    "print('The accuracy train data is',acc_train)"
   ]
  },
  {
   "cell_type": "code",
   "execution_count": 43,
   "id": "76228717",
   "metadata": {},
   "outputs": [
    {
     "name": "stdout",
     "output_type": "stream",
     "text": [
      "The accuracy test data is 0.8421052631578947\n"
     ]
    }
   ],
   "source": [
    "#predykcja na danych testowych\n",
    "DT_pred_test = DT.predict(X_test)\n",
    "print('The accuracy test data is',accuracy_score( y_test, DT_pred_test))"
   ]
  },
  {
   "cell_type": "code",
   "execution_count": 44,
   "id": "65f2a5e5",
   "metadata": {},
   "outputs": [
    {
     "data": {
      "text/plain": [
       "array([0.90862944, 0.88324873, 0.86294416, 0.87817259, 0.85279188])"
      ]
     },
     "execution_count": 44,
     "metadata": {},
     "output_type": "execute_result"
    }
   ],
   "source": [
    "cross_val_score(DT, X_train, y_train, cv=5)"
   ]
  },
  {
   "cell_type": "code",
   "execution_count": 45,
   "id": "116a379f",
   "metadata": {},
   "outputs": [
    {
     "name": "stdout",
     "output_type": "stream",
     "text": [
      "The precision is 0.3333333333333333\n",
      "The recall is 0.18181818181818182\n",
      "The F1-Score is 0.23529411764705885\n"
     ]
    }
   ],
   "source": [
    "prec = precision_score(y_test, DT_pred_test)\n",
    "print(\"The precision is {}\".format(prec))\n",
    "rec = recall_score(y_test, DT_pred_test)\n",
    "print(\"The recall is {}\".format(rec))\n",
    "f1 = f1_score(y_test, DT_pred_test)\n",
    "print(\"The F1-Score is {}\".format(f1))"
   ]
  },
  {
   "cell_type": "code",
   "execution_count": 46,
   "id": "a0892112",
   "metadata": {},
   "outputs": [
    {
     "name": "stdout",
     "output_type": "stream",
     "text": [
      "              precision    recall  f1-score   support\n",
      "\n",
      "           0       0.88      0.94      0.91       214\n",
      "           1       0.33      0.18      0.24        33\n",
      "\n",
      "    accuracy                           0.84       247\n",
      "   macro avg       0.61      0.56      0.57       247\n",
      "weighted avg       0.81      0.84      0.82       247\n",
      "\n"
     ]
    }
   ],
   "source": [
    "print(classification_report(y_test, DT_pred_test))"
   ]
  },
  {
   "cell_type": "code",
   "execution_count": 47,
   "id": "c42f14b5",
   "metadata": {},
   "outputs": [
    {
     "data": {
      "text/plain": [
       "array([[202,  12],\n",
       "       [ 27,   6]], dtype=int64)"
      ]
     },
     "execution_count": 47,
     "metadata": {},
     "output_type": "execute_result"
    }
   ],
   "source": [
    "matrix=confusion_matrix(y_test, DT_pred_test, labels = [0, 1])\n",
    "matrix"
   ]
  },
  {
   "cell_type": "code",
   "execution_count": 48,
   "id": "a6c79547",
   "metadata": {},
   "outputs": [
    {
     "data": {
      "image/png": "[encoded data removed]",
      "text/plain": [
       "<Figure size 360x360 with 2 Axes>"
      ]
     },
     "metadata": {
      "needs_background": "light"
     },
     "output_type": "display_data"
    }
   ],
   "source": [
    "#Confusion Matrix\n",
    "LABELS = ['Normal', 'Fraud']\n",
    "conf_matrix = confusion_matrix(y_test, DT_pred_test)\n",
    "plt.figure(figsize =(5, 5))\n",
    "sns.heatmap(conf_matrix, xticklabels = LABELS, \n",
    "            yticklabels = LABELS, annot = True, fmt =\"d\");\n",
    "plt.title(\"Confusion matrix\")\n",
    "plt.ylabel('True labels')\n",
    "plt.xlabel('Predicted labels')\n",
    "plt.show()"
   ]
  },
  {
   "cell_type": "code",
   "execution_count": 49,
   "id": "44dafad8",
   "metadata": {},
   "outputs": [
    {
     "name": "stderr",
     "output_type": "stream",
     "text": [
      "C:\\Users\\ela\\anaconda3\\lib\\site-packages\\sklearn\\utils\\deprecation.py:87: FutureWarning: Function plot_roc_curve is deprecated; Function :func:`plot_roc_curve` is deprecated in 1.0 and will be removed in 1.2. Use one of the class methods: :meth:`sklearn.metric.RocCurveDisplay.from_predictions` or :meth:`sklearn.metric.RocCurveDisplay.from_estimator`.\n",
      "  warnings.warn(msg, category=FutureWarning)\n"
     ]
    },
    {
     "data": {
      "image/png": "[encoded data removed]",
      "text/plain": [
       "<Figure size 432x288 with 1 Axes>"
      ]
     },
     "metadata": {
      "needs_background": "light"
     },
     "output_type": "display_data"
    }
   ],
   "source": [
    "ROC_DT = plot_roc_curve(DT, X_test, y_test)\n",
    "plt.show()"
   ]
  },
  {
   "cell_type": "markdown",
   "id": "88d189c9",
   "metadata": {},
   "source": [
    "#### Użycie RandomizedSearchCV aby znaleźć dobre parametry"
   ]
  },
  {
   "cell_type": "code",
   "execution_count": 50,
   "id": "cdce0749",
   "metadata": {},
   "outputs": [],
   "source": [
    "params={'criterion': ['gini', 'entropy'],\n",
    "                     'max_depth': [1, 3, 5, 7, 10, None],\n",
    "                     'min_samples_leaf': [1, 3, 5, 7],\n",
    "                     'min_samples_split': [2, 4, 6, 8],\n",
    "                     'splitter': ['best', 'random']},"
   ]
  },
  {
   "cell_type": "code",
   "execution_count": 51,
   "id": "9e37a562",
   "metadata": {},
   "outputs": [
    {
     "name": "stdout",
     "output_type": "stream",
     "text": [
      "Fitting 5 folds for each of 10 candidates, totalling 50 fits\n",
      "[CV] END criterion=gini, max_depth=5, min_samples_leaf=5, min_samples_split=4, splitter=random; total time=   0.0s\n",
      "[CV] END criterion=gini, max_depth=5, min_samples_leaf=5, min_samples_split=4, splitter=random; total time=   0.0s\n",
      "[CV] END criterion=gini, max_depth=5, min_samples_leaf=5, min_samples_split=4, splitter=random; total time=   0.0s\n",
      "[CV] END criterion=gini, max_depth=5, min_samples_leaf=5, min_samples_split=4, splitter=random; total time=   0.0s\n",
      "[CV] END criterion=gini, max_depth=5, min_samples_leaf=5, min_samples_split=4, splitter=random; total time=   0.0s\n",
      "[CV] END criterion=gini, max_depth=7, min_samples_leaf=5, min_samples_split=4, splitter=random; total time=   0.0s\n",
      "[CV] END criterion=gini, max_depth=7, min_samples_leaf=5, min_samples_split=4, splitter=random; total time=   0.0s\n",
      "[CV] END criterion=gini, max_depth=7, min_samples_leaf=5, min_samples_split=4, splitter=random; total time=   0.0s\n",
      "[CV] END criterion=gini, max_depth=7, min_samples_leaf=5, min_samples_split=4, splitter=random; total time=   0.0s\n",
      "[CV] END criterion=gini, max_depth=7, min_samples_leaf=5, min_samples_split=4, splitter=random; total time=   0.0s\n",
      "[CV] END criterion=gini, max_depth=None, min_samples_leaf=1, min_samples_split=4, splitter=best; total time=   0.0s\n",
      "[CV] END criterion=gini, max_depth=None, min_samples_leaf=1, min_samples_split=4, splitter=best; total time=   0.0s\n",
      "[CV] END criterion=gini, max_depth=None, min_samples_leaf=1, min_samples_split=4, splitter=best; total time=   0.0s\n",
      "[CV] END criterion=gini, max_depth=None, min_samples_leaf=1, min_samples_split=4, splitter=best; total time=   0.0s\n",
      "[CV] END criterion=gini, max_depth=None, min_samples_leaf=1, min_samples_split=4, splitter=best; total time=   0.0s\n",
      "[CV] END criterion=gini, max_depth=3, min_samples_leaf=7, min_samples_split=6, splitter=best; total time=   0.0s\n",
      "[CV] END criterion=gini, max_depth=3, min_samples_leaf=7, min_samples_split=6, splitter=best; total time=   0.0s\n",
      "[CV] END criterion=gini, max_depth=3, min_samples_leaf=7, min_samples_split=6, splitter=best; total time=   0.0s\n",
      "[CV] END criterion=gini, max_depth=3, min_samples_leaf=7, min_samples_split=6, splitter=best; total time=   0.0s\n",
      "[CV] END criterion=gini, max_depth=3, min_samples_leaf=7, min_samples_split=6, splitter=best; total time=   0.0s\n",
      "[CV] END criterion=gini, max_depth=3, min_samples_leaf=1, min_samples_split=2, splitter=best; total time=   0.0s\n",
      "[CV] END criterion=gini, max_depth=3, min_samples_leaf=1, min_samples_split=2, splitter=best; total time=   0.0s\n",
      "[CV] END criterion=gini, max_depth=3, min_samples_leaf=1, min_samples_split=2, splitter=best; total time=   0.0s\n",
      "[CV] END criterion=gini, max_depth=3, min_samples_leaf=1, min_samples_split=2, splitter=best; total time=   0.0s\n",
      "[CV] END criterion=gini, max_depth=3, min_samples_leaf=1, min_samples_split=2, splitter=best; total time=   0.0s\n",
      "[CV] END criterion=entropy, max_depth=1, min_samples_leaf=7, min_samples_split=2, splitter=random; total time=   0.0s\n",
      "[CV] END criterion=entropy, max_depth=1, min_samples_leaf=7, min_samples_split=2, splitter=random; total time=   0.0s\n",
      "[CV] END criterion=entropy, max_depth=1, min_samples_leaf=7, min_samples_split=2, splitter=random; total time=   0.0s\n",
      "[CV] END criterion=entropy, max_depth=1, min_samples_leaf=7, min_samples_split=2, splitter=random; total time=   0.0s\n",
      "[CV] END criterion=entropy, max_depth=1, min_samples_leaf=7, min_samples_split=2, splitter=random; total time=   0.0s\n",
      "[CV] END criterion=entropy, max_depth=None, min_samples_leaf=7, min_samples_split=6, splitter=random; total time=   0.0s\n",
      "[CV] END criterion=entropy, max_depth=None, min_samples_leaf=7, min_samples_split=6, splitter=random; total time=   0.0s\n",
      "[CV] END criterion=entropy, max_depth=None, min_samples_leaf=7, min_samples_split=6, splitter=random; total time=   0.0s\n",
      "[CV] END criterion=entropy, max_depth=None, min_samples_leaf=7, min_samples_split=6, splitter=random; total time=   0.0s\n",
      "[CV] END criterion=entropy, max_depth=None, min_samples_leaf=7, min_samples_split=6, splitter=random; total time=   0.0s\n",
      "[CV] END criterion=gini, max_depth=1, min_samples_leaf=1, min_samples_split=2, splitter=best; total time=   0.0s\n",
      "[CV] END criterion=gini, max_depth=1, min_samples_leaf=1, min_samples_split=2, splitter=best; total time=   0.0s\n",
      "[CV] END criterion=gini, max_depth=1, min_samples_leaf=1, min_samples_split=2, splitter=best; total time=   0.0s\n",
      "[CV] END criterion=gini, max_depth=1, min_samples_leaf=1, min_samples_split=2, splitter=best; total time=   0.0s\n",
      "[CV] END criterion=gini, max_depth=1, min_samples_leaf=1, min_samples_split=2, splitter=best; total time=   0.0s\n",
      "[CV] END criterion=entropy, max_depth=3, min_samples_leaf=3, min_samples_split=6, splitter=random; total time=   0.0s\n",
      "[CV] END criterion=entropy, max_depth=3, min_samples_leaf=3, min_samples_split=6, splitter=random; total time=   0.0s\n",
      "[CV] END criterion=entropy, max_depth=3, min_samples_leaf=3, min_samples_split=6, splitter=random; total time=   0.0s\n",
      "[CV] END criterion=entropy, max_depth=3, min_samples_leaf=3, min_samples_split=6, splitter=random; total time=   0.0s\n",
      "[CV] END criterion=entropy, max_depth=3, min_samples_leaf=3, min_samples_split=6, splitter=random; total time=   0.0s\n",
      "[CV] END criterion=gini, max_depth=7, min_samples_leaf=3, min_samples_split=4, splitter=best; total time=   0.0s\n",
      "[CV] END criterion=gini, max_depth=7, min_samples_leaf=3, min_samples_split=4, splitter=best; total time=   0.0s\n",
      "[CV] END criterion=gini, max_depth=7, min_samples_leaf=3, min_samples_split=4, splitter=best; total time=   0.0s\n",
      "[CV] END criterion=gini, max_depth=7, min_samples_leaf=3, min_samples_split=4, splitter=best; total time=   0.0s\n",
      "[CV] END criterion=gini, max_depth=7, min_samples_leaf=3, min_samples_split=4, splitter=best; total time=   0.0s\n"
     ]
    },
    {
     "data": {
      "text/html": [
       "<style>#sk-container-id-2 {color: black;background-color: white;}#sk-container-id-2 pre{padding: 0;}#sk-container-id-2 div.sk-toggleable {background-color: white;}#sk-container-id-2 label.sk-toggleable__label {cursor: pointer;display: block;width: 100%;margin-bottom: 0;padding: 0.3em;box-sizing: border-box;text-align: center;}#sk-container-id-2 label.sk-toggleable__label-arrow:before {content: \"▸\";float: left;margin-right: 0.25em;color: #696969;}#sk-container-id-2 label.sk-toggleable__label-arrow:hover:before {color: black;}#sk-container-id-2 div.sk-estimator:hover label.sk-toggleable__label-arrow:before {color: black;}#sk-container-id-2 div.sk-toggleable__content {max-height: 0;max-width: 0;overflow: hidden;text-align: left;background-color: #f0f8ff;}#sk-container-id-2 div.sk-toggleable__content pre {margin: 0.2em;color: black;border-radius: 0.25em;background-color: #f0f8ff;}#sk-container-id-2 input.sk-toggleable__control:checked~div.sk-toggleable__content {max-height: 200px;max-width: 100%;overflow: auto;}#sk-container-id-2 input.sk-toggleable__control:checked~label.sk-toggleable__label-arrow:before {content: \"▾\";}#sk-container-id-2 div.sk-estimator input.sk-toggleable__control:checked~label.sk-toggleable__label {background-color: #d4ebff;}#sk-container-id-2 div.sk-label input.sk-toggleable__control:checked~label.sk-toggleable__label {background-color: #d4ebff;}#sk-container-id-2 input.sk-hidden--visually {border: 0;clip: rect(1px 1px 1px 1px);clip: rect(1px, 1px, 1px, 1px);height: 1px;margin: -1px;overflow: hidden;padding: 0;position: absolute;width: 1px;}#sk-container-id-2 div.sk-estimator {font-family: monospace;background-color: #f0f8ff;border: 1px dotted black;border-radius: 0.25em;box-sizing: border-box;margin-bottom: 0.5em;}#sk-container-id-2 div.sk-estimator:hover {background-color: #d4ebff;}#sk-container-id-2 div.sk-parallel-item::after {content: \"\";width: 100%;border-bottom: 1px solid gray;flex-grow: 1;}#sk-container-id-2 div.sk-label:hover label.sk-toggleable__label {background-color: #d4ebff;}#sk-container-id-2 div.sk-serial::before {content: \"\";position: absolute;border-left: 1px solid gray;box-sizing: border-box;top: 0;bottom: 0;left: 50%;z-index: 0;}#sk-container-id-2 div.sk-serial {display: flex;flex-direction: column;align-items: center;background-color: white;padding-right: 0.2em;padding-left: 0.2em;position: relative;}#sk-container-id-2 div.sk-item {position: relative;z-index: 1;}#sk-container-id-2 div.sk-parallel {display: flex;align-items: stretch;justify-content: center;background-color: white;position: relative;}#sk-container-id-2 div.sk-item::before, #sk-container-id-2 div.sk-parallel-item::before {content: \"\";position: absolute;border-left: 1px solid gray;box-sizing: border-box;top: 0;bottom: 0;left: 50%;z-index: -1;}#sk-container-id-2 div.sk-parallel-item {display: flex;flex-direction: column;z-index: 1;position: relative;background-color: white;}#sk-container-id-2 div.sk-parallel-item:first-child::after {align-self: flex-end;width: 50%;}#sk-container-id-2 div.sk-parallel-item:last-child::after {align-self: flex-start;width: 50%;}#sk-container-id-2 div.sk-parallel-item:only-child::after {width: 0;}#sk-container-id-2 div.sk-dashed-wrapped {border: 1px dashed gray;margin: 0 0.4em 0.5em 0.4em;box-sizing: border-box;padding-bottom: 0.4em;background-color: white;}#sk-container-id-2 div.sk-label label {font-family: monospace;font-weight: bold;display: inline-block;line-height: 1.2em;}#sk-container-id-2 div.sk-label-container {text-align: center;}#sk-container-id-2 div.sk-container {/* jupyter's `normalize.less` sets `[hidden] { display: none; }` but bootstrap.min.css set `[hidden] { display: none !important; }` so we also need the `!important` here to be able to override the default hidden behavior on the sphinx rendered scikit-learn.org. See: https://github.com/scikit-learn/scikit-learn/issues/21755 */display: inline-block !important;position: relative;}#sk-container-id-2 div.sk-text-repr-fallback {display: none;}</style><div id=\"sk-container-id-2\" class=\"sk-top-container\"><div class=\"sk-text-repr-fallback\"><pre>RandomizedSearchCV(cv=5,\n",
       "                   estimator=DecisionTreeClassifier(criterion=&#x27;entropy&#x27;,\n",
       "                                                    max_depth=4,\n",
       "                                                    random_state=0),\n",
       "                   param_distributions=({&#x27;criterion&#x27;: [&#x27;gini&#x27;, &#x27;entropy&#x27;],\n",
       "                                         &#x27;max_depth&#x27;: [1, 3, 5, 7, 10, None],\n",
       "                                         &#x27;min_samples_leaf&#x27;: [1, 3, 5, 7],\n",
       "                                         &#x27;min_samples_split&#x27;: [2, 4, 6, 8],\n",
       "                                         &#x27;splitter&#x27;: [&#x27;best&#x27;, &#x27;random&#x27;]},),\n",
       "                   scoring=&#x27;accuracy&#x27;, verbose=2)</pre><b>In a Jupyter environment, please rerun this cell to show the HTML representation or trust the notebook. <br />On GitHub, the HTML representation is unable to render, please try loading this page with nbviewer.org.</b></div><div class=\"sk-container\" hidden><div class=\"sk-item sk-dashed-wrapped\"><div class=\"sk-label-container\"><div class=\"sk-label sk-toggleable\"><input class=\"sk-toggleable__control sk-hidden--visually\" id=\"sk-estimator-id-2\" type=\"checkbox\" ><label for=\"sk-estimator-id-2\" class=\"sk-toggleable__label sk-toggleable__label-arrow\">RandomizedSearchCV</label><div class=\"sk-toggleable__content\"><pre>RandomizedSearchCV(cv=5,\n",
       "                   estimator=DecisionTreeClassifier(criterion=&#x27;entropy&#x27;,\n",
       "                                                    max_depth=4,\n",
       "                                                    random_state=0),\n",
       "                   param_distributions=({&#x27;criterion&#x27;: [&#x27;gini&#x27;, &#x27;entropy&#x27;],\n",
       "                                         &#x27;max_depth&#x27;: [1, 3, 5, 7, 10, None],\n",
       "                                         &#x27;min_samples_leaf&#x27;: [1, 3, 5, 7],\n",
       "                                         &#x27;min_samples_split&#x27;: [2, 4, 6, 8],\n",
       "                                         &#x27;splitter&#x27;: [&#x27;best&#x27;, &#x27;random&#x27;]},),\n",
       "                   scoring=&#x27;accuracy&#x27;, verbose=2)</pre></div></div></div><div class=\"sk-parallel\"><div class=\"sk-parallel-item\"><div class=\"sk-item\"><div class=\"sk-label-container\"><div class=\"sk-label sk-toggleable\"><input class=\"sk-toggleable__control sk-hidden--visually\" id=\"sk-estimator-id-3\" type=\"checkbox\" ><label for=\"sk-estimator-id-3\" class=\"sk-toggleable__label sk-toggleable__label-arrow\">estimator: DecisionTreeClassifier</label><div class=\"sk-toggleable__content\"><pre>DecisionTreeClassifier(criterion=&#x27;entropy&#x27;, max_depth=4, random_state=0)</pre></div></div></div><div class=\"sk-serial\"><div class=\"sk-item\"><div class=\"sk-estimator sk-toggleable\"><input class=\"sk-toggleable__control sk-hidden--visually\" id=\"sk-estimator-id-4\" type=\"checkbox\" ><label for=\"sk-estimator-id-4\" class=\"sk-toggleable__label sk-toggleable__label-arrow\">DecisionTreeClassifier</label><div class=\"sk-toggleable__content\"><pre>DecisionTreeClassifier(criterion=&#x27;entropy&#x27;, max_depth=4, random_state=0)</pre></div></div></div></div></div></div></div></div></div></div>"
      ],
      "text/plain": [
       "RandomizedSearchCV(cv=5,\n",
       "                   estimator=DecisionTreeClassifier(criterion='entropy',\n",
       "                                                    max_depth=4,\n",
       "                                                    random_state=0),\n",
       "                   param_distributions=({'criterion': ['gini', 'entropy'],\n",
       "                                         'max_depth': [1, 3, 5, 7, 10, None],\n",
       "                                         'min_samples_leaf': [1, 3, 5, 7],\n",
       "                                         'min_samples_split': [2, 4, 6, 8],\n",
       "                                         'splitter': ['best', 'random']},),\n",
       "                   scoring='accuracy', verbose=2)"
      ]
     },
     "execution_count": 51,
     "metadata": {},
     "output_type": "execute_result"
    }
   ],
   "source": [
    "random_search = RandomizedSearchCV(DT, param_distributions=params, cv=5, n_iter=10, scoring='accuracy', verbose=2)\n",
    "\n",
    "random_search.fit(X_train, y_train)"
   ]
  },
  {
   "cell_type": "code",
   "execution_count": 52,
   "id": "85ab7a4d",
   "metadata": {},
   "outputs": [
    {
     "data": {
      "text/plain": [
       "{'splitter': 'best',\n",
       " 'min_samples_split': 6,\n",
       " 'min_samples_leaf': 7,\n",
       " 'max_depth': 3,\n",
       " 'criterion': 'gini'}"
      ]
     },
     "execution_count": 52,
     "metadata": {},
     "output_type": "execute_result"
    }
   ],
   "source": [
    "random_search.best_params_"
   ]
  },
  {
   "cell_type": "code",
   "execution_count": 53,
   "id": "4e5e6748",
   "metadata": {},
   "outputs": [
    {
     "data": {
      "text/plain": [
       "0.8730964467005077"
      ]
     },
     "execution_count": 53,
     "metadata": {},
     "output_type": "execute_result"
    }
   ],
   "source": [
    "random_search.best_score_"
   ]
  },
  {
   "cell_type": "code",
   "execution_count": 54,
   "id": "086059f1",
   "metadata": {},
   "outputs": [],
   "source": [
    "DT_2 = random_search.best_estimator_"
   ]
  },
  {
   "cell_type": "code",
   "execution_count": 55,
   "id": "47f93448",
   "metadata": {},
   "outputs": [
    {
     "name": "stdout",
     "output_type": "stream",
     "text": [
      "The accuracy test data is 0.8623481781376519\n"
     ]
    }
   ],
   "source": [
    "#predykcja na danych testowych\n",
    "DT_pred_2 = DT_2.predict(X_test)\n",
    "print('The accuracy test data is',accuracy_score( y_test, DT_pred_2))"
   ]
  },
  {
   "cell_type": "code",
   "execution_count": 56,
   "id": "f76fe1b7",
   "metadata": {},
   "outputs": [
    {
     "data": {
      "text/plain": [
       "0.8623481781376519"
      ]
     },
     "execution_count": 56,
     "metadata": {},
     "output_type": "execute_result"
    }
   ],
   "source": [
    "accuracy_score(y_test, DT_pred_2)"
   ]
  },
  {
   "cell_type": "code",
   "execution_count": 57,
   "id": "f8f9c311",
   "metadata": {},
   "outputs": [
    {
     "data": {
      "text/plain": [
       "0.536108751062022"
      ]
     },
     "execution_count": 57,
     "metadata": {},
     "output_type": "execute_result"
    }
   ],
   "source": [
    "roc_auc_score(y_test, DT_pred_2)"
   ]
  },
  {
   "cell_type": "code",
   "execution_count": 58,
   "id": "9969b029",
   "metadata": {},
   "outputs": [
    {
     "name": "stderr",
     "output_type": "stream",
     "text": [
      "C:\\Users\\ela\\anaconda3\\lib\\site-packages\\sklearn\\utils\\deprecation.py:87: FutureWarning: Function plot_roc_curve is deprecated; Function :func:`plot_roc_curve` is deprecated in 1.0 and will be removed in 1.2. Use one of the class methods: :meth:`sklearn.metric.RocCurveDisplay.from_predictions` or :meth:`sklearn.metric.RocCurveDisplay.from_estimator`.\n",
      "  warnings.warn(msg, category=FutureWarning)\n"
     ]
    },
    {
     "data": {
      "text/plain": [
       "<sklearn.metrics._plot.roc_curve.RocCurveDisplay at 0x280978d8220>"
      ]
     },
     "execution_count": 58,
     "metadata": {},
     "output_type": "execute_result"
    },
    {
     "data": {
      "image/png": "[encoded data removed]",
      "text/plain": [
       "<Figure size 432x288 with 1 Axes>"
      ]
     },
     "metadata": {
      "needs_background": "light"
     },
     "output_type": "display_data"
    }
   ],
   "source": [
    "plot_roc_curve(DT_2, X_test, y_test)"
   ]
  },
  {
   "cell_type": "markdown",
   "id": "a81e098b",
   "metadata": {},
   "source": [
    "#### GridSearchCV aby znaleźć optymalne parametry"
   ]
  },
  {
   "cell_type": "code",
   "execution_count": 59,
   "id": "2b933da6",
   "metadata": {},
   "outputs": [],
   "source": [
    "params={'criterion': ['entropy'],\n",
    "                     'max_depth': [3, 4],\n",
    "                     'min_samples_leaf': [7, 9, 11],\n",
    "                     'min_samples_split': [3,4,5],\n",
    "                     'splitter': ['best']},"
   ]
  },
  {
   "cell_type": "code",
   "execution_count": 60,
   "id": "992ac938",
   "metadata": {},
   "outputs": [
    {
     "name": "stdout",
     "output_type": "stream",
     "text": [
      "Fitting 5 folds for each of 18 candidates, totalling 90 fits\n",
      "[CV] END criterion=entropy, max_depth=3, min_samples_leaf=7, min_samples_split=3, splitter=best; total time=   0.0s\n",
      "[CV] END criterion=entropy, max_depth=3, min_samples_leaf=7, min_samples_split=3, splitter=best; total time=   0.0s\n",
      "[CV] END criterion=entropy, max_depth=3, min_samples_leaf=7, min_samples_split=3, splitter=best; total time=   0.0s\n",
      "[CV] END criterion=entropy, max_depth=3, min_samples_leaf=7, min_samples_split=3, splitter=best; total time=   0.0s\n",
      "[CV] END criterion=entropy, max_depth=3, min_samples_leaf=7, min_samples_split=3, splitter=best; total time=   0.0s\n",
      "[CV] END criterion=entropy, max_depth=3, min_samples_leaf=7, min_samples_split=4, splitter=best; total time=   0.0s\n",
      "[CV] END criterion=entropy, max_depth=3, min_samples_leaf=7, min_samples_split=4, splitter=best; total time=   0.0s\n",
      "[CV] END criterion=entropy, max_depth=3, min_samples_leaf=7, min_samples_split=4, splitter=best; total time=   0.0s\n",
      "[CV] END criterion=entropy, max_depth=3, min_samples_leaf=7, min_samples_split=4, splitter=best; total time=   0.0s\n",
      "[CV] END criterion=entropy, max_depth=3, min_samples_leaf=7, min_samples_split=4, splitter=best; total time=   0.0s\n",
      "[CV] END criterion=entropy, max_depth=3, min_samples_leaf=7, min_samples_split=5, splitter=best; total time=   0.0s\n",
      "[CV] END criterion=entropy, max_depth=3, min_samples_leaf=7, min_samples_split=5, splitter=best; total time=   0.0s\n",
      "[CV] END criterion=entropy, max_depth=3, min_samples_leaf=7, min_samples_split=5, splitter=best; total time=   0.0s\n",
      "[CV] END criterion=entropy, max_depth=3, min_samples_leaf=7, min_samples_split=5, splitter=best; total time=   0.0s\n",
      "[CV] END criterion=entropy, max_depth=3, min_samples_leaf=7, min_samples_split=5, splitter=best; total time=   0.0s\n",
      "[CV] END criterion=entropy, max_depth=3, min_samples_leaf=9, min_samples_split=3, splitter=best; total time=   0.0s\n",
      "[CV] END criterion=entropy, max_depth=3, min_samples_leaf=9, min_samples_split=3, splitter=best; total time=   0.0s\n",
      "[CV] END criterion=entropy, max_depth=3, min_samples_leaf=9, min_samples_split=3, splitter=best; total time=   0.0s\n",
      "[CV] END criterion=entropy, max_depth=3, min_samples_leaf=9, min_samples_split=3, splitter=best; total time=   0.0s\n",
      "[CV] END criterion=entropy, max_depth=3, min_samples_leaf=9, min_samples_split=3, splitter=best; total time=   0.0s\n",
      "[CV] END criterion=entropy, max_depth=3, min_samples_leaf=9, min_samples_split=4, splitter=best; total time=   0.0s\n",
      "[CV] END criterion=entropy, max_depth=3, min_samples_leaf=9, min_samples_split=4, splitter=best; total time=   0.0s\n",
      "[CV] END criterion=entropy, max_depth=3, min_samples_leaf=9, min_samples_split=4, splitter=best; total time=   0.0s\n",
      "[CV] END criterion=entropy, max_depth=3, min_samples_leaf=9, min_samples_split=4, splitter=best; total time=   0.0s\n",
      "[CV] END criterion=entropy, max_depth=3, min_samples_leaf=9, min_samples_split=4, splitter=best; total time=   0.0s\n",
      "[CV] END criterion=entropy, max_depth=3, min_samples_leaf=9, min_samples_split=5, splitter=best; total time=   0.0s\n",
      "[CV] END criterion=entropy, max_depth=3, min_samples_leaf=9, min_samples_split=5, splitter=best; total time=   0.0s\n",
      "[CV] END criterion=entropy, max_depth=3, min_samples_leaf=9, min_samples_split=5, splitter=best; total time=   0.0s\n",
      "[CV] END criterion=entropy, max_depth=3, min_samples_leaf=9, min_samples_split=5, splitter=best; total time=   0.0s\n",
      "[CV] END criterion=entropy, max_depth=3, min_samples_leaf=9, min_samples_split=5, splitter=best; total time=   0.0s\n",
      "[CV] END criterion=entropy, max_depth=3, min_samples_leaf=11, min_samples_split=3, splitter=best; total time=   0.0s\n",
      "[CV] END criterion=entropy, max_depth=3, min_samples_leaf=11, min_samples_split=3, splitter=best; total time=   0.0s\n",
      "[CV] END criterion=entropy, max_depth=3, min_samples_leaf=11, min_samples_split=3, splitter=best; total time=   0.0s\n",
      "[CV] END criterion=entropy, max_depth=3, min_samples_leaf=11, min_samples_split=3, splitter=best; total time=   0.0s\n",
      "[CV] END criterion=entropy, max_depth=3, min_samples_leaf=11, min_samples_split=3, splitter=best; total time=   0.0s\n",
      "[CV] END criterion=entropy, max_depth=3, min_samples_leaf=11, min_samples_split=4, splitter=best; total time=   0.0s\n",
      "[CV] END criterion=entropy, max_depth=3, min_samples_leaf=11, min_samples_split=4, splitter=best; total time=   0.0s\n",
      "[CV] END criterion=entropy, max_depth=3, min_samples_leaf=11, min_samples_split=4, splitter=best; total time=   0.0s\n",
      "[CV] END criterion=entropy, max_depth=3, min_samples_leaf=11, min_samples_split=4, splitter=best; total time=   0.0s\n",
      "[CV] END criterion=entropy, max_depth=3, min_samples_leaf=11, min_samples_split=4, splitter=best; total time=   0.0s\n",
      "[CV] END criterion=entropy, max_depth=3, min_samples_leaf=11, min_samples_split=5, splitter=best; total time=   0.0s\n",
      "[CV] END criterion=entropy, max_depth=3, min_samples_leaf=11, min_samples_split=5, splitter=best; total time=   0.0s\n",
      "[CV] END criterion=entropy, max_depth=3, min_samples_leaf=11, min_samples_split=5, splitter=best; total time=   0.0s\n",
      "[CV] END criterion=entropy, max_depth=3, min_samples_leaf=11, min_samples_split=5, splitter=best; total time=   0.0s\n",
      "[CV] END criterion=entropy, max_depth=3, min_samples_leaf=11, min_samples_split=5, splitter=best; total time=   0.0s\n",
      "[CV] END criterion=entropy, max_depth=4, min_samples_leaf=7, min_samples_split=3, splitter=best; total time=   0.0s\n",
      "[CV] END criterion=entropy, max_depth=4, min_samples_leaf=7, min_samples_split=3, splitter=best; total time=   0.0s\n",
      "[CV] END criterion=entropy, max_depth=4, min_samples_leaf=7, min_samples_split=3, splitter=best; total time=   0.0s\n",
      "[CV] END criterion=entropy, max_depth=4, min_samples_leaf=7, min_samples_split=3, splitter=best; total time=   0.0s\n",
      "[CV] END criterion=entropy, max_depth=4, min_samples_leaf=7, min_samples_split=3, splitter=best; total time=   0.0s\n",
      "[CV] END criterion=entropy, max_depth=4, min_samples_leaf=7, min_samples_split=4, splitter=best; total time=   0.0s\n",
      "[CV] END criterion=entropy, max_depth=4, min_samples_leaf=7, min_samples_split=4, splitter=best; total time=   0.0s\n",
      "[CV] END criterion=entropy, max_depth=4, min_samples_leaf=7, min_samples_split=4, splitter=best; total time=   0.0s\n",
      "[CV] END criterion=entropy, max_depth=4, min_samples_leaf=7, min_samples_split=4, splitter=best; total time=   0.0s\n",
      "[CV] END criterion=entropy, max_depth=4, min_samples_leaf=7, min_samples_split=4, splitter=best; total time=   0.0s\n",
      "[CV] END criterion=entropy, max_depth=4, min_samples_leaf=7, min_samples_split=5, splitter=best; total time=   0.0s\n",
      "[CV] END criterion=entropy, max_depth=4, min_samples_leaf=7, min_samples_split=5, splitter=best; total time=   0.0s\n",
      "[CV] END criterion=entropy, max_depth=4, min_samples_leaf=7, min_samples_split=5, splitter=best; total time=   0.0s\n",
      "[CV] END criterion=entropy, max_depth=4, min_samples_leaf=7, min_samples_split=5, splitter=best; total time=   0.0s\n",
      "[CV] END criterion=entropy, max_depth=4, min_samples_leaf=7, min_samples_split=5, splitter=best; total time=   0.0s\n",
      "[CV] END criterion=entropy, max_depth=4, min_samples_leaf=9, min_samples_split=3, splitter=best; total time=   0.0s\n",
      "[CV] END criterion=entropy, max_depth=4, min_samples_leaf=9, min_samples_split=3, splitter=best; total time=   0.0s\n",
      "[CV] END criterion=entropy, max_depth=4, min_samples_leaf=9, min_samples_split=3, splitter=best; total time=   0.0s\n",
      "[CV] END criterion=entropy, max_depth=4, min_samples_leaf=9, min_samples_split=3, splitter=best; total time=   0.0s\n",
      "[CV] END criterion=entropy, max_depth=4, min_samples_leaf=9, min_samples_split=3, splitter=best; total time=   0.0s\n",
      "[CV] END criterion=entropy, max_depth=4, min_samples_leaf=9, min_samples_split=4, splitter=best; total time=   0.0s\n",
      "[CV] END criterion=entropy, max_depth=4, min_samples_leaf=9, min_samples_split=4, splitter=best; total time=   0.0s\n",
      "[CV] END criterion=entropy, max_depth=4, min_samples_leaf=9, min_samples_split=4, splitter=best; total time=   0.0s\n",
      "[CV] END criterion=entropy, max_depth=4, min_samples_leaf=9, min_samples_split=4, splitter=best; total time=   0.0s\n",
      "[CV] END criterion=entropy, max_depth=4, min_samples_leaf=9, min_samples_split=4, splitter=best; total time=   0.0s\n",
      "[CV] END criterion=entropy, max_depth=4, min_samples_leaf=9, min_samples_split=5, splitter=best; total time=   0.0s\n",
      "[CV] END criterion=entropy, max_depth=4, min_samples_leaf=9, min_samples_split=5, splitter=best; total time=   0.0s\n",
      "[CV] END criterion=entropy, max_depth=4, min_samples_leaf=9, min_samples_split=5, splitter=best; total time=   0.0s\n",
      "[CV] END criterion=entropy, max_depth=4, min_samples_leaf=9, min_samples_split=5, splitter=best; total time=   0.0s\n",
      "[CV] END criterion=entropy, max_depth=4, min_samples_leaf=9, min_samples_split=5, splitter=best; total time=   0.0s\n",
      "[CV] END criterion=entropy, max_depth=4, min_samples_leaf=11, min_samples_split=3, splitter=best; total time=   0.0s\n",
      "[CV] END criterion=entropy, max_depth=4, min_samples_leaf=11, min_samples_split=3, splitter=best; total time=   0.0s\n",
      "[CV] END criterion=entropy, max_depth=4, min_samples_leaf=11, min_samples_split=3, splitter=best; total time=   0.0s\n",
      "[CV] END criterion=entropy, max_depth=4, min_samples_leaf=11, min_samples_split=3, splitter=best; total time=   0.0s\n",
      "[CV] END criterion=entropy, max_depth=4, min_samples_leaf=11, min_samples_split=3, splitter=best; total time=   0.0s\n",
      "[CV] END criterion=entropy, max_depth=4, min_samples_leaf=11, min_samples_split=4, splitter=best; total time=   0.0s\n",
      "[CV] END criterion=entropy, max_depth=4, min_samples_leaf=11, min_samples_split=4, splitter=best; total time=   0.0s\n",
      "[CV] END criterion=entropy, max_depth=4, min_samples_leaf=11, min_samples_split=4, splitter=best; total time=   0.0s\n",
      "[CV] END criterion=entropy, max_depth=4, min_samples_leaf=11, min_samples_split=4, splitter=best; total time=   0.0s\n",
      "[CV] END criterion=entropy, max_depth=4, min_samples_leaf=11, min_samples_split=4, splitter=best; total time=   0.0s\n",
      "[CV] END criterion=entropy, max_depth=4, min_samples_leaf=11, min_samples_split=5, splitter=best; total time=   0.0s\n",
      "[CV] END criterion=entropy, max_depth=4, min_samples_leaf=11, min_samples_split=5, splitter=best; total time=   0.0s\n",
      "[CV] END criterion=entropy, max_depth=4, min_samples_leaf=11, min_samples_split=5, splitter=best; total time=   0.0s\n",
      "[CV] END criterion=entropy, max_depth=4, min_samples_leaf=11, min_samples_split=5, splitter=best; total time=   0.0s\n",
      "[CV] END criterion=entropy, max_depth=4, min_samples_leaf=11, min_samples_split=5, splitter=best; total time=   0.0s\n"
     ]
    },
    {
     "data": {
      "text/html": [
       "<style>#sk-container-id-3 {color: black;background-color: white;}#sk-container-id-3 pre{padding: 0;}#sk-container-id-3 div.sk-toggleable {background-color: white;}#sk-container-id-3 label.sk-toggleable__label {cursor: pointer;display: block;width: 100%;margin-bottom: 0;padding: 0.3em;box-sizing: border-box;text-align: center;}#sk-container-id-3 label.sk-toggleable__label-arrow:before {content: \"▸\";float: left;margin-right: 0.25em;color: #696969;}#sk-container-id-3 label.sk-toggleable__label-arrow:hover:before {color: black;}#sk-container-id-3 div.sk-estimator:hover label.sk-toggleable__label-arrow:before {color: black;}#sk-container-id-3 div.sk-toggleable__content {max-height: 0;max-width: 0;overflow: hidden;text-align: left;background-color: #f0f8ff;}#sk-container-id-3 div.sk-toggleable__content pre {margin: 0.2em;color: black;border-radius: 0.25em;background-color: #f0f8ff;}#sk-container-id-3 input.sk-toggleable__control:checked~div.sk-toggleable__content {max-height: 200px;max-width: 100%;overflow: auto;}#sk-container-id-3 input.sk-toggleable__control:checked~label.sk-toggleable__label-arrow:before {content: \"▾\";}#sk-container-id-3 div.sk-estimator input.sk-toggleable__control:checked~label.sk-toggleable__label {background-color: #d4ebff;}#sk-container-id-3 div.sk-label input.sk-toggleable__control:checked~label.sk-toggleable__label {background-color: #d4ebff;}#sk-container-id-3 input.sk-hidden--visually {border: 0;clip: rect(1px 1px 1px 1px);clip: rect(1px, 1px, 1px, 1px);height: 1px;margin: -1px;overflow: hidden;padding: 0;position: absolute;width: 1px;}#sk-container-id-3 div.sk-estimator {font-family: monospace;background-color: #f0f8ff;border: 1px dotted black;border-radius: 0.25em;box-sizing: border-box;margin-bottom: 0.5em;}#sk-container-id-3 div.sk-estimator:hover {background-color: #d4ebff;}#sk-container-id-3 div.sk-parallel-item::after {content: \"\";width: 100%;border-bottom: 1px solid gray;flex-grow: 1;}#sk-container-id-3 div.sk-label:hover label.sk-toggleable__label {background-color: #d4ebff;}#sk-container-id-3 div.sk-serial::before {content: \"\";position: absolute;border-left: 1px solid gray;box-sizing: border-box;top: 0;bottom: 0;left: 50%;z-index: 0;}#sk-container-id-3 div.sk-serial {display: flex;flex-direction: column;align-items: center;background-color: white;padding-right: 0.2em;padding-left: 0.2em;position: relative;}#sk-container-id-3 div.sk-item {position: relative;z-index: 1;}#sk-container-id-3 div.sk-parallel {display: flex;align-items: stretch;justify-content: center;background-color: white;position: relative;}#sk-container-id-3 div.sk-item::before, #sk-container-id-3 div.sk-parallel-item::before {content: \"\";position: absolute;border-left: 1px solid gray;box-sizing: border-box;top: 0;bottom: 0;left: 50%;z-index: -1;}#sk-container-id-3 div.sk-parallel-item {display: flex;flex-direction: column;z-index: 1;position: relative;background-color: white;}#sk-container-id-3 div.sk-parallel-item:first-child::after {align-self: flex-end;width: 50%;}#sk-container-id-3 div.sk-parallel-item:last-child::after {align-self: flex-start;width: 50%;}#sk-container-id-3 div.sk-parallel-item:only-child::after {width: 0;}#sk-container-id-3 div.sk-dashed-wrapped {border: 1px dashed gray;margin: 0 0.4em 0.5em 0.4em;box-sizing: border-box;padding-bottom: 0.4em;background-color: white;}#sk-container-id-3 div.sk-label label {font-family: monospace;font-weight: bold;display: inline-block;line-height: 1.2em;}#sk-container-id-3 div.sk-label-container {text-align: center;}#sk-container-id-3 div.sk-container {/* jupyter's `normalize.less` sets `[hidden] { display: none; }` but bootstrap.min.css set `[hidden] { display: none !important; }` so we also need the `!important` here to be able to override the default hidden behavior on the sphinx rendered scikit-learn.org. See: https://github.com/scikit-learn/scikit-learn/issues/21755 */display: inline-block !important;position: relative;}#sk-container-id-3 div.sk-text-repr-fallback {display: none;}</style><div id=\"sk-container-id-3\" class=\"sk-top-container\"><div class=\"sk-text-repr-fallback\"><pre>GridSearchCV(cv=5,\n",
       "             estimator=DecisionTreeClassifier(criterion=&#x27;entropy&#x27;, max_depth=4,\n",
       "                                              random_state=0),\n",
       "             param_grid=({&#x27;criterion&#x27;: [&#x27;entropy&#x27;], &#x27;max_depth&#x27;: [3, 4],\n",
       "                          &#x27;min_samples_leaf&#x27;: [7, 9, 11],\n",
       "                          &#x27;min_samples_split&#x27;: [3, 4, 5],\n",
       "                          &#x27;splitter&#x27;: [&#x27;best&#x27;]},),\n",
       "             scoring=&#x27;accuracy&#x27;, verbose=2)</pre><b>In a Jupyter environment, please rerun this cell to show the HTML representation or trust the notebook. <br />On GitHub, the HTML representation is unable to render, please try loading this page with nbviewer.org.</b></div><div class=\"sk-container\" hidden><div class=\"sk-item sk-dashed-wrapped\"><div class=\"sk-label-container\"><div class=\"sk-label sk-toggleable\"><input class=\"sk-toggleable__control sk-hidden--visually\" id=\"sk-estimator-id-5\" type=\"checkbox\" ><label for=\"sk-estimator-id-5\" class=\"sk-toggleable__label sk-toggleable__label-arrow\">GridSearchCV</label><div class=\"sk-toggleable__content\"><pre>GridSearchCV(cv=5,\n",
       "             estimator=DecisionTreeClassifier(criterion=&#x27;entropy&#x27;, max_depth=4,\n",
       "                                              random_state=0),\n",
       "             param_grid=({&#x27;criterion&#x27;: [&#x27;entropy&#x27;], &#x27;max_depth&#x27;: [3, 4],\n",
       "                          &#x27;min_samples_leaf&#x27;: [7, 9, 11],\n",
       "                          &#x27;min_samples_split&#x27;: [3, 4, 5],\n",
       "                          &#x27;splitter&#x27;: [&#x27;best&#x27;]},),\n",
       "             scoring=&#x27;accuracy&#x27;, verbose=2)</pre></div></div></div><div class=\"sk-parallel\"><div class=\"sk-parallel-item\"><div class=\"sk-item\"><div class=\"sk-label-container\"><div class=\"sk-label sk-toggleable\"><input class=\"sk-toggleable__control sk-hidden--visually\" id=\"sk-estimator-id-6\" type=\"checkbox\" ><label for=\"sk-estimator-id-6\" class=\"sk-toggleable__label sk-toggleable__label-arrow\">estimator: DecisionTreeClassifier</label><div class=\"sk-toggleable__content\"><pre>DecisionTreeClassifier(criterion=&#x27;entropy&#x27;, max_depth=4, random_state=0)</pre></div></div></div><div class=\"sk-serial\"><div class=\"sk-item\"><div class=\"sk-estimator sk-toggleable\"><input class=\"sk-toggleable__control sk-hidden--visually\" id=\"sk-estimator-id-7\" type=\"checkbox\" ><label for=\"sk-estimator-id-7\" class=\"sk-toggleable__label sk-toggleable__label-arrow\">DecisionTreeClassifier</label><div class=\"sk-toggleable__content\"><pre>DecisionTreeClassifier(criterion=&#x27;entropy&#x27;, max_depth=4, random_state=0)</pre></div></div></div></div></div></div></div></div></div></div>"
      ],
      "text/plain": [
       "GridSearchCV(cv=5,\n",
       "             estimator=DecisionTreeClassifier(criterion='entropy', max_depth=4,\n",
       "                                              random_state=0),\n",
       "             param_grid=({'criterion': ['entropy'], 'max_depth': [3, 4],\n",
       "                          'min_samples_leaf': [7, 9, 11],\n",
       "                          'min_samples_split': [3, 4, 5],\n",
       "                          'splitter': ['best']},),\n",
       "             scoring='accuracy', verbose=2)"
      ]
     },
     "execution_count": 60,
     "metadata": {},
     "output_type": "execute_result"
    }
   ],
   "source": [
    "grid_search = GridSearchCV(DT, param_grid=params, cv=5, verbose=2, scoring='accuracy')\n",
    "\n",
    "grid_search.fit(X_train, y_train)"
   ]
  },
  {
   "cell_type": "code",
   "execution_count": 61,
   "id": "223ee6e6",
   "metadata": {},
   "outputs": [
    {
     "data": {
      "text/plain": [
       "0.8873096446700508"
      ]
     },
     "execution_count": 61,
     "metadata": {},
     "output_type": "execute_result"
    }
   ],
   "source": [
    "grid_search.best_score_"
   ]
  },
  {
   "cell_type": "code",
   "execution_count": 62,
   "id": "47afa8a6",
   "metadata": {},
   "outputs": [
    {
     "data": {
      "text/plain": [
       "{'criterion': 'entropy',\n",
       " 'max_depth': 4,\n",
       " 'min_samples_leaf': 11,\n",
       " 'min_samples_split': 3,\n",
       " 'splitter': 'best'}"
      ]
     },
     "execution_count": 62,
     "metadata": {},
     "output_type": "execute_result"
    }
   ],
   "source": [
    "grid_search.best_params_"
   ]
  },
  {
   "cell_type": "code",
   "execution_count": 63,
   "id": "07bfb4fa",
   "metadata": {},
   "outputs": [],
   "source": [
    "DT_3 = grid_search.best_estimator_"
   ]
  },
  {
   "cell_type": "code",
   "execution_count": 64,
   "id": "e7f39a67",
   "metadata": {},
   "outputs": [
    {
     "name": "stdout",
     "output_type": "stream",
     "text": [
      "The accuracy test data is 0.8461538461538461\n"
     ]
    }
   ],
   "source": [
    "DT_pred_3 = DT_3.predict(X_test)\n",
    "print('The accuracy test data is',accuracy_score( y_test, DT_pred_3))"
   ]
  },
  {
   "cell_type": "code",
   "execution_count": 65,
   "id": "3d65ab9e",
   "metadata": {},
   "outputs": [
    {
     "data": {
      "text/plain": [
       "0.5652081563296517"
      ]
     },
     "execution_count": 65,
     "metadata": {},
     "output_type": "execute_result"
    }
   ],
   "source": [
    "roc_auc_score(y_test, DT_pred_3)"
   ]
  },
  {
   "cell_type": "code",
   "execution_count": 66,
   "id": "73ddab18",
   "metadata": {},
   "outputs": [
    {
     "name": "stderr",
     "output_type": "stream",
     "text": [
      "C:\\Users\\ela\\anaconda3\\lib\\site-packages\\sklearn\\utils\\deprecation.py:87: FutureWarning: Function plot_roc_curve is deprecated; Function :func:`plot_roc_curve` is deprecated in 1.0 and will be removed in 1.2. Use one of the class methods: :meth:`sklearn.metric.RocCurveDisplay.from_predictions` or :meth:`sklearn.metric.RocCurveDisplay.from_estimator`.\n",
      "  warnings.warn(msg, category=FutureWarning)\n"
     ]
    },
    {
     "data": {
      "text/plain": [
       "<sklearn.metrics._plot.roc_curve.RocCurveDisplay at 0x28097a04ca0>"
      ]
     },
     "execution_count": 66,
     "metadata": {},
     "output_type": "execute_result"
    },
    {
     "data": {
      "image/png": "[encoded data removed]",
      "text/plain": [
       "<Figure size 432x288 with 1 Axes>"
      ]
     },
     "metadata": {
      "needs_background": "light"
     },
     "output_type": "display_data"
    }
   ],
   "source": [
    "plot_roc_curve(DT_3, X_test, y_test)"
   ]
  },
  {
   "cell_type": "markdown",
   "id": "61d43704",
   "metadata": {},
   "source": [
    "### Las losowy"
   ]
  },
  {
   "cell_type": "code",
   "execution_count": 67,
   "id": "75d15c25",
   "metadata": {},
   "outputs": [],
   "source": [
    "rfc=RandomForestClassifier(n_estimators=20,bootstrap=True,random_state=0)\n",
    "rfc.fit(X_train, y_train)\n",
    "\n",
    "yPred=rfc.predict(X_train)\n",
    "yPred_test=rfc.predict(X_test)"
   ]
  },
  {
   "cell_type": "code",
   "execution_count": 68,
   "id": "2583f33f",
   "metadata": {},
   "outputs": [
    {
     "name": "stdout",
     "output_type": "stream",
     "text": [
      "accuracy train data is 0.9979695431472081\n",
      "accuracy test data is 0.8744939271255061\n"
     ]
    }
   ],
   "source": [
    "print('accuracy train data is',accuracy_score(yPred,y_train))\n",
    "print('accuracy test data is',accuracy_score(yPred_test,y_test))"
   ]
  },
  {
   "cell_type": "code",
   "execution_count": 69,
   "id": "79a6a2af",
   "metadata": {},
   "outputs": [
    {
     "name": "stdout",
     "output_type": "stream",
     "text": [
      "The accuracy is 0.8744939271255061\n",
      "The precision is 0.5416666666666666\n",
      "The recall is 0.3939393939393939\n",
      "The F1-Score is 0.45614035087719296\n"
     ]
    }
   ],
   "source": [
    "acc = accuracy_score(y_test, yPred_test)\n",
    "print(\"The accuracy is {}\".format(acc))\n",
    "  \n",
    "prec = precision_score(y_test, yPred_test)\n",
    "print(\"The precision is {}\".format(prec))\n",
    "  \n",
    "rec = recall_score(y_test, yPred_test)\n",
    "print(\"The recall is {}\".format(rec))\n",
    "  \n",
    "f1 = f1_score(y_test, yPred_test)\n",
    "print(\"The F1-Score is {}\".format(f1))"
   ]
  },
  {
   "cell_type": "code",
   "execution_count": 70,
   "id": "300f8fd5",
   "metadata": {},
   "outputs": [
    {
     "name": "stdout",
     "output_type": "stream",
     "text": [
      "              precision    recall  f1-score   support\n",
      "\n",
      "           0       0.91      0.95      0.93       214\n",
      "           1       0.54      0.39      0.46        33\n",
      "\n",
      "    accuracy                           0.87       247\n",
      "   macro avg       0.73      0.67      0.69       247\n",
      "weighted avg       0.86      0.87      0.87       247\n",
      "\n"
     ]
    }
   ],
   "source": [
    "print(classification_report(y_test, yPred_test))"
   ]
  },
  {
   "cell_type": "code",
   "execution_count": 71,
   "id": "0b8138e2",
   "metadata": {},
   "outputs": [
    {
     "data": {
      "image/png": "[encoded data removed]",
      "text/plain": [
       "<Figure size 360x360 with 2 Axes>"
      ]
     },
     "metadata": {
      "needs_background": "light"
     },
     "output_type": "display_data"
    }
   ],
   "source": [
    "#Confusion Matrix\n",
    "LABELS = ['Normal', 'Fraud']\n",
    "conf_matrix = confusion_matrix(y_test, yPred_test)\n",
    "plt.figure(figsize =(5, 5))\n",
    "sns.heatmap(conf_matrix, xticklabels = LABELS, \n",
    "            yticklabels = LABELS, annot = True, fmt =\"d\");\n",
    "plt.title(\"Confusion matrix\")\n",
    "plt.ylabel('True class')\n",
    "plt.xlabel('Predicted class')\n",
    "plt.show()"
   ]
  },
  {
   "cell_type": "code",
   "execution_count": 72,
   "id": "1c971853",
   "metadata": {},
   "outputs": [
    {
     "name": "stderr",
     "output_type": "stream",
     "text": [
      "C:\\Users\\ela\\anaconda3\\lib\\site-packages\\sklearn\\utils\\deprecation.py:87: FutureWarning: Function plot_roc_curve is deprecated; Function :func:`plot_roc_curve` is deprecated in 1.0 and will be removed in 1.2. Use one of the class methods: :meth:`sklearn.metric.RocCurveDisplay.from_predictions` or :meth:`sklearn.metric.RocCurveDisplay.from_estimator`.\n",
      "  warnings.warn(msg, category=FutureWarning)\n"
     ]
    },
    {
     "data": {
      "image/png": "[encoded data removed]",
      "text/plain": [
       "<Figure size 432x288 with 1 Axes>"
      ]
     },
     "metadata": {
      "needs_background": "light"
     },
     "output_type": "display_data"
    }
   ],
   "source": [
    "ROC_RF = plot_roc_curve(rfc, X_test, y_test)\n",
    "plt.show()"
   ]
  },
  {
   "cell_type": "markdown",
   "id": "afbc87ef",
   "metadata": {},
   "source": [
    "#### RandomizedSearchCV"
   ]
  },
  {
   "cell_type": "code",
   "execution_count": 73,
   "id": "22e7e6f3",
   "metadata": {},
   "outputs": [],
   "source": [
    "params={'criterion': ['gini', 'entropy'],\n",
    "        'n_estimators': [50, 100, 150 ,200],\n",
    "        'max_depth': [1, 3, 5, 7, 10, None],\n",
    "        'min_samples_leaf': [1, 3, 5, 7],\n",
    "        'min_samples_split': [2, 4, 6, 8]}"
   ]
  },
  {
   "cell_type": "code",
   "execution_count": 74,
   "id": "bc24ad90",
   "metadata": {},
   "outputs": [
    {
     "data": {
      "text/html": [
       "<style>#sk-container-id-4 {color: black;background-color: white;}#sk-container-id-4 pre{padding: 0;}#sk-container-id-4 div.sk-toggleable {background-color: white;}#sk-container-id-4 label.sk-toggleable__label {cursor: pointer;display: block;width: 100%;margin-bottom: 0;padding: 0.3em;box-sizing: border-box;text-align: center;}#sk-container-id-4 label.sk-toggleable__label-arrow:before {content: \"▸\";float: left;margin-right: 0.25em;color: #696969;}#sk-container-id-4 label.sk-toggleable__label-arrow:hover:before {color: black;}#sk-container-id-4 div.sk-estimator:hover label.sk-toggleable__label-arrow:before {color: black;}#sk-container-id-4 div.sk-toggleable__content {max-height: 0;max-width: 0;overflow: hidden;text-align: left;background-color: #f0f8ff;}#sk-container-id-4 div.sk-toggleable__content pre {margin: 0.2em;color: black;border-radius: 0.25em;background-color: #f0f8ff;}#sk-container-id-4 input.sk-toggleable__control:checked~div.sk-toggleable__content {max-height: 200px;max-width: 100%;overflow: auto;}#sk-container-id-4 input.sk-toggleable__control:checked~label.sk-toggleable__label-arrow:before {content: \"▾\";}#sk-container-id-4 div.sk-estimator input.sk-toggleable__control:checked~label.sk-toggleable__label {background-color: #d4ebff;}#sk-container-id-4 div.sk-label input.sk-toggleable__control:checked~label.sk-toggleable__label {background-color: #d4ebff;}#sk-container-id-4 input.sk-hidden--visually {border: 0;clip: rect(1px 1px 1px 1px);clip: rect(1px, 1px, 1px, 1px);height: 1px;margin: -1px;overflow: hidden;padding: 0;position: absolute;width: 1px;}#sk-container-id-4 div.sk-estimator {font-family: monospace;background-color: #f0f8ff;border: 1px dotted black;border-radius: 0.25em;box-sizing: border-box;margin-bottom: 0.5em;}#sk-container-id-4 div.sk-estimator:hover {background-color: #d4ebff;}#sk-container-id-4 div.sk-parallel-item::after {content: \"\";width: 100%;border-bottom: 1px solid gray;flex-grow: 1;}#sk-container-id-4 div.sk-label:hover label.sk-toggleable__label {background-color: #d4ebff;}#sk-container-id-4 div.sk-serial::before {content: \"\";position: absolute;border-left: 1px solid gray;box-sizing: border-box;top: 0;bottom: 0;left: 50%;z-index: 0;}#sk-container-id-4 div.sk-serial {display: flex;flex-direction: column;align-items: center;background-color: white;padding-right: 0.2em;padding-left: 0.2em;position: relative;}#sk-container-id-4 div.sk-item {position: relative;z-index: 1;}#sk-container-id-4 div.sk-parallel {display: flex;align-items: stretch;justify-content: center;background-color: white;position: relative;}#sk-container-id-4 div.sk-item::before, #sk-container-id-4 div.sk-parallel-item::before {content: \"\";position: absolute;border-left: 1px solid gray;box-sizing: border-box;top: 0;bottom: 0;left: 50%;z-index: -1;}#sk-container-id-4 div.sk-parallel-item {display: flex;flex-direction: column;z-index: 1;position: relative;background-color: white;}#sk-container-id-4 div.sk-parallel-item:first-child::after {align-self: flex-end;width: 50%;}#sk-container-id-4 div.sk-parallel-item:last-child::after {align-self: flex-start;width: 50%;}#sk-container-id-4 div.sk-parallel-item:only-child::after {width: 0;}#sk-container-id-4 div.sk-dashed-wrapped {border: 1px dashed gray;margin: 0 0.4em 0.5em 0.4em;box-sizing: border-box;padding-bottom: 0.4em;background-color: white;}#sk-container-id-4 div.sk-label label {font-family: monospace;font-weight: bold;display: inline-block;line-height: 1.2em;}#sk-container-id-4 div.sk-label-container {text-align: center;}#sk-container-id-4 div.sk-container {/* jupyter's `normalize.less` sets `[hidden] { display: none; }` but bootstrap.min.css set `[hidden] { display: none !important; }` so we also need the `!important` here to be able to override the default hidden behavior on the sphinx rendered scikit-learn.org. See: https://github.com/scikit-learn/scikit-learn/issues/21755 */display: inline-block !important;position: relative;}#sk-container-id-4 div.sk-text-repr-fallback {display: none;}</style><div id=\"sk-container-id-4\" class=\"sk-top-container\"><div class=\"sk-text-repr-fallback\"><pre>RandomizedSearchCV(cv=5,\n",
       "                   estimator=RandomForestClassifier(n_estimators=20,\n",
       "                                                    random_state=0),\n",
       "                   param_distributions={&#x27;criterion&#x27;: [&#x27;gini&#x27;, &#x27;entropy&#x27;],\n",
       "                                        &#x27;max_depth&#x27;: [1, 3, 5, 7, 10, None],\n",
       "                                        &#x27;min_samples_leaf&#x27;: [1, 3, 5, 7],\n",
       "                                        &#x27;min_samples_split&#x27;: [2, 4, 6, 8],\n",
       "                                        &#x27;n_estimators&#x27;: [50, 100, 150, 200]},\n",
       "                   scoring=&#x27;accuracy&#x27;)</pre><b>In a Jupyter environment, please rerun this cell to show the HTML representation or trust the notebook. <br />On GitHub, the HTML representation is unable to render, please try loading this page with nbviewer.org.</b></div><div class=\"sk-container\" hidden><div class=\"sk-item sk-dashed-wrapped\"><div class=\"sk-label-container\"><div class=\"sk-label sk-toggleable\"><input class=\"sk-toggleable__control sk-hidden--visually\" id=\"sk-estimator-id-8\" type=\"checkbox\" ><label for=\"sk-estimator-id-8\" class=\"sk-toggleable__label sk-toggleable__label-arrow\">RandomizedSearchCV</label><div class=\"sk-toggleable__content\"><pre>RandomizedSearchCV(cv=5,\n",
       "                   estimator=RandomForestClassifier(n_estimators=20,\n",
       "                                                    random_state=0),\n",
       "                   param_distributions={&#x27;criterion&#x27;: [&#x27;gini&#x27;, &#x27;entropy&#x27;],\n",
       "                                        &#x27;max_depth&#x27;: [1, 3, 5, 7, 10, None],\n",
       "                                        &#x27;min_samples_leaf&#x27;: [1, 3, 5, 7],\n",
       "                                        &#x27;min_samples_split&#x27;: [2, 4, 6, 8],\n",
       "                                        &#x27;n_estimators&#x27;: [50, 100, 150, 200]},\n",
       "                   scoring=&#x27;accuracy&#x27;)</pre></div></div></div><div class=\"sk-parallel\"><div class=\"sk-parallel-item\"><div class=\"sk-item\"><div class=\"sk-label-container\"><div class=\"sk-label sk-toggleable\"><input class=\"sk-toggleable__control sk-hidden--visually\" id=\"sk-estimator-id-9\" type=\"checkbox\" ><label for=\"sk-estimator-id-9\" class=\"sk-toggleable__label sk-toggleable__label-arrow\">estimator: RandomForestClassifier</label><div class=\"sk-toggleable__content\"><pre>RandomForestClassifier(n_estimators=20, random_state=0)</pre></div></div></div><div class=\"sk-serial\"><div class=\"sk-item\"><div class=\"sk-estimator sk-toggleable\"><input class=\"sk-toggleable__control sk-hidden--visually\" id=\"sk-estimator-id-10\" type=\"checkbox\" ><label for=\"sk-estimator-id-10\" class=\"sk-toggleable__label sk-toggleable__label-arrow\">RandomForestClassifier</label><div class=\"sk-toggleable__content\"><pre>RandomForestClassifier(n_estimators=20, random_state=0)</pre></div></div></div></div></div></div></div></div></div></div>"
      ],
      "text/plain": [
       "RandomizedSearchCV(cv=5,\n",
       "                   estimator=RandomForestClassifier(n_estimators=20,\n",
       "                                                    random_state=0),\n",
       "                   param_distributions={'criterion': ['gini', 'entropy'],\n",
       "                                        'max_depth': [1, 3, 5, 7, 10, None],\n",
       "                                        'min_samples_leaf': [1, 3, 5, 7],\n",
       "                                        'min_samples_split': [2, 4, 6, 8],\n",
       "                                        'n_estimators': [50, 100, 150, 200]},\n",
       "                   scoring='accuracy')"
      ]
     },
     "execution_count": 74,
     "metadata": {},
     "output_type": "execute_result"
    }
   ],
   "source": [
    "random_search = RandomizedSearchCV(rfc, param_distributions=params, n_iter=10, cv=5, scoring='accuracy')\n",
    "\n",
    "random_search.fit(X_train, y_train)"
   ]
  },
  {
   "cell_type": "code",
   "execution_count": 100,
   "id": "65721382",
   "metadata": {},
   "outputs": [
    {
     "data": {
      "text/plain": [
       "0.8862944162436548"
      ]
     },
     "execution_count": 100,
     "metadata": {},
     "output_type": "execute_result"
    }
   ],
   "source": [
    "random_search.best_score_"
   ]
  },
  {
   "cell_type": "code",
   "execution_count": 75,
   "id": "11908f7c",
   "metadata": {},
   "outputs": [
    {
     "data": {
      "text/plain": [
       "{'n_estimators': 50,\n",
       " 'min_samples_split': 8,\n",
       " 'min_samples_leaf': 1,\n",
       " 'max_depth': 10,\n",
       " 'criterion': 'entropy'}"
      ]
     },
     "execution_count": 75,
     "metadata": {},
     "output_type": "execute_result"
    }
   ],
   "source": [
    "random_search.best_params_"
   ]
  },
  {
   "cell_type": "code",
   "execution_count": 76,
   "id": "45f04914",
   "metadata": {},
   "outputs": [],
   "source": [
    "rfc_2 = random_search.best_estimator_"
   ]
  },
  {
   "cell_type": "code",
   "execution_count": 77,
   "id": "0efdebd7",
   "metadata": {},
   "outputs": [],
   "source": [
    "yPred_2 = rfc_2.predict(X_test)"
   ]
  },
  {
   "cell_type": "code",
   "execution_count": 78,
   "id": "b96ae460",
   "metadata": {},
   "outputs": [
    {
     "data": {
      "text/plain": [
       "0.8744939271255061"
      ]
     },
     "execution_count": 78,
     "metadata": {},
     "output_type": "execute_result"
    }
   ],
   "source": [
    "accuracy_score(y_test, yPred_2)"
   ]
  },
  {
   "cell_type": "code",
   "execution_count": 79,
   "id": "be37bcf0",
   "metadata": {},
   "outputs": [
    {
     "data": {
      "text/plain": [
       "0.645638629283489"
      ]
     },
     "execution_count": 79,
     "metadata": {},
     "output_type": "execute_result"
    }
   ],
   "source": [
    "roc_auc_score(y_test, yPred_2)"
   ]
  },
  {
   "cell_type": "code",
   "execution_count": 80,
   "id": "1e58c4cf",
   "metadata": {},
   "outputs": [
    {
     "data": {
      "text/plain": [
       "{'mean_fit_time': array([0.12477789, 0.24126248, 0.28713574, 0.39605608, 0.13541651,\n",
       "        0.13646297, 0.20340772, 0.35600443, 0.28182864, 0.23038998]),\n",
       " 'std_fit_time': array([0.00791627, 0.01415052, 0.01270094, 0.02314169, 0.00257224,\n",
       "        0.01254669, 0.02875632, 0.00981803, 0.01703451, 0.0210317 ]),\n",
       " 'mean_score_time': array([0.00473204, 0.01552973, 0.02485399, 0.02355294, 0.00899115,\n",
       "        0.00777869, 0.01460996, 0.02339439, 0.01695991, 0.01525707]),\n",
       " 'std_score_time': array([0.00628079, 0.00098746, 0.00378823, 0.00501731, 0.00091162,\n",
       "        0.00076439, 0.00195318, 0.00300334, 0.00407943, 0.00173758]),\n",
       " 'param_n_estimators': masked_array(data=[50, 100, 150, 150, 50, 50, 100, 150, 100, 100],\n",
       "              mask=[False, False, False, False, False, False, False, False,\n",
       "                    False, False],\n",
       "        fill_value='?',\n",
       "             dtype=object),\n",
       " 'param_min_samples_split': masked_array(data=[2, 8, 8, 2, 8, 6, 6, 2, 8, 4],\n",
       "              mask=[False, False, False, False, False, False, False, False,\n",
       "                    False, False],\n",
       "        fill_value='?',\n",
       "             dtype=object),\n",
       " 'param_min_samples_leaf': masked_array(data=[1, 7, 3, 5, 1, 7, 5, 1, 3, 1],\n",
       "              mask=[False, False, False, False, False, False, False, False,\n",
       "                    False, False],\n",
       "        fill_value='?',\n",
       "             dtype=object),\n",
       " 'param_max_depth': masked_array(data=[None, 10, 1, None, 10, 10, 1, 3, 7, 3],\n",
       "              mask=[False, False, False, False, False, False, False, False,\n",
       "                    False, False],\n",
       "        fill_value='?',\n",
       "             dtype=object),\n",
       " 'param_criterion': masked_array(data=['gini', 'entropy', 'entropy', 'gini', 'entropy',\n",
       "                    'entropy', 'gini', 'gini', 'entropy', 'gini'],\n",
       "              mask=[False, False, False, False, False, False, False, False,\n",
       "                    False, False],\n",
       "        fill_value='?',\n",
       "             dtype=object),\n",
       " 'params': [{'n_estimators': 50,\n",
       "   'min_samples_split': 2,\n",
       "   'min_samples_leaf': 1,\n",
       "   'max_depth': None,\n",
       "   'criterion': 'gini'},\n",
       "  {'n_estimators': 100,\n",
       "   'min_samples_split': 8,\n",
       "   'min_samples_leaf': 7,\n",
       "   'max_depth': 10,\n",
       "   'criterion': 'entropy'},\n",
       "  {'n_estimators': 150,\n",
       "   'min_samples_split': 8,\n",
       "   'min_samples_leaf': 3,\n",
       "   'max_depth': 1,\n",
       "   'criterion': 'entropy'},\n",
       "  {'n_estimators': 150,\n",
       "   'min_samples_split': 2,\n",
       "   'min_samples_leaf': 5,\n",
       "   'max_depth': None,\n",
       "   'criterion': 'gini'},\n",
       "  {'n_estimators': 50,\n",
       "   'min_samples_split': 8,\n",
       "   'min_samples_leaf': 1,\n",
       "   'max_depth': 10,\n",
       "   'criterion': 'entropy'},\n",
       "  {'n_estimators': 50,\n",
       "   'min_samples_split': 6,\n",
       "   'min_samples_leaf': 7,\n",
       "   'max_depth': 10,\n",
       "   'criterion': 'entropy'},\n",
       "  {'n_estimators': 100,\n",
       "   'min_samples_split': 6,\n",
       "   'min_samples_leaf': 5,\n",
       "   'max_depth': 1,\n",
       "   'criterion': 'gini'},\n",
       "  {'n_estimators': 150,\n",
       "   'min_samples_split': 2,\n",
       "   'min_samples_leaf': 1,\n",
       "   'max_depth': 3,\n",
       "   'criterion': 'gini'},\n",
       "  {'n_estimators': 100,\n",
       "   'min_samples_split': 8,\n",
       "   'min_samples_leaf': 3,\n",
       "   'max_depth': 7,\n",
       "   'criterion': 'entropy'},\n",
       "  {'n_estimators': 100,\n",
       "   'min_samples_split': 4,\n",
       "   'min_samples_leaf': 1,\n",
       "   'max_depth': 3,\n",
       "   'criterion': 'gini'}],\n",
       " 'split0_test_score': array([0.87309645, 0.88832487, 0.86294416, 0.89847716, 0.89340102,\n",
       "        0.89847716, 0.86294416, 0.87817259, 0.88832487, 0.8680203 ]),\n",
       " 'split1_test_score': array([0.8680203 , 0.87817259, 0.86294416, 0.87309645, 0.87309645,\n",
       "        0.87817259, 0.86294416, 0.8680203 , 0.87309645, 0.8680203 ]),\n",
       " 'split2_test_score': array([0.86294416, 0.85279188, 0.86294416, 0.86294416, 0.8680203 ,\n",
       "        0.85786802, 0.86294416, 0.8680203 , 0.85786802, 0.86294416]),\n",
       " 'split3_test_score': array([0.89340102, 0.89340102, 0.86294416, 0.88832487, 0.9035533 ,\n",
       "        0.89340102, 0.86294416, 0.87817259, 0.89340102, 0.87309645]),\n",
       " 'split4_test_score': array([0.87309645, 0.89340102, 0.85786802, 0.89847716, 0.9035533 ,\n",
       "        0.89340102, 0.85786802, 0.88832487, 0.88832487, 0.88832487]),\n",
       " 'mean_test_score': array([0.87411168, 0.88121827, 0.86192893, 0.88426396, 0.88832487,\n",
       "        0.88426396, 0.86192893, 0.87614213, 0.88020305, 0.87208122]),\n",
       " 'std_test_score': array([0.01035334, 0.01526223, 0.00203046, 0.0141405 , 0.01505827,\n",
       "        0.01485151, 0.00203046, 0.00759727, 0.0130803 , 0.00873333]),\n",
       " 'rank_test_score': array([7, 4, 9, 2, 1, 2, 9, 6, 5, 8])}"
      ]
     },
     "execution_count": 80,
     "metadata": {},
     "output_type": "execute_result"
    }
   ],
   "source": [
    "random_search.cv_results_"
   ]
  },
  {
   "cell_type": "code",
   "execution_count": 81,
   "id": "17d181da",
   "metadata": {},
   "outputs": [
    {
     "data": {
      "text/plain": [
       "{'bootstrap': True,\n",
       " 'ccp_alpha': 0.0,\n",
       " 'class_weight': None,\n",
       " 'criterion': 'gini',\n",
       " 'max_depth': None,\n",
       " 'max_features': 'sqrt',\n",
       " 'max_leaf_nodes': None,\n",
       " 'max_samples': None,\n",
       " 'min_impurity_decrease': 0.0,\n",
       " 'min_samples_leaf': 1,\n",
       " 'min_samples_split': 2,\n",
       " 'min_weight_fraction_leaf': 0.0,\n",
       " 'n_estimators': 20,\n",
       " 'n_jobs': None,\n",
       " 'oob_score': False,\n",
       " 'random_state': 0,\n",
       " 'verbose': 0,\n",
       " 'warm_start': False}"
      ]
     },
     "execution_count": 81,
     "metadata": {},
     "output_type": "execute_result"
    }
   ],
   "source": [
    "rfc.get_params()"
   ]
  },
  {
   "cell_type": "code",
   "execution_count": 82,
   "id": "815efa92",
   "metadata": {},
   "outputs": [],
   "source": [
    "params={'criterion': ['gini'],\n",
    "        'n_estimators': [100],\n",
    "        'max_depth': [7, 10, None],\n",
    "        'min_samples_leaf': [2, 4],\n",
    "        'min_samples_split': [6, 8]}"
   ]
  },
  {
   "cell_type": "code",
   "execution_count": 83,
   "id": "43bc3b8a",
   "metadata": {},
   "outputs": [
    {
     "data": {
      "text/html": [
       "<style>#sk-container-id-5 {color: black;background-color: white;}#sk-container-id-5 pre{padding: 0;}#sk-container-id-5 div.sk-toggleable {background-color: white;}#sk-container-id-5 label.sk-toggleable__label {cursor: pointer;display: block;width: 100%;margin-bottom: 0;padding: 0.3em;box-sizing: border-box;text-align: center;}#sk-container-id-5 label.sk-toggleable__label-arrow:before {content: \"▸\";float: left;margin-right: 0.25em;color: #696969;}#sk-container-id-5 label.sk-toggleable__label-arrow:hover:before {color: black;}#sk-container-id-5 div.sk-estimator:hover label.sk-toggleable__label-arrow:before {color: black;}#sk-container-id-5 div.sk-toggleable__content {max-height: 0;max-width: 0;overflow: hidden;text-align: left;background-color: #f0f8ff;}#sk-container-id-5 div.sk-toggleable__content pre {margin: 0.2em;color: black;border-radius: 0.25em;background-color: #f0f8ff;}#sk-container-id-5 input.sk-toggleable__control:checked~div.sk-toggleable__content {max-height: 200px;max-width: 100%;overflow: auto;}#sk-container-id-5 input.sk-toggleable__control:checked~label.sk-toggleable__label-arrow:before {content: \"▾\";}#sk-container-id-5 div.sk-estimator input.sk-toggleable__control:checked~label.sk-toggleable__label {background-color: #d4ebff;}#sk-container-id-5 div.sk-label input.sk-toggleable__control:checked~label.sk-toggleable__label {background-color: #d4ebff;}#sk-container-id-5 input.sk-hidden--visually {border: 0;clip: rect(1px 1px 1px 1px);clip: rect(1px, 1px, 1px, 1px);height: 1px;margin: -1px;overflow: hidden;padding: 0;position: absolute;width: 1px;}#sk-container-id-5 div.sk-estimator {font-family: monospace;background-color: #f0f8ff;border: 1px dotted black;border-radius: 0.25em;box-sizing: border-box;margin-bottom: 0.5em;}#sk-container-id-5 div.sk-estimator:hover {background-color: #d4ebff;}#sk-container-id-5 div.sk-parallel-item::after {content: \"\";width: 100%;border-bottom: 1px solid gray;flex-grow: 1;}#sk-container-id-5 div.sk-label:hover label.sk-toggleable__label {background-color: #d4ebff;}#sk-container-id-5 div.sk-serial::before {content: \"\";position: absolute;border-left: 1px solid gray;box-sizing: border-box;top: 0;bottom: 0;left: 50%;z-index: 0;}#sk-container-id-5 div.sk-serial {display: flex;flex-direction: column;align-items: center;background-color: white;padding-right: 0.2em;padding-left: 0.2em;position: relative;}#sk-container-id-5 div.sk-item {position: relative;z-index: 1;}#sk-container-id-5 div.sk-parallel {display: flex;align-items: stretch;justify-content: center;background-color: white;position: relative;}#sk-container-id-5 div.sk-item::before, #sk-container-id-5 div.sk-parallel-item::before {content: \"\";position: absolute;border-left: 1px solid gray;box-sizing: border-box;top: 0;bottom: 0;left: 50%;z-index: -1;}#sk-container-id-5 div.sk-parallel-item {display: flex;flex-direction: column;z-index: 1;position: relative;background-color: white;}#sk-container-id-5 div.sk-parallel-item:first-child::after {align-self: flex-end;width: 50%;}#sk-container-id-5 div.sk-parallel-item:last-child::after {align-self: flex-start;width: 50%;}#sk-container-id-5 div.sk-parallel-item:only-child::after {width: 0;}#sk-container-id-5 div.sk-dashed-wrapped {border: 1px dashed gray;margin: 0 0.4em 0.5em 0.4em;box-sizing: border-box;padding-bottom: 0.4em;background-color: white;}#sk-container-id-5 div.sk-label label {font-family: monospace;font-weight: bold;display: inline-block;line-height: 1.2em;}#sk-container-id-5 div.sk-label-container {text-align: center;}#sk-container-id-5 div.sk-container {/* jupyter's `normalize.less` sets `[hidden] { display: none; }` but bootstrap.min.css set `[hidden] { display: none !important; }` so we also need the `!important` here to be able to override the default hidden behavior on the sphinx rendered scikit-learn.org. See: https://github.com/scikit-learn/scikit-learn/issues/21755 */display: inline-block !important;position: relative;}#sk-container-id-5 div.sk-text-repr-fallback {display: none;}</style><div id=\"sk-container-id-5\" class=\"sk-top-container\"><div class=\"sk-text-repr-fallback\"><pre>GridSearchCV(cv=3,\n",
       "             estimator=RandomForestClassifier(n_estimators=20, random_state=0),\n",
       "             n_jobs=-1,\n",
       "             param_grid={&#x27;criterion&#x27;: [&#x27;gini&#x27;], &#x27;max_depth&#x27;: [7, 10, None],\n",
       "                         &#x27;min_samples_leaf&#x27;: [2, 4],\n",
       "                         &#x27;min_samples_split&#x27;: [6, 8], &#x27;n_estimators&#x27;: [100]},\n",
       "             scoring=&#x27;accuracy&#x27;)</pre><b>In a Jupyter environment, please rerun this cell to show the HTML representation or trust the notebook. <br />On GitHub, the HTML representation is unable to render, please try loading this page with nbviewer.org.</b></div><div class=\"sk-container\" hidden><div class=\"sk-item sk-dashed-wrapped\"><div class=\"sk-label-container\"><div class=\"sk-label sk-toggleable\"><input class=\"sk-toggleable__control sk-hidden--visually\" id=\"sk-estimator-id-11\" type=\"checkbox\" ><label for=\"sk-estimator-id-11\" class=\"sk-toggleable__label sk-toggleable__label-arrow\">GridSearchCV</label><div class=\"sk-toggleable__content\"><pre>GridSearchCV(cv=3,\n",
       "             estimator=RandomForestClassifier(n_estimators=20, random_state=0),\n",
       "             n_jobs=-1,\n",
       "             param_grid={&#x27;criterion&#x27;: [&#x27;gini&#x27;], &#x27;max_depth&#x27;: [7, 10, None],\n",
       "                         &#x27;min_samples_leaf&#x27;: [2, 4],\n",
       "                         &#x27;min_samples_split&#x27;: [6, 8], &#x27;n_estimators&#x27;: [100]},\n",
       "             scoring=&#x27;accuracy&#x27;)</pre></div></div></div><div class=\"sk-parallel\"><div class=\"sk-parallel-item\"><div class=\"sk-item\"><div class=\"sk-label-container\"><div class=\"sk-label sk-toggleable\"><input class=\"sk-toggleable__control sk-hidden--visually\" id=\"sk-estimator-id-12\" type=\"checkbox\" ><label for=\"sk-estimator-id-12\" class=\"sk-toggleable__label sk-toggleable__label-arrow\">estimator: RandomForestClassifier</label><div class=\"sk-toggleable__content\"><pre>RandomForestClassifier(n_estimators=20, random_state=0)</pre></div></div></div><div class=\"sk-serial\"><div class=\"sk-item\"><div class=\"sk-estimator sk-toggleable\"><input class=\"sk-toggleable__control sk-hidden--visually\" id=\"sk-estimator-id-13\" type=\"checkbox\" ><label for=\"sk-estimator-id-13\" class=\"sk-toggleable__label sk-toggleable__label-arrow\">RandomForestClassifier</label><div class=\"sk-toggleable__content\"><pre>RandomForestClassifier(n_estimators=20, random_state=0)</pre></div></div></div></div></div></div></div></div></div></div>"
      ],
      "text/plain": [
       "GridSearchCV(cv=3,\n",
       "             estimator=RandomForestClassifier(n_estimators=20, random_state=0),\n",
       "             n_jobs=-1,\n",
       "             param_grid={'criterion': ['gini'], 'max_depth': [7, 10, None],\n",
       "                         'min_samples_leaf': [2, 4],\n",
       "                         'min_samples_split': [6, 8], 'n_estimators': [100]},\n",
       "             scoring='accuracy')"
      ]
     },
     "execution_count": 83,
     "metadata": {},
     "output_type": "execute_result"
    }
   ],
   "source": [
    "grid_search = GridSearchCV(rfc, param_grid=params, cv=3, scoring='accuracy', n_jobs=-1)\n",
    "\n",
    "grid_search.fit(X_train, y_train)"
   ]
  },
  {
   "cell_type": "code",
   "execution_count": 84,
   "id": "d556d056",
   "metadata": {},
   "outputs": [
    {
     "data": {
      "text/plain": [
       "0.8852707144092719"
      ]
     },
     "execution_count": 84,
     "metadata": {},
     "output_type": "execute_result"
    }
   ],
   "source": [
    "grid_search.best_score_"
   ]
  },
  {
   "cell_type": "code",
   "execution_count": 85,
   "id": "e579b666",
   "metadata": {},
   "outputs": [
    {
     "data": {
      "text/plain": [
       "{'criterion': 'gini',\n",
       " 'max_depth': 10,\n",
       " 'min_samples_leaf': 4,\n",
       " 'min_samples_split': 6,\n",
       " 'n_estimators': 100}"
      ]
     },
     "execution_count": 85,
     "metadata": {},
     "output_type": "execute_result"
    }
   ],
   "source": [
    "grid_search.best_params_"
   ]
  },
  {
   "cell_type": "code",
   "execution_count": 86,
   "id": "390862d1",
   "metadata": {},
   "outputs": [],
   "source": [
    "rfc_3 = grid_search.best_estimator_"
   ]
  },
  {
   "cell_type": "code",
   "execution_count": 87,
   "id": "1c0d6c58",
   "metadata": {},
   "outputs": [],
   "source": [
    "yPred_3 = rfc_3.predict(X_test)"
   ]
  },
  {
   "cell_type": "code",
   "execution_count": 88,
   "id": "ecbc422a",
   "metadata": {},
   "outputs": [
    {
     "data": {
      "text/plain": [
       "0.8825910931174089"
      ]
     },
     "execution_count": 88,
     "metadata": {},
     "output_type": "execute_result"
    }
   ],
   "source": [
    "accuracy_score(y_test, yPred_3)"
   ]
  },
  {
   "cell_type": "code",
   "execution_count": 89,
   "id": "431a0a15",
   "metadata": {},
   "outputs": [
    {
     "data": {
      "text/plain": [
       "0.6246813933729821"
      ]
     },
     "execution_count": 89,
     "metadata": {},
     "output_type": "execute_result"
    }
   ],
   "source": [
    "roc_auc_score(y_test, yPred_3)"
   ]
  },
  {
   "cell_type": "code",
   "execution_count": 90,
   "id": "9c057c56",
   "metadata": {},
   "outputs": [
    {
     "name": "stderr",
     "output_type": "stream",
     "text": [
      "C:\\Users\\ela\\anaconda3\\lib\\site-packages\\sklearn\\utils\\deprecation.py:87: FutureWarning: Function plot_roc_curve is deprecated; Function :func:`plot_roc_curve` is deprecated in 1.0 and will be removed in 1.2. Use one of the class methods: :meth:`sklearn.metric.RocCurveDisplay.from_predictions` or :meth:`sklearn.metric.RocCurveDisplay.from_estimator`.\n",
      "  warnings.warn(msg, category=FutureWarning)\n"
     ]
    },
    {
     "data": {
      "text/plain": [
       "<sklearn.metrics._plot.roc_curve.RocCurveDisplay at 0x28097c22970>"
      ]
     },
     "execution_count": 90,
     "metadata": {},
     "output_type": "execute_result"
    },
    {
     "data": {
      "image/png": "[encoded data removed]",
      "text/plain": [
       "<Figure size 432x288 with 1 Axes>"
      ]
     },
     "metadata": {
      "needs_background": "light"
     },
     "output_type": "display_data"
    }
   ],
   "source": [
    "plot_roc_curve(rfc_3, X_test, y_test)"
   ]
  },
  {
   "cell_type": "code",
   "execution_count": null,
   "id": "20b35e89",
   "metadata": {},
   "outputs": [],
   "source": []
  }
 ],
 "metadata": {
  "kernelspec": {
   "display_name": "Python 3 (ipykernel)",
   "language": "python",
   "name": "python3"
  },
  "language_info": {
   "codemirror_mode": {
    "name": "ipython",
    "version": 3
   },
   "file_extension": ".py",
   "mimetype": "text/x-python",
   "name": "python",
   "nbconvert_exporter": "python",
   "pygments_lexer": "ipython3",
   "version": "3.9.12"
  }
 },
 "nbformat": 4,
 "nbformat_minor": 5
}
