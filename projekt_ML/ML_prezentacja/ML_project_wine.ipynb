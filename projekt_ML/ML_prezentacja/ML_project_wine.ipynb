{
 "cells": [
  {
   "cell_type": "markdown",
   "metadata": {},
   "source": [
    "## DYLEMAT STUDENTA - WYTRAWNE WINO CZY TANIE I OBIAD?\n",
    "### Wyznaczanie jakości wina na podstawie parametrów cieczy. | Aplikacja dla urzędu kontrolującego winiarnie\n",
    "\n",
    "\n",
    "\n",
    "Celem projektu jest porównanie w zależności od problemu(regresja/klasyfikacja) różnego rodzaju modeli wraz z różnego rodzaju hiperparametrami.\n",
    "\n",
    "● https://www.kaggle.com/uciml/red-wine-quality-cortez-et-al-2009\n",
    " \n",
    "    \n",
    "Team members:\n",
    "- Monika Janicka\n",
    "- Tomasz Kamiński\n",
    "- Artur Kłapciński\n",
    "- Elżbieta Kondracka-Zwolska"
   ]
  },
  {
   "cell_type": "markdown",
   "metadata": {},
   "source": [
    "1. [BIBLIOTEKI](#BIBLIOTEKI)\n",
    "2. [DANE_&_WYKRESY](#DANE_&_WYKRESY)\n",
    "3. [PREPROCESSING](#PREPROCESSING)\n",
    "4. [MODELE](#MODELE)\n",
    "4.1 [MODEL1_REGRESJA_LINEARNA](##MODEL1_REGRESJA_LINIOWA)\n",
    "4.2 [MODEL2_REGRESJA_LOGISTYCZNA](##MODEL2_REGRESJA_LOGISTYCZNA)\n",
    "4.3 [MODEL3_DECISION_TREE](##MODEL3_DECISION_TREE)\n",
    "4.4 [MODEL4_RANDOM_FOREST](##MODEL4_RANDOM_FOREST)\n",
    "4.5 [MODEL5_GBOOST](##MODEL5_XGBOOST)\n",
    "5. [PORÓWNANIE_MODELI](#PORÓWNANIE_MODELI)"
   ]
  },
  {
   "cell_type": "markdown",
   "metadata": {},
   "source": [
    "<a id='BIBLIOTEKI'></a>\n",
    "# 1. BIBLIOTEKI"
   ]
  },
  {
   "cell_type": "code",
   "execution_count": null,
   "metadata": {},
   "outputs": [],
   "source": [
    "# Libraries for exploring, handling and visualizing data\n",
    "import pandas as pd, numpy as np, matplotlib.pyplot as plt, seaborn as sns, plotly.express as px\n",
    "import math\n",
    "import sklearn   \n",
    "import sklearn.datasets as datasets\n",
    "from sklearn.preprocessing import OneHotEncoder, StandardScaler, MinMaxScaler    # Sklearn's preprocessing library  \n",
    "from sklearn.linear_model import LinearRegression   \n",
    "from sklearn import preprocessing\n",
    "import sklearn.metrics\n",
    "import sklearn.model_selection\n",
    "import sklearn.tree as tree                                        # DRZEWO DECYZYJNE\n",
    "from scipy import stats\n",
    "from sklearn.model_selection import cross_validate, GridSearchCV       # DO WALIDACJI SKROŚNEJ(KRZYŻOWEJ)\n",
    "from sklearn.model_selection import train_test_split,cross_val_score, GridSearchCV   # Importing train and test data split\n",
    "from sklearn.tree import DecisionTreeRegressor, DecisionTreeClassifier, plot_tree    # DRZEWO DECYZYJNE\n",
    "import matplotlib.pyplot as plt\n",
    "%matplotlib inline\n",
    "\n",
    "# Sklearn's metrics to evaluate our models\n",
    "from sklearn.metrics import accuracy_score, precision_score, confusion_matrix, recall_score, f1_score, roc_auc_score,classification_report\n",
    "from sklearn import metrics, tree\n",
    "from sklearn.ensemble import RandomForestClassifier, VotingClassifier, GradientBoostingClassifier, AdaBoostClassifier # Classifiers\n",
    "from sklearn.linear_model import LogisticRegression\n",
    "from mlxtend import plotting\n",
    "# Setting theme style and color palette to seaborn \n",
    "sns.set_theme(context = 'notebook', style='darkgrid',palette='muted')"
   ]
  },
  {
   "cell_type": "markdown",
   "metadata": {},
   "source": [
    "<a id='DANE'></a>\n",
    "# 2. DANE_&_WYKRESY"
   ]
  },
  {
   "cell_type": "code",
   "execution_count": null,
   "metadata": {},
   "outputs": [],
   "source": [
    "df = pd.read_csv(\"df_rm.csv\") \n",
    "df # display the data frame\n",
    "df.head(11)"
   ]
  },
  {
   "cell_type": "markdown",
   "metadata": {},
   "source": [
    "<a id='PREPROCESSING'></a>\n",
    "# 3. PREPROCESSING"
   ]
  },
  {
   "cell_type": "code",
   "execution_count": null,
   "metadata": {},
   "outputs": [],
   "source": []
  },
  {
   "cell_type": "markdown",
   "metadata": {},
   "source": [
    "<a id='MODELE'></a>\n",
    "# 4. MODELE"
   ]
  },
  {
   "cell_type": "markdown",
   "metadata": {},
   "source": [
    "<a id='MODEL1_REGRESJA_LINEARNA'></a>\n",
    "## 4.1. MODEL1_REGRESJA_LINIOWA"
   ]
  },
  {
   "cell_type": "code",
   "execution_count": null,
   "metadata": {},
   "outputs": [],
   "source": []
  },
  {
   "cell_type": "markdown",
   "metadata": {},
   "source": [
    "<a id='MODEL2_REGRESJA_LOGISTYCZNA'></a>\n",
    "## 4.2. MODEL2_REGRESJA_LOGISTYCZNA"
   ]
  },
  {
   "cell_type": "code",
   "execution_count": null,
   "metadata": {},
   "outputs": [],
   "source": []
  },
  {
   "cell_type": "markdown",
   "metadata": {},
   "source": [
    "<a id='MODEL3_DECISION_TREE'></a>\n",
    "## 4.3. MODEL3_DECISION_TREE"
   ]
  },
  {
   "cell_type": "code",
   "execution_count": null,
   "metadata": {},
   "outputs": [],
   "source": []
  },
  {
   "cell_type": "markdown",
   "metadata": {},
   "source": [
    "<a id='MODEL4_RANDOM_FOREST'></a>\n",
    "## 4.4. MODEL4_RANDOM_FOREST"
   ]
  },
  {
   "cell_type": "code",
   "execution_count": null,
   "metadata": {},
   "outputs": [],
   "source": []
  },
  {
   "cell_type": "markdown",
   "metadata": {},
   "source": [
    "<a id='MODEL5_XGBOOST'></a>\n",
    "## 4.5. MODEL5_XGBOOST"
   ]
  },
  {
   "cell_type": "code",
   "execution_count": null,
   "metadata": {},
   "outputs": [],
   "source": []
  },
  {
   "cell_type": "markdown",
   "metadata": {},
   "source": [
    "<a id='PORÓWNANIE_MODELI'></a>\n",
    "# 5. PORÓWNANIE_MODELI"
   ]
  }
 ],
 "metadata": {
  "kernelspec": {
   "display_name": "Python 3.10.4 ('my_env')",
   "language": "python",
   "name": "python3"
  },
  "language_info": {
   "name": "python",
   "version": "3.10.4"
  },
  "orig_nbformat": 4,
  "vscode": {
   "interpreter": {
    "hash": "697e03dbff18c2aea5427d36c45620e2702223449f86e35f030338dd12b34fd2"
   }
  }
 },
 "nbformat": 4,
 "nbformat_minor": 2
}
