{
 "cells": [
  {
   "cell_type": "code",
   "execution_count": 100,
   "id": "180eb986",
   "metadata": {},
   "outputs": [],
   "source": [
    "import pandas as pd\n",
    "import seaborn as sns\n",
    "import numpy as np\n",
    "import matplotlib.pyplot as plt\n",
    "from sklearn.linear_model import LogisticRegression # estymator klasyfikacji=klasyfikator\n",
    "from sklearn.model_selection import train_test_split # podział na zbiór testowy i treningowy\n",
    "import statsmodels.api as sm\n",
    "from sklearn.metrics import accuracy_score, classification_report, f1_score, precision_score, roc_auc_score,plot_roc_curve,roc_curve\n",
    "from sklearn.preprocessing import StandardScaler, LabelEncoder, MinMaxScaler\n",
    "from sklearn.metrics import confusion_matrix # podsumowanie klasyfikacji\n",
    "from sklearn.decomposition import PCA # analiza głównych składowych - w celu redukcji wymiarowości danych\n",
    "from scipy import signal\n",
    "import scipy\n",
    "from sklearn.model_selection import RandomizedSearchCV, GridSearchCV, cross_val_score\n",
    "from sklearn.tree import DecisionTreeClassifier, DecisionTreeRegressor\n",
    "from sklearn.metrics import classification_report, accuracy_score \n",
    "from sklearn.metrics import precision_score, recall_score\n",
    "from sklearn.ensemble import RandomForestClassifier\n",
    "from imblearn.over_sampling import SMOTE\n",
    "from numpy import sqrt,argmax"
   ]
  },
  {
   "cell_type": "code",
   "execution_count": 2,
   "id": "d610f524",
   "metadata": {},
   "outputs": [],
   "source": [
    "df_rm=pd.read_csv(\"df_rm.csv\")"
   ]
  },
  {
   "cell_type": "code",
   "execution_count": 3,
   "id": "18bc6392",
   "metadata": {},
   "outputs": [
    {
     "data": {
      "text/html": [
       "<div>\n",
       "<style scoped>\n",
       "    .dataframe tbody tr th:only-of-type {\n",
       "        vertical-align: middle;\n",
       "    }\n",
       "\n",
       "    .dataframe tbody tr th {\n",
       "        vertical-align: top;\n",
       "    }\n",
       "\n",
       "    .dataframe thead th {\n",
       "        text-align: right;\n",
       "    }\n",
       "</style>\n",
       "<table border=\"1\" class=\"dataframe\">\n",
       "  <thead>\n",
       "    <tr style=\"text-align: right;\">\n",
       "      <th></th>\n",
       "      <th>volatile acidity</th>\n",
       "      <th>citric acid</th>\n",
       "      <th>total sulfur dioxide</th>\n",
       "      <th>density</th>\n",
       "      <th>sulphates</th>\n",
       "      <th>alcohol</th>\n",
       "      <th>quality</th>\n",
       "    </tr>\n",
       "  </thead>\n",
       "  <tbody>\n",
       "    <tr>\n",
       "      <th>0</th>\n",
       "      <td>0.70</td>\n",
       "      <td>0.00</td>\n",
       "      <td>34.0</td>\n",
       "      <td>0.9978</td>\n",
       "      <td>0.56</td>\n",
       "      <td>9.4</td>\n",
       "      <td>0</td>\n",
       "    </tr>\n",
       "    <tr>\n",
       "      <th>1</th>\n",
       "      <td>0.88</td>\n",
       "      <td>0.00</td>\n",
       "      <td>67.0</td>\n",
       "      <td>0.9968</td>\n",
       "      <td>0.68</td>\n",
       "      <td>9.8</td>\n",
       "      <td>0</td>\n",
       "    </tr>\n",
       "    <tr>\n",
       "      <th>2</th>\n",
       "      <td>0.76</td>\n",
       "      <td>0.04</td>\n",
       "      <td>54.0</td>\n",
       "      <td>0.9970</td>\n",
       "      <td>0.65</td>\n",
       "      <td>9.8</td>\n",
       "      <td>0</td>\n",
       "    </tr>\n",
       "    <tr>\n",
       "      <th>3</th>\n",
       "      <td>0.28</td>\n",
       "      <td>0.56</td>\n",
       "      <td>60.0</td>\n",
       "      <td>0.9980</td>\n",
       "      <td>0.58</td>\n",
       "      <td>9.8</td>\n",
       "      <td>0</td>\n",
       "    </tr>\n",
       "    <tr>\n",
       "      <th>4</th>\n",
       "      <td>0.66</td>\n",
       "      <td>0.00</td>\n",
       "      <td>40.0</td>\n",
       "      <td>0.9978</td>\n",
       "      <td>0.56</td>\n",
       "      <td>9.4</td>\n",
       "      <td>0</td>\n",
       "    </tr>\n",
       "  </tbody>\n",
       "</table>\n",
       "</div>"
      ],
      "text/plain": [
       "   volatile acidity  citric acid  total sulfur dioxide  density  sulphates  \\\n",
       "0              0.70         0.00                  34.0   0.9978       0.56   \n",
       "1              0.88         0.00                  67.0   0.9968       0.68   \n",
       "2              0.76         0.04                  54.0   0.9970       0.65   \n",
       "3              0.28         0.56                  60.0   0.9980       0.58   \n",
       "4              0.66         0.00                  40.0   0.9978       0.56   \n",
       "\n",
       "   alcohol  quality  \n",
       "0      9.4        0  \n",
       "1      9.8        0  \n",
       "2      9.8        0  \n",
       "3      9.8        0  \n",
       "4      9.4        0  "
      ]
     },
     "execution_count": 3,
     "metadata": {},
     "output_type": "execute_result"
    }
   ],
   "source": [
    "df_rm.head()"
   ]
  },
  {
   "cell_type": "code",
   "execution_count": 4,
   "id": "613ecfd2",
   "metadata": {},
   "outputs": [
    {
     "data": {
      "text/plain": [
       "(1292, 7)"
      ]
     },
     "execution_count": 4,
     "metadata": {},
     "output_type": "execute_result"
    }
   ],
   "source": [
    "df_rm.shape"
   ]
  },
  {
   "cell_type": "code",
   "execution_count": 6,
   "id": "6a5effaa",
   "metadata": {},
   "outputs": [
    {
     "data": {
      "text/html": [
       "<div>\n",
       "<style scoped>\n",
       "    .dataframe tbody tr th:only-of-type {\n",
       "        vertical-align: middle;\n",
       "    }\n",
       "\n",
       "    .dataframe tbody tr th {\n",
       "        vertical-align: top;\n",
       "    }\n",
       "\n",
       "    .dataframe thead th {\n",
       "        text-align: right;\n",
       "    }\n",
       "</style>\n",
       "<table border=\"1\" class=\"dataframe\">\n",
       "  <thead>\n",
       "    <tr style=\"text-align: right;\">\n",
       "      <th></th>\n",
       "      <th>volatile acidity</th>\n",
       "      <th>citric acid</th>\n",
       "      <th>total sulfur dioxide</th>\n",
       "      <th>density</th>\n",
       "      <th>sulphates</th>\n",
       "      <th>alcohol</th>\n",
       "      <th>quality</th>\n",
       "    </tr>\n",
       "  </thead>\n",
       "  <tbody>\n",
       "    <tr>\n",
       "      <th>count</th>\n",
       "      <td>1292.000000</td>\n",
       "      <td>1292.000000</td>\n",
       "      <td>1292.000000</td>\n",
       "      <td>1292.000000</td>\n",
       "      <td>1292.000000</td>\n",
       "      <td>1292.000000</td>\n",
       "      <td>1292.000000</td>\n",
       "    </tr>\n",
       "    <tr>\n",
       "      <th>mean</th>\n",
       "      <td>0.523998</td>\n",
       "      <td>0.268878</td>\n",
       "      <td>45.295279</td>\n",
       "      <td>0.996699</td>\n",
       "      <td>0.647136</td>\n",
       "      <td>10.422884</td>\n",
       "      <td>0.136223</td>\n",
       "    </tr>\n",
       "    <tr>\n",
       "      <th>std</th>\n",
       "      <td>0.171839</td>\n",
       "      <td>0.192655</td>\n",
       "      <td>30.686902</td>\n",
       "      <td>0.001747</td>\n",
       "      <td>0.136834</td>\n",
       "      <td>1.049671</td>\n",
       "      <td>0.343158</td>\n",
       "    </tr>\n",
       "    <tr>\n",
       "      <th>min</th>\n",
       "      <td>0.120000</td>\n",
       "      <td>0.000000</td>\n",
       "      <td>6.000000</td>\n",
       "      <td>0.991500</td>\n",
       "      <td>0.330000</td>\n",
       "      <td>8.400000</td>\n",
       "      <td>0.000000</td>\n",
       "    </tr>\n",
       "    <tr>\n",
       "      <th>25%</th>\n",
       "      <td>0.390000</td>\n",
       "      <td>0.090000</td>\n",
       "      <td>22.000000</td>\n",
       "      <td>0.995600</td>\n",
       "      <td>0.550000</td>\n",
       "      <td>9.500000</td>\n",
       "      <td>0.000000</td>\n",
       "    </tr>\n",
       "    <tr>\n",
       "      <th>50%</th>\n",
       "      <td>0.520000</td>\n",
       "      <td>0.250000</td>\n",
       "      <td>37.000000</td>\n",
       "      <td>0.996700</td>\n",
       "      <td>0.620000</td>\n",
       "      <td>10.200000</td>\n",
       "      <td>0.000000</td>\n",
       "    </tr>\n",
       "    <tr>\n",
       "      <th>75%</th>\n",
       "      <td>0.635000</td>\n",
       "      <td>0.420000</td>\n",
       "      <td>61.000000</td>\n",
       "      <td>0.997800</td>\n",
       "      <td>0.720000</td>\n",
       "      <td>11.100000</td>\n",
       "      <td>0.000000</td>\n",
       "    </tr>\n",
       "    <tr>\n",
       "      <th>max</th>\n",
       "      <td>1.070000</td>\n",
       "      <td>0.790000</td>\n",
       "      <td>147.000000</td>\n",
       "      <td>1.002200</td>\n",
       "      <td>1.170000</td>\n",
       "      <td>13.600000</td>\n",
       "      <td>1.000000</td>\n",
       "    </tr>\n",
       "  </tbody>\n",
       "</table>\n",
       "</div>"
      ],
      "text/plain": [
       "       volatile acidity  citric acid  total sulfur dioxide      density  \\\n",
       "count       1292.000000  1292.000000           1292.000000  1292.000000   \n",
       "mean           0.523998     0.268878             45.295279     0.996699   \n",
       "std            0.171839     0.192655             30.686902     0.001747   \n",
       "min            0.120000     0.000000              6.000000     0.991500   \n",
       "25%            0.390000     0.090000             22.000000     0.995600   \n",
       "50%            0.520000     0.250000             37.000000     0.996700   \n",
       "75%            0.635000     0.420000             61.000000     0.997800   \n",
       "max            1.070000     0.790000            147.000000     1.002200   \n",
       "\n",
       "         sulphates      alcohol      quality  \n",
       "count  1292.000000  1292.000000  1292.000000  \n",
       "mean      0.647136    10.422884     0.136223  \n",
       "std       0.136834     1.049671     0.343158  \n",
       "min       0.330000     8.400000     0.000000  \n",
       "25%       0.550000     9.500000     0.000000  \n",
       "50%       0.620000    10.200000     0.000000  \n",
       "75%       0.720000    11.100000     0.000000  \n",
       "max       1.170000    13.600000     1.000000  "
      ]
     },
     "execution_count": 6,
     "metadata": {},
     "output_type": "execute_result"
    }
   ],
   "source": [
    "df_rm.describe()"
   ]
  },
  {
   "cell_type": "code",
   "execution_count": 5,
   "id": "28e639f0",
   "metadata": {},
   "outputs": [],
   "source": [
    "X = df_rm.drop(\"quality\", axis=1)\n",
    "y = df_rm[\"quality\"]"
   ]
  },
  {
   "cell_type": "code",
   "execution_count": 6,
   "id": "6f330ac5",
   "metadata": {},
   "outputs": [],
   "source": [
    "# Splitting the dataset into the Training set and Test set\n",
    "from sklearn.model_selection import train_test_split\n",
    "X_train, X_test, y_train, y_test = train_test_split(X, y,random_state = 42)"
   ]
  },
  {
   "cell_type": "code",
   "execution_count": 7,
   "id": "37e3736e",
   "metadata": {},
   "outputs": [
    {
     "name": "stdout",
     "output_type": "stream",
     "text": [
      "Shape of X_train:  (969, 6)\n",
      "Shape of X_test:  (323, 6)\n",
      "Shape of y_train:  (969,)\n",
      "Shape of y_test (323,)\n"
     ]
    }
   ],
   "source": [
    "print(\"Shape of X_train: \",X_train.shape)\n",
    "print(\"Shape of X_test: \", X_test.shape)\n",
    "print(\"Shape of y_train: \",y_train.shape)\n",
    "print(\"Shape of y_test\",y_test.shape)"
   ]
  },
  {
   "cell_type": "code",
   "execution_count": 8,
   "id": "964312f0",
   "metadata": {},
   "outputs": [],
   "source": [
    "scaler = StandardScaler().fit(X_train)\n",
    "X_train = scaler.transform(X_train)\n",
    "X_test = scaler.transform(X_test)"
   ]
  },
  {
   "cell_type": "code",
   "execution_count": 9,
   "id": "89ec5459",
   "metadata": {},
   "outputs": [],
   "source": [
    "rfc=RandomForestClassifier(n_estimators=100,random_state=42,bootstrap=True,max_depth=None,min_samples_split=2)\n",
    "rfc.fit(X_train, y_train)\n",
    "\n",
    "yPred=rfc.predict(X_train)\n",
    "yPred_test=rfc.predict(X_test)"
   ]
  },
  {
   "cell_type": "code",
   "execution_count": 10,
   "id": "3f323a0a",
   "metadata": {},
   "outputs": [
    {
     "name": "stdout",
     "output_type": "stream",
     "text": [
      "accuracy train data is 1.0\n",
      "accuracy test data is 0.8730650154798761\n"
     ]
    }
   ],
   "source": [
    "print('accuracy train data is',accuracy_score(y_train,yPred))\n",
    "print('accuracy test data is',accuracy_score(y_test,yPred_test))"
   ]
  },
  {
   "cell_type": "code",
   "execution_count": 11,
   "id": "4b285532",
   "metadata": {},
   "outputs": [
    {
     "name": "stdout",
     "output_type": "stream",
     "text": [
      "recall train data is 1.0\n",
      "recall test data is 0.6471794871794871\n"
     ]
    }
   ],
   "source": [
    "print('recall train data is',recall_score(y_train,yPred,average=\"macro\"))\n",
    "print('recall test data is',recall_score(y_test,yPred_test,average=\"macro\"))"
   ]
  },
  {
   "cell_type": "code",
   "execution_count": 12,
   "id": "1b2be839",
   "metadata": {},
   "outputs": [
    {
     "name": "stdout",
     "output_type": "stream",
     "text": [
      "F1 train data is 1.0\n",
      "F1 test data is 0.6834014678811351\n"
     ]
    }
   ],
   "source": [
    "print('F1 train data is',f1_score(y_train,yPred,average=\"macro\"))\n",
    "print('F1 test data is',f1_score(y_test,yPred_test,average=\"macro\"))"
   ]
  },
  {
   "cell_type": "code",
   "execution_count": 13,
   "id": "98e55738",
   "metadata": {},
   "outputs": [
    {
     "name": "stdout",
     "output_type": "stream",
     "text": [
      "The accuracy is 0.8730650154798761\n",
      "The precision is 0.7911594202898551\n",
      "The recall is 0.6471794871794871\n",
      "The F1-Score is 0.6834014678811351\n"
     ]
    }
   ],
   "source": [
    "acc = accuracy_score(y_test, yPred_test)\n",
    "print(\"The accuracy is {}\".format(acc))\n",
    "  \n",
    "prec = precision_score(y_test, yPred_test,average=\"macro\")\n",
    "print(\"The precision is {}\".format(prec))\n",
    "  \n",
    "rec = recall_score(y_test, yPred_test,average=\"macro\")\n",
    "print(\"The recall is {}\".format(rec))\n",
    "  \n",
    "f1 = f1_score(y_test, yPred_test,average=\"macro\")\n",
    "print(\"The F1-Score is {}\".format(f1))"
   ]
  },
  {
   "cell_type": "code",
   "execution_count": 16,
   "id": "6ce5174b",
   "metadata": {},
   "outputs": [
    {
     "name": "stdout",
     "output_type": "stream",
     "text": [
      "              precision    recall  f1-score   support\n",
      "\n",
      "           0       0.89      0.97      0.93       273\n",
      "           1       0.70      0.32      0.44        50\n",
      "\n",
      "    accuracy                           0.87       323\n",
      "   macro avg       0.79      0.65      0.68       323\n",
      "weighted avg       0.86      0.87      0.85       323\n",
      "\n"
     ]
    }
   ],
   "source": [
    "CR_model1=classification_report( y_test,yPred_test)\n",
    "print(CR_model1)"
   ]
  },
  {
   "cell_type": "code",
   "execution_count": 17,
   "id": "cc3970e3",
   "metadata": {},
   "outputs": [
    {
     "data": {
      "image/png": "[encoded data removed]",
      "text/plain": [
       "<Figure size 360x360 with 2 Axes>"
      ]
     },
     "metadata": {
      "needs_background": "light"
     },
     "output_type": "display_data"
    }
   ],
   "source": [
    "#Confusion Matrix\n",
    "LABELS = ['bad', 'good']\n",
    "conf_matrix = confusion_matrix(y_test, yPred_test)\n",
    "plt.figure(figsize =(5, 5))\n",
    "sns.heatmap(conf_matrix, xticklabels = LABELS, \n",
    "            yticklabels = LABELS, annot = True, fmt =\"d\");\n",
    "plt.title(\"Confusion matrix\")\n",
    "plt.ylabel('True class')\n",
    "plt.xlabel('Predicted class')\n",
    "plt.show()"
   ]
  },
  {
   "cell_type": "code",
   "execution_count": 18,
   "id": "66b21074",
   "metadata": {},
   "outputs": [
    {
     "name": "stderr",
     "output_type": "stream",
     "text": [
      "C:\\Users\\ela\\anaconda3\\lib\\site-packages\\sklearn\\utils\\deprecation.py:87: FutureWarning: Function plot_roc_curve is deprecated; Function :func:`plot_roc_curve` is deprecated in 1.0 and will be removed in 1.2. Use one of the class methods: :meth:`sklearn.metric.RocCurveDisplay.from_predictions` or :meth:`sklearn.metric.RocCurveDisplay.from_estimator`.\n",
      "  warnings.warn(msg, category=FutureWarning)\n"
     ]
    },
    {
     "data": {
      "image/png": "[encoded data removed]",
      "text/plain": [
       "<Figure size 432x288 with 1 Axes>"
      ]
     },
     "metadata": {
      "needs_background": "light"
     },
     "output_type": "display_data"
    }
   ],
   "source": [
    "ROC_RF = plot_roc_curve(rfc, X_test, y_test)\n",
    "plt.show()"
   ]
  },
  {
   "cell_type": "code",
   "execution_count": 19,
   "id": "4a1f9cda",
   "metadata": {},
   "outputs": [
    {
     "data": {
      "text/plain": [
       "array([0.15288387, 0.1537648 , 0.14631442, 0.14916648, 0.16719012,\n",
       "       0.23068031])"
      ]
     },
     "execution_count": 19,
     "metadata": {},
     "output_type": "execute_result"
    }
   ],
   "source": [
    "rfc.feature_importances_"
   ]
  },
  {
   "cell_type": "markdown",
   "id": "20106fc5",
   "metadata": {},
   "source": [
    "### Walidacja krzyżowa (kroswalidacja)\n",
    "    Ocena jakości modelu"
   ]
  },
  {
   "cell_type": "code",
   "execution_count": 20,
   "id": "e4f1b19c",
   "metadata": {},
   "outputs": [],
   "source": [
    "cv_results=cross_val_score(rfc,X_train,y_train,cv=5,scoring=\"recall\")"
   ]
  },
  {
   "cell_type": "code",
   "execution_count": 21,
   "id": "bfe8c22b",
   "metadata": {},
   "outputs": [
    {
     "data": {
      "text/plain": [
       "array([0.4       , 0.2       , 0.32      , 0.34615385, 0.32      ])"
      ]
     },
     "execution_count": 21,
     "metadata": {},
     "output_type": "execute_result"
    }
   ],
   "source": [
    "cv_results"
   ]
  },
  {
   "cell_type": "code",
   "execution_count": 22,
   "id": "5b4f4238",
   "metadata": {},
   "outputs": [
    {
     "name": "stdout",
     "output_type": "stream",
     "text": [
      "Scores: [0.4  0.2  0.32 0.35 0.32]\n",
      "Scores mean: 0.317\n"
     ]
    }
   ],
   "source": [
    "print(f'Scores: {np.round(cv_results,2)}')\n",
    "print(f'Scores mean: {np.round(np.mean(cv_results),3)}')"
   ]
  },
  {
   "cell_type": "markdown",
   "id": "a779e9c7",
   "metadata": {},
   "source": [
    "#### Wybór optymalnych hiperparametrów - Grid Search"
   ]
  },
  {
   "cell_type": "code",
   "execution_count": 25,
   "id": "5a8df0b5",
   "metadata": {},
   "outputs": [],
   "source": [
    "params={'criterion': ['gini','entropy'],\n",
    "        'n_estimators': [100,200,50,20],\n",
    "        'max_depth': [5,10,None],\n",
    "        'min_samples_leaf': [1, 2, 3, 4, 5, 10, 20, 25],\n",
    "        'max_features':['sqrt','log2',None]\n",
    "        }\n",
    "#'max_features':['sqrt','log2',None]\n",
    "#'min_samples_split': [2,4,6, 8]"
   ]
  },
  {
   "cell_type": "code",
   "execution_count": 26,
   "id": "0802432e",
   "metadata": {},
   "outputs": [
    {
     "name": "stdout",
     "output_type": "stream",
     "text": [
      "Fitting 5 folds for each of 576 candidates, totalling 2880 fits\n"
     ]
    },
    {
     "data": {
      "text/html": [
       "<style>#sk-container-id-2 {color: black;background-color: white;}#sk-container-id-2 pre{padding: 0;}#sk-container-id-2 div.sk-toggleable {background-color: white;}#sk-container-id-2 label.sk-toggleable__label {cursor: pointer;display: block;width: 100%;margin-bottom: 0;padding: 0.3em;box-sizing: border-box;text-align: center;}#sk-container-id-2 label.sk-toggleable__label-arrow:before {content: \"▸\";float: left;margin-right: 0.25em;color: #696969;}#sk-container-id-2 label.sk-toggleable__label-arrow:hover:before {color: black;}#sk-container-id-2 div.sk-estimator:hover label.sk-toggleable__label-arrow:before {color: black;}#sk-container-id-2 div.sk-toggleable__content {max-height: 0;max-width: 0;overflow: hidden;text-align: left;background-color: #f0f8ff;}#sk-container-id-2 div.sk-toggleable__content pre {margin: 0.2em;color: black;border-radius: 0.25em;background-color: #f0f8ff;}#sk-container-id-2 input.sk-toggleable__control:checked~div.sk-toggleable__content {max-height: 200px;max-width: 100%;overflow: auto;}#sk-container-id-2 input.sk-toggleable__control:checked~label.sk-toggleable__label-arrow:before {content: \"▾\";}#sk-container-id-2 div.sk-estimator input.sk-toggleable__control:checked~label.sk-toggleable__label {background-color: #d4ebff;}#sk-container-id-2 div.sk-label input.sk-toggleable__control:checked~label.sk-toggleable__label {background-color: #d4ebff;}#sk-container-id-2 input.sk-hidden--visually {border: 0;clip: rect(1px 1px 1px 1px);clip: rect(1px, 1px, 1px, 1px);height: 1px;margin: -1px;overflow: hidden;padding: 0;position: absolute;width: 1px;}#sk-container-id-2 div.sk-estimator {font-family: monospace;background-color: #f0f8ff;border: 1px dotted black;border-radius: 0.25em;box-sizing: border-box;margin-bottom: 0.5em;}#sk-container-id-2 div.sk-estimator:hover {background-color: #d4ebff;}#sk-container-id-2 div.sk-parallel-item::after {content: \"\";width: 100%;border-bottom: 1px solid gray;flex-grow: 1;}#sk-container-id-2 div.sk-label:hover label.sk-toggleable__label {background-color: #d4ebff;}#sk-container-id-2 div.sk-serial::before {content: \"\";position: absolute;border-left: 1px solid gray;box-sizing: border-box;top: 0;bottom: 0;left: 50%;z-index: 0;}#sk-container-id-2 div.sk-serial {display: flex;flex-direction: column;align-items: center;background-color: white;padding-right: 0.2em;padding-left: 0.2em;position: relative;}#sk-container-id-2 div.sk-item {position: relative;z-index: 1;}#sk-container-id-2 div.sk-parallel {display: flex;align-items: stretch;justify-content: center;background-color: white;position: relative;}#sk-container-id-2 div.sk-item::before, #sk-container-id-2 div.sk-parallel-item::before {content: \"\";position: absolute;border-left: 1px solid gray;box-sizing: border-box;top: 0;bottom: 0;left: 50%;z-index: -1;}#sk-container-id-2 div.sk-parallel-item {display: flex;flex-direction: column;z-index: 1;position: relative;background-color: white;}#sk-container-id-2 div.sk-parallel-item:first-child::after {align-self: flex-end;width: 50%;}#sk-container-id-2 div.sk-parallel-item:last-child::after {align-self: flex-start;width: 50%;}#sk-container-id-2 div.sk-parallel-item:only-child::after {width: 0;}#sk-container-id-2 div.sk-dashed-wrapped {border: 1px dashed gray;margin: 0 0.4em 0.5em 0.4em;box-sizing: border-box;padding-bottom: 0.4em;background-color: white;}#sk-container-id-2 div.sk-label label {font-family: monospace;font-weight: bold;display: inline-block;line-height: 1.2em;}#sk-container-id-2 div.sk-label-container {text-align: center;}#sk-container-id-2 div.sk-container {/* jupyter's `normalize.less` sets `[hidden] { display: none; }` but bootstrap.min.css set `[hidden] { display: none !important; }` so we also need the `!important` here to be able to override the default hidden behavior on the sphinx rendered scikit-learn.org. See: https://github.com/scikit-learn/scikit-learn/issues/21755 */display: inline-block !important;position: relative;}#sk-container-id-2 div.sk-text-repr-fallback {display: none;}</style><div id=\"sk-container-id-2\" class=\"sk-top-container\"><div class=\"sk-text-repr-fallback\"><pre>GridSearchCV(cv=5, estimator=RandomForestClassifier(random_state=42), n_jobs=-1,\n",
       "             param_grid={&#x27;criterion&#x27;: [&#x27;gini&#x27;, &#x27;entropy&#x27;],\n",
       "                         &#x27;max_depth&#x27;: [5, 10, None],\n",
       "                         &#x27;max_features&#x27;: [&#x27;sqrt&#x27;, &#x27;log2&#x27;, None],\n",
       "                         &#x27;min_samples_leaf&#x27;: [1, 2, 3, 4, 5, 10, 20, 25],\n",
       "                         &#x27;n_estimators&#x27;: [100, 200, 50, 20]},\n",
       "             scoring=&#x27;recall&#x27;, verbose=1)</pre><b>In a Jupyter environment, please rerun this cell to show the HTML representation or trust the notebook. <br />On GitHub, the HTML representation is unable to render, please try loading this page with nbviewer.org.</b></div><div class=\"sk-container\" hidden><div class=\"sk-item sk-dashed-wrapped\"><div class=\"sk-label-container\"><div class=\"sk-label sk-toggleable\"><input class=\"sk-toggleable__control sk-hidden--visually\" id=\"sk-estimator-id-4\" type=\"checkbox\" ><label for=\"sk-estimator-id-4\" class=\"sk-toggleable__label sk-toggleable__label-arrow\">GridSearchCV</label><div class=\"sk-toggleable__content\"><pre>GridSearchCV(cv=5, estimator=RandomForestClassifier(random_state=42), n_jobs=-1,\n",
       "             param_grid={&#x27;criterion&#x27;: [&#x27;gini&#x27;, &#x27;entropy&#x27;],\n",
       "                         &#x27;max_depth&#x27;: [5, 10, None],\n",
       "                         &#x27;max_features&#x27;: [&#x27;sqrt&#x27;, &#x27;log2&#x27;, None],\n",
       "                         &#x27;min_samples_leaf&#x27;: [1, 2, 3, 4, 5, 10, 20, 25],\n",
       "                         &#x27;n_estimators&#x27;: [100, 200, 50, 20]},\n",
       "             scoring=&#x27;recall&#x27;, verbose=1)</pre></div></div></div><div class=\"sk-parallel\"><div class=\"sk-parallel-item\"><div class=\"sk-item\"><div class=\"sk-label-container\"><div class=\"sk-label sk-toggleable\"><input class=\"sk-toggleable__control sk-hidden--visually\" id=\"sk-estimator-id-5\" type=\"checkbox\" ><label for=\"sk-estimator-id-5\" class=\"sk-toggleable__label sk-toggleable__label-arrow\">estimator: RandomForestClassifier</label><div class=\"sk-toggleable__content\"><pre>RandomForestClassifier(random_state=42)</pre></div></div></div><div class=\"sk-serial\"><div class=\"sk-item\"><div class=\"sk-estimator sk-toggleable\"><input class=\"sk-toggleable__control sk-hidden--visually\" id=\"sk-estimator-id-6\" type=\"checkbox\" ><label for=\"sk-estimator-id-6\" class=\"sk-toggleable__label sk-toggleable__label-arrow\">RandomForestClassifier</label><div class=\"sk-toggleable__content\"><pre>RandomForestClassifier(random_state=42)</pre></div></div></div></div></div></div></div></div></div></div>"
      ],
      "text/plain": [
       "GridSearchCV(cv=5, estimator=RandomForestClassifier(random_state=42), n_jobs=-1,\n",
       "             param_grid={'criterion': ['gini', 'entropy'],\n",
       "                         'max_depth': [5, 10, None],\n",
       "                         'max_features': ['sqrt', 'log2', None],\n",
       "                         'min_samples_leaf': [1, 2, 3, 4, 5, 10, 20, 25],\n",
       "                         'n_estimators': [100, 200, 50, 20]},\n",
       "             scoring='recall', verbose=1)"
      ]
     },
     "execution_count": 26,
     "metadata": {},
     "output_type": "execute_result"
    }
   ],
   "source": [
    "grid_search = GridSearchCV(rfc, param_grid=params, cv=5, scoring='recall', n_jobs=-1,verbose=1)\n",
    "\n",
    "grid_search.fit(X_train, y_train)"
   ]
  },
  {
   "cell_type": "code",
   "execution_count": 27,
   "id": "77f1721b",
   "metadata": {},
   "outputs": [
    {
     "data": {
      "text/plain": [
       "0.38123076923076915"
      ]
     },
     "execution_count": 27,
     "metadata": {},
     "output_type": "execute_result"
    }
   ],
   "source": [
    "grid_search.best_score_"
   ]
  },
  {
   "cell_type": "code",
   "execution_count": 28,
   "id": "571d5087",
   "metadata": {},
   "outputs": [
    {
     "data": {
      "text/plain": [
       "{'criterion': 'gini',\n",
       " 'max_depth': None,\n",
       " 'max_features': None,\n",
       " 'min_samples_leaf': 2,\n",
       " 'n_estimators': 20}"
      ]
     },
     "execution_count": 28,
     "metadata": {},
     "output_type": "execute_result"
    }
   ],
   "source": [
    "grid_search.best_params_"
   ]
  },
  {
   "cell_type": "code",
   "execution_count": 29,
   "id": "1d7053e6",
   "metadata": {},
   "outputs": [
    {
     "data": {
      "text/html": [
       "<style>#sk-container-id-3 {color: black;background-color: white;}#sk-container-id-3 pre{padding: 0;}#sk-container-id-3 div.sk-toggleable {background-color: white;}#sk-container-id-3 label.sk-toggleable__label {cursor: pointer;display: block;width: 100%;margin-bottom: 0;padding: 0.3em;box-sizing: border-box;text-align: center;}#sk-container-id-3 label.sk-toggleable__label-arrow:before {content: \"▸\";float: left;margin-right: 0.25em;color: #696969;}#sk-container-id-3 label.sk-toggleable__label-arrow:hover:before {color: black;}#sk-container-id-3 div.sk-estimator:hover label.sk-toggleable__label-arrow:before {color: black;}#sk-container-id-3 div.sk-toggleable__content {max-height: 0;max-width: 0;overflow: hidden;text-align: left;background-color: #f0f8ff;}#sk-container-id-3 div.sk-toggleable__content pre {margin: 0.2em;color: black;border-radius: 0.25em;background-color: #f0f8ff;}#sk-container-id-3 input.sk-toggleable__control:checked~div.sk-toggleable__content {max-height: 200px;max-width: 100%;overflow: auto;}#sk-container-id-3 input.sk-toggleable__control:checked~label.sk-toggleable__label-arrow:before {content: \"▾\";}#sk-container-id-3 div.sk-estimator input.sk-toggleable__control:checked~label.sk-toggleable__label {background-color: #d4ebff;}#sk-container-id-3 div.sk-label input.sk-toggleable__control:checked~label.sk-toggleable__label {background-color: #d4ebff;}#sk-container-id-3 input.sk-hidden--visually {border: 0;clip: rect(1px 1px 1px 1px);clip: rect(1px, 1px, 1px, 1px);height: 1px;margin: -1px;overflow: hidden;padding: 0;position: absolute;width: 1px;}#sk-container-id-3 div.sk-estimator {font-family: monospace;background-color: #f0f8ff;border: 1px dotted black;border-radius: 0.25em;box-sizing: border-box;margin-bottom: 0.5em;}#sk-container-id-3 div.sk-estimator:hover {background-color: #d4ebff;}#sk-container-id-3 div.sk-parallel-item::after {content: \"\";width: 100%;border-bottom: 1px solid gray;flex-grow: 1;}#sk-container-id-3 div.sk-label:hover label.sk-toggleable__label {background-color: #d4ebff;}#sk-container-id-3 div.sk-serial::before {content: \"\";position: absolute;border-left: 1px solid gray;box-sizing: border-box;top: 0;bottom: 0;left: 50%;z-index: 0;}#sk-container-id-3 div.sk-serial {display: flex;flex-direction: column;align-items: center;background-color: white;padding-right: 0.2em;padding-left: 0.2em;position: relative;}#sk-container-id-3 div.sk-item {position: relative;z-index: 1;}#sk-container-id-3 div.sk-parallel {display: flex;align-items: stretch;justify-content: center;background-color: white;position: relative;}#sk-container-id-3 div.sk-item::before, #sk-container-id-3 div.sk-parallel-item::before {content: \"\";position: absolute;border-left: 1px solid gray;box-sizing: border-box;top: 0;bottom: 0;left: 50%;z-index: -1;}#sk-container-id-3 div.sk-parallel-item {display: flex;flex-direction: column;z-index: 1;position: relative;background-color: white;}#sk-container-id-3 div.sk-parallel-item:first-child::after {align-self: flex-end;width: 50%;}#sk-container-id-3 div.sk-parallel-item:last-child::after {align-self: flex-start;width: 50%;}#sk-container-id-3 div.sk-parallel-item:only-child::after {width: 0;}#sk-container-id-3 div.sk-dashed-wrapped {border: 1px dashed gray;margin: 0 0.4em 0.5em 0.4em;box-sizing: border-box;padding-bottom: 0.4em;background-color: white;}#sk-container-id-3 div.sk-label label {font-family: monospace;font-weight: bold;display: inline-block;line-height: 1.2em;}#sk-container-id-3 div.sk-label-container {text-align: center;}#sk-container-id-3 div.sk-container {/* jupyter's `normalize.less` sets `[hidden] { display: none; }` but bootstrap.min.css set `[hidden] { display: none !important; }` so we also need the `!important` here to be able to override the default hidden behavior on the sphinx rendered scikit-learn.org. See: https://github.com/scikit-learn/scikit-learn/issues/21755 */display: inline-block !important;position: relative;}#sk-container-id-3 div.sk-text-repr-fallback {display: none;}</style><div id=\"sk-container-id-3\" class=\"sk-top-container\"><div class=\"sk-text-repr-fallback\"><pre>RandomForestClassifier(max_features=None, min_samples_leaf=2, n_estimators=20)</pre><b>In a Jupyter environment, please rerun this cell to show the HTML representation or trust the notebook. <br />On GitHub, the HTML representation is unable to render, please try loading this page with nbviewer.org.</b></div><div class=\"sk-container\" hidden><div class=\"sk-item\"><div class=\"sk-estimator sk-toggleable\"><input class=\"sk-toggleable__control sk-hidden--visually\" id=\"sk-estimator-id-7\" type=\"checkbox\" checked><label for=\"sk-estimator-id-7\" class=\"sk-toggleable__label sk-toggleable__label-arrow\">RandomForestClassifier</label><div class=\"sk-toggleable__content\"><pre>RandomForestClassifier(max_features=None, min_samples_leaf=2, n_estimators=20)</pre></div></div></div></div></div>"
      ],
      "text/plain": [
       "RandomForestClassifier(max_features=None, min_samples_leaf=2, n_estimators=20)"
      ]
     },
     "execution_count": 29,
     "metadata": {},
     "output_type": "execute_result"
    }
   ],
   "source": [
    "rfc_3 = RandomForestClassifier(**grid_search.best_params_)\n",
    "rfc_3.fit(X_train, y_train)"
   ]
  },
  {
   "cell_type": "code",
   "execution_count": 31,
   "id": "12fb2b09",
   "metadata": {},
   "outputs": [],
   "source": [
    "yPred_3 = rfc_3.predict(X_test)"
   ]
  },
  {
   "cell_type": "code",
   "execution_count": 32,
   "id": "dee29179",
   "metadata": {},
   "outputs": [
    {
     "data": {
      "text/plain": [
       "0.8699690402476781"
      ]
     },
     "execution_count": 32,
     "metadata": {},
     "output_type": "execute_result"
    }
   ],
   "source": [
    "accuracy_score(y_test, yPred_3)"
   ]
  },
  {
   "cell_type": "code",
   "execution_count": 33,
   "id": "8168f25c",
   "metadata": {},
   "outputs": [
    {
     "data": {
      "text/plain": [
       "0.6698534798534799"
      ]
     },
     "execution_count": 33,
     "metadata": {},
     "output_type": "execute_result"
    }
   ],
   "source": [
    "roc_auc_score(y_test, yPred_3)"
   ]
  },
  {
   "cell_type": "code",
   "execution_count": 34,
   "id": "8d989ad3",
   "metadata": {},
   "outputs": [
    {
     "name": "stderr",
     "output_type": "stream",
     "text": [
      "C:\\Users\\ela\\anaconda3\\lib\\site-packages\\sklearn\\utils\\deprecation.py:87: FutureWarning: Function plot_roc_curve is deprecated; Function :func:`plot_roc_curve` is deprecated in 1.0 and will be removed in 1.2. Use one of the class methods: :meth:`sklearn.metric.RocCurveDisplay.from_predictions` or :meth:`sklearn.metric.RocCurveDisplay.from_estimator`.\n",
      "  warnings.warn(msg, category=FutureWarning)\n"
     ]
    },
    {
     "data": {
      "text/plain": [
       "<sklearn.metrics._plot.roc_curve.RocCurveDisplay at 0x29419e170a0>"
      ]
     },
     "execution_count": 34,
     "metadata": {},
     "output_type": "execute_result"
    },
    {
     "data": {
      "image/png": "[encoded data removed]",
      "text/plain": [
       "<Figure size 432x288 with 1 Axes>"
      ]
     },
     "metadata": {
      "needs_background": "light"
     },
     "output_type": "display_data"
    }
   ],
   "source": [
    "plot_roc_curve(rfc_3, X_test, y_test)"
   ]
  },
  {
   "cell_type": "code",
   "execution_count": 35,
   "id": "7cff5b88",
   "metadata": {},
   "outputs": [
    {
     "name": "stdout",
     "output_type": "stream",
     "text": [
      "              precision    recall  f1-score   support\n",
      "\n",
      "           0       0.89      0.96      0.93       273\n",
      "           1       0.63      0.38      0.48        50\n",
      "\n",
      "    accuracy                           0.87       323\n",
      "   macro avg       0.76      0.67      0.70       323\n",
      "weighted avg       0.85      0.87      0.86       323\n",
      "\n"
     ]
    }
   ],
   "source": [
    "print(classification_report(y_test, yPred_3))"
   ]
  },
  {
   "cell_type": "markdown",
   "id": "1ba24b2f",
   "metadata": {},
   "source": [
    "### oversampling ( metoda SMOTE) - w celu zrównoważenia danych"
   ]
  },
  {
   "cell_type": "markdown",
   "id": "d3ddafec",
   "metadata": {},
   "source": [
    "SMOTE (Technika nadpróbkowania syntetycznej mniejszości).\n",
    "SMOTE nadpróbkuje klasę mniejszości, tworząc raczej „syntetyczne” przykłady niż kopie. \n",
    "Wiąże się to z kilkoma metodami, w tym najbliższymi sąsiadami, w celu wygenerowania prawdopodobnych nowych przykładów. "
   ]
  },
  {
   "cell_type": "code",
   "execution_count": 71,
   "id": "c8e5d79f",
   "metadata": {},
   "outputs": [],
   "source": [
    "SMOTE?"
   ]
  },
  {
   "cell_type": "code",
   "execution_count": 56,
   "id": "ea75c0e8",
   "metadata": {},
   "outputs": [],
   "source": [
    "from imblearn.over_sampling import SMOTE\n",
    "\n",
    "sm = SMOTE(random_state=42)\n",
    "X_res, y_res = sm.fit_resample(X_train, y_train)"
   ]
  },
  {
   "cell_type": "code",
   "execution_count": 57,
   "id": "b28ef370",
   "metadata": {},
   "outputs": [
    {
     "data": {
      "text/plain": [
       "(1686, 6)"
      ]
     },
     "execution_count": 57,
     "metadata": {},
     "output_type": "execute_result"
    }
   ],
   "source": [
    "X_res.shape"
   ]
  },
  {
   "cell_type": "code",
   "execution_count": 58,
   "id": "e7a0e7bd",
   "metadata": {},
   "outputs": [
    {
     "data": {
      "text/plain": [
       "(1686,)"
      ]
     },
     "execution_count": 58,
     "metadata": {},
     "output_type": "execute_result"
    }
   ],
   "source": [
    "y_res.shape"
   ]
  },
  {
   "cell_type": "code",
   "execution_count": 59,
   "id": "2feea75c",
   "metadata": {},
   "outputs": [
    {
     "name": "stdout",
     "output_type": "stream",
     "text": [
      "              precision    recall  f1-score   support\n",
      "\n",
      "           0       0.91      0.92      0.91       273\n",
      "           1       0.51      0.48      0.49        50\n",
      "\n",
      "    accuracy                           0.85       323\n",
      "   macro avg       0.71      0.70      0.70       323\n",
      "weighted avg       0.84      0.85      0.85       323\n",
      "\n",
      "[[250  23]\n",
      " [ 26  24]]\n",
      "accuracy is 0.848297213622291\n"
     ]
    }
   ],
   "source": [
    "rfc_over=RandomForestClassifier(n_estimators=30,random_state=0,bootstrap=True)\n",
    "rfc_over.fit(X_res, y_res)\n",
    "yPred_over=rfc_over.predict(X_test)\n",
    "\n",
    "\n",
    "print(classification_report(y_test, yPred_over))\n",
    "print(confusion_matrix(y_test, yPred_over))\n",
    "\n",
    "\n",
    "print('accuracy is',accuracy_score(yPred_over,y_test))"
   ]
  },
  {
   "cell_type": "code",
   "execution_count": 60,
   "id": "7fef3ff0",
   "metadata": {},
   "outputs": [
    {
     "name": "stdout",
     "output_type": "stream",
     "text": [
      "The recall is 0.48\n",
      "The F1-Score is 0.49484536082474223\n",
      "The precision is 0.5106382978723404\n"
     ]
    }
   ],
   "source": [
    "rec_over_rfc = recall_score(y_test, yPred_over)\n",
    "print(\"The recall is {}\".format(rec_over_rfc))\n",
    "f1_over_rfc = f1_score(y_test, yPred_over)\n",
    "print(\"The F1-Score is {}\".format(f1_over_rfc))\n",
    "prec_over_rfc = precision_score(y_test, yPred_over)\n",
    "print(\"The precision is {}\".format(prec_over_rfc))"
   ]
  },
  {
   "cell_type": "code",
   "execution_count": 61,
   "id": "16b96e4d",
   "metadata": {},
   "outputs": [
    {
     "data": {
      "image/png": "[encoded data removed]",
      "text/plain": [
       "<Figure size 360x360 with 2 Axes>"
      ]
     },
     "metadata": {
      "needs_background": "light"
     },
     "output_type": "display_data"
    }
   ],
   "source": [
    "#Confusion Matrix\n",
    "\n",
    "LABELS = ['bad', 'good']\n",
    "conf_matrix = confusion_matrix(y_test, yPred_over)\n",
    "plt.figure(figsize =(5, 5))\n",
    "sns.heatmap(conf_matrix, xticklabels = LABELS, \n",
    "            yticklabels = LABELS, annot = True, fmt =\"d\");\n",
    "plt.title(\"Confusion matrix\")\n",
    "plt.ylabel('True class')\n",
    "plt.xlabel('Predicted class')\n",
    "plt.show()"
   ]
  },
  {
   "cell_type": "code",
   "execution_count": 62,
   "id": "4a16179e",
   "metadata": {},
   "outputs": [
    {
     "name": "stderr",
     "output_type": "stream",
     "text": [
      "C:\\Users\\ela\\anaconda3\\lib\\site-packages\\sklearn\\utils\\deprecation.py:87: FutureWarning: Function plot_roc_curve is deprecated; Function :func:`plot_roc_curve` is deprecated in 1.0 and will be removed in 1.2. Use one of the class methods: :meth:`sklearn.metric.RocCurveDisplay.from_predictions` or :meth:`sklearn.metric.RocCurveDisplay.from_estimator`.\n",
      "  warnings.warn(msg, category=FutureWarning)\n"
     ]
    },
    {
     "data": {
      "image/png": "[encoded data removed]",
      "text/plain": [
       "<Figure size 432x288 with 1 Axes>"
      ]
     },
     "metadata": {
      "needs_background": "light"
     },
     "output_type": "display_data"
    }
   ],
   "source": [
    "ROC_RF_over = plot_roc_curve(rfc_over, X_test, y_test)\n",
    "plt.show()"
   ]
  },
  {
   "cell_type": "code",
   "execution_count": null,
   "id": "0b010aa7",
   "metadata": {},
   "outputs": [],
   "source": [
    "#Wybór poziomu cutt-off"
   ]
  },
  {
   "cell_type": "code",
   "execution_count": null,
   "id": "459073d3",
   "metadata": {},
   "outputs": [],
   "source": [
    "#prawdopodobieństwo\n",
    "#DT_pred_proba = DT.predict_proba(X_test)[:,1]\n",
    "#DT_pred_proba"
   ]
  },
  {
   "cell_type": "code",
   "execution_count": null,
   "id": "379b5382",
   "metadata": {},
   "outputs": [],
   "source": [
    "#wyznaczenie optymalnego progu cut-off\n",
    "#fpr, tpr, thresholds = roc_curve(y_test, DT_pred_proba)\n",
    "# get the best threshold\n",
    "#J = tpr - fpr\n",
    "#ix = argmax(J)\n",
    "#best_thresh = thresholds[ix]\n",
    "#print('Best Threshold=%f' % (best_thresh))"
   ]
  },
  {
   "cell_type": "markdown",
   "id": "ad03909f",
   "metadata": {},
   "source": [
    "### oversampling 0.50"
   ]
  },
  {
   "cell_type": "code",
   "execution_count": 63,
   "id": "8c5a4769",
   "metadata": {},
   "outputs": [],
   "source": [
    "sm1 = SMOTE(sampling_strategy=0.50,random_state=42)\n",
    "X_res1, y_res1 = sm1.fit_resample(X_train, y_train)"
   ]
  },
  {
   "cell_type": "code",
   "execution_count": 64,
   "id": "1766490a",
   "metadata": {},
   "outputs": [
    {
     "data": {
      "image/png": "[encoded data removed]",
      "text/plain": [
       "<Figure size 432x288 with 1 Axes>"
      ]
     },
     "metadata": {
      "needs_background": "light"
     },
     "output_type": "display_data"
    }
   ],
   "source": [
    "ax = sns.countplot(x=y_res1)\n",
    "\n",
    "abs_values = y_res1.value_counts().values\n",
    "\n",
    "ax.bar_label(container=ax.containers[0], labels=abs_values);"
   ]
  },
  {
   "cell_type": "code",
   "execution_count": 65,
   "id": "f27a7bfa",
   "metadata": {},
   "outputs": [
    {
     "name": "stdout",
     "output_type": "stream",
     "text": [
      "              precision    recall  f1-score   support\n",
      "\n",
      "           0       0.90      0.93      0.92       273\n",
      "           1       0.54      0.42      0.47        50\n",
      "\n",
      "    accuracy                           0.85       323\n",
      "   macro avg       0.72      0.68      0.69       323\n",
      "weighted avg       0.84      0.85      0.85       323\n",
      "\n",
      "[[255  18]\n",
      " [ 29  21]]\n",
      "accuracy is 0.8544891640866873\n"
     ]
    }
   ],
   "source": [
    "rfc_over1=RandomForestClassifier(n_estimators=100,random_state=42,bootstrap=True,max_depth=None,min_samples_split=2)\n",
    "rfc_over1.fit(X_res1, y_res1)\n",
    "yPred_over1=rfc_over1.predict(X_test)\n",
    "\n",
    "\n",
    "print(classification_report(y_test, yPred_over1))\n",
    "print(confusion_matrix(y_test, yPred_over1))\n",
    "\n",
    "\n",
    "print('accuracy is',accuracy_score(yPred_over1,y_test))"
   ]
  },
  {
   "cell_type": "code",
   "execution_count": 46,
   "id": "6a52c208",
   "metadata": {},
   "outputs": [
    {
     "data": {
      "image/png": "[encoded data removed]",
      "text/plain": [
       "<Figure size 360x360 with 2 Axes>"
      ]
     },
     "metadata": {
      "needs_background": "light"
     },
     "output_type": "display_data"
    }
   ],
   "source": [
    "#Confusion Matrix\n",
    "\n",
    "LABELS = ['bad', 'good']\n",
    "conf_matrix = confusion_matrix(y_test, yPred_over1)\n",
    "plt.figure(figsize =(5, 5))\n",
    "sns.heatmap(conf_matrix, xticklabels = LABELS, \n",
    "            yticklabels = LABELS, annot = True, fmt =\"d\");\n",
    "plt.title(\"Confusion matrix\")\n",
    "plt.ylabel('True class')\n",
    "plt.xlabel('Predicted class')\n",
    "plt.show()"
   ]
  },
  {
   "cell_type": "code",
   "execution_count": 35,
   "id": "364de20b",
   "metadata": {},
   "outputs": [],
   "source": [
    "RandomForestClassifier?"
   ]
  },
  {
   "cell_type": "markdown",
   "id": "160c14cf",
   "metadata": {},
   "source": [
    "### oversampling 0.75"
   ]
  },
  {
   "cell_type": "code",
   "execution_count": 66,
   "id": "f9739e36",
   "metadata": {},
   "outputs": [],
   "source": [
    "sm2 = SMOTE(sampling_strategy=0.75,random_state=42)\n",
    "X_res2, y_res2 = sm2.fit_resample(X_train, y_train)"
   ]
  },
  {
   "cell_type": "code",
   "execution_count": 67,
   "id": "a2037d08",
   "metadata": {},
   "outputs": [
    {
     "data": {
      "image/png": "[encoded data removed]",
      "text/plain": [
       "<Figure size 432x288 with 1 Axes>"
      ]
     },
     "metadata": {
      "needs_background": "light"
     },
     "output_type": "display_data"
    }
   ],
   "source": [
    "ax = sns.countplot(x=y_res2)\n",
    "\n",
    "abs_values = y_res2.value_counts().values\n",
    "\n",
    "ax.bar_label(container=ax.containers[0], labels=abs_values);"
   ]
  },
  {
   "cell_type": "code",
   "execution_count": 68,
   "id": "b285b6b9",
   "metadata": {},
   "outputs": [
    {
     "name": "stdout",
     "output_type": "stream",
     "text": [
      "              precision    recall  f1-score   support\n",
      "\n",
      "           0       0.93      0.90      0.91       273\n",
      "           1       0.54      0.60      0.57        50\n",
      "\n",
      "    accuracy                           0.86       323\n",
      "   macro avg       0.73      0.75      0.74       323\n",
      "weighted avg       0.86      0.86      0.86       323\n",
      "\n",
      "[[247  26]\n",
      " [ 20  30]]\n",
      "accuracy is 0.8575851393188855\n"
     ]
    }
   ],
   "source": [
    "rfc_over2=RandomForestClassifier(n_estimators=100,random_state=42,bootstrap=True,max_depth=None,min_samples_split=2)\n",
    "rfc_over2.fit(X_res2, y_res2)\n",
    "yPred_over2=rfc_over2.predict(X_test)\n",
    "\n",
    "\n",
    "print(classification_report(y_test, yPred_over2))\n",
    "print(confusion_matrix(y_test, yPred_over2))\n",
    "\n",
    "\n",
    "print('accuracy is',accuracy_score(yPred_over2,y_test))"
   ]
  },
  {
   "cell_type": "code",
   "execution_count": 69,
   "id": "270f664b",
   "metadata": {},
   "outputs": [
    {
     "data": {
      "image/png": "[encoded data removed]",
      "text/plain": [
       "<Figure size 360x360 with 2 Axes>"
      ]
     },
     "metadata": {
      "needs_background": "light"
     },
     "output_type": "display_data"
    }
   ],
   "source": [
    "#Confusion Matrix\n",
    "\n",
    "LABELS = ['bad', 'good']\n",
    "conf_matrix = confusion_matrix(y_test, yPred_over2)\n",
    "plt.figure(figsize =(5, 5))\n",
    "sns.heatmap(conf_matrix, xticklabels = LABELS, \n",
    "            yticklabels = LABELS, annot = True, fmt =\"d\");\n",
    "plt.title(\"Confusion matrix\")\n",
    "plt.ylabel('True class')\n",
    "plt.xlabel('Predicted class')\n",
    "plt.show()"
   ]
  },
  {
   "cell_type": "code",
   "execution_count": 70,
   "id": "c1370e87",
   "metadata": {},
   "outputs": [],
   "source": [
    "cv_results1=cross_val_score(rfc_over2,X_train,y_train,cv=5,scoring=\"recall\")"
   ]
  },
  {
   "cell_type": "code",
   "execution_count": 71,
   "id": "91703ec8",
   "metadata": {},
   "outputs": [
    {
     "data": {
      "text/plain": [
       "array([0.4       , 0.2       , 0.32      , 0.34615385, 0.32      ])"
      ]
     },
     "execution_count": 71,
     "metadata": {},
     "output_type": "execute_result"
    }
   ],
   "source": [
    "cv_results1"
   ]
  },
  {
   "cell_type": "markdown",
   "id": "91b36f41",
   "metadata": {},
   "source": [
    "#### Wybór optymalnych hiperparametrów - Grid Search"
   ]
  },
  {
   "cell_type": "code",
   "execution_count": 72,
   "id": "26087fd9",
   "metadata": {},
   "outputs": [],
   "source": [
    "params={'criterion': ['gini','entropy'],\n",
    "        'n_estimators': [100,200,50,20],\n",
    "        'max_depth': [5,10,None],\n",
    "        'min_samples_leaf': [1, 2, 3, 4, 5, 10, 20, 25],\n",
    "        'max_features':['sqrt','log2',None]\n",
    "        }"
   ]
  },
  {
   "cell_type": "code",
   "execution_count": 73,
   "id": "0ccb303e",
   "metadata": {},
   "outputs": [
    {
     "name": "stdout",
     "output_type": "stream",
     "text": [
      "Fitting 5 folds for each of 576 candidates, totalling 2880 fits\n"
     ]
    },
    {
     "data": {
      "text/html": [
       "<style>#sk-container-id-4 {color: black;background-color: white;}#sk-container-id-4 pre{padding: 0;}#sk-container-id-4 div.sk-toggleable {background-color: white;}#sk-container-id-4 label.sk-toggleable__label {cursor: pointer;display: block;width: 100%;margin-bottom: 0;padding: 0.3em;box-sizing: border-box;text-align: center;}#sk-container-id-4 label.sk-toggleable__label-arrow:before {content: \"▸\";float: left;margin-right: 0.25em;color: #696969;}#sk-container-id-4 label.sk-toggleable__label-arrow:hover:before {color: black;}#sk-container-id-4 div.sk-estimator:hover label.sk-toggleable__label-arrow:before {color: black;}#sk-container-id-4 div.sk-toggleable__content {max-height: 0;max-width: 0;overflow: hidden;text-align: left;background-color: #f0f8ff;}#sk-container-id-4 div.sk-toggleable__content pre {margin: 0.2em;color: black;border-radius: 0.25em;background-color: #f0f8ff;}#sk-container-id-4 input.sk-toggleable__control:checked~div.sk-toggleable__content {max-height: 200px;max-width: 100%;overflow: auto;}#sk-container-id-4 input.sk-toggleable__control:checked~label.sk-toggleable__label-arrow:before {content: \"▾\";}#sk-container-id-4 div.sk-estimator input.sk-toggleable__control:checked~label.sk-toggleable__label {background-color: #d4ebff;}#sk-container-id-4 div.sk-label input.sk-toggleable__control:checked~label.sk-toggleable__label {background-color: #d4ebff;}#sk-container-id-4 input.sk-hidden--visually {border: 0;clip: rect(1px 1px 1px 1px);clip: rect(1px, 1px, 1px, 1px);height: 1px;margin: -1px;overflow: hidden;padding: 0;position: absolute;width: 1px;}#sk-container-id-4 div.sk-estimator {font-family: monospace;background-color: #f0f8ff;border: 1px dotted black;border-radius: 0.25em;box-sizing: border-box;margin-bottom: 0.5em;}#sk-container-id-4 div.sk-estimator:hover {background-color: #d4ebff;}#sk-container-id-4 div.sk-parallel-item::after {content: \"\";width: 100%;border-bottom: 1px solid gray;flex-grow: 1;}#sk-container-id-4 div.sk-label:hover label.sk-toggleable__label {background-color: #d4ebff;}#sk-container-id-4 div.sk-serial::before {content: \"\";position: absolute;border-left: 1px solid gray;box-sizing: border-box;top: 0;bottom: 0;left: 50%;z-index: 0;}#sk-container-id-4 div.sk-serial {display: flex;flex-direction: column;align-items: center;background-color: white;padding-right: 0.2em;padding-left: 0.2em;position: relative;}#sk-container-id-4 div.sk-item {position: relative;z-index: 1;}#sk-container-id-4 div.sk-parallel {display: flex;align-items: stretch;justify-content: center;background-color: white;position: relative;}#sk-container-id-4 div.sk-item::before, #sk-container-id-4 div.sk-parallel-item::before {content: \"\";position: absolute;border-left: 1px solid gray;box-sizing: border-box;top: 0;bottom: 0;left: 50%;z-index: -1;}#sk-container-id-4 div.sk-parallel-item {display: flex;flex-direction: column;z-index: 1;position: relative;background-color: white;}#sk-container-id-4 div.sk-parallel-item:first-child::after {align-self: flex-end;width: 50%;}#sk-container-id-4 div.sk-parallel-item:last-child::after {align-self: flex-start;width: 50%;}#sk-container-id-4 div.sk-parallel-item:only-child::after {width: 0;}#sk-container-id-4 div.sk-dashed-wrapped {border: 1px dashed gray;margin: 0 0.4em 0.5em 0.4em;box-sizing: border-box;padding-bottom: 0.4em;background-color: white;}#sk-container-id-4 div.sk-label label {font-family: monospace;font-weight: bold;display: inline-block;line-height: 1.2em;}#sk-container-id-4 div.sk-label-container {text-align: center;}#sk-container-id-4 div.sk-container {/* jupyter's `normalize.less` sets `[hidden] { display: none; }` but bootstrap.min.css set `[hidden] { display: none !important; }` so we also need the `!important` here to be able to override the default hidden behavior on the sphinx rendered scikit-learn.org. See: https://github.com/scikit-learn/scikit-learn/issues/21755 */display: inline-block !important;position: relative;}#sk-container-id-4 div.sk-text-repr-fallback {display: none;}</style><div id=\"sk-container-id-4\" class=\"sk-top-container\"><div class=\"sk-text-repr-fallback\"><pre>GridSearchCV(cv=5, estimator=RandomForestClassifier(random_state=42), n_jobs=-1,\n",
       "             param_grid={&#x27;criterion&#x27;: [&#x27;gini&#x27;, &#x27;entropy&#x27;],\n",
       "                         &#x27;max_depth&#x27;: [5, 10, None],\n",
       "                         &#x27;max_features&#x27;: [&#x27;sqrt&#x27;, &#x27;log2&#x27;, None],\n",
       "                         &#x27;min_samples_leaf&#x27;: [1, 2, 3, 4, 5, 10, 20, 25],\n",
       "                         &#x27;n_estimators&#x27;: [100, 200, 50, 20]},\n",
       "             scoring=&#x27;recall&#x27;, verbose=1)</pre><b>In a Jupyter environment, please rerun this cell to show the HTML representation or trust the notebook. <br />On GitHub, the HTML representation is unable to render, please try loading this page with nbviewer.org.</b></div><div class=\"sk-container\" hidden><div class=\"sk-item sk-dashed-wrapped\"><div class=\"sk-label-container\"><div class=\"sk-label sk-toggleable\"><input class=\"sk-toggleable__control sk-hidden--visually\" id=\"sk-estimator-id-8\" type=\"checkbox\" ><label for=\"sk-estimator-id-8\" class=\"sk-toggleable__label sk-toggleable__label-arrow\">GridSearchCV</label><div class=\"sk-toggleable__content\"><pre>GridSearchCV(cv=5, estimator=RandomForestClassifier(random_state=42), n_jobs=-1,\n",
       "             param_grid={&#x27;criterion&#x27;: [&#x27;gini&#x27;, &#x27;entropy&#x27;],\n",
       "                         &#x27;max_depth&#x27;: [5, 10, None],\n",
       "                         &#x27;max_features&#x27;: [&#x27;sqrt&#x27;, &#x27;log2&#x27;, None],\n",
       "                         &#x27;min_samples_leaf&#x27;: [1, 2, 3, 4, 5, 10, 20, 25],\n",
       "                         &#x27;n_estimators&#x27;: [100, 200, 50, 20]},\n",
       "             scoring=&#x27;recall&#x27;, verbose=1)</pre></div></div></div><div class=\"sk-parallel\"><div class=\"sk-parallel-item\"><div class=\"sk-item\"><div class=\"sk-label-container\"><div class=\"sk-label sk-toggleable\"><input class=\"sk-toggleable__control sk-hidden--visually\" id=\"sk-estimator-id-9\" type=\"checkbox\" ><label for=\"sk-estimator-id-9\" class=\"sk-toggleable__label sk-toggleable__label-arrow\">estimator: RandomForestClassifier</label><div class=\"sk-toggleable__content\"><pre>RandomForestClassifier(random_state=42)</pre></div></div></div><div class=\"sk-serial\"><div class=\"sk-item\"><div class=\"sk-estimator sk-toggleable\"><input class=\"sk-toggleable__control sk-hidden--visually\" id=\"sk-estimator-id-10\" type=\"checkbox\" ><label for=\"sk-estimator-id-10\" class=\"sk-toggleable__label sk-toggleable__label-arrow\">RandomForestClassifier</label><div class=\"sk-toggleable__content\"><pre>RandomForestClassifier(random_state=42)</pre></div></div></div></div></div></div></div></div></div></div>"
      ],
      "text/plain": [
       "GridSearchCV(cv=5, estimator=RandomForestClassifier(random_state=42), n_jobs=-1,\n",
       "             param_grid={'criterion': ['gini', 'entropy'],\n",
       "                         'max_depth': [5, 10, None],\n",
       "                         'max_features': ['sqrt', 'log2', None],\n",
       "                         'min_samples_leaf': [1, 2, 3, 4, 5, 10, 20, 25],\n",
       "                         'n_estimators': [100, 200, 50, 20]},\n",
       "             scoring='recall', verbose=1)"
      ]
     },
     "execution_count": 73,
     "metadata": {},
     "output_type": "execute_result"
    }
   ],
   "source": [
    "grid_search1 = GridSearchCV(rfc_over2, param_grid=params, cv=5, scoring='recall', n_jobs=-1,verbose=1)\n",
    "\n",
    "grid_search1.fit(X_res2, y_res2)"
   ]
  },
  {
   "cell_type": "code",
   "execution_count": 74,
   "id": "1cfa684d",
   "metadata": {},
   "outputs": [
    {
     "data": {
      "text/plain": [
       "0.9572178477690289"
      ]
     },
     "execution_count": 74,
     "metadata": {},
     "output_type": "execute_result"
    }
   ],
   "source": [
    "grid_search1.best_score_"
   ]
  },
  {
   "cell_type": "code",
   "execution_count": 75,
   "id": "531d96c5",
   "metadata": {},
   "outputs": [
    {
     "data": {
      "text/plain": [
       "{'criterion': 'entropy',\n",
       " 'max_depth': None,\n",
       " 'max_features': None,\n",
       " 'min_samples_leaf': 1,\n",
       " 'n_estimators': 200}"
      ]
     },
     "execution_count": 75,
     "metadata": {},
     "output_type": "execute_result"
    }
   ],
   "source": [
    "grid_search1.best_params_"
   ]
  },
  {
   "cell_type": "code",
   "execution_count": 76,
   "id": "161a3c65",
   "metadata": {},
   "outputs": [
    {
     "data": {
      "text/html": [
       "<style>#sk-container-id-5 {color: black;background-color: white;}#sk-container-id-5 pre{padding: 0;}#sk-container-id-5 div.sk-toggleable {background-color: white;}#sk-container-id-5 label.sk-toggleable__label {cursor: pointer;display: block;width: 100%;margin-bottom: 0;padding: 0.3em;box-sizing: border-box;text-align: center;}#sk-container-id-5 label.sk-toggleable__label-arrow:before {content: \"▸\";float: left;margin-right: 0.25em;color: #696969;}#sk-container-id-5 label.sk-toggleable__label-arrow:hover:before {color: black;}#sk-container-id-5 div.sk-estimator:hover label.sk-toggleable__label-arrow:before {color: black;}#sk-container-id-5 div.sk-toggleable__content {max-height: 0;max-width: 0;overflow: hidden;text-align: left;background-color: #f0f8ff;}#sk-container-id-5 div.sk-toggleable__content pre {margin: 0.2em;color: black;border-radius: 0.25em;background-color: #f0f8ff;}#sk-container-id-5 input.sk-toggleable__control:checked~div.sk-toggleable__content {max-height: 200px;max-width: 100%;overflow: auto;}#sk-container-id-5 input.sk-toggleable__control:checked~label.sk-toggleable__label-arrow:before {content: \"▾\";}#sk-container-id-5 div.sk-estimator input.sk-toggleable__control:checked~label.sk-toggleable__label {background-color: #d4ebff;}#sk-container-id-5 div.sk-label input.sk-toggleable__control:checked~label.sk-toggleable__label {background-color: #d4ebff;}#sk-container-id-5 input.sk-hidden--visually {border: 0;clip: rect(1px 1px 1px 1px);clip: rect(1px, 1px, 1px, 1px);height: 1px;margin: -1px;overflow: hidden;padding: 0;position: absolute;width: 1px;}#sk-container-id-5 div.sk-estimator {font-family: monospace;background-color: #f0f8ff;border: 1px dotted black;border-radius: 0.25em;box-sizing: border-box;margin-bottom: 0.5em;}#sk-container-id-5 div.sk-estimator:hover {background-color: #d4ebff;}#sk-container-id-5 div.sk-parallel-item::after {content: \"\";width: 100%;border-bottom: 1px solid gray;flex-grow: 1;}#sk-container-id-5 div.sk-label:hover label.sk-toggleable__label {background-color: #d4ebff;}#sk-container-id-5 div.sk-serial::before {content: \"\";position: absolute;border-left: 1px solid gray;box-sizing: border-box;top: 0;bottom: 0;left: 50%;z-index: 0;}#sk-container-id-5 div.sk-serial {display: flex;flex-direction: column;align-items: center;background-color: white;padding-right: 0.2em;padding-left: 0.2em;position: relative;}#sk-container-id-5 div.sk-item {position: relative;z-index: 1;}#sk-container-id-5 div.sk-parallel {display: flex;align-items: stretch;justify-content: center;background-color: white;position: relative;}#sk-container-id-5 div.sk-item::before, #sk-container-id-5 div.sk-parallel-item::before {content: \"\";position: absolute;border-left: 1px solid gray;box-sizing: border-box;top: 0;bottom: 0;left: 50%;z-index: -1;}#sk-container-id-5 div.sk-parallel-item {display: flex;flex-direction: column;z-index: 1;position: relative;background-color: white;}#sk-container-id-5 div.sk-parallel-item:first-child::after {align-self: flex-end;width: 50%;}#sk-container-id-5 div.sk-parallel-item:last-child::after {align-self: flex-start;width: 50%;}#sk-container-id-5 div.sk-parallel-item:only-child::after {width: 0;}#sk-container-id-5 div.sk-dashed-wrapped {border: 1px dashed gray;margin: 0 0.4em 0.5em 0.4em;box-sizing: border-box;padding-bottom: 0.4em;background-color: white;}#sk-container-id-5 div.sk-label label {font-family: monospace;font-weight: bold;display: inline-block;line-height: 1.2em;}#sk-container-id-5 div.sk-label-container {text-align: center;}#sk-container-id-5 div.sk-container {/* jupyter's `normalize.less` sets `[hidden] { display: none; }` but bootstrap.min.css set `[hidden] { display: none !important; }` so we also need the `!important` here to be able to override the default hidden behavior on the sphinx rendered scikit-learn.org. See: https://github.com/scikit-learn/scikit-learn/issues/21755 */display: inline-block !important;position: relative;}#sk-container-id-5 div.sk-text-repr-fallback {display: none;}</style><div id=\"sk-container-id-5\" class=\"sk-top-container\"><div class=\"sk-text-repr-fallback\"><pre>RandomForestClassifier(criterion=&#x27;entropy&#x27;, max_features=None, n_estimators=200)</pre><b>In a Jupyter environment, please rerun this cell to show the HTML representation or trust the notebook. <br />On GitHub, the HTML representation is unable to render, please try loading this page with nbviewer.org.</b></div><div class=\"sk-container\" hidden><div class=\"sk-item\"><div class=\"sk-estimator sk-toggleable\"><input class=\"sk-toggleable__control sk-hidden--visually\" id=\"sk-estimator-id-11\" type=\"checkbox\" checked><label for=\"sk-estimator-id-11\" class=\"sk-toggleable__label sk-toggleable__label-arrow\">RandomForestClassifier</label><div class=\"sk-toggleable__content\"><pre>RandomForestClassifier(criterion=&#x27;entropy&#x27;, max_features=None, n_estimators=200)</pre></div></div></div></div></div>"
      ],
      "text/plain": [
       "RandomForestClassifier(criterion='entropy', max_features=None, n_estimators=200)"
      ]
     },
     "execution_count": 76,
     "metadata": {},
     "output_type": "execute_result"
    }
   ],
   "source": [
    "rfc_over3 = RandomForestClassifier(**grid_search1.best_params_)\n",
    "rfc_over3.fit(X_res, y_res)"
   ]
  },
  {
   "cell_type": "code",
   "execution_count": 88,
   "id": "213edf4b",
   "metadata": {},
   "outputs": [],
   "source": [
    "yPred_over3=rfc_over3.predict(X_test)"
   ]
  },
  {
   "cell_type": "code",
   "execution_count": 89,
   "id": "b5f6663c",
   "metadata": {},
   "outputs": [
    {
     "name": "stdout",
     "output_type": "stream",
     "text": [
      "The accuracy is 0.8421052631578947\n",
      "The precision is 0.7008385744234801\n",
      "The recall is 0.7105494505494505\n",
      "The F1-Score is 0.7054658584991687\n"
     ]
    }
   ],
   "source": [
    "acc = accuracy_score(y_test, yPred_over3)\n",
    "print(\"The accuracy is {}\".format(acc))\n",
    "  \n",
    "prec = precision_score(y_test, yPred_over3,average=\"macro\")\n",
    "print(\"The precision is {}\".format(prec))\n",
    "  \n",
    "rec = recall_score(y_test, yPred_over3,average=\"macro\")\n",
    "print(\"The recall is {}\".format(rec))\n",
    "  \n",
    "f1 = f1_score(y_test, yPred_over3,average=\"macro\")\n",
    "print(\"The F1-Score is {}\".format(f1))"
   ]
  },
  {
   "cell_type": "code",
   "execution_count": 90,
   "id": "553fda23",
   "metadata": {},
   "outputs": [
    {
     "name": "stdout",
     "output_type": "stream",
     "text": [
      "              precision    recall  f1-score   support\n",
      "\n",
      "           0       0.91      0.90      0.91       273\n",
      "           1       0.49      0.52      0.50        50\n",
      "\n",
      "    accuracy                           0.84       323\n",
      "   macro avg       0.70      0.71      0.71       323\n",
      "weighted avg       0.85      0.84      0.84       323\n",
      "\n"
     ]
    }
   ],
   "source": [
    "print(classification_report(y_test, yPred_over3))"
   ]
  },
  {
   "cell_type": "markdown",
   "id": "34a2baae",
   "metadata": {},
   "source": [
    "#### Najlepszy model rfc_over2 - po oversamplingu 0.75"
   ]
  },
  {
   "cell_type": "code",
   "execution_count": 91,
   "id": "6730cf63",
   "metadata": {},
   "outputs": [],
   "source": [
    "y_pred_proba = rfc_over2.predict_proba(X_test)[:,1]"
   ]
  },
  {
   "cell_type": "code",
   "execution_count": 92,
   "id": "fe8a079d",
   "metadata": {},
   "outputs": [
    {
     "data": {
      "text/plain": [
       "array([0.02, 0.3 , 0.  , 0.33, 0.01, 0.21, 0.03, 0.01, 0.07, 0.81, 0.88,\n",
       "       0.34, 0.05, 0.32, 0.1 , 0.14, 0.  , 0.17, 0.6 , 0.21, 0.33, 0.25,\n",
       "       0.  , 0.1 , 0.  , 0.  , 0.51, 0.  , 0.09, 0.29, 0.08, 0.  , 0.32,\n",
       "       0.01, 0.03, 0.19, 0.01, 0.34, 0.81, 0.  , 0.13, 0.91, 0.42, 0.  ,\n",
       "       0.05, 0.  , 0.56, 0.  , 0.13, 0.18, 0.69, 0.03, 0.13, 0.16, 0.08,\n",
       "       0.05, 0.02, 0.26, 0.03, 0.2 , 0.17, 0.07, 0.  , 0.02, 0.78, 0.39,\n",
       "       0.3 , 0.06, 0.31, 0.3 , 0.11, 0.01, 0.01, 0.06, 0.55, 0.73, 0.52,\n",
       "       0.12, 0.76, 0.01, 0.12, 0.01, 0.33, 0.82, 0.05, 0.18, 0.2 , 0.48,\n",
       "       0.13, 0.08, 0.23, 0.12, 0.  , 0.12, 0.  , 0.01, 0.13, 0.02, 0.44,\n",
       "       0.04, 0.  , 0.01, 0.03, 0.46, 0.46, 0.  , 0.11, 0.31, 0.6 , 0.  ,\n",
       "       0.02, 0.02, 0.33, 0.54, 0.89, 0.76, 0.  , 0.  , 0.08, 0.  , 0.09,\n",
       "       0.01, 0.23, 0.06, 0.71, 0.04, 0.49, 0.35, 0.15, 0.03, 0.44, 0.48,\n",
       "       0.02, 0.04, 0.02, 0.45, 0.22, 0.24, 0.73, 0.98, 0.  , 0.37, 0.01,\n",
       "       0.54, 0.11, 0.03, 0.19, 0.29, 0.1 , 0.11, 0.74, 0.44, 0.36, 0.  ,\n",
       "       0.21, 0.61, 0.61, 0.64, 0.35, 0.01, 0.04, 0.01, 0.  , 0.01, 0.  ,\n",
       "       0.  , 0.39, 0.13, 0.  , 0.04, 0.04, 0.39, 0.45, 0.  , 0.05, 0.02,\n",
       "       0.01, 0.  , 0.29, 0.05, 0.32, 0.11, 0.03, 0.19, 0.54, 0.02, 0.  ,\n",
       "       0.54, 0.58, 0.  , 0.07, 0.54, 0.05, 0.01, 0.  , 0.13, 0.  , 0.09,\n",
       "       0.06, 0.  , 0.01, 0.35, 0.09, 0.05, 0.1 , 0.63, 0.  , 0.01, 0.31,\n",
       "       0.02, 0.24, 0.  , 0.3 , 0.34, 0.74, 0.51, 0.15, 0.01, 0.06, 0.07,\n",
       "       0.18, 0.12, 0.74, 0.04, 0.03, 0.02, 0.01, 0.  , 0.44, 0.  , 0.14,\n",
       "       0.52, 0.38, 0.46, 0.  , 0.23, 0.59, 0.73, 0.37, 0.02, 0.  , 0.05,\n",
       "       0.  , 0.03, 0.47, 0.07, 0.04, 0.1 , 0.55, 0.54, 0.93, 0.  , 0.  ,\n",
       "       0.03, 0.64, 0.66, 0.37, 0.04, 0.01, 0.44, 0.  , 0.68, 0.79, 0.04,\n",
       "       0.02, 0.06, 0.71, 0.88, 0.  , 0.4 , 0.59, 0.  , 0.  , 0.53, 0.59,\n",
       "       0.2 , 0.  , 0.  , 0.8 , 0.  , 0.57, 0.06, 0.05, 0.06, 0.01, 0.04,\n",
       "       0.  , 0.94, 0.02, 0.01, 0.29, 0.04, 0.01, 0.51, 0.  , 0.37, 0.  ,\n",
       "       0.13, 0.05, 0.01, 0.01, 0.  , 0.02, 0.39, 0.  , 0.5 , 0.48, 0.  ,\n",
       "       0.17, 0.02, 0.17, 0.  , 0.29, 0.04, 0.4 , 0.  , 0.44, 0.51, 0.2 ,\n",
       "       0.13, 0.85, 0.  , 0.54])"
      ]
     },
     "execution_count": 92,
     "metadata": {},
     "output_type": "execute_result"
    }
   ],
   "source": [
    "y_pred_proba"
   ]
  },
  {
   "cell_type": "code",
   "execution_count": 94,
   "id": "3fe4a884",
   "metadata": {},
   "outputs": [
    {
     "data": {
      "text/plain": [
       "[[0.0, 1.0],\n",
       " [0.05, 0.96],\n",
       " [0.1, 0.94],\n",
       " [0.15000000000000002, 0.86],\n",
       " [0.2, 0.84],\n",
       " [0.25, 0.78],\n",
       " [0.30000000000000004, 0.74],\n",
       " [0.35000000000000003, 0.74],\n",
       " [0.4, 0.7],\n",
       " [0.45, 0.68],\n",
       " [0.5, 0.6],\n",
       " [0.55, 0.46],\n",
       " [0.6000000000000001, 0.36],\n",
       " [0.65, 0.36],\n",
       " [0.7000000000000001, 0.32],\n",
       " [0.75, 0.28],\n",
       " [0.8, 0.22],\n",
       " [0.8500000000000001, 0.14],\n",
       " [0.9, 0.08],\n",
       " [0.9500000000000001, 0.02]]"
      ]
     },
     "execution_count": 94,
     "metadata": {},
     "output_type": "execute_result"
    }
   ],
   "source": [
    "recall = []\n",
    "x = np.arange(0,1, 0.05)\n",
    "for i in x:    \n",
    "    decisions = (y_pred_proba >= i).astype(int)\n",
    "    recall.append([i, recall_score(y_test, decisions)])\n",
    "recall"
   ]
  },
  {
   "cell_type": "code",
   "execution_count": 95,
   "id": "d2964827",
   "metadata": {},
   "outputs": [],
   "source": [
    "cut_off = []\n",
    "acc = []\n",
    "for k in recall:\n",
    "    cut_off.append(k[0])\n",
    "    acc.append(k[1])"
   ]
  },
  {
   "cell_type": "code",
   "execution_count": 96,
   "id": "e8512325",
   "metadata": {},
   "outputs": [
    {
     "data": {
      "text/plain": [
       "<AxesSubplot:>"
      ]
     },
     "execution_count": 96,
     "metadata": {},
     "output_type": "execute_result"
    },
    {
     "data": {
      "image/png": "[encoded data removed]",
      "text/plain": [
       "<Figure size 432x288 with 1 Axes>"
      ]
     },
     "metadata": {
      "needs_background": "light"
     },
     "output_type": "display_data"
    }
   ],
   "source": [
    "sns.lineplot(x=cut_off,y=acc)"
   ]
  },
  {
   "cell_type": "code",
   "execution_count": 97,
   "id": "9db19356",
   "metadata": {},
   "outputs": [
    {
     "name": "stdout",
     "output_type": "stream",
     "text": [
      "Cut-off: 0.05 || Recall: 0.96\n",
      "[[124 149]\n",
      " [  2  48]]\n",
      "==============================\n",
      "Cut-off: 0.1 || Recall: 0.94\n",
      "[[155 118]\n",
      " [  3  47]]\n",
      "==============================\n",
      "Cut-off: 0.15 || Recall: 0.86\n",
      "[[179  94]\n",
      " [  7  43]]\n",
      "==============================\n",
      "Cut-off: 0.2 || Recall: 0.84\n",
      "[[189  84]\n",
      " [  8  42]]\n",
      "==============================\n",
      "Cut-off: 0.25 || Recall: 0.78\n",
      "[[199  74]\n",
      " [ 11  39]]\n",
      "==============================\n",
      "Cut-off: 0.3 || Recall: 0.74\n",
      "[[204  69]\n",
      " [ 13  37]]\n",
      "==============================\n",
      "Cut-off: 0.35 || Recall: 0.74\n",
      "[[224  49]\n",
      " [ 13  37]]\n",
      "==============================\n",
      "Cut-off: 0.4 || Recall: 0.7\n",
      "[[232  41]\n",
      " [ 15  35]]\n",
      "==============================\n",
      "Cut-off: 0.45 || Recall: 0.68\n",
      "[[240  33]\n",
      " [ 16  34]]\n",
      "==============================\n",
      "Cut-off: 0.5 || Recall: 0.6\n",
      "[[246  27]\n",
      " [ 20  30]]\n",
      "==============================\n",
      "Cut-off: 0.55 || Recall: 0.46\n",
      "[[254  19]\n",
      " [ 27  23]]\n",
      "==============================\n",
      "Cut-off: 0.6 || Recall: 0.36\n",
      "[[259  14]\n",
      " [ 32  18]]\n",
      "==============================\n",
      "Cut-off: 0.65 || Recall: 0.36\n",
      "[[264   9]\n",
      " [ 32  18]]\n",
      "==============================\n",
      "Cut-off: 0.7 || Recall: 0.32\n",
      "[[265   8]\n",
      " [ 34  16]]\n",
      "==============================\n",
      "Cut-off: 0.75 || Recall: 0.28\n",
      "[[271   2]\n",
      " [ 36  14]]\n",
      "==============================\n",
      "Cut-off: 0.8 || Recall: 0.22\n",
      "[[272   1]\n",
      " [ 39  11]]\n",
      "==============================\n",
      "Cut-off: 0.85 || Recall: 0.14\n",
      "[[273   0]\n",
      " [ 43   7]]\n",
      "==============================\n",
      "Cut-off: 0.9 || Recall: 0.08\n",
      "[[273   0]\n",
      " [ 46   4]]\n",
      "==============================\n",
      "Cut-off: 0.95 || Recall: 0.02\n",
      "[[273   0]\n",
      " [ 49   1]]\n",
      "==============================\n"
     ]
    }
   ],
   "source": [
    "x = np.arange(0.05,1, 0.05)\n",
    "for i in x:    \n",
    "    decisions = (y_pred_proba >= i).astype(int)\n",
    "    print('Cut-off:', np.round(i,decimals=2), '||','Recall:', np.round(recall_score(y_test, decisions), decimals=5))\n",
    "    print(confusion_matrix(y_test, decisions))\n",
    "    print('='*30)"
   ]
  },
  {
   "cell_type": "code",
   "execution_count": null,
   "id": "01be2eef",
   "metadata": {},
   "outputs": [],
   "source": [
    "#prawdopodobieństwo\n",
    "y_pred_proba = rfc_over2.predict_proba(X_test)[:,1]"
   ]
  },
  {
   "cell_type": "code",
   "execution_count": 101,
   "id": "9fef8397",
   "metadata": {},
   "outputs": [
    {
     "name": "stdout",
     "output_type": "stream",
     "text": [
      "Best Threshold=0.370000\n"
     ]
    }
   ],
   "source": [
    "#wyznaczenie optymalnego progu cut-off\n",
    "fpr, tpr, thresholds = roc_curve(y_test, y_pred_proba)\n",
    "# get the best threshold\n",
    "J = tpr - fpr\n",
    "ix = argmax(J)\n",
    "best_thresh = thresholds[ix]\n",
    "print('Best Threshold=%f' % (best_thresh))"
   ]
  },
  {
   "cell_type": "markdown",
   "id": "a3b2a3e0",
   "metadata": {},
   "source": [
    "#### Podsumowanie"
   ]
  },
  {
   "cell_type": "markdown",
   "id": "7f1b0af2",
   "metadata": {},
   "source": [
    "#### 1 model"
   ]
  },
  {
   "cell_type": "code",
   "execution_count": 102,
   "id": "de903f09",
   "metadata": {},
   "outputs": [
    {
     "name": "stdout",
     "output_type": "stream",
     "text": [
      "              precision    recall  f1-score   support\n",
      "\n",
      "           0       0.89      0.97      0.93       273\n",
      "           1       0.70      0.32      0.44        50\n",
      "\n",
      "    accuracy                           0.87       323\n",
      "   macro avg       0.79      0.65      0.68       323\n",
      "weighted avg       0.86      0.87      0.85       323\n",
      "\n"
     ]
    }
   ],
   "source": [
    "\n",
    "print(classification_report( y_test,yPred_test))"
   ]
  },
  {
   "cell_type": "code",
   "execution_count": 113,
   "id": "765d147e",
   "metadata": {},
   "outputs": [
    {
     "name": "stdout",
     "output_type": "stream",
     "text": [
      "The recall is 0.32\n",
      "The F1-Score is 0.4383561643835616\n"
     ]
    }
   ],
   "source": [
    "rec = recall_score(y_test, yPred_test)\n",
    "print(\"The recall is {}\".format(rec))\n",
    "  \n",
    "f1 = f1_score(y_test, yPred_test)\n",
    "print(\"The F1-Score is {}\".format(f1))"
   ]
  },
  {
   "cell_type": "markdown",
   "id": "16020c94",
   "metadata": {},
   "source": [
    "#### 2 model po wyborze optymalnych parametrów"
   ]
  },
  {
   "cell_type": "code",
   "execution_count": 106,
   "id": "7518ed88",
   "metadata": {},
   "outputs": [
    {
     "name": "stdout",
     "output_type": "stream",
     "text": [
      "              precision    recall  f1-score   support\n",
      "\n",
      "           0       0.89      0.96      0.93       273\n",
      "           1       0.63      0.38      0.48        50\n",
      "\n",
      "    accuracy                           0.87       323\n",
      "   macro avg       0.76      0.67      0.70       323\n",
      "weighted avg       0.85      0.87      0.86       323\n",
      "\n"
     ]
    }
   ],
   "source": [
    "print(classification_report(y_test, yPred_3))"
   ]
  },
  {
   "cell_type": "code",
   "execution_count": 114,
   "id": "ad14fdf7",
   "metadata": {},
   "outputs": [
    {
     "name": "stdout",
     "output_type": "stream",
     "text": [
      "The recall is 0.38\n",
      "The F1-Score is 0.4750000000000001\n"
     ]
    }
   ],
   "source": [
    "rec = recall_score(y_test, yPred_3)\n",
    "print(\"The recall is {}\".format(rec))\n",
    "  \n",
    "f1 = f1_score(y_test, yPred_3)\n",
    "print(\"The F1-Score is {}\".format(f1))"
   ]
  },
  {
   "cell_type": "markdown",
   "id": "f44a2b93",
   "metadata": {},
   "source": [
    "#### 3 model po oversamplingu 1.0"
   ]
  },
  {
   "cell_type": "code",
   "execution_count": 116,
   "id": "376c48e5",
   "metadata": {},
   "outputs": [
    {
     "name": "stdout",
     "output_type": "stream",
     "text": [
      "              precision    recall  f1-score   support\n",
      "\n",
      "           0       0.91      0.92      0.91       273\n",
      "           1       0.51      0.48      0.49        50\n",
      "\n",
      "    accuracy                           0.85       323\n",
      "   macro avg       0.71      0.70      0.70       323\n",
      "weighted avg       0.84      0.85      0.85       323\n",
      "\n"
     ]
    }
   ],
   "source": [
    "print(classification_report(y_test, yPred_over))\n",
    "#print(confusion_matrix(y_test, yPred_over))"
   ]
  },
  {
   "cell_type": "code",
   "execution_count": 117,
   "id": "4d094d03",
   "metadata": {},
   "outputs": [
    {
     "name": "stdout",
     "output_type": "stream",
     "text": [
      "The recall is 0.48\n",
      "The F1-Score is 0.49484536082474223\n"
     ]
    }
   ],
   "source": [
    "rec = recall_score(y_test, yPred_over)\n",
    "print(\"The recall is {}\".format(rec))\n",
    "  \n",
    "f1 = f1_score(y_test, yPred_over)\n",
    "print(\"The F1-Score is {}\".format(f1))"
   ]
  },
  {
   "cell_type": "markdown",
   "id": "23bc8318",
   "metadata": {},
   "source": [
    "#### 4 model po oversamplingu 0.5"
   ]
  },
  {
   "cell_type": "code",
   "execution_count": 111,
   "id": "57ba3117",
   "metadata": {},
   "outputs": [
    {
     "name": "stdout",
     "output_type": "stream",
     "text": [
      "              precision    recall  f1-score   support\n",
      "\n",
      "           0       0.90      0.93      0.92       273\n",
      "           1       0.54      0.42      0.47        50\n",
      "\n",
      "    accuracy                           0.85       323\n",
      "   macro avg       0.72      0.68      0.69       323\n",
      "weighted avg       0.84      0.85      0.85       323\n",
      "\n",
      "[[255  18]\n",
      " [ 29  21]]\n"
     ]
    }
   ],
   "source": [
    "print(classification_report(y_test, yPred_over1))\n",
    "print(confusion_matrix(y_test, yPred_over1))"
   ]
  },
  {
   "cell_type": "code",
   "execution_count": 115,
   "id": "2235ea3c",
   "metadata": {},
   "outputs": [
    {
     "name": "stdout",
     "output_type": "stream",
     "text": [
      "The recall is 0.42\n",
      "The F1-Score is 0.4719101123595505\n"
     ]
    }
   ],
   "source": [
    "rec = recall_score(y_test, yPred_over1)\n",
    "print(\"The recall is {}\".format(rec))\n",
    "  \n",
    "f1 = f1_score(y_test, yPred_over1)\n",
    "print(\"The F1-Score is {}\".format(f1))"
   ]
  },
  {
   "cell_type": "markdown",
   "id": "224b2857",
   "metadata": {},
   "source": [
    "#### 5 model po oversamplingu 0.75"
   ]
  },
  {
   "cell_type": "code",
   "execution_count": 118,
   "id": "9e8708db",
   "metadata": {},
   "outputs": [
    {
     "name": "stdout",
     "output_type": "stream",
     "text": [
      "              precision    recall  f1-score   support\n",
      "\n",
      "           0       0.93      0.90      0.91       273\n",
      "           1       0.54      0.60      0.57        50\n",
      "\n",
      "    accuracy                           0.86       323\n",
      "   macro avg       0.73      0.75      0.74       323\n",
      "weighted avg       0.86      0.86      0.86       323\n",
      "\n",
      "[[247  26]\n",
      " [ 20  30]]\n"
     ]
    }
   ],
   "source": [
    "print(classification_report(y_test, yPred_over2))\n",
    "print(confusion_matrix(y_test, yPred_over2))"
   ]
  },
  {
   "cell_type": "code",
   "execution_count": 119,
   "id": "85d33c77",
   "metadata": {},
   "outputs": [
    {
     "name": "stdout",
     "output_type": "stream",
     "text": [
      "The recall is 0.6\n",
      "The F1-Score is 0.5660377358490566\n"
     ]
    }
   ],
   "source": [
    "rec = recall_score(y_test, yPred_over2)\n",
    "print(\"The recall is {}\".format(rec))\n",
    "  \n",
    "f1 = f1_score(y_test, yPred_over2)\n",
    "print(\"The F1-Score is {}\".format(f1))"
   ]
  },
  {
   "cell_type": "code",
   "execution_count": null,
   "id": "1442cac2",
   "metadata": {},
   "outputs": [],
   "source": []
  }
 ],
 "metadata": {
  "kernelspec": {
   "display_name": "Python 3 (ipykernel)",
   "language": "python",
   "name": "python3"
  },
  "language_info": {
   "codemirror_mode": {
    "name": "ipython",
    "version": 3
   },
   "file_extension": ".py",
   "mimetype": "text/x-python",
   "name": "python",
   "nbconvert_exporter": "python",
   "pygments_lexer": "ipython3",
   "version": "3.9.12"
  }
 },
 "nbformat": 4,
 "nbformat_minor": 5
}
