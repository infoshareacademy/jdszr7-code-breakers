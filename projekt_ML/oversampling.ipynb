{
 "cells": [
  {
   "cell_type": "code",
   "execution_count": 1,
   "id": "180eb986",
   "metadata": {},
   "outputs": [],
   "source": [
    "import pandas as pd\n",
    "import seaborn as sns\n",
    "import numpy as np\n",
    "import matplotlib.pyplot as plt\n",
    "from sklearn.linear_model import LogisticRegression # estymator klasyfikacji=klasyfikator\n",
    "from sklearn.model_selection import train_test_split # podział na zbiór testowy i treningowy\n",
    "import statsmodels.api as sm\n",
    "from sklearn.metrics import accuracy_score, classification_report, f1_score, precision_score, roc_auc_score,plot_roc_curve\n",
    "from sklearn.preprocessing import StandardScaler, LabelEncoder, MinMaxScaler\n",
    "from sklearn.metrics import confusion_matrix # podsumowanie klasyfikacji\n",
    "from sklearn.decomposition import PCA # analiza głównych składowych - w celu redukcji wymiarowości danych\n",
    "from scipy import signal\n",
    "import scipy\n",
    "from sklearn.model_selection import RandomizedSearchCV, GridSearchCV, cross_val_score\n",
    "from sklearn.tree import DecisionTreeClassifier, DecisionTreeRegressor\n",
    "from sklearn.metrics import classification_report, accuracy_score \n",
    "from sklearn.metrics import precision_score, recall_score\n",
    "from sklearn.ensemble import RandomForestClassifier\n",
    "from imblearn.over_sampling import SMOTE"
   ]
  },
  {
   "cell_type": "code",
   "execution_count": 2,
   "id": "d610f524",
   "metadata": {},
   "outputs": [],
   "source": [
    "df_rm=pd.read_csv(\"df_rm.csv\")"
   ]
  },
  {
   "cell_type": "code",
   "execution_count": 3,
   "id": "18bc6392",
   "metadata": {},
   "outputs": [
    {
     "data": {
      "text/html": [
       "<div>\n",
       "<style scoped>\n",
       "    .dataframe tbody tr th:only-of-type {\n",
       "        vertical-align: middle;\n",
       "    }\n",
       "\n",
       "    .dataframe tbody tr th {\n",
       "        vertical-align: top;\n",
       "    }\n",
       "\n",
       "    .dataframe thead th {\n",
       "        text-align: right;\n",
       "    }\n",
       "</style>\n",
       "<table border=\"1\" class=\"dataframe\">\n",
       "  <thead>\n",
       "    <tr style=\"text-align: right;\">\n",
       "      <th></th>\n",
       "      <th>volatile acidity</th>\n",
       "      <th>citric acid</th>\n",
       "      <th>total sulfur dioxide</th>\n",
       "      <th>density</th>\n",
       "      <th>sulphates</th>\n",
       "      <th>alcohol</th>\n",
       "      <th>quality</th>\n",
       "    </tr>\n",
       "  </thead>\n",
       "  <tbody>\n",
       "    <tr>\n",
       "      <th>0</th>\n",
       "      <td>0.70</td>\n",
       "      <td>0.00</td>\n",
       "      <td>34.0</td>\n",
       "      <td>0.9978</td>\n",
       "      <td>0.56</td>\n",
       "      <td>9.4</td>\n",
       "      <td>0</td>\n",
       "    </tr>\n",
       "    <tr>\n",
       "      <th>1</th>\n",
       "      <td>0.88</td>\n",
       "      <td>0.00</td>\n",
       "      <td>67.0</td>\n",
       "      <td>0.9968</td>\n",
       "      <td>0.68</td>\n",
       "      <td>9.8</td>\n",
       "      <td>0</td>\n",
       "    </tr>\n",
       "    <tr>\n",
       "      <th>2</th>\n",
       "      <td>0.76</td>\n",
       "      <td>0.04</td>\n",
       "      <td>54.0</td>\n",
       "      <td>0.9970</td>\n",
       "      <td>0.65</td>\n",
       "      <td>9.8</td>\n",
       "      <td>0</td>\n",
       "    </tr>\n",
       "    <tr>\n",
       "      <th>3</th>\n",
       "      <td>0.28</td>\n",
       "      <td>0.56</td>\n",
       "      <td>60.0</td>\n",
       "      <td>0.9980</td>\n",
       "      <td>0.58</td>\n",
       "      <td>9.8</td>\n",
       "      <td>0</td>\n",
       "    </tr>\n",
       "    <tr>\n",
       "      <th>4</th>\n",
       "      <td>0.66</td>\n",
       "      <td>0.00</td>\n",
       "      <td>40.0</td>\n",
       "      <td>0.9978</td>\n",
       "      <td>0.56</td>\n",
       "      <td>9.4</td>\n",
       "      <td>0</td>\n",
       "    </tr>\n",
       "  </tbody>\n",
       "</table>\n",
       "</div>"
      ],
      "text/plain": [
       "   volatile acidity  citric acid  total sulfur dioxide  density  sulphates  \\\n",
       "0              0.70         0.00                  34.0   0.9978       0.56   \n",
       "1              0.88         0.00                  67.0   0.9968       0.68   \n",
       "2              0.76         0.04                  54.0   0.9970       0.65   \n",
       "3              0.28         0.56                  60.0   0.9980       0.58   \n",
       "4              0.66         0.00                  40.0   0.9978       0.56   \n",
       "\n",
       "   alcohol  quality  \n",
       "0      9.4        0  \n",
       "1      9.8        0  \n",
       "2      9.8        0  \n",
       "3      9.8        0  \n",
       "4      9.4        0  "
      ]
     },
     "execution_count": 3,
     "metadata": {},
     "output_type": "execute_result"
    }
   ],
   "source": [
    "df_rm.head()"
   ]
  },
  {
   "cell_type": "code",
   "execution_count": 4,
   "id": "613ecfd2",
   "metadata": {},
   "outputs": [
    {
     "data": {
      "text/plain": [
       "(1292, 7)"
      ]
     },
     "execution_count": 4,
     "metadata": {},
     "output_type": "execute_result"
    }
   ],
   "source": [
    "df_rm.shape"
   ]
  },
  {
   "cell_type": "code",
   "execution_count": 48,
   "id": "28e639f0",
   "metadata": {},
   "outputs": [],
   "source": [
    "X = df_rm.drop(\"quality\", axis=1)\n",
    "y = df_rm[\"quality\"]"
   ]
  },
  {
   "cell_type": "code",
   "execution_count": 49,
   "id": "6f330ac5",
   "metadata": {},
   "outputs": [],
   "source": [
    "# Splitting the dataset into the Training set and Test set\n",
    "from sklearn.model_selection import train_test_split\n",
    "X_train, X_test, y_train, y_test = train_test_split(X, y,random_state = 42)"
   ]
  },
  {
   "cell_type": "code",
   "execution_count": 50,
   "id": "37e3736e",
   "metadata": {},
   "outputs": [
    {
     "name": "stdout",
     "output_type": "stream",
     "text": [
      "Shape of X_train:  (969, 6)\n",
      "Shape of X_test:  (323, 6)\n",
      "Shape of y_train:  (969,)\n",
      "Shape of y_test (323,)\n"
     ]
    }
   ],
   "source": [
    "print(\"Shape of X_train: \",X_train.shape)\n",
    "print(\"Shape of X_test: \", X_test.shape)\n",
    "print(\"Shape of y_train: \",y_train.shape)\n",
    "print(\"Shape of y_test\",y_test.shape)"
   ]
  },
  {
   "cell_type": "code",
   "execution_count": 9,
   "id": "964312f0",
   "metadata": {},
   "outputs": [],
   "source": [
    "scaler = StandardScaler().fit(X_train)\n",
    "X_train = scaler.transform(X_train)\n",
    "X_test = scaler.transform(X_test)"
   ]
  },
  {
   "cell_type": "markdown",
   "id": "1ba24b2f",
   "metadata": {},
   "source": [
    "### oversampling ( metoda SMOTE) - w celu zrównoważenia danych"
   ]
  },
  {
   "cell_type": "markdown",
   "id": "fa3c19c2",
   "metadata": {},
   "source": [
    "SMOTE (Technika nadpróbkowania syntetycznej mniejszości).\n",
    "SMOTE nadpróbkuje klasę mniejszości, tworząc raczej „syntetyczne” przykłady niż kopie. \n",
    "Wiąże się to z kilkoma metodami, w tym najbliższymi sąsiadami, w celu wygenerowania prawdopodobnych nowych przykładów. "
   ]
  },
  {
   "cell_type": "code",
   "execution_count": 71,
   "id": "c8e5d79f",
   "metadata": {},
   "outputs": [],
   "source": [
    "SMOTE?"
   ]
  },
  {
   "cell_type": "markdown",
   "id": "38cb8355",
   "metadata": {},
   "source": [
    "#### SMOTE z domyślnymi parametrami"
   ]
  },
  {
   "cell_type": "code",
   "execution_count": 54,
   "id": "ea75c0e8",
   "metadata": {},
   "outputs": [],
   "source": [
    "from imblearn.over_sampling import SMOTE\n",
    "\n",
    "sm = SMOTE(random_state=42)\n",
    "X_res, y_res = sm.fit_resample(X_train, y_train)"
   ]
  },
  {
   "cell_type": "code",
   "execution_count": 74,
   "id": "ea5dcffd",
   "metadata": {},
   "outputs": [
    {
     "data": {
      "image/png": "[encoded data removed]",
      "text/plain": [
       "<Figure size 432x288 with 1 Axes>"
      ]
     },
     "metadata": {
      "needs_background": "light"
     },
     "output_type": "display_data"
    }
   ],
   "source": [
    "ax = sns.countplot(x=y_res)\n",
    "\n",
    "abs_values = y_res.value_counts().values\n",
    "\n",
    "ax.bar_label(container=ax.containers[0], labels=abs_values);"
   ]
  },
  {
   "cell_type": "code",
   "execution_count": 55,
   "id": "b28ef370",
   "metadata": {},
   "outputs": [
    {
     "data": {
      "text/plain": [
       "(1686, 6)"
      ]
     },
     "execution_count": 55,
     "metadata": {},
     "output_type": "execute_result"
    }
   ],
   "source": [
    "X_res.shape"
   ]
  },
  {
   "cell_type": "code",
   "execution_count": 56,
   "id": "e7a0e7bd",
   "metadata": {},
   "outputs": [
    {
     "data": {
      "text/plain": [
       "(1686,)"
      ]
     },
     "execution_count": 56,
     "metadata": {},
     "output_type": "execute_result"
    }
   ],
   "source": [
    "y_res.shape"
   ]
  },
  {
   "cell_type": "code",
   "execution_count": 59,
   "id": "2feea75c",
   "metadata": {},
   "outputs": [
    {
     "name": "stdout",
     "output_type": "stream",
     "text": [
      "              precision    recall  f1-score   support\n",
      "\n",
      "           0       0.94      0.85      0.89       273\n",
      "           1       0.45      0.68      0.54        50\n",
      "\n",
      "    accuracy                           0.82       323\n",
      "   macro avg       0.69      0.76      0.71       323\n",
      "weighted avg       0.86      0.82      0.83       323\n",
      "\n",
      "[[231  42]\n",
      " [ 16  34]]\n",
      "accuracy is 0.8204334365325078\n"
     ]
    }
   ],
   "source": [
    "rfc_over=RandomForestClassifier(n_estimators=30,random_state=42,bootstrap=True)\n",
    "rfc_over.fit(X_res, y_res)\n",
    "yPred_over=rfc_over.predict(X_test)\n",
    "\n",
    "\n",
    "print(classification_report(y_test, yPred_over))\n",
    "print(confusion_matrix(y_test, yPred_over))\n",
    "\n",
    "\n",
    "print('accuracy is',accuracy_score(yPred_over,y_test))"
   ]
  },
  {
   "cell_type": "code",
   "execution_count": 60,
   "id": "7fef3ff0",
   "metadata": {},
   "outputs": [
    {
     "name": "stdout",
     "output_type": "stream",
     "text": [
      "The recall is 0.68\n",
      "The F1-Score is 0.5396825396825397\n",
      "The precision is 0.4473684210526316\n"
     ]
    }
   ],
   "source": [
    "rec_over_rfc = recall_score(y_test, yPred_over)\n",
    "print(\"The recall is {}\".format(rec_over_rfc))\n",
    "f1_over_rfc = f1_score(y_test, yPred_over)\n",
    "print(\"The F1-Score is {}\".format(f1_over_rfc))\n",
    "prec_over_rfc = precision_score(y_test, yPred_over)\n",
    "print(\"The precision is {}\".format(prec_over_rfc))"
   ]
  },
  {
   "cell_type": "code",
   "execution_count": 61,
   "id": "16b96e4d",
   "metadata": {},
   "outputs": [
    {
     "data": {
      "image/png": "[encoded data removed]",
      "text/plain": [
       "<Figure size 360x360 with 2 Axes>"
      ]
     },
     "metadata": {
      "needs_background": "light"
     },
     "output_type": "display_data"
    }
   ],
   "source": [
    "#Confusion Matrix\n",
    "\n",
    "LABELS = ['bad', 'good']\n",
    "conf_matrix = confusion_matrix(y_test, yPred_over)\n",
    "plt.figure(figsize =(5, 5))\n",
    "sns.heatmap(conf_matrix, xticklabels = LABELS, \n",
    "            yticklabels = LABELS, annot = True, fmt =\"d\");\n",
    "plt.title(\"Confusion matrix\")\n",
    "plt.ylabel('True class')\n",
    "plt.xlabel('Predicted class')\n",
    "plt.show()"
   ]
  },
  {
   "cell_type": "code",
   "execution_count": 62,
   "id": "4a16179e",
   "metadata": {},
   "outputs": [
    {
     "name": "stderr",
     "output_type": "stream",
     "text": [
      "C:\\Users\\ela\\anaconda3\\lib\\site-packages\\sklearn\\utils\\deprecation.py:87: FutureWarning: Function plot_roc_curve is deprecated; Function :func:`plot_roc_curve` is deprecated in 1.0 and will be removed in 1.2. Use one of the class methods: :meth:`sklearn.metric.RocCurveDisplay.from_predictions` or :meth:`sklearn.metric.RocCurveDisplay.from_estimator`.\n",
      "  warnings.warn(msg, category=FutureWarning)\n"
     ]
    },
    {
     "data": {
      "image/png": "[encoded data removed]",
      "text/plain": [
       "<Figure size 432x288 with 1 Axes>"
      ]
     },
     "metadata": {
      "needs_background": "light"
     },
     "output_type": "display_data"
    }
   ],
   "source": [
    "ROC_RF_over = plot_roc_curve(rfc_over, X_test, y_test)\n",
    "plt.show()"
   ]
  },
  {
   "cell_type": "markdown",
   "id": "08254583",
   "metadata": {},
   "source": [
    "### oversampling z parametrem sampling_strategy=0.50"
   ]
  },
  {
   "cell_type": "code",
   "execution_count": 63,
   "id": "8c5a4769",
   "metadata": {},
   "outputs": [],
   "source": [
    "sm1 = SMOTE(sampling_strategy=0.50,random_state=42)\n",
    "X_res1, y_res1 = sm1.fit_resample(X_train, y_train)"
   ]
  },
  {
   "cell_type": "code",
   "execution_count": 64,
   "id": "1766490a",
   "metadata": {},
   "outputs": [
    {
     "data": {
      "image/png": "[encoded data removed]",
      "text/plain": [
       "<Figure size 432x288 with 1 Axes>"
      ]
     },
     "metadata": {
      "needs_background": "light"
     },
     "output_type": "display_data"
    }
   ],
   "source": [
    "ax = sns.countplot(x=y_res1)\n",
    "\n",
    "abs_values = y_res1.value_counts().values\n",
    "\n",
    "ax.bar_label(container=ax.containers[0], labels=abs_values);"
   ]
  },
  {
   "cell_type": "code",
   "execution_count": 65,
   "id": "f27a7bfa",
   "metadata": {},
   "outputs": [
    {
     "name": "stdout",
     "output_type": "stream",
     "text": [
      "              precision    recall  f1-score   support\n",
      "\n",
      "           0       0.91      0.88      0.90       273\n",
      "           1       0.46      0.54      0.50        50\n",
      "\n",
      "    accuracy                           0.83       323\n",
      "   macro avg       0.69      0.71      0.70       323\n",
      "weighted avg       0.84      0.83      0.84       323\n",
      "\n",
      "[[241  32]\n",
      " [ 23  27]]\n",
      "accuracy is 0.8297213622291022\n"
     ]
    }
   ],
   "source": [
    "rfc_over1=RandomForestClassifier(n_estimators=100,random_state=42,bootstrap=True,max_depth=None,min_samples_split=2)\n",
    "rfc_over1.fit(X_res1, y_res1)\n",
    "yPred_over1=rfc_over1.predict(X_test)\n",
    "\n",
    "\n",
    "print(classification_report(y_test, yPred_over1))\n",
    "print(confusion_matrix(y_test, yPred_over1))\n",
    "\n",
    "\n",
    "print('accuracy is',accuracy_score(yPred_over1,y_test))"
   ]
  },
  {
   "cell_type": "code",
   "execution_count": 66,
   "id": "6a52c208",
   "metadata": {},
   "outputs": [
    {
     "data": {
      "image/png": "[encoded data removed]",
      "text/plain": [
       "<Figure size 360x360 with 2 Axes>"
      ]
     },
     "metadata": {
      "needs_background": "light"
     },
     "output_type": "display_data"
    }
   ],
   "source": [
    "#Confusion Matrix\n",
    "\n",
    "LABELS = ['bad', 'good']\n",
    "conf_matrix = confusion_matrix(y_test, yPred_over1)\n",
    "plt.figure(figsize =(5, 5))\n",
    "sns.heatmap(conf_matrix, xticklabels = LABELS, \n",
    "            yticklabels = LABELS, annot = True, fmt =\"d\");\n",
    "plt.title(\"Confusion matrix\")\n",
    "plt.ylabel('True class')\n",
    "plt.xlabel('Predicted class')\n",
    "plt.show()"
   ]
  },
  {
   "cell_type": "markdown",
   "id": "c434ea8c",
   "metadata": {},
   "source": [
    "### oversampling 0.75"
   ]
  },
  {
   "cell_type": "code",
   "execution_count": 67,
   "id": "78ef2370",
   "metadata": {},
   "outputs": [],
   "source": [
    "sm2 = SMOTE(sampling_strategy=0.75,random_state=42)\n",
    "X_res2, y_res2 = sm2.fit_resample(X_train, y_train)"
   ]
  },
  {
   "cell_type": "code",
   "execution_count": 68,
   "id": "d51fe48d",
   "metadata": {},
   "outputs": [
    {
     "data": {
      "image/png": "[encoded data removed]",
      "text/plain": [
       "<Figure size 432x288 with 1 Axes>"
      ]
     },
     "metadata": {
      "needs_background": "light"
     },
     "output_type": "display_data"
    }
   ],
   "source": [
    "ax = sns.countplot(x=y_res2)\n",
    "\n",
    "abs_values = y_res2.value_counts().values\n",
    "\n",
    "ax.bar_label(container=ax.containers[0], labels=abs_values);"
   ]
  },
  {
   "cell_type": "code",
   "execution_count": 69,
   "id": "85f3263f",
   "metadata": {},
   "outputs": [
    {
     "name": "stdout",
     "output_type": "stream",
     "text": [
      "              precision    recall  f1-score   support\n",
      "\n",
      "           0       0.92      0.88      0.90       273\n",
      "           1       0.46      0.56      0.50        50\n",
      "\n",
      "    accuracy                           0.83       323\n",
      "   macro avg       0.69      0.72      0.70       323\n",
      "weighted avg       0.85      0.83      0.84       323\n",
      "\n",
      "[[240  33]\n",
      " [ 22  28]]\n",
      "accuracy is 0.8297213622291022\n"
     ]
    }
   ],
   "source": [
    "rfc_over2=RandomForestClassifier(n_estimators=100,random_state=42,bootstrap=True,max_depth=None,min_samples_split=2)\n",
    "rfc_over2.fit(X_res2, y_res2)\n",
    "yPred_over2=rfc_over2.predict(X_test)\n",
    "\n",
    "\n",
    "print(classification_report(y_test, yPred_over2))\n",
    "print(confusion_matrix(y_test, yPred_over2))\n",
    "\n",
    "\n",
    "print('accuracy is',accuracy_score(yPred_over2,y_test))"
   ]
  },
  {
   "cell_type": "code",
   "execution_count": 47,
   "id": "f1453ac9",
   "metadata": {},
   "outputs": [
    {
     "data": {
      "image/png": "[encoded data removed]",
      "text/plain": [
       "<Figure size 360x360 with 2 Axes>"
      ]
     },
     "metadata": {
      "needs_background": "light"
     },
     "output_type": "display_data"
    }
   ],
   "source": [
    "#Confusion Matrix\n",
    "\n",
    "LABELS = ['bad', 'good']\n",
    "conf_matrix = confusion_matrix(y_test, yPred_over2)\n",
    "plt.figure(figsize =(5, 5))\n",
    "sns.heatmap(conf_matrix, xticklabels = LABELS, \n",
    "            yticklabels = LABELS, annot = True, fmt =\"d\");\n",
    "plt.title(\"Confusion matrix\")\n",
    "plt.ylabel('True class')\n",
    "plt.xlabel('Predicted class')\n",
    "plt.show()"
   ]
  },
  {
   "cell_type": "markdown",
   "id": "4acc929f",
   "metadata": {},
   "source": [
    "#### oversampling 0.90"
   ]
  },
  {
   "cell_type": "code",
   "execution_count": 70,
   "id": "5e7704b6",
   "metadata": {},
   "outputs": [],
   "source": [
    "sm3 = SMOTE(sampling_strategy=0.90,random_state=42)\n",
    "X_res3, y_res3 = sm3.fit_resample(X_train, y_train)"
   ]
  },
  {
   "cell_type": "code",
   "execution_count": 71,
   "id": "e277bc0a",
   "metadata": {},
   "outputs": [
    {
     "data": {
      "image/png": "[encoded data removed]",
      "text/plain": [
       "<Figure size 432x288 with 1 Axes>"
      ]
     },
     "metadata": {
      "needs_background": "light"
     },
     "output_type": "display_data"
    }
   ],
   "source": [
    "ax = sns.countplot(x=y_res3)\n",
    "\n",
    "abs_values = y_res3.value_counts().values\n",
    "\n",
    "ax.bar_label(container=ax.containers[0], labels=abs_values);"
   ]
  },
  {
   "cell_type": "code",
   "execution_count": 72,
   "id": "04be908f",
   "metadata": {},
   "outputs": [
    {
     "name": "stdout",
     "output_type": "stream",
     "text": [
      "              precision    recall  f1-score   support\n",
      "\n",
      "           0       0.93      0.86      0.89       273\n",
      "           1       0.45      0.62      0.52        50\n",
      "\n",
      "    accuracy                           0.82       323\n",
      "   macro avg       0.69      0.74      0.71       323\n",
      "weighted avg       0.85      0.82      0.83       323\n",
      "\n",
      "[[235  38]\n",
      " [ 19  31]]\n",
      "accuracy is 0.8235294117647058\n"
     ]
    }
   ],
   "source": [
    "rfc_over3=RandomForestClassifier(n_estimators=100,random_state=42,bootstrap=True,max_depth=None,min_samples_split=2)\n",
    "rfc_over3.fit(X_res3, y_res3)\n",
    "yPred_over3=rfc_over3.predict(X_test)\n",
    "\n",
    "\n",
    "print(classification_report(y_test, yPred_over3))\n",
    "print(confusion_matrix(y_test, yPred_over3))\n",
    "\n",
    "\n",
    "print('accuracy is',accuracy_score(yPred_over3,y_test))"
   ]
  },
  {
   "cell_type": "code",
   "execution_count": 73,
   "id": "1f392d0d",
   "metadata": {},
   "outputs": [
    {
     "data": {
      "image/png": "[encoded data removed]",
      "text/plain": [
       "<Figure size 360x360 with 2 Axes>"
      ]
     },
     "metadata": {
      "needs_background": "light"
     },
     "output_type": "display_data"
    }
   ],
   "source": [
    "#Confusion Matrix\n",
    "\n",
    "LABELS = ['bad', 'good']\n",
    "conf_matrix = confusion_matrix(y_test, yPred_over3)\n",
    "plt.figure(figsize =(5, 5))\n",
    "sns.heatmap(conf_matrix, xticklabels = LABELS, \n",
    "            yticklabels = LABELS, annot = True, fmt =\"d\");\n",
    "plt.title(\"Confusion matrix\")\n",
    "plt.ylabel('True class')\n",
    "plt.xlabel('Predicted class')\n",
    "plt.show()"
   ]
  },
  {
   "cell_type": "code",
   "execution_count": null,
   "id": "671065b1",
   "metadata": {},
   "outputs": [],
   "source": []
  }
 ],
 "metadata": {
  "kernelspec": {
   "display_name": "Python 3 (ipykernel)",
   "language": "python",
   "name": "python3"
  },
  "language_info": {
   "codemirror_mode": {
    "name": "ipython",
    "version": 3
   },
   "file_extension": ".py",
   "mimetype": "text/x-python",
   "name": "python",
   "nbconvert_exporter": "python",
   "pygments_lexer": "ipython3",
   "version": "3.9.12"
  }
 },
 "nbformat": 4,
 "nbformat_minor": 5
}
